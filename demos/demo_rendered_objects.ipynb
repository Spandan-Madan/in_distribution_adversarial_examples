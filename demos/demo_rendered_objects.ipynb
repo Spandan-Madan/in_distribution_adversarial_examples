{
  "nbformat": 4,
  "nbformat_minor": 0,
  "metadata": {
    "colab": {
      "provenance": [],
      "authorship_tag": "ABX9TyP60oenY37fzHUuqbHZ04la",
      "include_colab_link": true
    },
    "kernelspec": {
      "name": "python3",
      "display_name": "Python 3"
    },
    "language_info": {
      "name": "python"
    },
    "accelerator": "GPU",
    "gpuClass": "standard"
  },
  "cells": [
    {
      "cell_type": "markdown",
      "metadata": {
        "id": "view-in-github",
        "colab_type": "text"
      },
      "source": [
        "<a href=\"https://colab.research.google.com/github/Spandan-Madan/in_distribution_adversarial_examples/blob/main/demos/demo_rendered_objects.ipynb\" target=\"_parent\"><img src=\"https://colab.research.google.com/assets/colab-badge.svg\" alt=\"Open In Colab\"/></a>"
      ]
    },
    {
      "cell_type": "code",
      "source": [
        "!git clone https://github.com/Spandan-Madan/in_distribution_adversarial_examples\n",
        "!pip install redner-gpu"
      ],
      "metadata": {
        "colab": {
          "base_uri": "https://localhost:8080/"
        },
        "id": "rMh33nDLN_Lm",
        "outputId": "1a6e1c16-9e25-4cb6-b0e7-ca8fb7afb1ed"
      },
      "execution_count": 1,
      "outputs": [
        {
          "output_type": "stream",
          "name": "stdout",
          "text": [
            "Cloning into 'in_distribution_adversarial_examples'...\n",
            "remote: Enumerating objects: 626, done.\u001b[K\n",
            "remote: Counting objects: 100% (57/57), done.\u001b[K\n",
            "remote: Compressing objects: 100% (51/51), done.\u001b[K\n",
            "remote: Total 626 (delta 16), reused 29 (delta 4), pack-reused 569\u001b[K\n",
            "Receiving objects: 100% (626/626), 91.37 MiB | 13.79 MiB/s, done.\n",
            "Resolving deltas: 100% (151/151), done.\n",
            "Updating files: 100% (561/561), done.\n",
            "Looking in indexes: https://pypi.org/simple, https://us-python.pkg.dev/colab-wheels/public/simple/\n",
            "Collecting redner-gpu\n",
            "  Downloading redner_gpu-0.4.28-cp38-cp38-manylinux1_x86_64.whl (31.9 MB)\n",
            "\u001b[2K     \u001b[90m━━━━━━━━━━━━━━━━━━━━━━━━━━━━━━━━━━━━━━━━\u001b[0m \u001b[32m31.9/31.9 MB\u001b[0m \u001b[31m10.6 MB/s\u001b[0m eta \u001b[36m0:00:00\u001b[0m\n",
            "\u001b[?25hRequirement already satisfied: scikit-image in /usr/local/lib/python3.8/dist-packages (from redner-gpu) (0.18.3)\n",
            "Requirement already satisfied: imageio in /usr/local/lib/python3.8/dist-packages (from redner-gpu) (2.9.0)\n",
            "Requirement already satisfied: pillow in /usr/local/lib/python3.8/dist-packages (from imageio->redner-gpu) (7.1.2)\n",
            "Requirement already satisfied: numpy in /usr/local/lib/python3.8/dist-packages (from imageio->redner-gpu) (1.22.4)\n",
            "Requirement already satisfied: matplotlib!=3.0.0,>=2.0.0 in /usr/local/lib/python3.8/dist-packages (from scikit-image->redner-gpu) (3.5.3)\n",
            "Requirement already satisfied: PyWavelets>=1.1.1 in /usr/local/lib/python3.8/dist-packages (from scikit-image->redner-gpu) (1.4.1)\n",
            "Requirement already satisfied: scipy>=1.0.1 in /usr/local/lib/python3.8/dist-packages (from scikit-image->redner-gpu) (1.7.3)\n",
            "Requirement already satisfied: tifffile>=2019.7.26 in /usr/local/lib/python3.8/dist-packages (from scikit-image->redner-gpu) (2023.2.3)\n",
            "Requirement already satisfied: networkx>=2.0 in /usr/local/lib/python3.8/dist-packages (from scikit-image->redner-gpu) (3.0)\n",
            "Requirement already satisfied: cycler>=0.10 in /usr/local/lib/python3.8/dist-packages (from matplotlib!=3.0.0,>=2.0.0->scikit-image->redner-gpu) (0.11.0)\n",
            "Requirement already satisfied: pyparsing>=2.2.1 in /usr/local/lib/python3.8/dist-packages (from matplotlib!=3.0.0,>=2.0.0->scikit-image->redner-gpu) (3.0.9)\n",
            "Requirement already satisfied: fonttools>=4.22.0 in /usr/local/lib/python3.8/dist-packages (from matplotlib!=3.0.0,>=2.0.0->scikit-image->redner-gpu) (4.38.0)\n",
            "Requirement already satisfied: kiwisolver>=1.0.1 in /usr/local/lib/python3.8/dist-packages (from matplotlib!=3.0.0,>=2.0.0->scikit-image->redner-gpu) (1.4.4)\n",
            "Requirement already satisfied: packaging>=20.0 in /usr/local/lib/python3.8/dist-packages (from matplotlib!=3.0.0,>=2.0.0->scikit-image->redner-gpu) (23.0)\n",
            "Requirement already satisfied: python-dateutil>=2.7 in /usr/local/lib/python3.8/dist-packages (from matplotlib!=3.0.0,>=2.0.0->scikit-image->redner-gpu) (2.8.2)\n",
            "Requirement already satisfied: six>=1.5 in /usr/local/lib/python3.8/dist-packages (from python-dateutil>=2.7->matplotlib!=3.0.0,>=2.0.0->scikit-image->redner-gpu) (1.15.0)\n",
            "Installing collected packages: redner-gpu\n",
            "Successfully installed redner-gpu-0.4.28\n"
          ]
        }
      ]
    },
    {
      "cell_type": "code",
      "execution_count": 2,
      "metadata": {
        "id": "q_WmLzfbMU5L"
      },
      "outputs": [],
      "source": [
        "import seaborn as sns\n",
        "import numpy as np\n",
        "import matplotlib.pyplot as plt\n",
        "import matplotlib.animation as animation\n",
        "from IPython.display import HTML, Javascript\n",
        "import os"
      ]
    },
    {
      "cell_type": "code",
      "source": [
        "import sys\n",
        "# sys.path.append('../inverse_rendering/')\n",
        "import torch\n",
        "from torch.distributions import Normal\n",
        "from torch.optim.optimizer import Optimizer, required\n",
        "import numpy as np\n",
        "import os\n",
        "from PIL import Image\n",
        "import torchvision\n",
        "import sys\n",
        "import random\n",
        "import pickle\n",
        "import copy\n",
        "from tqdm.notebook import tqdm\n",
        "from torchvision.utils import save_image\n",
        "import matplotlib.pyplot as plt\n",
        "import torch\n",
        "from PIL import Image\n",
        "import seaborn as sns\n",
        "import torchvision\n",
        "from torch import nn\n",
        "\n",
        "\n",
        "from tqdm import tqdm as tqdm_file\n",
        "import argparse\n",
        "import string\n",
        "import random"
      ],
      "metadata": {
        "id": "NTYwEoL4MYoh"
      },
      "execution_count": 3,
      "outputs": []
    },
    {
      "cell_type": "code",
      "source": [
        "from numpy import asarray\n",
        "from numpy import exp\n",
        "from numpy import sqrt\n",
        "from numpy import cos\n",
        "from numpy import e\n",
        "from numpy import pi\n",
        "from numpy import argsort\n",
        "from numpy.random import randn\n",
        "from numpy.random import rand\n",
        "from numpy.random import seed\n",
        "import pickle"
      ],
      "metadata": {
        "id": "6tdb3__2Mhi6"
      },
      "execution_count": 4,
      "outputs": []
    },
    {
      "cell_type": "code",
      "source": [
        "import torch\n",
        "import torch.nn as nn"
      ],
      "metadata": {
        "id": "pF7-RZNDOWYm"
      },
      "execution_count": 5,
      "outputs": []
    },
    {
      "cell_type": "code",
      "source": [
        "# import redner"
      ],
      "metadata": {
        "id": "tKKL9Ib_b5C0"
      },
      "execution_count": 6,
      "outputs": []
    },
    {
      "cell_type": "code",
      "source": [
        "# import pyredner"
      ],
      "metadata": {
        "id": "sMjoXBqMb6eB"
      },
      "execution_count": 7,
      "outputs": []
    },
    {
      "cell_type": "code",
      "source": [
        "ROOT = '/content/in_distribution_adversarial_examples/'\n",
        "REDNER_ROOT = '/content/in_distribution_adversarial_examples/redner/'\n",
        "\n",
        "import os\n",
        "import sys\n",
        "sys.path.insert(0,ROOT)\n",
        "sys.path.insert(0,REDNER_ROOT)\n",
        "import redner\n",
        "import pyredner\n"
      ],
      "metadata": {
        "id": "Ugz-HG0GMjGd"
      },
      "execution_count": 8,
      "outputs": []
    },
    {
      "cell_type": "code",
      "source": [
        "import cma"
      ],
      "metadata": {
        "id": "cOY_KzMsXXof"
      },
      "execution_count": 9,
      "outputs": []
    },
    {
      "cell_type": "code",
      "source": [
        "model_path = os.path.join(ROOT, 'training_models/saved_models/resnet18_pretrained_v7_40_normalized_final.pt')\n",
        "loaded_model = torch.load(model_path)\n",
        "softmax_layer = nn.Softmax()"
      ],
      "metadata": {
        "id": "o3dmMqi7NLFH"
      },
      "execution_count": 10,
      "outputs": []
    },
    {
      "cell_type": "code",
      "source": [
        "with open('%s/training_models/shapenet_class_num_to_class_name.p'%ROOT,'rb') as F:\n",
        "    shapenet_class_num_to_class_name = pickle.load(F)\n",
        "with open('%s/training_models/shapenet_id_to_class_num.p'%ROOT,'rb') as F:\n",
        "    shapenet_id_to_class_num = pickle.load(F)"
      ],
      "metadata": {
        "id": "5uYyoMIKNSoY"
      },
      "execution_count": 11,
      "outputs": []
    },
    {
      "cell_type": "code",
      "source": [
        "RADIUS_MIN = 3.0\n",
        "RADIUS_MAX = 4.0\n",
        "MIN_NUM_LIGHTS = 1\n",
        "MAX_NUM_LIGHTS = 4\n",
        "\n",
        "RADIUS_MIN_CAM = 1.0\n",
        "RADIUS_MAX_CAM = 5.0"
      ],
      "metadata": {
        "id": "hHZJTF15PYcu"
      },
      "execution_count": 12,
      "outputs": []
    },
    {
      "cell_type": "code",
      "source": [
        "def generate_uniform_on_sphere(num_points, radius):\n",
        "    points = []\n",
        "    for i in range(num_points):\n",
        "        X = np.random.normal()\n",
        "        Y = np.random.normal()\n",
        "        Z = np.random.normal()\n",
        "\n",
        "        vector = np.array([X,Y,Z])\n",
        "        point = list(radius*vector/np.linalg.norm(vector))\n",
        "        points.append(point)\n",
        "    return points"
      ],
      "metadata": {
        "id": "5bLYNAYBQYfN"
      },
      "execution_count": 13,
      "outputs": []
    },
    {
      "cell_type": "code",
      "source": [
        "def get_cam_position(radius_min, radius_max):\n",
        "    random_radius = random.uniform(radius_min, radius_max)\n",
        "    cam_point = generate_uniform_on_sphere(1, random_radius)[0]\n",
        "    cam_point = torch.tensor(cam_point).float()\n",
        "\n",
        "    return cam_point\n",
        "def get_positions(min_num_lights, max_num_lights, radius_min, radius_max):\n",
        "    num_lights = random.choice(range(min_num_lights, max_num_lights + 1))\n",
        "    light_positions = []\n",
        "\n",
        "    for num in range(num_lights):\n",
        "        random_radius = random.uniform(radius_min, radius_max)\n",
        "        light_point = generate_uniform_on_sphere(1, random_radius)[0]\n",
        "        light_point = torch.tensor(light_point).float()\n",
        "        light_positions.append(light_point)\n",
        "\n",
        "    return light_positions\n",
        "def get_random_intensity():\n",
        "    light_intensity = torch.tensor([random.uniform(0,1), \\\n",
        "                                    random.uniform(0,1), random.uniform(0,1)]).float()\n",
        "    return light_intensity\n",
        "def get_random_reflectance():\n",
        "    specular_reflectance = torch.tensor([random.uniform(0,1), \\\n",
        "                                    random.uniform(0,1), random.uniform(0,1)], device = pyredner.get_device()).float()\n",
        "    return specular_reflectance\n",
        "def get_random_look_at(radius):\n",
        "    K = 0.3\n",
        "    look_at = torch.tensor([random.uniform(0,K*radius), random.uniform(0,K*radius), random.uniform(0,K*radius)]).float()\n",
        "    return look_at\n",
        "def get_random_scene_params(model_file):\n",
        "    ### Random Camera Settings ###\n",
        "    camera_position = get_cam_position(RADIUS_MIN_CAM, RADIUS_MAX_CAM)\n",
        "    cam_radius = torch.sqrt(camera_position[0]**2 + camera_position[1]**2 + camera_position[2]**2).item()\n",
        "    cam_look_at = get_random_look_at(cam_radius)\n",
        "    fov = torch.tensor(random.uniform(35,100))\n",
        "    cam_up = torch.tensor([random.uniform(-1,1), random.uniform(-1,1), random.uniform(-1,1)])\n",
        "    initial_camera_params = {'camera_position': camera_position,\n",
        "                             'cam_look_at': cam_look_at,\n",
        "                             'fov': fov,\n",
        "                             'cam_up': cam_up}\n",
        "\n",
        "\n",
        "    ### Random Light Settings ###\n",
        "    all_light_positions = get_positions(MIN_NUM_LIGHTS, MAX_NUM_LIGHTS, RADIUS_MIN, RADIUS_MAX)\n",
        "    all_light_look_ats = [get_random_look_at(cam_radius) for i in all_light_positions]\n",
        "    all_light_intensities = [get_random_intensity() for i in all_light_positions]\n",
        "    all_light_sizes = [torch.tensor([random.uniform(0.1,5.0), random.uniform(0.1, 5.0)]) for i in all_light_positions]\n",
        "    initial_light_params = {'all_light_positions': all_light_positions,\n",
        "                            'all_light_look_ats': all_light_look_ats,\n",
        "                            'all_light_intensities': all_light_intensities,\n",
        "                            'all_light_sizes': all_light_sizes}\n",
        "\n",
        "    #### Material ####\n",
        "    diffuse_material = pyredner.Material(diffuse_reflectance = torch.tensor([1.0, 1.0, 1.0], \\\n",
        "                                        device='cuda:0'), two_sided = True)\n",
        "    material_settings = {'diffuse_material':diffuse_material}\n",
        "\n",
        "    scene_params = [model_file, initial_camera_params, initial_light_params, material_settings]\n",
        "    return scene_params\n",
        "def show_inputs(inp, save_path = False, title='No Title'):\n",
        "    plt.imshow(inp[0].cpu().permute(1,2,0).int())\n",
        "    plt.title(title)\n",
        "    plt.axis('off')\n",
        "    if save_path != False:\n",
        "        plt.savefig(save_path)\n",
        "    else:\n",
        "        plt.show()\n",
        "def render_input(scene):\n",
        "    img = pyredner.render_pathtracing(scene = scene, num_samples = 256, seed = 1, use_secondary_edge_sampling = False)\n",
        "    img = torch.clamp(img, min = 0.00000001)\n",
        "    img = torch.pow(img, 1.0/2.2)\n",
        "    img = img*255/torch.max(img)\n",
        "    inputs = img.permute(2,0,1).unsqueeze(0)\n",
        "    return inputs\n",
        "def spherical_to_cartesian(r,theta,phi):\n",
        "    theta_rad = theta*3.14/180\n",
        "    phi_rad = phi*3.14/180\n",
        "\n",
        "    x = r * torch.sin(phi_rad) * torch.cos(theta_rad)\n",
        "    y = r * torch.sin(phi_rad) * torch.sin(theta_rad)\n",
        "    z = r * torch.cos(phi_rad)\n",
        "    out =  torch.stack([x,y,z])\n",
        "    return out\n",
        "def load_geometry(model_file, geometry, mat):\n",
        "    if geometry:\n",
        "        obj_model_all = model_file\n",
        "        obj_model = [i for i in obj_model_all if len(i.vertices)>0]\n",
        "    else:\n",
        "        obj_model_all = pyredner.load_obj(model_file, return_objects=True)\n",
        "        obj_model = [i for i in obj_model_all if len(i.vertices)>0]\n",
        "\n",
        "    for part in obj_model:\n",
        "        part.material = mat\n",
        "\n",
        "    return obj_model\n",
        "def optimize_flags(obj):\n",
        "    if type(obj) == list:\n",
        "        for o in obj:\n",
        "            o.requires_grad = True\n",
        "    else:\n",
        "        obj.requires_grad = True\n",
        "    return obj\n",
        "def setup_scene(scene_params):\n",
        "\n",
        "    model_file, camera_params, light_params, material_settings = scene_params\n",
        "    obj_model = load_geometry(model_file, False, material_settings['diffuse_material'])\n",
        "\n",
        "    #### Camera Setup ####\n",
        "    scene_cam = pyredner.automatic_camera_placement(obj_model, resolution = (224, 224),\n",
        "                                                   fov = torch.tensor([camera_params['fov']]),\n",
        "                                                   up = camera_params['cam_up'],\n",
        "                                                   look_at = camera_params['cam_look_at'])\n",
        "    scene_cam.position = camera_params['camera_position']\n",
        "\n",
        "    #### Lights Setup ####\n",
        "    scene_lights = []\n",
        "    num_lights = len(light_params['all_light_positions'])\n",
        "    for i in range(num_lights):\n",
        "        scene_light = pyredner.generate_quad_light(position = light_params['all_light_positions'][i],\n",
        "                                     look_at = light_params['all_light_look_ats'][i],\n",
        "                                     size = light_params['all_light_sizes'][i],\n",
        "                                     intensity = light_params['all_light_intensities'][i],\n",
        "                                     directly_visible = False)\n",
        "        scene_lights.append(scene_light)\n",
        "\n",
        "    all_objects = obj_model + scene_lights\n",
        "    scene = pyredner.Scene(objects = all_objects, camera = scene_cam)\n",
        "\n",
        "    return scene\n",
        "def start_up(scene_params, optimized_params):\n",
        "    model_file, camera_params, light_params, material_settings = scene_params\n",
        "    variables = []\n",
        "    var_names_list = []\n",
        "    for param in optimized_params:\n",
        "        if param in camera_params.keys():\n",
        "            optimize_flags(camera_params[param])\n",
        "            if type(camera_params[param]) == list:\n",
        "                variables.extend(camera_params[param])\n",
        "            else:\n",
        "                variables.append(camera_params[param])\n",
        "        elif param in light_params.keys():\n",
        "            optimize_flags(light_params[param])\n",
        "            if type(light_params[param]) == list:\n",
        "                variables.extend(light_params[param])\n",
        "            else:\n",
        "                variables.append(light_params[param])\n",
        "\n",
        "    scene_params = [model_file, camera_params, light_params, material_settings]\n",
        "    scene = setup_scene(scene_params)\n",
        "\n",
        "    return scene, variables\n",
        "\n",
        "def perturbation_vector(factor_len, perturb_percent = 1):\n",
        "    if factor_len == 0:\n",
        "        factor_len = 1\n",
        "    vec = torch.tensor([random.uniform(-perturb_percent/100,perturb_percent/100) for i in range(factor_len)])\n",
        "    return 1 + vec\n",
        "def random_perturbed_params(scene_params, perturb_percent = 1):\n",
        "    new_scene_params = [0,0,0,0]\n",
        "    new_scene_params[0] = scene_params[0]\n",
        "\n",
        "    new_scene_params[1] = {}\n",
        "    for key in scene_params[1].keys():\n",
        "        new_scene_params[1][key] = scene_params[1][key].clone() * perturbation_vector(scene_params[1][key].dim(), perturb_percent)\n",
        "\n",
        "    new_scene_params[2] = {}\n",
        "    for key in scene_params[2].keys():\n",
        "        new_scene_params[2][key] = [i.clone() * perturbation_vector(i.dim(), perturb_percent) for i in scene_params[2][key]]\n",
        "\n",
        "    new_scene_params[3] = scene_params[3]\n",
        "    return new_scene_params\n",
        "def render_and_predict(scene_params, optimized_params):\n",
        "    scene, variables = start_up(scene_params, optimized_params)\n",
        "    inputs = render_input(scene)\n",
        "    inputs = inputs.cuda()\n",
        "    rendered_inputs = inputs.clone()\n",
        "    inputs = inputs/255.0\n",
        "    im_means = torch.mean(inputs).unsqueeze(0).unsqueeze(1).unsqueeze(1).unsqueeze(1)\n",
        "    im_stds = torch.std(inputs).unsqueeze(0).unsqueeze(1).unsqueeze(1).unsqueeze(1)\n",
        "    inputs_ = (inputs - im_means)/im_stds\n",
        "    outputs = softmax_layer(loaded_model(inputs_))\n",
        "    prediction = torch.argmax(outputs).item()\n",
        "    return prediction, rendered_inputs\n",
        "def create_folder(folder):\n",
        "    if not os.path.isdir(folder):\n",
        "        os.mkdir(folder)\n",
        "def clone_scene_params(scene_params):\n",
        "    original_scene_params = [0,0,0,0]\n",
        "    original_scene_params[0] = scene_params[0]\n",
        "\n",
        "    original_scene_params[1] = {}\n",
        "    for key in scene_params[1].keys():\n",
        "        original_scene_params[1][key] = scene_params[1][key].clone()\n",
        "\n",
        "    original_scene_params[2] = {}\n",
        "    for key in scene_params[2].keys():\n",
        "        original_scene_params[2][key] = [i.clone() for i in scene_params[2][key]]\n",
        "\n",
        "    original_scene_params[3] = scene_params[3]\n",
        "    return original_scene_params\n",
        "\n",
        "def plot_losses(losses):\n",
        "    plt.plot(losses, marker='o',color='green')\n",
        "    plt.title('Losses',fontsize=16)\n",
        "    plt.xticks(fontsize= 12)\n",
        "    plt.yticks(fontsize= 12)\n",
        "    plt.show()\n",
        "\n",
        "def check_in_range(scene_params):\n",
        "    if scene_params[0] == 0:\n",
        "        return False\n",
        "    cam_radius = torch.norm(scene_params[1]['camera_position'])\n",
        "    radius_check = RADIUS_MIN_CAM <= cam_radius <= RADIUS_MAX_CAM\n",
        "    look_at_check = torch.sum(scene_params[1]['cam_look_at'] < cam_radius*0.3).item() == 3\n",
        "    return radius_check and look_at_check\n",
        "\n",
        "def objective(scene_params, optimized_params, neuron_num = None):\n",
        "    scene, variables = start_up(scene_params, [])\n",
        "    inputs = render_input(scene)\n",
        "    inputs = inputs.cuda()\n",
        "    rendered_inputs = inputs.clone()\n",
        "    inputs = inputs/255.0\n",
        "    im_means = torch.mean(inputs).unsqueeze(0).unsqueeze(1).unsqueeze(1).unsqueeze(1)\n",
        "    im_stds = torch.std(inputs).unsqueeze(0).unsqueeze(1).unsqueeze(1).unsqueeze(1)\n",
        "    inputs_ = (inputs - im_means)/im_stds\n",
        "    outputs = shorter_model(inputs_)\n",
        "    if neuron_num is None:\n",
        "        selective_neurons = torch.argsort(outputs[0].view(512,-1).squeeze(1))[-1]\n",
        "        selected_act_firing = outputs[0].view(512,-1).squeeze(1)[selective_neurons]\n",
        "        return selective_neurons, selected_act_firing\n",
        "    else:\n",
        "        loss = torch.sum(outputs[0].view(512,-1).squeeze(1)[neuron_num]).item()\n",
        "    return loss\n",
        "\n",
        "\n",
        "\n",
        "def cma_objective_adversarial(x):\n",
        "    SCENE_PARAMS[1]['camera_position'] = torch.tensor(x[:3]).float()\n",
        "    SCENE_PARAMS[1]['cam_look_at'] = torch.tensor(x[3:6]).float()\n",
        "    SCENE_PARAMS[1]['cam_up'] = torch.tensor(x[6:9]/10).float()\n",
        "    SCENE_PARAMS[1]['fov'] = torch.tensor(x[9]*10).float()\n",
        "\n",
        "    scene, variables = start_up(SCENE_PARAMS, [])\n",
        "    inputs = render_input(scene)\n",
        "    inputs = inputs.cuda()\n",
        "    rendered_inputs = inputs.clone()\n",
        "    inputs = inputs/255.0\n",
        "    im_means = torch.mean(inputs).unsqueeze(0).unsqueeze(1).unsqueeze(1).unsqueeze(1)\n",
        "    im_stds = torch.std(inputs).unsqueeze(0).unsqueeze(1).unsqueeze(1).unsqueeze(1)\n",
        "    inputs_ = (inputs - im_means)/im_stds\n",
        "    outputs = loaded_model(inputs_)\n",
        "    probability = outputs[0][CATEGORY_NUM].item()\n",
        "    prediction = torch.argmax(outputs[0]).item()\n",
        "    return probability, prediction"
      ],
      "metadata": {
        "id": "6bbs5qPzQZ8b"
      },
      "execution_count": 14,
      "outputs": []
    },
    {
      "cell_type": "code",
      "source": [
        "model_files_pickle = '%s/rendering/shapenet_model_subsets/categories_10_models_40.pkl'%ROOT\n",
        "with open(model_files_pickle, 'rb') as F:\n",
        "    model_files = pickle.load(F)"
      ],
      "metadata": {
        "id": "8U2pEnMCUvzO"
      },
      "execution_count": 15,
      "outputs": []
    },
    {
      "cell_type": "code",
      "source": [
        "def get_random_3d_model():\n",
        "#     categories_10_models_10.pkl\n",
        "    model_files_pickle = '../rendering/shapenet_model_subsets/%s'%MODELS_PICKLE_FILE_NAME\n",
        "    with open(model_files_pickle, 'rb') as F:\n",
        "        model_files = pickle.load(F)\n",
        "    random_category = random.choice(list(model_files.keys()))\n",
        "    random_instance = random.choice(model_files[random_category]).split('/')[7]\n",
        "    model_file = '%s/ShapeNetCore.v2/%s/%s/models/model_normalized.obj'%(user_root_dir, random_category, random_instance)\n",
        "    print('Chosen model is a %s'%shapenet_class_num_to_class_name[shapenet_id_to_class_num[random_category]])\n",
        "    category_num = shapenet_id_to_class_num[random_category]\n",
        "    print('Category num is %s'%category_num)\n",
        "    return model_file, category_num, random_category, random_instance"
      ],
      "metadata": {
        "id": "uqNsynHMTlSX"
      },
      "execution_count": 16,
      "outputs": []
    },
    {
      "cell_type": "code",
      "source": [
        "model_file = '%s/rendering/shapenet_model_subsets/subset_models/04379243_cf7c2cfb403f2819548cdb167cc8bdd/models/model_normalized.obj'%ROOT\n",
        "category = '04379243'\n",
        "instance = 'cf7c2cfb403f2819548cdb167cc8bdd'\n",
        "category_num = shapenet_id_to_class_num[category]\n",
        "print('Chosen model is a %s'%shapenet_class_num_to_class_name[shapenet_id_to_class_num[category]])\n",
        "print('Category number is %s'%category_num)"
      ],
      "metadata": {
        "colab": {
          "base_uri": "https://localhost:8080/"
        },
        "id": "Cq10Ii52Uywp",
        "outputId": "a54a7911-344e-48a1-9173-44ae2b3af70d"
      },
      "execution_count": 17,
      "outputs": [
        {
          "output_type": "stream",
          "name": "stdout",
          "text": [
            "Chosen model is a table\n",
            "Category number is 10\n"
          ]
        }
      ]
    },
    {
      "cell_type": "code",
      "source": [
        "import os\n",
        "import sys\n",
        "sys.path.insert(0,'%s/redner/'%ROOT)\n",
        "import redner\n",
        "import pyredner"
      ],
      "metadata": {
        "id": "QGGc4-S6YAeh"
      },
      "execution_count": 18,
      "outputs": []
    },
    {
      "cell_type": "code",
      "source": [
        "pyredner.__file__"
      ],
      "metadata": {
        "colab": {
          "base_uri": "https://localhost:8080/",
          "height": 35
        },
        "id": "2kaXSUC7YXpU",
        "outputId": "a2b97fb9-f8cc-42df-c1b7-f9ce76c02672"
      },
      "execution_count": 19,
      "outputs": [
        {
          "output_type": "execute_result",
          "data": {
            "text/plain": [
              "'/content/in_distribution_adversarial_examples/redner/pyredner/__init__.py'"
            ],
            "application/vnd.google.colaboratory.intrinsic+json": {
              "type": "string"
            }
          },
          "metadata": {},
          "execution_count": 19
        }
      ]
    },
    {
      "cell_type": "code",
      "source": [
        "optimized_params = []\n",
        "curr_pred = -1\n",
        "while curr_pred != category_num:\n",
        "    scene_params = get_random_scene_params(model_file)\n",
        "    original_scene_params = clone_scene_params(scene_params)\n",
        "    curr_pred, _ = render_and_predict(scene_params, [])"
      ],
      "metadata": {
        "colab": {
          "base_uri": "https://localhost:8080/"
        },
        "id": "yMmnj0zHXHSJ",
        "outputId": "9f51da41-234d-490b-cea6-435ddf340a35"
      },
      "execution_count": 20,
      "outputs": [
        {
          "output_type": "stream",
          "name": "stderr",
          "text": [
            "/content/in_distribution_adversarial_examples/redner/pyredner/render_pytorch.py:214: UserWarning: Converting shape vertices from cpu to cuda:0, this can be inefficient.\n",
            "  warnings.warn('Converting shape vertices from {} to {}, this can be inefficient.'.format(shape.vertices.device, device))\n",
            "/content/in_distribution_adversarial_examples/redner/pyredner/render_pytorch.py:216: UserWarning: Converting shape indices from cpu to cuda:0, this can be inefficient.\n",
            "  warnings.warn('Converting shape indices from {} to {}, this can be inefficient.'.format(shape.indices.device, device))\n",
            "/content/in_distribution_adversarial_examples/redner/pyredner/render_pytorch.py:55: UserWarning: Converting texture from cpu to cuda:0, this can be inefficient.\n",
            "  warnings.warn('Converting texture from {} to {}, this can be inefficient.'.format(mipmap.device, device))\n"
          ]
        },
        {
          "output_type": "stream",
          "name": "stdout",
          "text": [
            "Scene construction, time: 29.15305 s\n",
            "Forward pass, time: 0.37519 s\n"
          ]
        },
        {
          "output_type": "stream",
          "name": "stderr",
          "text": [
            "<ipython-input-14-e5bf47f53d01>:181: UserWarning: Implicit dimension choice for softmax has been deprecated. Change the call to include dim=X as an argument.\n",
            "  outputs = softmax_layer(loaded_model(inputs_))\n"
          ]
        },
        {
          "output_type": "stream",
          "name": "stdout",
          "text": [
            "Scene construction, time: 0.04208 s\n",
            "Forward pass, time: 0.40112 s\n",
            "Scene construction, time: 0.04439 s\n",
            "Forward pass, time: 0.40878 s\n"
          ]
        }
      ]
    },
    {
      "cell_type": "code",
      "source": [
        "orig_im = _[0].clone()"
      ],
      "metadata": {
        "id": "DHs_M5f2Xblu"
      },
      "execution_count": 21,
      "outputs": []
    },
    {
      "cell_type": "code",
      "source": [
        "cp = np.array(scene_params[1]['camera_position'])\n",
        "cat = np.array(scene_params[1]['cam_look_at'])\n",
        "cup = np.array(scene_params[1]['cam_up'])*10\n",
        "fov = np.array(scene_params[1]['fov'])/10\n",
        "start_pos = np.hstack([cp,cat,cup,fov])"
      ],
      "metadata": {
        "id": "kJerw930c3be"
      },
      "execution_count": 22,
      "outputs": []
    },
    {
      "cell_type": "code",
      "source": [
        "SCENE_PARAMS = clone_scene_params(scene_params)\n",
        "CATEGORY_NUM = category_num\n",
        "\n",
        "es = cma.CMAEvolutionStrategy(start_pos, 0.05)\n",
        "\n",
        "es.optimize(cma_objective_adversarial, verb_disp = True, iterations=15, correct_prediction = category_num)\n",
        "print(es.predictions)"
      ],
      "metadata": {
        "colab": {
          "base_uri": "https://localhost:8080/"
        },
        "id": "jSqiLJ8QdGsA",
        "outputId": "b916a7f8-2d65-4dab-9848-3d435b2dd649"
      },
      "execution_count": 23,
      "outputs": [
        {
          "output_type": "stream",
          "name": "stdout",
          "text": [
            "Scene construction, time: 0.04348 s\n",
            "Forward pass, time: 0.38482 s\n",
            "Scene construction, time: 0.04271 s\n",
            "Forward pass, time: 0.38427 s\n",
            "Scene construction, time: 0.04211 s\n",
            "Forward pass, time: 0.36859 s\n",
            "Scene construction, time: 0.04240 s\n",
            "Forward pass, time: 0.37673 s\n",
            "Scene construction, time: 0.04497 s\n",
            "Forward pass, time: 0.36189 s\n",
            "Scene construction, time: 0.04259 s\n",
            "Forward pass, time: 0.37403 s\n",
            "Scene construction, time: 0.04259 s\n",
            "Forward pass, time: 0.38038 s\n",
            "Scene construction, time: 0.04259 s\n",
            "Forward pass, time: 0.36514 s\n",
            "Scene construction, time: 0.04220 s\n",
            "Forward pass, time: 0.36503 s\n",
            "Scene construction, time: 0.04390 s\n",
            "Forward pass, time: 0.36249 s\n",
            "Adversarial found, should stop now.\n",
            "Predictions are :[1, 10, 10, 10, 10, 10, 10, 10, 10, 10]\n",
            "Iterat #Fevals   function value  axis ratio  sigma  min&max std  t[m:s]\n",
            "    1     10 2.661782264709473e+00 1.0e+00 4.78e-02  4e-02  5e-02 0:32.0\n",
            "Adversarial found, trying to stop.\n",
            "Iterat #Fevals   function value  axis ratio  sigma  min&max std  t[m:s]\n",
            "    1     10 2.661782264709473e+00 1.0e+00 4.78e-02  4e-02  5e-02 0:32.0\n",
            "termination by {}\n",
            "best f-value = 2.6617822647094727\n",
            "solution = [-3.25703698 -3.73726549 -0.43858006  1.48023587  0.30828358  0.79206649\n",
            " -8.95857493  2.59014838  3.87334998  3.95139612]\n",
            "[1, 10, 10, 10, 10, 10, 10, 10, 10, 10]\n"
          ]
        }
      ]
    },
    {
      "cell_type": "code",
      "source": [
        "info_to_store = {}\n",
        "\n",
        "info_to_store['scene_params'] = scene_params\n",
        "info_to_store['es'] = es"
      ],
      "metadata": {
        "id": "7AomvzlJdIUG"
      },
      "execution_count": 24,
      "outputs": []
    },
    {
      "cell_type": "code",
      "source": [
        "orig_scene, variables = start_up(SCENE_PARAMS,[])"
      ],
      "metadata": {
        "id": "wfdplZn3dP71"
      },
      "execution_count": 25,
      "outputs": []
    },
    {
      "cell_type": "code",
      "source": [
        "new_scene, variables = start_up(scene_params, [])"
      ],
      "metadata": {
        "id": "9IebR01LdjeA"
      },
      "execution_count": 26,
      "outputs": []
    },
    {
      "cell_type": "code",
      "source": [
        "def render_input_new(scene):\n",
        "    img = pyredner.render_pathtracing(scene = scene, num_samples = 512, seed = 1)\n",
        "    img = torch.clamp(img, min = 0.00000001)\n",
        "    img = torch.pow(img, 1.0/2.2)\n",
        "    img = img*255/torch.max(img)\n",
        "    inputs = img.permute(2,0,1).unsqueeze(0)\n",
        "    return inputs, img"
      ],
      "metadata": {
        "id": "0uWcumXGfgMT"
      },
      "execution_count": 27,
      "outputs": []
    },
    {
      "cell_type": "code",
      "source": [
        "orig_inputs, orig_img = render_input_new(orig_scene)"
      ],
      "metadata": {
        "colab": {
          "base_uri": "https://localhost:8080/"
        },
        "id": "1tazzarnfALL",
        "outputId": "2ae4d667-a5f3-4175-cc01-88ce2fa2d690"
      },
      "execution_count": 28,
      "outputs": [
        {
          "output_type": "stream",
          "name": "stdout",
          "text": [
            "Scene construction, time: 0.04940 s\n",
            "Forward pass, time: 0.65605 s\n"
          ]
        }
      ]
    },
    {
      "cell_type": "code",
      "source": [
        "new_inputs, new_img = render_input_new(new_scene)"
      ],
      "metadata": {
        "colab": {
          "base_uri": "https://localhost:8080/"
        },
        "id": "PLNp7YGxfLT1",
        "outputId": "f6ffb690-1522-4ee4-ab99-310fdf2ea1fb"
      },
      "execution_count": 29,
      "outputs": [
        {
          "output_type": "stream",
          "name": "stdout",
          "text": [
            "Scene construction, time: 0.03195 s\n",
            "Forward pass, time: 0.55612 s\n"
          ]
        }
      ]
    },
    {
      "cell_type": "code",
      "source": [
        "plt.figure(figsize=(6,12))\n",
        "plt.subplot(1,2,1)\n",
        "plt.imshow(orig_img.detach().cpu()/255.0)\n",
        "plt.title('Original Image')\n",
        "plt.axis('off')\n",
        "plt.subplot(1,2,2)\n",
        "plt.imshow(new_img.detach().cpu()/255.0)\n",
        "plt.title('Adversarial Image')\n",
        "plt.axis('off')\n",
        "plt.tight_layout()\n",
        "plt.show()"
      ],
      "metadata": {
        "colab": {
          "base_uri": "https://localhost:8080/",
          "height": 247
        },
        "id": "CeuTv6RNg6R0",
        "outputId": "40a40cd0-2a7f-43e5-b8e3-c0ed359fa9e7"
      },
      "execution_count": 30,
      "outputs": [
        {
          "output_type": "display_data",
          "data": {
            "text/plain": [
              "<Figure size 432x864 with 2 Axes>"
            ],
            "image/png": "[encoded data removed]"
          },
          "metadata": {
            "needs_background": "light"
          }
        }
      ]
    }
  ]
}