{
 "cells": [
  {
   "cell_type": "markdown",
   "id": "abroad-envelope",
   "metadata": {},
   "source": [
    "# Imports"
   ]
  },
  {
   "cell_type": "code",
   "execution_count": 1,
   "id": "suited-london",
   "metadata": {},
   "outputs": [
    {
     "ename": "ModuleNotFoundError",
     "evalue": "No module named 'single_view_mpi'",
     "output_type": "error",
     "traceback": [
      "\u001b[0;31m---------------------------------------------------------------------------\u001b[0m",
      "\u001b[0;31mModuleNotFoundError\u001b[0m                       Traceback (most recent call last)",
      "\u001b[0;32m<ipython-input-1-623173131181>\u001b[0m in \u001b[0;36m<module>\u001b[0;34m\u001b[0m\n\u001b[1;32m      4\u001b[0m \u001b[0;32mimport\u001b[0m \u001b[0mtensorflow\u001b[0m \u001b[0;32mas\u001b[0m \u001b[0mtf\u001b[0m\u001b[0;34m\u001b[0m\u001b[0;34m\u001b[0m\u001b[0m\n\u001b[1;32m      5\u001b[0m \u001b[0;34m\u001b[0m\u001b[0m\n\u001b[0;32m----> 6\u001b[0;31m \u001b[0;32mfrom\u001b[0m \u001b[0msingle_view_mpi\u001b[0m\u001b[0;34m.\u001b[0m\u001b[0mlibs\u001b[0m \u001b[0;32mimport\u001b[0m \u001b[0mmpi\u001b[0m\u001b[0;34m\u001b[0m\u001b[0;34m\u001b[0m\u001b[0m\n\u001b[0m\u001b[1;32m      7\u001b[0m \u001b[0;32mfrom\u001b[0m \u001b[0msingle_view_mpi\u001b[0m\u001b[0;34m.\u001b[0m\u001b[0mlibs\u001b[0m \u001b[0;32mimport\u001b[0m \u001b[0mnets\u001b[0m\u001b[0;34m\u001b[0m\u001b[0;34m\u001b[0m\u001b[0m\n\u001b[1;32m      8\u001b[0m \u001b[0;31m# from libs import mpi\u001b[0m\u001b[0;34m\u001b[0m\u001b[0;34m\u001b[0m\u001b[0;34m\u001b[0m\u001b[0m\n",
      "\u001b[0;31mModuleNotFoundError\u001b[0m: No module named 'single_view_mpi'"
     ]
    }
   ],
   "source": [
    "from tensorflow_addons import image as tfa_image\n",
    "import numpy as np\n",
    "\n",
    "import tensorflow as tf\n",
    "\n",
    "from single_view_mpi.libs import mpi\n",
    "from single_view_mpi.libs import nets\n",
    "# from libs import mpi\n",
    "# from libs import nets\n",
    "input = tf.keras.Input(shape=(None, None, 3))\n",
    "output = nets.mpi_from_image(input)\n",
    "\n",
    "model = tf.keras.Model(inputs=input, outputs=output)\n",
    "print('Model created.')\n",
    "# Our full model, trained on RealEstate10K.\n",
    "model.load_weights('single_view_mpi/single_view_mpi_full_keras/single_view_mpi_keras_weights')\n",
    "print('Weights loaded.')\n",
    "\n",
    "import matplotlib.pyplot as plt\n",
    "plt.rcParams[\"figure.figsize\"] = (20, 10)"
   ]
  },
  {
   "cell_type": "code",
   "execution_count": null,
   "id": "authentic-stanford",
   "metadata": {},
   "outputs": [],
   "source": [
    "import torch\n",
    "import torchvision\n",
    "from torchvision import models\n",
    "from PIL import Image\n",
    "import pyheif\n",
    "import os\n",
    "import matplotlib.pyplot as plt\n",
    "\n",
    "from torchvision import transforms\n",
    "\n",
    "transform = transforms.Compose([            #[1]\n",
    " transforms.Resize(224),                    #[2]\n",
    " transforms.ToTensor(),                     #[4]\n",
    " transforms.Normalize(                      #[5]\n",
    " mean=[0.485, 0.456, 0.406],                #[6]\n",
    " std=[0.229, 0.224, 0.225]                  #[7]\n",
    " )])"
   ]
  },
  {
   "cell_type": "code",
   "execution_count": null,
   "id": "supposed-yorkshire",
   "metadata": {},
   "outputs": [],
   "source": [
    "inputfile = 'single_view_mpi/yellow-cup-coffee.jpg'"
   ]
  },
  {
   "cell_type": "code",
   "execution_count": null,
   "id": "detected-fundamental",
   "metadata": {},
   "outputs": [],
   "source": [
    "# Generate MPI\n",
    "\n",
    "input_rgb = tf.image.decode_image(tf.io.read_file(inputfile), dtype=tf.float32)\n",
    "layers = model(input_rgb[tf.newaxis])[0]\n",
    "depths = mpi.make_depths(1.0, 100.0, 32).numpy()"
   ]
  },
  {
   "cell_type": "code",
   "execution_count": null,
   "id": "harmful-framing",
   "metadata": {},
   "outputs": [],
   "source": [
    "# Load ImageNet prediction code\n"
   ]
  }
 ],
 "metadata": {
  "kernelspec": {
   "display_name": "diff_rendering_ml",
   "language": "python",
   "name": "diff_rendering_ml"
  },
  "language_info": {
   "codemirror_mode": {
    "name": "ipython",
    "version": 3
   },
   "file_extension": ".py",
   "mimetype": "text/x-python",
   "name": "python",
   "nbconvert_exporter": "python",
   "pygments_lexer": "ipython3",
   "version": "3.8.5"
  }
 },
 "nbformat": 4,
 "nbformat_minor": 5
}
