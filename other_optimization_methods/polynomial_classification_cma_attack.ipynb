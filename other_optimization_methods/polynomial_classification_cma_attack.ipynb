{
 "cells": [
  {
   "cell_type": "code",
   "execution_count": 712,
   "id": "gothic-investigator",
   "metadata": {},
   "outputs": [],
   "source": [
    "import torch\n",
    "import numpy as np\n",
    "import matplotlib.pyplot as plt"
   ]
  },
  {
   "cell_type": "code",
   "execution_count": 671,
   "id": "crazy-chase",
   "metadata": {},
   "outputs": [],
   "source": [
    "import torch\n",
    "from torch.autograd import Variable\n",
    "import torch.nn.functional as F\n",
    "import torch.utils.data as Data\n",
    "\n",
    "import matplotlib.pyplot as plt\n",
    "%matplotlib inline\n",
    "\n",
    "import numpy as np\n",
    "import imageio"
   ]
  },
  {
   "cell_type": "code",
   "execution_count": 672,
   "id": "competitive-tactics",
   "metadata": {},
   "outputs": [],
   "source": [
    "def f(x, category):\n",
    "    if category == 0:\n",
    "        noise = -50 * torch.rand(1)\n",
    "    elif category == 1:\n",
    "        noise = 50 * torch.rand(1)\n",
    "        \n",
    "    return x.pow(3) + 2*x.pow(2) + 3*x + noise"
   ]
  },
  {
   "cell_type": "code",
   "execution_count": 674,
   "id": "excessive-television",
   "metadata": {},
   "outputs": [],
   "source": [
    "class Net(torch.nn.Module):\n",
    "    def __init__(self, n_feature, n_hidden, n_hidden_2, n_output):\n",
    "        super(Net, self).__init__()\n",
    "        self.hidden = torch.nn.Linear(n_feature, n_hidden)   # hidden layer\n",
    "        self.hidden2 = torch.nn.Linear(n_hidden,n_hidden_2)\n",
    "        self.predict = torch.nn.Linear(n_hidden_2, n_output)   # output layer\n",
    "\n",
    "    def forward(self, x):\n",
    "        x = F.relu(self.hidden(x))      # activation function for hidden layer\n",
    "        x = F.relu(self.hidden2(x))\n",
    "        x = self.predict(x)             # linear output\n",
    "        return x\n"
   ]
  },
  {
   "cell_type": "code",
   "execution_count": 675,
   "id": "alike-delhi",
   "metadata": {},
   "outputs": [],
   "source": [
    "import torch\n",
    "from torch.autograd import Variable\n",
    "import torch.nn.functional as F\n",
    "import torch.utils.data as Data\n",
    "\n",
    "import matplotlib.pyplot as plt\n",
    "%matplotlib inline\n",
    "\n",
    "import numpy as np\n",
    "import imageio"
   ]
  },
  {
   "cell_type": "code",
   "execution_count": 676,
   "id": "falling-chamber",
   "metadata": {},
   "outputs": [],
   "source": [
    "def sample_dataset(sample_size):\n",
    "    inputs_0 = torch.unsqueeze(torch.linspace(-5, 5, sample_size), dim=1)\n",
    "    inputs_1 = torch.unsqueeze(torch.linspace(-4.5, 5.5, sample_size), dim=1)\n",
    "    all_inputs = torch.cat((inputs_0,inputs_1))\n",
    "    outputs_0 = f(inputs_0, 0)\n",
    "    outputs_1 = f(inputs_1, 1)\n",
    "    X = torch.cat((outputs_0, outputs_1))\n",
    "    Y_0 = torch.zeros(sample_size)\n",
    "    Y_1 = torch.ones(sample_size)\n",
    "    Y = torch.hstack((Y_0,Y_1)).long()\n",
    "    net_in = torch.hstack((all_inputs, X))\n",
    "    return net_in, Y"
   ]
  },
  {
   "cell_type": "code",
   "execution_count": 683,
   "id": "handy-corporation",
   "metadata": {},
   "outputs": [],
   "source": [
    "x_train, y_train = sample_dataset(100000)"
   ]
  },
  {
   "cell_type": "code",
   "execution_count": 684,
   "id": "furnished-moscow",
   "metadata": {},
   "outputs": [
    {
     "data": {
      "text/plain": [
       "Text(0.5, 1.0, 'Train Data')"
      ]
     },
     "execution_count": 684,
     "metadata": {},
     "output_type": "execute_result"
    },
    {
     "data": {
      "image/png": "[encoded data removed]",
      "text/plain": [
       "<Figure size 432x288 with 1 Axes>"
      ]
     },
     "metadata": {
      "needs_background": "light"
     },
     "output_type": "display_data"
    }
   ],
   "source": [
    "# Visualize\n",
    "colors = ['red' if i ==0 else 'green' for i in y_train]\n",
    "plt.scatter(x_train[:,0], x_train[:,1], color = colors)\n",
    "plt.xlabel('feature 1 ')\n",
    "plt.ylabel('feature 2')\n",
    "plt.title('Train Data')"
   ]
  },
  {
   "cell_type": "code",
   "execution_count": 685,
   "id": "crazy-greensboro",
   "metadata": {},
   "outputs": [],
   "source": [
    "# torch can only train on Variable, so convert them to Variable\n",
    "x_train, y_train = Variable(x_train), Variable(y_train)\n",
    "\n",
    "x_train = x_train.cuda()\n",
    "y_train = y_train.cuda()"
   ]
  },
  {
   "cell_type": "code",
   "execution_count": 700,
   "id": "demanding-segment",
   "metadata": {},
   "outputs": [],
   "source": [
    "net = Net(n_feature=2, n_hidden=10, n_hidden_2=5, n_output=2)     # define the network\n",
    "# print(net)  # net architecture\n",
    "net = net.cuda()\n",
    "optimizer = torch.optim.SGD(net.parameters(), lr=0.0001)\n",
    "loss_func = torch.nn.CrossEntropyLoss()  # this is for regression mean squared loss"
   ]
  },
  {
   "cell_type": "code",
   "execution_count": 701,
   "id": "periodic-button",
   "metadata": {},
   "outputs": [],
   "source": [
    "from tqdm.notebook import tqdm"
   ]
  },
  {
   "cell_type": "code",
   "execution_count": 707,
   "id": "chinese-server",
   "metadata": {},
   "outputs": [
    {
     "data": {
      "application/vnd.jupyter.widget-view+json": {
       "model_id": "d70e6e685dc04f879ff25f457d299c2e",
       "version_major": 2,
       "version_minor": 0
      },
      "text/plain": [
       "  0%|          | 0/5000 [00:00<?, ?it/s]"
      ]
     },
     "metadata": {},
     "output_type": "display_data"
    }
   ],
   "source": [
    "# train the network\n",
    "losses = []\n",
    "for t in tqdm(range(5000)):\n",
    "    prediction = net(x_train)     # input x and predict based on x\n",
    "\n",
    "    loss = loss_func(prediction, y_train)     # must be (1. nn output, 2. target)\n",
    "\n",
    "    optimizer.zero_grad()   # clear gradients for next train\n",
    "    loss.backward()         # backpropagation, compute gradients\n",
    "    optimizer.step()        # apply gradients\n",
    "    \n",
    "    losses.append(loss.item())"
   ]
  },
  {
   "cell_type": "code",
   "execution_count": 708,
   "id": "disciplinary-flood",
   "metadata": {},
   "outputs": [
    {
     "data": {
      "text/plain": [
       "[<matplotlib.lines.Line2D at 0x2b4a0d39d6d0>]"
      ]
     },
     "execution_count": 708,
     "metadata": {},
     "output_type": "execute_result"
    },
    {
     "data": {
      "image/png": "[encoded data removed]",
      "text/plain": [
       "<Figure size 432x288 with 1 Axes>"
      ]
     },
     "metadata": {
      "needs_background": "light"
     },
     "output_type": "display_data"
    }
   ],
   "source": [
    "plt.plot(losses)"
   ]
  },
  {
   "cell_type": "code",
   "execution_count": 709,
   "id": "heavy-catalog",
   "metadata": {},
   "outputs": [],
   "source": [
    "category_preds = torch.argmax(prediction, dim =1)"
   ]
  },
  {
   "cell_type": "code",
   "execution_count": 710,
   "id": "apparent-spare",
   "metadata": {},
   "outputs": [],
   "source": [
    "accuracy = torch.sum(y_train == category_preds)/len(y_train)"
   ]
  },
  {
   "cell_type": "code",
   "execution_count": 711,
   "id": "consistent-gather",
   "metadata": {},
   "outputs": [
    {
     "name": "stdout",
     "output_type": "stream",
     "text": [
      "tensor(0.7122, device='cuda:0')\n"
     ]
    }
   ],
   "source": [
    "print(accuracy)"
   ]
  },
  {
   "cell_type": "markdown",
   "id": "behind-charm",
   "metadata": {},
   "source": [
    "# Attack with random search"
   ]
  },
  {
   "cell_type": "code",
   "execution_count": 639,
   "id": "confirmed-example",
   "metadata": {},
   "outputs": [],
   "source": [
    "x_test, y_test = sample_dataset(100000)"
   ]
  },
  {
   "cell_type": "code",
   "execution_count": 640,
   "id": "convertible-syndication",
   "metadata": {},
   "outputs": [],
   "source": [
    "x_test, y_test = Variable(x_test), Variable(y_test)\n",
    "\n",
    "x_test = x_test.cuda()\n",
    "y_test = y_test.cuda()"
   ]
  },
  {
   "cell_type": "code",
   "execution_count": 641,
   "id": "outdoor-furniture",
   "metadata": {},
   "outputs": [],
   "source": [
    "prediction_test = net(x_test) "
   ]
  },
  {
   "cell_type": "code",
   "execution_count": 642,
   "id": "stylish-update",
   "metadata": {},
   "outputs": [],
   "source": [
    "category_preds_test = torch.argmax(prediction_test, dim =1)"
   ]
  },
  {
   "cell_type": "code",
   "execution_count": 643,
   "id": "sought-fancy",
   "metadata": {},
   "outputs": [],
   "source": [
    "accuracy_test = torch.sum(y_test == category_preds_test)/len(y_test)"
   ]
  },
  {
   "cell_type": "code",
   "execution_count": 644,
   "id": "residential-argentina",
   "metadata": {},
   "outputs": [
    {
     "data": {
      "text/plain": [
       "tensor(0.9663, device='cuda:0')"
      ]
     },
     "execution_count": 644,
     "metadata": {},
     "output_type": "execute_result"
    }
   ],
   "source": [
    "accuracy_test"
   ]
  },
  {
   "cell_type": "code",
   "execution_count": 645,
   "id": "romantic-source",
   "metadata": {},
   "outputs": [
    {
     "data": {
      "text/plain": [
       "Text(0.5, 1.0, 'Errored predictions on test data')"
      ]
     },
     "execution_count": 645,
     "metadata": {},
     "output_type": "execute_result"
    },
    {
     "data": {
      "image/png": "[encoded data removed]",
      "text/plain": [
       "<Figure size 432x288 with 1 Axes>"
      ]
     },
     "metadata": {
      "needs_background": "light"
     },
     "output_type": "display_data"
    }
   ],
   "source": [
    "# Visualize\n",
    "# colors = ['red' if i ==0 else 'green' for i in y_test]\n",
    "matches = list((y_test == category_preds_test).cpu().long())\n",
    "colors_2 = ['red' if i ==0 else 'green' for i in matches]\n",
    "plt.scatter(x_test[:,0].cpu().detach(), x_test[:,1].cpu().detach(), color = colors_2)\n",
    "plt.xlabel('feature 1 ')\n",
    "plt.ylabel('feature 2')\n",
    "plt.title('Errored predictions on test data')"
   ]
  },
  {
   "cell_type": "code",
   "execution_count": 658,
   "id": "necessary-liability",
   "metadata": {},
   "outputs": [],
   "source": [
    "error_positions = torch.where(y_test != category_preds_test)[0]"
   ]
  },
  {
   "cell_type": "code",
   "execution_count": 660,
   "id": "contained-comment",
   "metadata": {},
   "outputs": [],
   "source": [
    "# error_positions[0]"
   ]
  },
  {
   "cell_type": "code",
   "execution_count": 665,
   "id": "gross-staff",
   "metadata": {},
   "outputs": [],
   "source": [
    "failed_xs = []\n",
    "for i in error_positions:\n",
    "    failed_xs.append(x_test[i][0].item())"
   ]
  },
  {
   "cell_type": "code",
   "execution_count": 669,
   "id": "designing-maria",
   "metadata": {},
   "outputs": [
    {
     "data": {
      "text/plain": [
       "-4.5"
      ]
     },
     "execution_count": 669,
     "metadata": {},
     "output_type": "execute_result"
    }
   ],
   "source": [
    "np.min(failed_xs)"
   ]
  },
  {
   "cell_type": "code",
   "execution_count": 670,
   "id": "published-scanner",
   "metadata": {},
   "outputs": [
    {
     "data": {
      "text/plain": [
       "(array([  85.,    0.,    0.,    0.,    0.,    0.,    0., 4675.,    0.,\n",
       "        1987.]),\n",
       " array([-4.5 , -3.55, -2.6 , -1.65, -0.7 ,  0.25,  1.2 ,  2.15,  3.1 ,\n",
       "         4.05,  5.  ]),\n",
       " <BarContainer object of 10 artists>)"
      ]
     },
     "execution_count": 670,
     "metadata": {},
     "output_type": "execute_result"
    },
    {
     "data": {
      "image/png": "[encoded data removed]",
      "text/plain": [
       "<Figure size 432x288 with 1 Axes>"
      ]
     },
     "metadata": {
      "needs_background": "light"
     },
     "output_type": "display_data"
    }
   ],
   "source": [
    "plt.hist(failed_xs)"
   ]
  },
  {
   "cell_type": "markdown",
   "id": "nasty-roberts",
   "metadata": {},
   "source": [
    "# Attack with CMA"
   ]
  },
  {
   "cell_type": "code",
   "execution_count": 9,
   "id": "disabled-corps",
   "metadata": {},
   "outputs": [],
   "source": [
    "start_pos = 0.0"
   ]
  },
  {
   "cell_type": "code",
   "execution_count": 181,
   "id": "popular-saudi",
   "metadata": {},
   "outputs": [],
   "source": [
    "import cma"
   ]
  },
  {
   "cell_type": "code",
   "execution_count": 182,
   "id": "roman-nepal",
   "metadata": {},
   "outputs": [
    {
     "data": {
      "text/plain": [
       "'/om5/user/smadan/miniconda3/envs/diff_rendering_ml/lib/python3.8/site-packages/cma/__init__.py'"
      ]
     },
     "execution_count": 182,
     "metadata": {},
     "output_type": "execute_result"
    }
   ],
   "source": [
    "cma.__file__"
   ]
  },
  {
   "cell_type": "code",
   "execution_count": null,
   "id": "lonely-spare",
   "metadata": {},
   "outputs": [],
   "source": [
    "es = cma.CMAEvolutionStrategy(start_pos, 0.05)\n",
    "\n",
    "es.(f, verb_disp = True, iterations=15, correct_prediction = category_num)\n",
    "print(es.predictions)"
   ]
  }
 ],
 "metadata": {
  "kernelspec": {
   "display_name": "diff_rendering_ml",
   "language": "python",
   "name": "diff_rendering_ml"
  },
  "language_info": {
   "codemirror_mode": {
    "name": "ipython",
    "version": 3
   },
   "file_extension": ".py",
   "mimetype": "text/x-python",
   "name": "python",
   "nbconvert_exporter": "python",
   "pygments_lexer": "ipython3",
   "version": "3.8.5"
  }
 },
 "nbformat": 4,
 "nbformat_minor": 5
}
