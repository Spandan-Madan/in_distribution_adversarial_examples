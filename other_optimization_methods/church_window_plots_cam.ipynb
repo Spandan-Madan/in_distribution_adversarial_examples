{
 "cells": [
  {
   "cell_type": "code",
   "execution_count": 1,
   "id": "realistic-aerospace",
   "metadata": {},
   "outputs": [
    {
     "name": "stdout",
     "output_type": "stream",
     "text": [
      "/net/storage001.ib.cluster/om2/user/smadan/redner/pyredner/__init__.py\n",
      "/net/storage001.ib.cluster/om2/user/smadan/training_scaffold_own/res/loader/multi_attribute_loader.py\n",
      "/net/storage001.ib.cluster/om2/user/smadan/training_scaffold_own/res/loader\n",
      "/net/storage001.ib.cluster/om2/user/smadan/training_scaffold_own/res/loader/loader.py\n",
      "/net/storage001.ib.cluster/om2/user/smadan/training_scaffold_own/res/loader\n",
      "Key is: rN3MhUtORei6kkH1\n"
     ]
    }
   ],
   "source": [
    "import seaborn as sns\n",
    "import numpy as np\n",
    "import matplotlib.pyplot as plt\n",
    "import matplotlib.animation as animation\n",
    "from IPython.display import HTML, Javascript\n",
    "\n",
    "\n",
    "sns.set_style('darkgrid')\n",
    "\n",
    "import sys\n",
    "sys.path.append('../inverse_rendering/')\n",
    "from general_imports import *\n",
    "from tqdm import tqdm as tqdm_file\n",
    "import argparse\n",
    "import string\n",
    "import random\n",
    "\n",
    "\n",
    "from numpy import asarray\n",
    "from numpy import exp\n",
    "from numpy import sqrt\n",
    "from numpy import cos\n",
    "from numpy import e\n",
    "from numpy import pi\n",
    "from numpy import argsort\n",
    "from numpy.random import randn\n",
    "from numpy.random import rand\n",
    "from numpy.random import seed\n",
    "\n",
    "alphanumeric_key = ''.join(random.choices(string.ascii_letters + string.digits, k=16))\n",
    "print(\"Key is: %s\"%alphanumeric_key)\n",
    "\n",
    "class Jupyter_Argparse:\n",
    "    def __init__(self, model_file, pickle_file):\n",
    "        self.models_pickle_file_name = models_pickle_file_name\n",
    "        self.model_file_name = model_file_name"
   ]
  },
  {
   "cell_type": "code",
   "execution_count": 2,
   "id": "narrative-pledge",
   "metadata": {},
   "outputs": [],
   "source": [
    "import cma"
   ]
  },
  {
   "cell_type": "code",
   "execution_count": 11,
   "id": "caroline-western",
   "metadata": {},
   "outputs": [],
   "source": [
    "# model_file_name = \"resnet\""
   ]
  },
  {
   "cell_type": "code",
   "execution_count": 17,
   "id": "clean-columbus",
   "metadata": {},
   "outputs": [],
   "source": [
    "# model_file_name = \"resnet18_antialiased_v7_40_normalized_final.pt\"\n",
    "model_file_name = \"resnet18_v7_40.pt\"\n",
    "models_pickle_file_name = \"categories_10_models_10.pkl\"\n",
    "args = Jupyter_Argparse(model_file_name, models_pickle_file_name)\n",
    "# parser.add_argument('--model_file_name', type = str, required = True)\n",
    "# parser.add_argument('--models_pickle_file_name', type = str, required = True)\n",
    "# args = parser.parse_args()\n",
    "\n",
    "# DATASET_NAME = args.dataset_name\n",
    "MODEL_FILE_NAME = args.model_file_name\n",
    "SAVE_FOLDER_NAME = MODEL_FILE_NAME.split('.pt')[0]\n",
    "MODELS_PICKLE_FILE_NAME = args.models_pickle_file_name"
   ]
  },
  {
   "cell_type": "code",
   "execution_count": 19,
   "id": "alien-myrtle",
   "metadata": {},
   "outputs": [],
   "source": [
    "##### Load Model #####\n",
    "model_path = '../training_models/saved_models/%s'%MODEL_FILE_NAME\n",
    "\n",
    "# model_path = '../training_models/saved_models/resnet18_antialiased_v7_normalized_final.pt'\n",
    "# model_path = '../training_models/saved_models/resnet18_v7_subsampled_normalized_final.pt'\n",
    "# model_path = '../training_models/saved_models/resnet18_v7_places_normalized.pt'\n",
    "# model_path = '../training_models/saved_models/resnet18_v7_40_final.pt'\n",
    "# model_path = '../training_models/saved_models/resnet18_v7_truly_shift_invariant_normalized_final.pt'\n",
    "loaded_model = torch.load(model_path)\n",
    "softmax_layer = nn.Softmax()\n",
    "\n",
    "#### Load Shapenet Category etc. ####\n",
    "with open('../training_models/shapenet_class_num_to_class_name.p','rb') as F:\n",
    "    shapenet_class_num_to_class_name = pickle.load(F)\n",
    "with open('../training_models/shapenet_id_to_class_num.p','rb') as F:\n",
    "    shapenet_id_to_class_num = pickle.load(F)\n",
    "\n",
    "##### Randomization Functions ######\n",
    "\n",
    "RADIUS_MIN = 8.0\n",
    "RADIUS_MAX = 14.0\n",
    "MIN_NUM_LIGHTS = 1\n",
    "MAX_NUM_LIGHTS = 4\n",
    "\n",
    "RADIUS_MIN_CAM = 1.0\n",
    "RADIUS_MAX_CAM = 5.0"
   ]
  },
  {
   "cell_type": "code",
   "execution_count": 20,
   "id": "noted-karen",
   "metadata": {},
   "outputs": [],
   "source": [
    "def generate_uniform_on_sphere(num_points, radius):\n",
    "    points = []\n",
    "    for i in range(num_points):\n",
    "        X = np.random.normal()\n",
    "        Y = np.random.normal()\n",
    "        Z = np.random.normal()\n",
    "\n",
    "        vector = np.array([X,Y,Z])\n",
    "        point = list(radius*vector/np.linalg.norm(vector))\n",
    "        points.append(point)\n",
    "    return points\n",
    "def get_cam_position(radius_min, radius_max):\n",
    "    random_radius = random.uniform(radius_min, radius_max)\n",
    "    cam_point = generate_uniform_on_sphere(1, random_radius)[0]\n",
    "    cam_point = torch.tensor(cam_point).float()\n",
    "\n",
    "    return cam_point\n",
    "def get_positions(min_num_lights, max_num_lights, radius_min, radius_max):\n",
    "    num_lights = random.choice(range(min_num_lights, max_num_lights + 1))\n",
    "    light_positions = []\n",
    "\n",
    "    for num in range(num_lights):\n",
    "        random_radius = random.uniform(radius_min, radius_max)\n",
    "        light_point = generate_uniform_on_sphere(1, random_radius)[0]\n",
    "        light_point = torch.tensor(light_point).float()\n",
    "        light_positions.append(light_point)\n",
    "\n",
    "    return light_positions\n",
    "def get_random_intensity():\n",
    "    light_intensity = torch.tensor([random.uniform(0,1), \\\n",
    "                                    random.uniform(0,1), random.uniform(0,1)]).float()\n",
    "    return light_intensity\n",
    "def get_random_reflectance():\n",
    "    specular_reflectance = torch.tensor([random.uniform(0,1), \\\n",
    "                                    random.uniform(0,1), random.uniform(0,1)], device = pyredner.get_device()).float()\n",
    "    return specular_reflectance\n",
    "def get_random_look_at(radius):\n",
    "    K = 0.3\n",
    "    look_at = torch.tensor([random.uniform(0,K*radius), random.uniform(0,K*radius), random.uniform(0,K*radius)]).float()\n",
    "    return look_at\n",
    "def get_random_scene_params(model_file):\n",
    "    ### Random Camera Settings ###\n",
    "    camera_position = get_cam_position(RADIUS_MIN_CAM, RADIUS_MAX_CAM)\n",
    "    cam_radius = torch.sqrt(camera_position[0]**2 + camera_position[1]**2 + camera_position[2]**2).item()\n",
    "    cam_look_at = get_random_look_at(cam_radius)\n",
    "    fov = torch.tensor(random.uniform(35,100))\n",
    "    cam_up = torch.tensor([random.uniform(-1,1), random.uniform(-1,1), random.uniform(-1,1)])\n",
    "    initial_camera_params = {'camera_position': camera_position,\n",
    "                             'cam_look_at': cam_look_at,\n",
    "                             'fov': fov,\n",
    "                             'cam_up': cam_up}\n",
    "\n",
    "\n",
    "    ### Random Light Settings ###\n",
    "    all_light_positions = get_positions(MIN_NUM_LIGHTS, MAX_NUM_LIGHTS, RADIUS_MIN, RADIUS_MAX)\n",
    "    all_light_look_ats = [get_random_look_at(cam_radius) for i in all_light_positions]\n",
    "    all_light_intensities = [get_random_intensity() for i in all_light_positions]\n",
    "    all_light_sizes = [torch.tensor([random.uniform(0.1,5.0), random.uniform(0.1, 5.0)]) for i in all_light_positions]\n",
    "    initial_light_params = {'all_light_positions': all_light_positions,\n",
    "                            'all_light_look_ats': all_light_look_ats,\n",
    "                            'all_light_intensities': all_light_intensities,\n",
    "                            'all_light_sizes': all_light_sizes}\n",
    "\n",
    "    #### Material ####\n",
    "    diffuse_material = pyredner.Material(diffuse_reflectance = torch.tensor([1.0, 1.0, 1.0], \\\n",
    "                                        device='cuda:0'), two_sided = True)\n",
    "    material_settings = {'diffuse_material':diffuse_material}\n",
    "\n",
    "    scene_params = [model_file, initial_camera_params, initial_light_params, material_settings]\n",
    "    return scene_params\n",
    "def show_inputs(inp, save_path = False, title='No Title'):\n",
    "    plt.imshow(inp[0].cpu().permute(1,2,0).int())\n",
    "    plt.title(title)\n",
    "    plt.axis('off')\n",
    "    if save_path != False:\n",
    "        plt.savefig(save_path)\n",
    "    else:\n",
    "        plt.show()\n",
    "def render_input(scene):\n",
    "    img = pyredner.render_pathtracing(scene = scene, num_samples = 256, seed = 1, use_secondary_edge_sampling = False)\n",
    "    img = torch.clamp(img, min = 0.00000001)\n",
    "    img = torch.pow(img, 1.0/2.2)\n",
    "    img = img*255/torch.max(img)\n",
    "    inputs = img.permute(2,0,1).unsqueeze(0)\n",
    "    return inputs\n",
    "def spherical_to_cartesian(r,theta,phi):\n",
    "    theta_rad = theta*3.14/180\n",
    "    phi_rad = phi*3.14/180\n",
    "\n",
    "    x = r * torch.sin(phi_rad) * torch.cos(theta_rad)\n",
    "    y = r * torch.sin(phi_rad) * torch.sin(theta_rad)\n",
    "    z = r * torch.cos(phi_rad)\n",
    "    out =  torch.stack([x,y,z])\n",
    "    return out\n",
    "def load_geometry(model_file, geometry, mat):\n",
    "    if geometry:\n",
    "        obj_model_all = model_file\n",
    "        obj_model = [i for i in obj_model_all if len(i.vertices)>0]\n",
    "    else:\n",
    "        obj_model_all = pyredner.load_obj(model_file, return_objects=True)\n",
    "        obj_model = [i for i in obj_model_all if len(i.vertices)>0]\n",
    "\n",
    "    for part in obj_model:\n",
    "        part.material = mat\n",
    "\n",
    "    return obj_model\n",
    "def optimize_flags(obj):\n",
    "    if type(obj) == list:\n",
    "        for o in obj:\n",
    "            o.requires_grad = True\n",
    "    else:\n",
    "        obj.requires_grad = True\n",
    "    return obj\n",
    "def setup_scene(scene_params):\n",
    "\n",
    "    model_file, camera_params, light_params, material_settings = scene_params\n",
    "    obj_model = load_geometry(model_file, False, material_settings['diffuse_material'])\n",
    "\n",
    "    #### Camera Setup ####\n",
    "    scene_cam = pyredner.automatic_camera_placement(obj_model, resolution = (224, 224),\n",
    "                                                   fov = torch.tensor([camera_params['fov']]),\n",
    "                                                   up = camera_params['cam_up'],\n",
    "                                                   look_at = camera_params['cam_look_at'])\n",
    "    scene_cam.position = camera_params['camera_position']\n",
    "\n",
    "    #### Lights Setup ####\n",
    "    scene_lights = []\n",
    "    num_lights = len(light_params['all_light_positions'])\n",
    "    for i in range(num_lights):\n",
    "        scene_light = pyredner.generate_quad_light(position = light_params['all_light_positions'][i],\n",
    "                                     look_at = light_params['all_light_look_ats'][i],\n",
    "                                     size = light_params['all_light_sizes'][i],\n",
    "                                     intensity = light_params['all_light_intensities'][i],\n",
    "                                     directly_visible = False)\n",
    "        scene_lights.append(scene_light)\n",
    "\n",
    "    all_objects = obj_model + scene_lights\n",
    "    scene = pyredner.Scene(objects = all_objects, camera = scene_cam)\n",
    "\n",
    "    return scene\n",
    "def start_up(scene_params, optimized_params):\n",
    "    model_file, camera_params, light_params, material_settings = scene_params\n",
    "    variables = []\n",
    "    var_names_list = []\n",
    "    for param in optimized_params:\n",
    "        if param in camera_params.keys():\n",
    "            optimize_flags(camera_params[param])\n",
    "            if type(camera_params[param]) == list:\n",
    "                variables.extend(camera_params[param])\n",
    "            else:\n",
    "                variables.append(camera_params[param])\n",
    "        elif param in light_params.keys():\n",
    "            optimize_flags(light_params[param])\n",
    "            if type(light_params[param]) == list:\n",
    "                variables.extend(light_params[param])\n",
    "            else:\n",
    "                variables.append(light_params[param])\n",
    "\n",
    "    scene_params = [model_file, camera_params, light_params, material_settings]\n",
    "    scene = setup_scene(scene_params)\n",
    "\n",
    "    return scene, variables\n",
    "def get_random_3d_model():\n",
    "#     categories_10_models_10.pkl\n",
    "    model_files_pickle = '../rendering/shapenet_model_subsets/%s'%MODELS_PICKLE_FILE_NAME\n",
    "    with open(model_files_pickle, 'rb') as F:\n",
    "        model_files = pickle.load(F)\n",
    "    random_category = random.choice(list(model_files.keys()))\n",
    "    random_instance = random.choice(model_files[random_category]).split('/')[7]\n",
    "    model_file = '%s/ShapeNetCore.v2/%s/%s/models/model_normalized.obj'%(user_root_dir, random_category, random_instance)\n",
    "    print('Chosen model is a %s'%shapenet_class_num_to_class_name[shapenet_id_to_class_num[random_category]])\n",
    "    category_num = shapenet_id_to_class_num[random_category]\n",
    "    print('Category num is %s'%category_num)\n",
    "    return model_file, category_num, random_category, random_instance\n",
    "def perturbation_vector(factor_len, perturb_percent = 1):\n",
    "    if factor_len == 0:\n",
    "        factor_len = 1\n",
    "    vec = torch.tensor([random.uniform(-perturb_percent/100,perturb_percent/100) for i in range(factor_len)])\n",
    "    return 1 + vec\n",
    "def random_perturbed_params(scene_params, perturb_percent = 1):\n",
    "    new_scene_params = [0,0,0,0]\n",
    "    new_scene_params[0] = scene_params[0]\n",
    "\n",
    "    new_scene_params[1] = {}\n",
    "    for key in scene_params[1].keys():\n",
    "        new_scene_params[1][key] = scene_params[1][key].clone() * perturbation_vector(scene_params[1][key].dim(), perturb_percent)\n",
    "\n",
    "    new_scene_params[2] = {}\n",
    "    for key in scene_params[2].keys():\n",
    "        new_scene_params[2][key] = [i.clone() * perturbation_vector(i.dim(), perturb_percent) for i in scene_params[2][key]]\n",
    "\n",
    "    new_scene_params[3] = scene_params[3]\n",
    "    return new_scene_params\n",
    "def render_and_predict(scene_params, optimized_params):\n",
    "    scene, variables = start_up(scene_params, optimized_params)\n",
    "    inputs = render_input(scene)\n",
    "    inputs = inputs.cuda()\n",
    "    rendered_inputs = inputs.clone()\n",
    "    inputs = inputs/255.0\n",
    "    im_means = torch.mean(inputs).unsqueeze(0).unsqueeze(1).unsqueeze(1).unsqueeze(1)\n",
    "    im_stds = torch.std(inputs).unsqueeze(0).unsqueeze(1).unsqueeze(1).unsqueeze(1)\n",
    "    inputs_ = (inputs - im_means)/im_stds\n",
    "    outputs = softmax_layer(loaded_model(inputs_))\n",
    "    prediction = torch.argmax(outputs).item()\n",
    "    return prediction, rendered_inputs\n",
    "def create_folder(folder):\n",
    "    if not os.path.isdir(folder):\n",
    "        os.mkdir(folder)\n",
    "def clone_scene_params(scene_params):\n",
    "    original_scene_params = [0,0,0,0]\n",
    "    original_scene_params[0] = scene_params[0]\n",
    "\n",
    "    original_scene_params[1] = {}\n",
    "    for key in scene_params[1].keys():\n",
    "        original_scene_params[1][key] = scene_params[1][key].clone()\n",
    "\n",
    "    original_scene_params[2] = {}\n",
    "    for key in scene_params[2].keys():\n",
    "        original_scene_params[2][key] = [i.clone() for i in scene_params[2][key]]\n",
    "\n",
    "    original_scene_params[3] = scene_params[3]\n",
    "    return original_scene_params\n",
    "\n",
    "def plot_losses(losses):\n",
    "    plt.plot(losses, marker='o',color='green')\n",
    "    plt.title('Losses',fontsize=16)\n",
    "    plt.xticks(fontsize= 12)\n",
    "    plt.yticks(fontsize= 12)\n",
    "    plt.show()\n",
    "\n",
    "def check_in_range(scene_params):\n",
    "    if scene_params[0] == 0:\n",
    "        return False\n",
    "    cam_radius = torch.norm(scene_params[1]['camera_position'])\n",
    "    radius_check = RADIUS_MIN_CAM <= cam_radius <= RADIUS_MAX_CAM\n",
    "    look_at_check = torch.sum(scene_params[1]['cam_look_at'] < cam_radius*0.3).item() == 3\n",
    "    return radius_check and look_at_check\n",
    "\n",
    "def objective(scene_params, optimized_params, neuron_num = None):\n",
    "    scene, variables = start_up(scene_params, [])\n",
    "    inputs = render_input(scene)\n",
    "    inputs = inputs.cuda()\n",
    "    rendered_inputs = inputs.clone()\n",
    "    inputs = inputs/255.0\n",
    "    im_means = torch.mean(inputs).unsqueeze(0).unsqueeze(1).unsqueeze(1).unsqueeze(1)\n",
    "    im_stds = torch.std(inputs).unsqueeze(0).unsqueeze(1).unsqueeze(1).unsqueeze(1)\n",
    "    inputs_ = (inputs - im_means)/im_stds\n",
    "    outputs = shorter_model(inputs_)\n",
    "    if neuron_num is None:\n",
    "        selective_neurons = torch.argsort(outputs[0].view(512,-1).squeeze(1))[-1]\n",
    "        selected_act_firing = outputs[0].view(512,-1).squeeze(1)[selective_neurons]\n",
    "        return selective_neurons, selected_act_firing\n",
    "    else:\n",
    "        loss = torch.sum(outputs[0].view(512,-1).squeeze(1)[neuron_num]).item()\n",
    "    return loss\n",
    "\n",
    "\n",
    "\n",
    "def cma_objective_adversarial(x):\n",
    "    SCENE_PARAMS[1]['camera_position'] = torch.tensor(x[:3]).float()\n",
    "    SCENE_PARAMS[1]['cam_look_at'] = torch.tensor(x[3:6]).float()\n",
    "    SCENE_PARAMS[1]['cam_up'] = torch.tensor(x[6:9]/10).float()\n",
    "    SCENE_PARAMS[1]['fov'] = torch.tensor(x[9]*10).float()\n",
    "\n",
    "    scene, variables = start_up(SCENE_PARAMS, [])\n",
    "    inputs = render_input(scene)\n",
    "    inputs = inputs.cuda()\n",
    "    rendered_inputs = inputs.clone()\n",
    "    inputs = inputs/255.0\n",
    "    im_means = torch.mean(inputs).unsqueeze(0).unsqueeze(1).unsqueeze(1).unsqueeze(1)\n",
    "    im_stds = torch.std(inputs).unsqueeze(0).unsqueeze(1).unsqueeze(1).unsqueeze(1)\n",
    "    inputs_ = (inputs - im_means)/im_stds\n",
    "    outputs = loaded_model(inputs_)\n",
    "    probability = outputs[0][CATEGORY_NUM].item()\n",
    "    prediction = torch.argmax(outputs[0]).item()\n",
    "    return probability, prediction"
   ]
  },
  {
   "cell_type": "code",
   "execution_count": 21,
   "id": "spatial-maldives",
   "metadata": {
    "scrolled": true
   },
   "outputs": [
    {
     "name": "stdout",
     "output_type": "stream",
     "text": [
      "Chosen model is a pistol,handgun,side arm,shooting iron\n",
      "Category num is 8\n"
     ]
    },
    {
     "name": "stderr",
     "output_type": "stream",
     "text": [
      "/net/storage001.ib.cluster/om2/user/smadan/redner/pyredner/render_pytorch.py:214: UserWarning: Converting shape vertices from cpu to cuda:0, this can be inefficient.\n",
      "  warnings.warn('Converting shape vertices from {} to {}, this can be inefficient.'.format(shape.vertices.device, device))\n",
      "/net/storage001.ib.cluster/om2/user/smadan/redner/pyredner/render_pytorch.py:216: UserWarning: Converting shape indices from cpu to cuda:0, this can be inefficient.\n",
      "  warnings.warn('Converting shape indices from {} to {}, this can be inefficient.'.format(shape.indices.device, device))\n",
      "/net/storage001.ib.cluster/om2/user/smadan/redner/pyredner/render_pytorch.py:55: UserWarning: Converting texture from cpu to cuda:0, this can be inefficient.\n",
      "  warnings.warn('Converting texture from {} to {}, this can be inefficient.'.format(mipmap.device, device))\n",
      "<ipython-input-20-2ea991b462d3>:203: UserWarning: Implicit dimension choice for softmax has been deprecated. Change the call to include dim=X as an argument.\n",
      "  outputs = softmax_layer(loaded_model(inputs_))\n"
     ]
    },
    {
     "name": "stdout",
     "output_type": "stream",
     "text": [
      "Predictions are :[8, 8, 8, 8, 8, 8, 8, 8, 8, 8]\n",
      "Iterat #Fevals   function value  axis ratio  sigma  min&max std  t[m:s]\n",
      "    1     10 5.849511623382568e+00 1.0e+00 4.66e-02  4e-02  5e-02 0:10.6\n",
      "simple adversarial found\n",
      "Adversarial found, no jitter test, should stop now.\n",
      "simple adversarial found\n",
      "Adversarial found, no jitter test, should stop now.\n",
      "Predictions are :[8, 8, 8, 8, 4, 8, 8, 8, 8, 4]\n",
      "    2     20 4.083239555358887e+00 1.2e+00 4.93e-02  5e-02  6e-02 0:21.0\n",
      "Adversarial found, trying to stop.\n",
      "    2     20 4.083239555358887e+00 1.2e+00 4.93e-02  5e-02  6e-02 0:21.0\n",
      "termination by {}\n",
      "best f-value = 4.083239555358887\n",
      "solution = [ 0.29714155  0.41227582  3.57775385 -0.08052066  0.1713298   0.74682506\n",
      "  1.50521537  5.85727386  2.95687064  7.9224659 ]\n",
      "[8, 8, 8, 8, 4, 8, 8, 8, 8, 4]\n"
     ]
    }
   ],
   "source": [
    "model_file, category_num, category, instance = get_random_3d_model()\n",
    "optimized_params = []\n",
    "curr_pred = -1\n",
    "while curr_pred != category_num:\n",
    "    scene_params = get_random_scene_params(model_file)\n",
    "    original_scene_params = clone_scene_params(scene_params)\n",
    "    curr_pred, _ = render_and_predict(scene_params, [])\n",
    "\n",
    "\n",
    "cp = np.array(scene_params[1]['camera_position'])\n",
    "cat = np.array(scene_params[1]['cam_look_at'])\n",
    "cup = np.array(scene_params[1]['cam_up'])*10\n",
    "fov = np.array(scene_params[1]['fov'])/10\n",
    "start_pos = np.hstack([cp,cat,cup,fov])\n",
    "\n",
    "SCENE_PARAMS = clone_scene_params(scene_params)\n",
    "CATEGORY_NUM = category_num\n",
    "\n",
    "es = cma.CMAEvolutionStrategy(start_pos, 0.05)\n",
    "\n",
    "es.optimize(cma_objective_adversarial, verb_disp = True, iterations=15, correct_prediction = category_num)\n",
    "print(es.predictions)"
   ]
  },
  {
   "cell_type": "code",
   "execution_count": 54,
   "id": "spiritual-moral",
   "metadata": {},
   "outputs": [],
   "source": [
    "random_adversarial_id = np.where(np.array(es.predictions) != category_num)[0]\n",
    "\n",
    "random_adversarial_offspring = es.prediction_settings[random_adversarial_id[0]]\n",
    "\n",
    "N_dim = 10"
   ]
  },
  {
   "cell_type": "code",
   "execution_count": 55,
   "id": "obvious-covering",
   "metadata": {},
   "outputs": [],
   "source": [
    "from matplotlib import colors\n",
    "\n",
    "custom_cmap = colors.ListedColormap(['white', 'red'])\n",
    "bounds=[0,1]\n",
    "norm = colors.BoundaryNorm(bounds, custom_cmap.N)\n",
    "\n",
    "def perpendicular_vector(v):\n",
    "    random_vector = np.random.randn(N_dim)\n",
    "    orthogonal = random_vector - random_vector.dot(v)*v/np.linalg.norm(v)**2\n",
    "    orthogonal_normalized = orthogonal/np.linalg.norm(orthogonal) * np.linalg.norm(v)\n",
    "    return orthogonal_normalized\n",
    "\n",
    "def plot_church_window(start_point, adv_point):\n",
    "    adv_vector = adv_point - start_point\n",
    "    orthogonal_vector = perpendicular_vector(adv_vector)\n",
    "\n",
    "    ##### Collect Predictions ######\n",
    "    predictions = np.zeros((10,10))\n",
    "\n",
    "    row_num = 0\n",
    "    col_num = 0\n",
    "\n",
    "    for alpha in np.arange(0, 2.0, 0.2):\n",
    "        for beta in np.arange(0, 2.0, 0.2):\n",
    "            curr_point = start_point + beta*adv_vector + alpha*orthogonal_vector\n",
    "            curr_pred = cma_objective_adversarial(curr_point)[1]\n",
    "            if curr_pred == category_num:\n",
    "                curr_pred = 0\n",
    "            else:\n",
    "                curr_pred = 1\n",
    "            predictions[row_num][col_num] = curr_pred\n",
    "            col_num += 1\n",
    "        row_num += 1\n",
    "        col_num = 0\n",
    "    \n",
    "    return predictions\n",
    "\n",
    "def plot_predictions(predictions, save_name = False):\n",
    "    \n",
    "    #### Legends ####\n",
    "    plot_labels = []\n",
    "    for i in np.arange(0,2,0.2):\n",
    "        plot_labels.append(\"%.01f\"%i)\n",
    "    \n",
    "    ##### Plot ######\n",
    "    plt.imshow(predictions, cmap=custom_cmap)\n",
    "    plt.xlim([0, 9])\n",
    "    plt.ylim([0, 9])\n",
    "    plt.title('Church Window Plot')\n",
    "    plt.xticks(range(0,10), labels = plot_labels)\n",
    "    plt.yticks(range(0,10), labels = plot_labels)\n",
    "    plt.xlabel('Adversarial Direction')\n",
    "    plt.ylabel('Orthogonal Direction')\n",
    "    if save_name != False:\n",
    "        plt.savefig(save_name)\n",
    "    plt.show()"
   ]
  },
  {
   "cell_type": "code",
   "execution_count": 56,
   "id": "secret-professional",
   "metadata": {},
   "outputs": [],
   "source": [
    "alphanumeric_key = ''.join(random.choices(string.ascii_letters + string.digits, k=5))\n",
    "save_path = '/om5/user/smadan/differentiable_graphics_ml/other_optimization_methods/church_plots/'"
   ]
  },
  {
   "cell_type": "code",
   "execution_count": 57,
   "id": "german-spouse",
   "metadata": {},
   "outputs": [],
   "source": [
    "# PP_aggregate[5]"
   ]
  },
  {
   "cell_type": "code",
   "execution_count": 58,
   "id": "careful-advancement",
   "metadata": {},
   "outputs": [
    {
     "data": {
      "text/plain": [
       "array([0.44499965, 0.44789858, 3.49985623, 0.03328628, 0.13645783,\n",
       "       0.73106666, 1.40849725, 5.83320659, 2.98164006, 7.93035656])"
      ]
     },
     "execution_count": 58,
     "metadata": {},
     "output_type": "execute_result"
    }
   ],
   "source": [
    "random_adversarial_offspring"
   ]
  },
  {
   "cell_type": "code",
   "execution_count": 60,
   "id": "innocent-avatar",
   "metadata": {},
   "outputs": [],
   "source": [
    "from tqdm import tqdm"
   ]
  },
  {
   "cell_type": "code",
   "execution_count": 62,
   "id": "neither-purse",
   "metadata": {
    "scrolled": true
   },
   "outputs": [
    {
     "name": "stderr",
     "output_type": "stream",
     "text": [
      "100%|██████████| 5/5 [08:54<00:00, 106.85s/it]\n"
     ]
    }
   ],
   "source": [
    "PP_aggregate = np.zeros((5,10,10))\n",
    "for i in tqdm(range(5)):\n",
    "    PP = plot_church_window(start_pos, random_adversarial_offspring)\n",
    "    PP_aggregate[i] = PP"
   ]
  },
  {
   "cell_type": "code",
   "execution_count": 28,
   "id": "chief-hospital",
   "metadata": {},
   "outputs": [],
   "source": [
    "import scipy"
   ]
  },
  {
   "cell_type": "code",
   "execution_count": 51,
   "id": "israeli-reading",
   "metadata": {},
   "outputs": [
    {
     "data": {
      "text/plain": [
       "(5, 10, 10)"
      ]
     },
     "execution_count": 51,
     "metadata": {},
     "output_type": "execute_result"
    }
   ],
   "source": [
    "PP_aggregate.shape"
   ]
  },
  {
   "cell_type": "code",
   "execution_count": 29,
   "id": "fatty-figure",
   "metadata": {},
   "outputs": [
    {
     "data": {
      "image/png": "[encoded data removed]",
      "text/plain": [
       "<Figure size 432x288 with 1 Axes>"
      ]
     },
     "metadata": {},
     "output_type": "display_data"
    }
   ],
   "source": [
    "plot_predictions(scipy.stats.mode(PP_aggregate, axis=0)[0][0])"
   ]
  },
  {
   "cell_type": "code",
   "execution_count": 33,
   "id": "meaningful-narrative",
   "metadata": {},
   "outputs": [
    {
     "data": {
      "image/png": "[encoded data removed]",
      "text/plain": [
       "<Figure size 432x288 with 1 Axes>"
      ]
     },
     "metadata": {},
     "output_type": "display_data"
    }
   ],
   "source": [
    "# name = \"%s/%s_%s.png\"%(save_path, alphanumeric_key, i)\n",
    "plot_predictions(PP)"
   ]
  },
  {
   "cell_type": "code",
   "execution_count": 34,
   "id": "previous-bacteria",
   "metadata": {},
   "outputs": [],
   "source": [
    "# with open()"
   ]
  },
  {
   "cell_type": "code",
   "execution_count": 35,
   "id": "mexican-football",
   "metadata": {},
   "outputs": [],
   "source": [
    "# ##### Plot ######\n",
    "# plt.imshow(PP, cmap=custom_cmap)\n",
    "# plt.xlim([0, 10])\n",
    "# plt.ylim([0, 10])\n",
    "# plt.title('Church Window Plot')\n",
    "# plt.xticks(range(0,10), labels = plot_labels)\n",
    "# plt.yticks(range(0,10), labels = plot_labels)\n",
    "# plt.xlabel('Adversarial Direction')\n",
    "# plt.ylabel('Orthogonal Direction')\n",
    "# plt.show()"
   ]
  },
  {
   "cell_type": "code",
   "execution_count": 36,
   "id": "casual-nigeria",
   "metadata": {},
   "outputs": [],
   "source": [
    "from PIL import Image"
   ]
  },
  {
   "cell_type": "code",
   "execution_count": 40,
   "id": "vanilla-switch",
   "metadata": {},
   "outputs": [],
   "source": [
    "save_path = '/om5/user/smadan/differentiable_graphics_ml/other_optimization_methods/church_plots/'"
   ]
  },
  {
   "cell_type": "code",
   "execution_count": 41,
   "id": "helpful-storage",
   "metadata": {},
   "outputs": [
    {
     "data": {
      "text/plain": [
       "'/om5/user/smadan/differentiable_graphics_ml/other_optimization_methods/church_plots/'"
      ]
     },
     "execution_count": 41,
     "metadata": {},
     "output_type": "execute_result"
    }
   ],
   "source": [
    "save_path"
   ]
  },
  {
   "cell_type": "code",
   "execution_count": 42,
   "id": "southeast-guess",
   "metadata": {},
   "outputs": [],
   "source": [
    "import os"
   ]
  },
  {
   "cell_type": "code",
   "execution_count": 43,
   "id": "opponent-inquiry",
   "metadata": {},
   "outputs": [],
   "source": [
    "files = os.listdir(save_path)"
   ]
  },
  {
   "cell_type": "code",
   "execution_count": 44,
   "id": "automated-proposition",
   "metadata": {},
   "outputs": [],
   "source": [
    "all_reduced = np.zeros((5,210,210))\n",
    "count = 0\n",
    "for f in files:\n",
    "    if 'oBohs' in f:\n",
    "        full_path = \"%s/%s\"%(save_path, f)\n",
    "        image = np.array(Image.open(full_path))\n",
    "        reduced = image[45:255,110:320,1]\n",
    "        all_reduced[count] = reduced\n",
    "        count += 1"
   ]
  },
  {
   "cell_type": "code",
   "execution_count": 45,
   "id": "going-maintenance",
   "metadata": {},
   "outputs": [],
   "source": [
    "import scipy"
   ]
  },
  {
   "cell_type": "code",
   "execution_count": null,
   "id": "funky-combat",
   "metadata": {},
   "outputs": [],
   "source": []
  },
  {
   "cell_type": "code",
   "execution_count": 46,
   "id": "liable-devil",
   "metadata": {},
   "outputs": [],
   "source": [
    "A = scipy.stats.mode(all_reduced)"
   ]
  },
  {
   "cell_type": "code",
   "execution_count": 47,
   "id": "adequate-identification",
   "metadata": {},
   "outputs": [],
   "source": [
    "from matplotlib import colors\n",
    "\n",
    "custom_cmap = colors.ListedColormap(['white', 'red'])\n",
    "bounds=[0,1]\n",
    "norm = colors.BoundaryNorm(bounds, custom_cmap.N)"
   ]
  },
  {
   "cell_type": "code",
   "execution_count": 49,
   "id": "bronze-scout",
   "metadata": {},
   "outputs": [
    {
     "data": {
      "text/plain": [
       "Text(0, 0.5, 'Orthogonal Direction')"
      ]
     },
     "execution_count": 49,
     "metadata": {},
     "output_type": "execute_result"
    },
    {
     "data": {
      "image/png": "[encoded data removed]",
      "text/plain": [
       "<Figure size 432x288 with 1 Axes>"
      ]
     },
     "metadata": {},
     "output_type": "display_data"
    }
   ],
   "source": [
    "plt.imshow(A[0][0],cmap = 'gray')\n",
    "# plt.xlabel('adversarial direction')\n",
    "plt.title('Church Window Plot')\n",
    "plt.xticks(range(0,210,50), labels = [0,0.5,1,1.5,2])\n",
    "plt.yticks(range(0,210,50), labels = [2,1.5,1,0.5,0])\n",
    "plt.xlabel('Adversarial Direction')\n",
    "plt.ylabel('Orthogonal Direction')"
   ]
  },
  {
   "cell_type": "code",
   "execution_count": null,
   "id": "minute-tours",
   "metadata": {},
   "outputs": [],
   "source": []
  }
 ],
 "metadata": {
  "kernelspec": {
   "display_name": "diff_rendering_ml",
   "language": "python",
   "name": "diff_rendering_ml"
  },
  "language_info": {
   "codemirror_mode": {
    "name": "ipython",
    "version": 3
   },
   "file_extension": ".py",
   "mimetype": "text/x-python",
   "name": "python",
   "nbconvert_exporter": "python",
   "pygments_lexer": "ipython3",
   "version": "3.8.5"
  }
 },
 "nbformat": 4,
 "nbformat_minor": 5
}
