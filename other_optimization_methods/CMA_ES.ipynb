{
 "cells": [
  {
   "cell_type": "code",
   "execution_count": 1,
   "id": "average-automation",
   "metadata": {},
   "outputs": [],
   "source": [
    "import numpy as np\n",
    "from numpy import asarray\n",
    "from numpy import exp\n",
    "from numpy import sqrt\n",
    "from numpy import cos\n",
    "from numpy import e\n",
    "from numpy import pi\n",
    "from numpy import argsort\n",
    "from numpy.random import randn\n",
    "from numpy.random import rand\n",
    "from numpy.random import seed"
   ]
  },
  {
   "cell_type": "code",
   "execution_count": 2,
   "id": "attended-classroom",
   "metadata": {},
   "outputs": [],
   "source": [
    "def frosenbrock(x):\n",
    "    if x.shape[0] < 2:\n",
    "        print('Dimensions should be greater than 1')\n",
    "    A = 100 * np.sum((x[:-1]**2 - x[1:]**2)**2)\n",
    "    B = np.sum(x[:-1]-1)**2\n",
    "    \n",
    "    return A + B"
   ]
  },
  {
   "cell_type": "code",
   "execution_count": 3,
   "id": "wicked-suggestion",
   "metadata": {},
   "outputs": [],
   "source": [
    "def ackney(z):\n",
    "    x,y = z\n",
    "    return -20.0 * exp(-0.2 * sqrt(0.5 * (x**2 + y**2))) - exp(0.5 * (cos(2 * pi * x) + cos(2 * pi * y))) + e + 20\n"
   ]
  },
  {
   "cell_type": "code",
   "execution_count": 159,
   "id": "focal-spanish",
   "metadata": {},
   "outputs": [],
   "source": [
    "N = 20\n",
    "\n",
    "xmean = np.transpose(np.random.uniform(0,1, N))\n",
    "\n",
    "sigma = 0.2\n",
    "\n",
    "stopfitness = 1e-10\n",
    "\n",
    "stopeval = 100\n",
    "\n",
    "np.floor(1.2)\n",
    "\n",
    "lam = int(4 + np.floor(3*np.log(N)))\n",
    "\n",
    "\n",
    "mu = int(lam/2)\n",
    "\n",
    "weights = np.log(mu + 1/2) - np.log(np.arange(1,mu+1))\n",
    "\n",
    "weights = weights/np.sum(weights)\n",
    "\n",
    "mueff = np.sum(weights)**2/np.sum(weights**2)\n",
    "\n",
    "cc = (4 + mueff/N)/(N+4 + 2*mueff/N)\n",
    "\n",
    "cs = (mueff + 2)/(N + mueff + 5)\n",
    "\n",
    "c1 = 2/((N+1.3)**2 + mueff)\n",
    "\n",
    "cmu = min(1-c1, 2 * (mueff-2+1/mueff) / ((N+2)**2+mueff))\n",
    "\n",
    "damps = 1 + 2*max(0, np.sqrt((mueff-1)/(N+1))-1) + cs\n",
    "\n",
    "pc = np.zeros(N)\n",
    "ps = np.zeros(N)\n",
    "\n",
    "B = np.identity(N)\n",
    "\n",
    "D = np.ones(N).astype(float)\n",
    "\n",
    "C = B * np.diag(D**2) * np.transpose(B)\n",
    "\n",
    "invsqrtC = B * np.diag(D**-1) * np.transpose(B)\n",
    "\n",
    "eigeneval = 0\n",
    "\n",
    "chiN=(N**0.5)*(1-1/(4*N)+1/(21*N**2))"
   ]
  },
  {
   "cell_type": "code",
   "execution_count": 160,
   "id": "comparable-replacement",
   "metadata": {},
   "outputs": [],
   "source": [
    "# xmean + sigma * np.dot(B,(D*np.random.randn(N)))"
   ]
  },
  {
   "cell_type": "code",
   "execution_count": 161,
   "id": "paperback-turkish",
   "metadata": {},
   "outputs": [
    {
     "name": "stderr",
     "output_type": "stream",
     "text": [
      "<ipython-input-161-d5bf8d0dd171>:38: RuntimeWarning: invalid value encountered in sqrt\n",
      "  D = np.sqrt(np.diag(D))\n"
     ]
    },
    {
     "ename": "LinAlgError",
     "evalue": "Array must not contain infs or NaNs",
     "output_type": "error",
     "traceback": [
      "\u001b[0;31m---------------------------------------------------------------------------\u001b[0m",
      "\u001b[0;31mLinAlgError\u001b[0m                               Traceback (most recent call last)",
      "\u001b[0;32m<ipython-input-161-d5bf8d0dd171>\u001b[0m in \u001b[0;36m<module>\u001b[0;34m\u001b[0m\n\u001b[1;32m     35\u001b[0m         \u001b[0meigeneval\u001b[0m \u001b[0;34m=\u001b[0m \u001b[0mcounteval\u001b[0m\u001b[0;34m;\u001b[0m\u001b[0;34m\u001b[0m\u001b[0;34m\u001b[0m\u001b[0m\n\u001b[1;32m     36\u001b[0m         \u001b[0mC\u001b[0m \u001b[0;34m=\u001b[0m \u001b[0mnp\u001b[0m\u001b[0;34m.\u001b[0m\u001b[0mtriu\u001b[0m\u001b[0;34m(\u001b[0m\u001b[0mC\u001b[0m\u001b[0;34m)\u001b[0m \u001b[0;34m+\u001b[0m \u001b[0mnp\u001b[0m\u001b[0;34m.\u001b[0m\u001b[0mtranspose\u001b[0m\u001b[0;34m(\u001b[0m\u001b[0mnp\u001b[0m\u001b[0;34m.\u001b[0m\u001b[0mtriu\u001b[0m\u001b[0;34m(\u001b[0m\u001b[0mC\u001b[0m\u001b[0;34m,\u001b[0m\u001b[0;36m1\u001b[0m\u001b[0;34m)\u001b[0m\u001b[0;34m)\u001b[0m\u001b[0;34m\u001b[0m\u001b[0;34m\u001b[0m\u001b[0m\n\u001b[0;32m---> 37\u001b[0;31m         \u001b[0mB\u001b[0m\u001b[0;34m,\u001b[0m\u001b[0mD\u001b[0m \u001b[0;34m=\u001b[0m \u001b[0mnp\u001b[0m\u001b[0;34m.\u001b[0m\u001b[0mlinalg\u001b[0m\u001b[0;34m.\u001b[0m\u001b[0meig\u001b[0m\u001b[0;34m(\u001b[0m\u001b[0mC\u001b[0m\u001b[0;34m)\u001b[0m\u001b[0;34m\u001b[0m\u001b[0;34m\u001b[0m\u001b[0m\n\u001b[0m\u001b[1;32m     38\u001b[0m         \u001b[0mD\u001b[0m \u001b[0;34m=\u001b[0m \u001b[0mnp\u001b[0m\u001b[0;34m.\u001b[0m\u001b[0msqrt\u001b[0m\u001b[0;34m(\u001b[0m\u001b[0mnp\u001b[0m\u001b[0;34m.\u001b[0m\u001b[0mdiag\u001b[0m\u001b[0;34m(\u001b[0m\u001b[0mD\u001b[0m\u001b[0;34m)\u001b[0m\u001b[0;34m)\u001b[0m\u001b[0;34m\u001b[0m\u001b[0;34m\u001b[0m\u001b[0m\n\u001b[1;32m     39\u001b[0m         \u001b[0minvsqrtC\u001b[0m \u001b[0;34m=\u001b[0m \u001b[0mB\u001b[0m \u001b[0;34m*\u001b[0m \u001b[0mnp\u001b[0m\u001b[0;34m.\u001b[0m\u001b[0mdiag\u001b[0m\u001b[0;34m(\u001b[0m\u001b[0mD\u001b[0m\u001b[0;34m**\u001b[0m\u001b[0;34m-\u001b[0m\u001b[0;36m1\u001b[0m\u001b[0;34m)\u001b[0m \u001b[0;34m*\u001b[0m \u001b[0mnp\u001b[0m\u001b[0;34m.\u001b[0m\u001b[0mtranspose\u001b[0m\u001b[0;34m(\u001b[0m\u001b[0mB\u001b[0m\u001b[0;34m)\u001b[0m\u001b[0;34m\u001b[0m\u001b[0;34m\u001b[0m\u001b[0m\n",
      "\u001b[0;32m<__array_function__ internals>\u001b[0m in \u001b[0;36meig\u001b[0;34m(*args, **kwargs)\u001b[0m\n",
      "\u001b[0;32m/om5/user/smadan/miniconda3/envs/diff_rendering_ml/lib/python3.8/site-packages/numpy/linalg/linalg.py\u001b[0m in \u001b[0;36meig\u001b[0;34m(a)\u001b[0m\n\u001b[1;32m   1315\u001b[0m     \u001b[0m_assert_stacked_2d\u001b[0m\u001b[0;34m(\u001b[0m\u001b[0ma\u001b[0m\u001b[0;34m)\u001b[0m\u001b[0;34m\u001b[0m\u001b[0;34m\u001b[0m\u001b[0m\n\u001b[1;32m   1316\u001b[0m     \u001b[0m_assert_stacked_square\u001b[0m\u001b[0;34m(\u001b[0m\u001b[0ma\u001b[0m\u001b[0;34m)\u001b[0m\u001b[0;34m\u001b[0m\u001b[0;34m\u001b[0m\u001b[0m\n\u001b[0;32m-> 1317\u001b[0;31m     \u001b[0m_assert_finite\u001b[0m\u001b[0;34m(\u001b[0m\u001b[0ma\u001b[0m\u001b[0;34m)\u001b[0m\u001b[0;34m\u001b[0m\u001b[0;34m\u001b[0m\u001b[0m\n\u001b[0m\u001b[1;32m   1318\u001b[0m     \u001b[0mt\u001b[0m\u001b[0;34m,\u001b[0m \u001b[0mresult_t\u001b[0m \u001b[0;34m=\u001b[0m \u001b[0m_commonType\u001b[0m\u001b[0;34m(\u001b[0m\u001b[0ma\u001b[0m\u001b[0;34m)\u001b[0m\u001b[0;34m\u001b[0m\u001b[0;34m\u001b[0m\u001b[0m\n\u001b[1;32m   1319\u001b[0m \u001b[0;34m\u001b[0m\u001b[0m\n",
      "\u001b[0;32m/om5/user/smadan/miniconda3/envs/diff_rendering_ml/lib/python3.8/site-packages/numpy/linalg/linalg.py\u001b[0m in \u001b[0;36m_assert_finite\u001b[0;34m(*arrays)\u001b[0m\n\u001b[1;32m    206\u001b[0m     \u001b[0;32mfor\u001b[0m \u001b[0ma\u001b[0m \u001b[0;32min\u001b[0m \u001b[0marrays\u001b[0m\u001b[0;34m:\u001b[0m\u001b[0;34m\u001b[0m\u001b[0;34m\u001b[0m\u001b[0m\n\u001b[1;32m    207\u001b[0m         \u001b[0;32mif\u001b[0m \u001b[0;32mnot\u001b[0m \u001b[0misfinite\u001b[0m\u001b[0;34m(\u001b[0m\u001b[0ma\u001b[0m\u001b[0;34m)\u001b[0m\u001b[0;34m.\u001b[0m\u001b[0mall\u001b[0m\u001b[0;34m(\u001b[0m\u001b[0;34m)\u001b[0m\u001b[0;34m:\u001b[0m\u001b[0;34m\u001b[0m\u001b[0;34m\u001b[0m\u001b[0m\n\u001b[0;32m--> 208\u001b[0;31m             \u001b[0;32mraise\u001b[0m \u001b[0mLinAlgError\u001b[0m\u001b[0;34m(\u001b[0m\u001b[0;34m\"Array must not contain infs or NaNs\"\u001b[0m\u001b[0;34m)\u001b[0m\u001b[0;34m\u001b[0m\u001b[0;34m\u001b[0m\u001b[0m\n\u001b[0m\u001b[1;32m    209\u001b[0m \u001b[0;34m\u001b[0m\u001b[0m\n\u001b[1;32m    210\u001b[0m \u001b[0;32mdef\u001b[0m \u001b[0m_is_empty_2d\u001b[0m\u001b[0;34m(\u001b[0m\u001b[0marr\u001b[0m\u001b[0;34m)\u001b[0m\u001b[0;34m:\u001b[0m\u001b[0;34m\u001b[0m\u001b[0;34m\u001b[0m\u001b[0m\n",
      "\u001b[0;31mLinAlgError\u001b[0m: Array must not contain infs or NaNs"
     ]
    }
   ],
   "source": [
    "counteval = 0\n",
    "stopeval = 10000\n",
    "\n",
    "while counteval < stopeval:\n",
    "    arx = np.zeros((N, int(lam)))\n",
    "    arfitness = [0]*int(lam)\n",
    "    for k in range(int(lam)):\n",
    "        #### CHECK ####\n",
    "        arx[:,k] = xmean + sigma * np.dot(B,(D*np.random.randn(N)))\n",
    "        arfitness[k] = frosenbrock(arx[:,k])\n",
    "        counteval += 1\n",
    "       \n",
    "    arindex = np.argsort(arfitness)\n",
    "    arfitness = np.sort(arfitness)\n",
    "    xold = xmean\n",
    "    selected_ids = arindex[:mu]\n",
    "    \n",
    "    xmean = np.dot(arx[:,selected_ids], weights)\n",
    "    ps = (1-cs)*ps + np.sqrt(cs*(2-cs)*mueff) * np.dot(invsqrtC, (xmean-xold) / sigma)\n",
    "    hsig = np.linalg.norm(ps)/np.sqrt(1-(1-cs)**(2*counteval/lam))/chiN < 1.4 + 2/(N+1);\n",
    "    pc = (1-cc)*pc + hsig * sqrt(cc*(2-cc)*mueff) * (xmean-xold) / sigma;\n",
    "\n",
    "    xold_ = np.expand_dims(xold, 1)\n",
    "    artmp = (1/sigma) * (arx[:,selected_ids]-xold_)\n",
    "\n",
    "    C_1 = (1-c1-cmu) * C + c1 * (np.dot(pc, np.transpose(pc)) + (1-hsig) * cc*(2-cc) * C)\n",
    "    C_2 = np.dot(cmu * artmp, np.diag(weights))\n",
    "    C_3 = np.dot(C_2, np.transpose(artmp))\n",
    "\n",
    "    C = C_1 + C_3\n",
    "\n",
    "    sigma = sigma * exp((cs/damps)*(np.linalg.norm(ps)/chiN - 1));\n",
    "\n",
    "    if counteval - eigeneval > lam/(c1+cmu)/N/10:\n",
    "        eigeneval = counteval;\n",
    "        C = np.triu(C) + np.transpose(np.triu(C,1))\n",
    "        B,D = np.linalg.eig(C)\n",
    "        D = np.sqrt(np.diag(D))\n",
    "        invsqrtC = B * np.diag(D**-1) * np.transpose(B)\n",
    "\n",
    "    if arfitness[0] < stopfitness or np.max(D) > 1e7 * np.min(D):\n",
    "        break"
   ]
  },
  {
   "cell_type": "code",
   "execution_count": 162,
   "id": "offshore-harris",
   "metadata": {},
   "outputs": [
    {
     "data": {
      "text/plain": [
       "24"
      ]
     },
     "execution_count": 162,
     "metadata": {},
     "output_type": "execute_result"
    }
   ],
   "source": [
    "counteval"
   ]
  },
  {
   "cell_type": "code",
   "execution_count": 163,
   "id": "wrapped-winning",
   "metadata": {},
   "outputs": [],
   "source": [
    "import cma"
   ]
  },
  {
   "cell_type": "code",
   "execution_count": 167,
   "id": "premium-sequence",
   "metadata": {},
   "outputs": [
    {
     "data": {
      "text/plain": [
       "201.0"
      ]
     },
     "execution_count": 167,
     "metadata": {},
     "output_type": "execute_result"
    }
   ],
   "source": [
    "cma.ff.rosen(x)"
   ]
  },
  {
   "cell_type": "code",
   "execution_count": null,
   "id": "cardiac-precipitation",
   "metadata": {},
   "outputs": [],
   "source": [
    "es = cma.CMAEvolutionStrategy(starting_, 0.5)"
   ]
  },
  {
   "cell_type": "code",
   "execution_count": 172,
   "id": "optimum-warner",
   "metadata": {
    "scrolled": true
   },
   "outputs": [
    {
     "name": "stdout",
     "output_type": "stream",
     "text": [
      "(3_w,6)-aCMA-ES (mu_w=2.0,w_1=63%) in dimension 2 (seed=673695, Wed Mar 24 17:17:06 2021)\n",
      "Iterat #Fevals   function value  axis ratio  sigma  min&max std  t[m:s]\n",
      "    1      6 2.207939241731438e-02 1.0e+00 8.31e-03  7e-03  8e-03 0:00.0\n",
      "    2     12 1.063752926762973e-02 1.1e+00 7.26e-03  6e-03  6e-03 0:00.0\n",
      "    3     18 6.372981093321073e-03 1.1e+00 5.63e-03  4e-03  4e-03 0:00.0\n",
      "   86    516 5.488942633746774e-12 1.4e+00 1.66e-08  5e-12  7e-12 0:00.2\n",
      "termination on tolx=1e-11 (Wed Mar 24 17:17:06 2021)\n",
      "final/bestever f-value = 6.654233e-12 5.488943e-12\n",
      "incumbent solution: [2.202111955412035e-12, 8.285748001899764e-13]\n",
      "std deviation: [5.290905569180461e-12, 6.792004019175548e-12]\n"
     ]
    }
   ],
   "source": [
    "xopt, es = cma.fmin2(ackney, 2* [0], 0.01)"
   ]
  },
  {
   "cell_type": "code",
   "execution_count": null,
   "id": "dependent-queens",
   "metadata": {},
   "outputs": [],
   "source": []
  }
 ],
 "metadata": {
  "kernelspec": {
   "display_name": "diff_rendering_ml",
   "language": "python",
   "name": "diff_rendering_ml"
  },
  "language_info": {
   "codemirror_mode": {
    "name": "ipython",
    "version": 3
   },
   "file_extension": ".py",
   "mimetype": "text/x-python",
   "name": "python",
   "nbconvert_exporter": "python",
   "pygments_lexer": "ipython3",
   "version": "3.8.5"
  }
 },
 "nbformat": 4,
 "nbformat_minor": 5
}
