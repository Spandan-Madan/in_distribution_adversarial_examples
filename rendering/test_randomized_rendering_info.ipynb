{
 "cells": [
  {
   "cell_type": "code",
   "execution_count": 1,
   "id": "tested-reserve",
   "metadata": {},
   "outputs": [
    {
     "name": "stdout",
     "output_type": "stream",
     "text": [
      "PyRedner location: /net/storage001.ib.cluster/om2/user/smadan/redner/pyredner/__init__.py\n"
     ]
    }
   ],
   "source": [
    "import os\n",
    "\n",
    "import torch\n",
    "import torch.nn as nn\n",
    "from torch.autograd import Variable, grad\n",
    "from matplotlib.pyplot import imshow\n",
    "import matplotlib.pyplot as plt\n",
    "from torchvision import datasets, models, transforms\n",
    "import torch.nn as nn\n",
    "from PIL import Image\n",
    "import numpy as np\n",
    "import random\n",
    "from tqdm import tqdm\n",
    "\n",
    "import sys\n",
    "\n",
    "import pickle\n",
    "import argparse\n",
    "\n",
    "import random, string\n",
    "\n",
    "\n",
    "# In[2]:\n",
    "\n",
    "\n",
    "import os\n",
    "\n",
    "machine_path = os.getcwd()\n",
    "user_root_dir = '/'.join(machine_path.split('/')[:-2])\n",
    "sys.path.insert(0,'%s/redner/'%user_root_dir)\n",
    "import pyredner\n",
    "\n",
    "\n",
    "# In[3]:\n",
    "\n",
    "\n",
    "print('PyRedner location: %s'%pyredner.__file__)"
   ]
  },
  {
   "cell_type": "code",
   "execution_count": 2,
   "id": "cardiac-trick",
   "metadata": {},
   "outputs": [],
   "source": [
    "# parser = argparse.ArgumentParser()\n",
    "# parser.add_argument('--dataset_name', type = str, required = True)\n",
    "# parser.add_argument('--category', type = str, required = True)\n",
    "# parser.add_argument('--model_files_pickle_name', type = str, required = True)\n",
    "# args = parser.parse_args()\n",
    "\n",
    "# DATASET_NAME = args.dataset_name\n",
    "# MODEL_FILES_PICKLE_NAME = args.model_files_pickle_name\n",
    "# CATEGORY = args.category"
   ]
  },
  {
   "cell_type": "code",
   "execution_count": 4,
   "id": "dress-result",
   "metadata": {},
   "outputs": [],
   "source": [
    "MODEL_FILES_PICKLE_NAME = 'categories_10_models_10.pkl'\n",
    "DATASET_NAME = 'train_v7_shapenet'"
   ]
  },
  {
   "cell_type": "code",
   "execution_count": 6,
   "id": "played-waterproof",
   "metadata": {},
   "outputs": [],
   "source": [
    "SHAPENET_DIR = '%s/ShapeNetCore.v2'%user_root_dir\n",
    "\n",
    "dataset_path = \"%s/differentiable_graphics_ml/data/%s\"%(user_root_dir, DATASET_NAME)\n",
    "model_files_pickle_path = '%s/differentiable_graphics_ml/rendering/shapenet_model_subsets/%s'%(user_root_dir, MODEL_FILES_PICKLE_NAME)\n",
    "\n",
    "def create_folder(folder_path):\n",
    "    if not os.path.isdir(folder_path):\n",
    "        print('Making new directory: %s'%folder_path)\n",
    "        os.mkdir(folder_path)"
   ]
  },
  {
   "cell_type": "code",
   "execution_count": 40,
   "id": "revised-difference",
   "metadata": {},
   "outputs": [],
   "source": [
    "problem_count = 0\n",
    "total_count = 0\n",
    "clean_files = []\n",
    "key_to_impath = {}\n",
    "for category in os.listdir(dataset_path)[2:]:\n",
    "    category_folder = \"%s/%s\"%(dataset_path, category)\n",
    "    if os.path.isdir(category_folder):\n",
    "        images_folder = '%s/images'%category_folder\n",
    "        random_info_file = \"%s/randomized_info_%s.p\"%(category_folder, category)\n",
    "        with open(random_info_file, 'rb') as F:\n",
    "            random_info = pickle.load(F)\n",
    "        image_paths = ['%s/%s'%(images_folder, i) for i in os.listdir(images_folder)]\n",
    "        file_keys = [i.split('/')[-1].split('.png')[0] for i in image_paths]\n",
    "        for i in range(len(file_keys)):\n",
    "            fk = file_keys[i]\n",
    "            imp = image_paths[i]\n",
    "            total_count += 1\n",
    "            if fk not in random_info.keys():\n",
    "                problem_count += 1\n",
    "            else:\n",
    "                clean_files.append(fk)\n",
    "                key_to_impath[fk] = imp\n",
    "        break"
   ]
  },
  {
   "cell_type": "code",
   "execution_count": 64,
   "id": "considered-lender",
   "metadata": {},
   "outputs": [],
   "source": [
    "with open(model_files_pickle_path, 'rb') as F:\n",
    "    model_files = pickle.load(F)"
   ]
  },
  {
   "cell_type": "code",
   "execution_count": 65,
   "id": "occasional-folks",
   "metadata": {},
   "outputs": [],
   "source": [
    "key = random.choice(list(key_to_impath.keys()))"
   ]
  },
  {
   "cell_type": "code",
   "execution_count": 66,
   "id": "informed-reality",
   "metadata": {},
   "outputs": [],
   "source": [
    "impath = key_to_impath[key]"
   ]
  },
  {
   "cell_type": "code",
   "execution_count": 67,
   "id": "incorporate-content",
   "metadata": {},
   "outputs": [],
   "source": [
    "info = random_info"
   ]
  },
  {
   "cell_type": "code",
   "execution_count": 68,
   "id": "descending-produce",
   "metadata": {},
   "outputs": [],
   "source": [
    "category, instance, random_key = key.split('_')"
   ]
  },
  {
   "cell_type": "code",
   "execution_count": 69,
   "id": "rough-kruger",
   "metadata": {},
   "outputs": [],
   "source": [
    "for f in model_files[category]:\n",
    "    if instance in f:\n",
    "        obj_path = f"
   ]
  },
  {
   "cell_type": "code",
   "execution_count": 70,
   "id": "current-friendship",
   "metadata": {},
   "outputs": [],
   "source": [
    "# if 'v5' in DATASET_NAME:\n",
    "#     all_light_positions, random_reflectance, camera_position, light_intensities = info[key]\n",
    "# if 'v7' in DATASET_NAME:\n",
    "#     all_light_positions, light_intensities, light_sizes, light_look_ats, camera_position, cam_look_at, fov, cam_up = info[key]"
   ]
  },
  {
   "cell_type": "code",
   "execution_count": 71,
   "id": "mediterranean-yield",
   "metadata": {
    "scrolled": true
   },
   "outputs": [],
   "source": [
    "# #### For v5 ######\n",
    "# obj_model_all = pyredner.load_obj(obj_path, return_objects=True)\n",
    "# obj_model = [i for i in obj_model_all if len(i.vertices)>0]\n",
    "# m = pyredner.Material(specular_reflectance =, two_sided = True)\n",
    "# for part in obj_model:\n",
    "#     part.material = m\n",
    "\n",
    "# scene_cam = pyredner.automatic_camera_placement(obj_model, resolution = (224, 224))\n",
    "# scene_cam.position = camera_position\n",
    "\n",
    "# scene_lights = []\n",
    "# for i in range(len(all_light_positions)):\n",
    "#     light_pos = all_light_positions[i]\n",
    "#     light_intensity = light_intensities[i]\n",
    "#     scene_light = pyredner.generate_quad_light(position = light_pos,\n",
    "#                                      look_at = torch.zeros(3),\n",
    "#                                      size = torch.tensor([0.5, 0.5]),\n",
    "#                                      intensity = light_intensity,\n",
    "#                                      directly_visible = False)\n",
    "#     light_intensities.append(light_intensity)\n",
    "#     scene_lights.append(scene_light)\n",
    "# all_objects = obj_model + scene_lights\n",
    "# scene = pyredner.Scene(objects = all_objects, camera = scene_cam)\n",
    "# img = pyredner.render_pathtracing(scene,num_samples=256,seed=1)\n",
    "# im = torch.pow(img.data, 1.0/2.2).cpu()\n",
    "# im = im*255/torch.max(im)\n",
    "\n",
    "# image = Image.fromarray(im.numpy().astype('uint8'))"
   ]
  },
  {
   "cell_type": "code",
   "execution_count": 72,
   "id": "established-functionality",
   "metadata": {},
   "outputs": [
    {
     "name": "stdout",
     "output_type": "stream",
     "text": [
      "Scene construction, time: 0.55229 s\n",
      "Forward pass, time: 1.28855 s\n"
     ]
    }
   ],
   "source": [
    "##### For v7 #####\n",
    "all_light_positions, light_intensities, light_sizes, light_look_ats, camera_position, cam_look_at, fov, cam_up = info[key]\n",
    "\n",
    "obj_model_all = pyredner.load_obj(obj_path, return_objects=True)\n",
    "obj_model = [i for i in obj_model_all if len(i.vertices)>0]\n",
    "m = pyredner.Material(diffuse_reflectance = torch.tensor([1.0, 1.0, 1.0]), \\\n",
    "                      two_sided = True)\n",
    "\n",
    "for part in obj_model:\n",
    "    part.material = m\n",
    "\n",
    "scene_cam = pyredner.automatic_camera_placement(obj_model, resolution = (224, 224))\n",
    "scene_cam.position = camera_position\n",
    "scene_cam.look_at = cam_look_at\n",
    "scene_cam.fov = fov\n",
    "scene_cam.up = cam_up\n",
    "\n",
    "scene_lights = []\n",
    "\n",
    "for i in range(len(all_light_positions)):\n",
    "    light_pos = all_light_positions[i]\n",
    "    light_look_at = light_look_ats[i]\n",
    "    light_intensity = light_intensities[i]\n",
    "    \n",
    "    light_size = light_sizes[i]\n",
    "\n",
    "    scene_light = pyredner.generate_quad_light(position = light_pos,\n",
    "                                     look_at = light_look_at,\n",
    "                                     size = light_size,\n",
    "                                     intensity = light_intensity,\n",
    "                                     directly_visible = False)\n",
    "\n",
    "    scene_lights.append(scene_light)\n",
    "\n",
    "\n",
    "all_objects = obj_model + scene_lights\n",
    "scene = pyredner.Scene(objects = all_objects, camera = scene_cam)\n",
    "img = pyredner.render_pathtracing(scene,num_samples=512,seed=1)\n",
    "im = torch.pow(img.data, 1.0/2.2).cpu()\n",
    "im = im*255/torch.max(im)\n",
    "\n",
    "image = Image.fromarray(im.numpy().astype('uint8'))"
   ]
  },
  {
   "cell_type": "code",
   "execution_count": 73,
   "id": "divine-bankruptcy",
   "metadata": {},
   "outputs": [
    {
     "data": {
      "image/png": "[encoded data removed]",
      "text/plain": [
       "<PIL.Image.Image image mode=RGB size=224x224 at 0x2B1E2D403CD0>"
      ]
     },
     "execution_count": 73,
     "metadata": {},
     "output_type": "execute_result"
    }
   ],
   "source": [
    "image"
   ]
  },
  {
   "cell_type": "code",
   "execution_count": 74,
   "id": "following-example",
   "metadata": {},
   "outputs": [
    {
     "data": {
      "image/png": "[encoded data removed]",
      "text/plain": [
       "<PIL.PngImagePlugin.PngImageFile image mode=RGB size=224x224 at 0x2B1E2D45C730>"
      ]
     },
     "execution_count": 74,
     "metadata": {},
     "output_type": "execute_result"
    }
   ],
   "source": [
    "Image.open(impath)"
   ]
  },
  {
   "cell_type": "code",
   "execution_count": 75,
   "id": "administrative-palmer",
   "metadata": {},
   "outputs": [],
   "source": [
    "# def render_from_random_indo(info, key):\n",
    "#     category, instance, random_key = key.split('_')\n",
    "#     all_light_positions, random_reflectance, camera_position, light_intensities = info[key]\n",
    "    \n",
    "#     all_light_positions = get_light_positions(MAX_NUM_LIGHTS, RADIUS_MIN, RADIUS_MAX)\n",
    "#     random_reflectance = get_random_reflectance()\n",
    "#     camera_position = get_light_positions(1, RADIUS_MIN_CAM, RADIUS_MAX_CAM)[0]\n",
    "    \n",
    "    \n",
    "#     obj_model_all = pyredner.load_obj(obj_path, return_objects=True)\n",
    "#     obj_model = [i for i in obj_model_all if len(i.vertices)>0]\n",
    "#     m = pyredner.Material(specular_reflectance = random_reflectance, two_sided = True)\n",
    "#     for part in obj_model:\n",
    "#         part.material = m\n",
    "    \n",
    "#     scene_cam = pyredner.automatic_camera_placement(obj_model, resolution = (224, 224))\n",
    "#     scene_cam.position = camera_position\n",
    "    \n",
    "#     scene_lights = []\n",
    "#     light_intensities = []\n",
    "#     for light_pos in all_light_positions:\n",
    "#         light_intensity = get_random_intensity()\n",
    "#         scene_light = pyredner.generate_quad_light(position = light_pos,\n",
    "#                                          look_at = torch.zeros(3),\n",
    "#                                          size = torch.tensor([0.5, 0.5]),\n",
    "#                                          intensity = light_intensity,\n",
    "#                                          directly_visible = False)\n",
    "#         light_intensities.append(light_intensity)\n",
    "#         scene_lights.append(scene_light)\n",
    "#     all_objects = obj_model + scene_lights\n",
    "#     scene = pyredner.Scene(objects = all_objects, camera = scene_cam)\n",
    "#     img = pyredner.render_pathtracing(scene,num_samples=256,seed=1)\n",
    "#     im = torch.pow(img.data, 1.0/2.2).cpu()\n",
    "#     im = im*255/torch.max(im)\n",
    "    \n",
    "#     image = Image.fromarray(im.numpy().astype('uint8'))\n",
    "    \n",
    "#     cat_key = model_file.split('/')[-4]\n",
    "#     inst_key = model_file.split('/')[-3]\n",
    "#     random_key = x = ''.join(random.choices(string.ascii_letters + string.digits, k=16))\n",
    "    \n",
    "#     image_key = \"%s_%s_%s\"%(cat_key, inst_key, random_key)\n",
    "#     random_info = [all_light_positions, random_reflectance, camera_position, light_intensities]\n",
    "    \n",
    "#     return image, image_key, random_info\n",
    "\n",
    "\n",
    "\n",
    "\n",
    "# with open(model_files_pickle_path, 'rb') as F:\n",
    "#     model_files = pickle.load(F)\n",
    "\n",
    "\n",
    "# RANDOMIZED_INFORMATION_CATEGORY = {}\n",
    "# total = 0\n",
    "# category = CATEGORY\n",
    "# category_dir = \"%s/%s\"%(SHAPENET_DIR, category)\n",
    "# category_path = \"%s/%s\"%(dataset_path, category)\n",
    "# create_folder(category_path)\n",
    "# images_folder = \"%s/images\"%category_path\n",
    "# create_folder(images_folder)\n",
    "# instance_model_files = model_files[category]\n",
    "# for model_file in instance_model_files:\n",
    "#     model_file = model_file.replace('/om5/user/smadan',user_root_dir)\n",
    "#     instance = model_file.split('/')[-3]\n",
    "#     for repeat in range(1000):\n",
    "#         rendered_im, im_name, random_info = render_shapenet_obj(model_file)\n",
    "#         RANDOMIZED_INFORMATION_CATEGORY[im_name] = random_info\n",
    "#         image_path = \"%s/%s.png\"%(images_folder, im_name)\n",
    "#         rendered_im.save(image_path)\n",
    "#         if total % 10 == 0:\n",
    "#             with open('%s/randomized_info_%s.p'%(category_path, category),'wb') as F:\n",
    "#                 pickle.dump(RANDOMIZED_INFORMATION_CATEGORY, F)\n",
    "#         total += 1"
   ]
  },
  {
   "cell_type": "code",
   "execution_count": null,
   "id": "synthetic-charger",
   "metadata": {},
   "outputs": [],
   "source": []
  }
 ],
 "metadata": {
  "kernelspec": {
   "display_name": "diff_rendering_ml",
   "language": "python",
   "name": "diff_rendering_ml"
  },
  "language_info": {
   "codemirror_mode": {
    "name": "ipython",
    "version": 3
   },
   "file_extension": ".py",
   "mimetype": "text/x-python",
   "name": "python",
   "nbconvert_exporter": "python",
   "pygments_lexer": "ipython3",
   "version": "3.8.5"
  }
 },
 "nbformat": 4,
 "nbformat_minor": 5
}
