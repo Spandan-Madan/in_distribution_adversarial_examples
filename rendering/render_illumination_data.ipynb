{
 "cells": [
  {
   "cell_type": "code",
   "execution_count": 1,
   "metadata": {},
   "outputs": [],
   "source": [
    "import os\n",
    "\n",
    "import torch\n",
    "import torch.nn as nn\n",
    "from torch.autograd import Variable, grad\n",
    "from matplotlib.pyplot import imshow\n",
    "import matplotlib.pyplot as plt\n",
    "from torchvision import datasets, models, transforms\n",
    "import torch.nn as nn\n",
    "from PIL import Image\n",
    "import numpy as np\n",
    "import random\n",
    "from tqdm import tqdm\n",
    "\n",
    "import sys\n",
    "\n",
    "import pickle\n",
    "import argparse"
   ]
  },
  {
   "cell_type": "code",
   "execution_count": 2,
   "metadata": {},
   "outputs": [],
   "source": [
    "import os\n",
    "\n",
    "machine_path = os.getcwd()\n",
    "user_root_dir = '/'.join(machine_path.split('/')[:-2])\n",
    "sys.path.insert(0,'%s/redner/'%user_root_dir)\n",
    "import pyredner"
   ]
  },
  {
   "cell_type": "code",
   "execution_count": 3,
   "metadata": {},
   "outputs": [
    {
     "name": "stdout",
     "output_type": "stream",
     "text": [
      "PyRedner location: /net/storage001.ib.cluster/om2/user/smadan/redner/pyredner/__init__.py\n"
     ]
    }
   ],
   "source": [
    "print('PyRedner location: %s'%pyredner.__file__)\n",
    "\n",
    "# parser = argparse.ArgumentParser()\n",
    "# parser.add_argument('--dataset_name', type = str, required = True)\n",
    "# parser.add_argument('--model_files_pickle_name', type = str, required = True)\n",
    "# args = parser.parse_args()\n",
    "\n",
    "# DATASET_NAME = args.dataset_name\n",
    "# MODEL_FILES_PICKLE_NAME = args.model_files_pickle_name\n",
    "\n",
    "DATASET_NAME = \"shapenet_illumination_and_camera_model\"\n",
    "MODEL_FILES_PICKLE_NAME = \"categories_10_models_10.pkl\"\n",
    "\n",
    "SHAPENET_DIR = '%s/ShapeNetCore.v2'%user_root_dir\n",
    "\n",
    "dataset_path = \"%s/differentiable_graphics_ml/data/%s\"%(user_root_dir, DATASET_NAME)\n",
    "model_files_pickle_path = '%s/differentiable_graphics_ml/rendering/shapenet_model_subsets/%s'%(user_root_dir, MODEL_FILES_PICKLE_NAME)\n",
    "\n",
    "if not os.path.isdir(dataset_path):\n",
    "    print('This is a new dataset, creating a new folder at: %s'%dataset_path)\n",
    "    os.mkdir(dataset_path)"
   ]
  },
  {
   "cell_type": "code",
   "execution_count": 4,
   "metadata": {},
   "outputs": [],
   "source": [
    "NUM_LIGHTS = 1"
   ]
  },
  {
   "cell_type": "code",
   "execution_count": 5,
   "metadata": {},
   "outputs": [],
   "source": [
    "def get_light_positions(pos, num_lights):\n",
    "    all_combinations = [[1,1,1],[-1,1,1],[1,-1,1],[1,1,-1],[1,-1,-1],[-1,1,-1],[-1,-1,1],[-1,-1,-1]]\n",
    "    x,y,z = pos[0],pos[1],pos[2]\n",
    "    if num_lights == 1:\n",
    "        return [pos]\n",
    "    else:\n",
    "        chosen_combs = random.sample(all_combinations, num_lights-1)\n",
    "\n",
    "        new_light_positions = [pos]\n",
    "        for comb in chosen_combs:\n",
    "            new_light_positions.append(torch.tensor([x*comb[0], y*comb[1], z*comb[2]]))\n",
    "        return new_light_positions\n",
    "\n",
    "def render_shapenet_obj(obj_path, camera_position, light_position, light_intensity, show_lights = False,render_seed = 1):\n",
    "    obj_model_all = pyredner.load_obj(obj_path, return_objects=True)\n",
    "    obj_model = [i for i in obj_model_all if len(i.vertices)>0]\n",
    "    m = pyredner.Material(diffuse_reflectance = torch.tensor((0.8, 0.8, 0.8), device = pyredner.get_device()))\n",
    "    for part in obj_model:\n",
    "        part.material = m\n",
    "\n",
    "    scene_cam = pyredner.automatic_camera_placement(obj_model, resolution = (224, 224))\n",
    "    scene_cam.position = camera_position\n",
    "    \n",
    "    all_light_positions = get_light_positions(light_position, NUM_LIGHTS)\n",
    "    scene_lights = []\n",
    "    \n",
    "    for l_pos in all_light_positions:\n",
    "        scene_light = pyredner.generate_quad_light(position = l_pos,\n",
    "                                         look_at = torch.zeros(3),\n",
    "                                         size = torch.tensor([0.5, 0.5]),\n",
    "                                         intensity = light_intensity,\n",
    "                                         directly_visible = show_lights)\n",
    "        scene_lights.append(scene_light)\n",
    "        \n",
    "    all_objects = obj_model + scene_lights\n",
    "    scene = pyredner.Scene(objects = all_objects, camera = scene_cam)\n",
    "    img = pyredner.render_pathtracing(scene,num_samples=256,seed=render_seed)\n",
    "    im = torch.pow(img.data, 1.0/2.2).cpu()\n",
    "    im = im*255/torch.max(im)\n",
    "    image = Image.fromarray(im.numpy().astype('uint8'))\n",
    "    return image, torch.sum(im)"
   ]
  },
  {
   "cell_type": "code",
   "execution_count": null,
   "metadata": {},
   "outputs": [],
   "source": []
  },
  {
   "cell_type": "code",
   "execution_count": 15,
   "metadata": {},
   "outputs": [],
   "source": [
    "# def render_shapenet_obj_non_stochastic(obj_path, camera_position, all_light_positions, light_intensity, show_lights = False,render_seed = 1):\n",
    "#     obj_model_all = pyredner.load_obj(obj_path, return_objects=True)\n",
    "#     obj_model = [i for i in obj_model_all if len(i.vertices)>0]\n",
    "#     m = pyredner.Material(diffuse_reflectance = torch.tensor((0.8, 0.8, 0.8), device = pyredner.get_device()))\n",
    "#     for part in obj_model:\n",
    "#         part.material = m\n",
    "\n",
    "#     scene_cam = pyredner.automatic_camera_placement(obj_model, resolution = (512, 512))\n",
    "#     scene_cam.position = camera_position\n",
    "\n",
    "#     scene_lights = []\n",
    "\n",
    "#     for l_pos in all_light_positions:\n",
    "#         scene_light = pyredner.generate_quad_light(position = l_pos,\n",
    "#                                          look_at = torch.zeros(3),\n",
    "#                                          size = torch.tensor([0.5, 0.5]),\n",
    "#                                          intensity = light_intensity,\n",
    "#                                          directly_visible = show_lights)\n",
    "#         scene_lights.append(scene_light)\n",
    "\n",
    "#     all_objects = obj_model + scene_lights\n",
    "#     scene = pyredner.Scene(objects = all_objects, camera = scene_cam)\n",
    "#     img = pyredner.render_pathtracing(scene,num_samples=256,seed=render_seed)\n",
    "#     im = torch.pow(img.data, 1.0/2.2).cpu()\n",
    "#     im = im*255/torch.max(im)\n",
    "#     image = Image.fromarray(im.numpy().astype('uint8'))\n",
    "#     return image, im\n",
    "\n",
    "# def generate_spherical_light_points(num_steps = 10, radius = 1):\n",
    "#     xs = np.linspace(-1,1,num_steps)\n",
    "#     ys = np.linspace(-1,1,num_steps)\n",
    "#     zs = np.zeros((num_steps,num_steps))\n",
    "#     zs_2 = np.zeros((num_steps,num_steps))\n",
    "\n",
    "#     all_points = []\n",
    "\n",
    "#     for i in range(len(xs)):\n",
    "#         x_val = xs[i]\n",
    "#         for j in range(len(ys)):\n",
    "#             y_val = ys[j]\n",
    "#             z_squared = 1 - x_val**2 - y_val**2\n",
    "\n",
    "#             if z_squared < 0 :\n",
    "#                 zs[i,j] = 0\n",
    "#             else:\n",
    "#                 zs[i,j] = np.sqrt(z_squared)\n",
    "#                 zs_2[i,j] = -np.sqrt(z_squared)\n",
    "\n",
    "#                 point_1 = [radius * x_val, radius * y_val, radius * zs[i,j]]\n",
    "#                 point_2 = [radius * x_val, radius * y_val, radius * zs_2[i,j]]\n",
    "                \n",
    "# #                 if point_1[0] > 1 and point_1[1] > 1 and point_1[2] > 1:\n",
    "#                 all_points.append(point_1)\n",
    "                \n",
    "#                 if zs[i,j] !=  0.0:\n",
    "#                     all_points.append(point_2)\n",
    "                    \n",
    "#     return all_points"
   ]
  },
  {
   "cell_type": "code",
   "execution_count": 33,
   "metadata": {},
   "outputs": [],
   "source": [
    "points = []\n",
    "for i in range(10000):\n",
    "    points.append(np.random.normal())"
   ]
  },
  {
   "cell_type": "code",
   "execution_count": 35,
   "metadata": {},
   "outputs": [
    {
     "data": {
      "image/png": "[encoded data removed]",
      "text/plain": [
       "<Figure size 432x288 with 1 Axes>"
      ]
     },
     "metadata": {
      "needs_background": "light"
     },
     "output_type": "display_data"
    }
   ],
   "source": [
    "plt.hist(points,bins=100)\n",
    "plt.show()"
   ]
  },
  {
   "cell_type": "code",
   "execution_count": 37,
   "metadata": {},
   "outputs": [],
   "source": []
  },
  {
   "cell_type": "code",
   "execution_count": 38,
   "metadata": {},
   "outputs": [
    {
     "data": {
      "text/plain": [
       "array([ 0.05935914, -0.20752042, -0.97642807])"
      ]
     },
     "execution_count": 38,
     "metadata": {},
     "output_type": "execute_result"
    }
   ],
   "source": [
    "point"
   ]
  },
  {
   "cell_type": "code",
   "execution_count": 46,
   "metadata": {},
   "outputs": [],
   "source": [
    "def generate_uniform_on_sphere(num_points, radius):\n",
    "    points = []\n",
    "    for i in range(num_points):\n",
    "        X = np.random.normal()\n",
    "        Y = np.random.normal()\n",
    "        Z = np.random.normal()\n",
    "\n",
    "        vector = np.array([X,Y,Z])\n",
    "        point = list(radius*vector/np.linalg.norm(vector))\n",
    "        points.append(point)\n",
    "    return points"
   ]
  },
  {
   "cell_type": "code",
   "execution_count": 47,
   "metadata": {},
   "outputs": [],
   "source": [
    "sampled_points = generate_uniform_on_sphere(20,2)"
   ]
  },
  {
   "cell_type": "code",
   "execution_count": 8,
   "metadata": {},
   "outputs": [],
   "source": [
    "# Simple scene setup\n",
    "# cam_pos = torch.tensor([1.0,1.0,1.0])\n",
    "light_intensity = torch.tensor([1.0,1.0,1.0])"
   ]
  },
  {
   "cell_type": "code",
   "execution_count": 9,
   "metadata": {},
   "outputs": [],
   "source": [
    "# light_poses = [[.5, .5, -0.5], [1,1,1],[0.5,1,2],[0.5,1,0.5],[2.5,3,0.5],[3,4,0.3],[0.4,1,2.5],[4,4,4],[8,1,0.5]]"
   ]
  },
  {
   "cell_type": "code",
   "execution_count": 10,
   "metadata": {},
   "outputs": [],
   "source": [
    "# model_files_pickle_path = '/om5/user/smadan/differentiable_graphics_ml/rendering/%s'%MODEL_FILES_PICKLE\n",
    "with open(model_files_pickle_path, 'rb') as F:\n",
    "    model_files = pickle.load(F)\n",
    "\n",
    "sphere_light_poses = generate_spherical_light_points(5, 3)"
   ]
  },
  {
   "cell_type": "code",
   "execution_count": 11,
   "metadata": {},
   "outputs": [],
   "source": [
    "# sphere_light_poses"
   ]
  },
  {
   "cell_type": "code",
   "execution_count": 12,
   "metadata": {},
   "outputs": [],
   "source": [
    "# cam_pos = torch.tensor([1.0,1.0,1.0])"
   ]
  },
  {
   "cell_type": "code",
   "execution_count": 13,
   "metadata": {},
   "outputs": [],
   "source": [
    "cam_pos_list = [[1.0,1.0,1.0],[0.0,1.0,1.414],[-1.0,1.0,1.0],[-1.414,1.0,0.0],\n",
    "            [-1.0,1.0,-1.0],[0.0,1.0,-1.414],[1.0,1.0,-1.0],[1.414,1.0,0.0]]"
   ]
  },
  {
   "cell_type": "code",
   "execution_count": 33,
   "metadata": {},
   "outputs": [
    {
     "data": {
      "text/plain": [
       "'/net/coxfs01/srv/export/coxfs01/pfister_lab2/share_root/Lab/spandan/differentiable_graphics_ml/data/shapenet_illumination_and_camera_model'"
      ]
     },
     "execution_count": 33,
     "metadata": {},
     "output_type": "execute_result"
    }
   ],
   "source": [
    "dataset_path"
   ]
  },
  {
   "cell_type": "code",
   "execution_count": 34,
   "metadata": {},
   "outputs": [
    {
     "data": {
      "text/plain": [
       "'/net/coxfs01/srv/export/coxfs01/pfister_lab2/share_root/Lab/spandan/differentiable_graphics_ml/data/shapenet_illumination_and_camera_model'"
      ]
     },
     "execution_count": 34,
     "metadata": {},
     "output_type": "execute_result"
    }
   ],
   "source": [
    "dataset_path"
   ]
  },
  {
   "cell_type": "code",
   "execution_count": 35,
   "metadata": {},
   "outputs": [
    {
     "data": {
      "text/plain": [
       "tensor([1., 1., 1.])"
      ]
     },
     "execution_count": 35,
     "metadata": {},
     "output_type": "execute_result"
    }
   ],
   "source": [
    "cam_pos"
   ]
  },
  {
   "cell_type": "code",
   "execution_count": 39,
   "metadata": {},
   "outputs": [],
   "source": [
    "# dataset_path"
   ]
  },
  {
   "cell_type": "code",
   "execution_count": 53,
   "metadata": {
    "scrolled": true
   },
   "outputs": [
    {
     "name": "stderr",
     "output_type": "stream",
     "text": [
      "100%|██████████| 10/10 [00:00<00:00, 18859.28it/s]\n",
      "100%|██████████| 10/10 [00:00<00:00, 19934.90it/s]\n",
      "100%|██████████| 10/10 [00:00<00:00, 37183.55it/s]\n",
      "100%|██████████| 10/10 [00:00<00:00, 39606.27it/s]\n",
      "100%|██████████| 10/10 [00:00<00:00, 31895.85it/s]\n",
      "100%|██████████| 10/10 [00:00<00:00, 42538.58it/s]\n",
      "100%|██████████| 10/10 [00:00<00:00, 42625.04it/s]\n",
      "100%|██████████| 10/10 [00:00<00:00, 44104.14it/s]\n",
      "100%|██████████| 10/10 [00:00<00:00, 43509.38it/s]\n",
      "100%|██████████| 10/10 [00:00<00:00, 47074.12it/s]\n",
      "100%|██████████| 10/10 [00:00<00:00, 46243.70it/s]\n"
     ]
    }
   ],
   "source": [
    "for category in sorted(model_files.keys()):\n",
    "    category_dir = \"%s/%s\"%(SHAPENET_DIR, category)\n",
    "    instance_model_files = model_files[category]\n",
    "    for model_file in instance_model_files:\n",
    "        model_file = model_file.replace('/om5/user/smadan',user_root_dir)\n",
    "        instance = model_file.split('/')[-3]\n",
    "        for cam_pos in cam_pos_list:\n",
    "            for lp in cam_pos_list:\n",
    "                cam_pos = torch.tensor(cam_pos)\n",
    "                light_pos_list = [3*i for i in lp]\n",
    "                light_pos = torch.tensor(light_pos_list).float()\n",
    "                rendered_im, im_sum = render_shapenet_obj(model_file, cam_pos, light_pos, light_intensity, False,render_seed=1)\n",
    "                image_name = \"%s/%s_%s_%.03f_%.03f_%.03f_%.03f_%.03f_%.03f.png\"%(dataset_path, category, instance, cam_pos[0].item(), cam_pos[1].item(), cam_pos[2].item(), light_pos[0].item(), light_pos[1].item(), light_pos[2].item())\n",
    "                rendered_im.save(image_name)"
   ]
  },
  {
   "cell_type": "code",
   "execution_count": 52,
   "metadata": {},
   "outputs": [],
   "source": [
    "# for category in sorted(model_files.keys()):\n",
    "#     category_dir = \"%s/%s\"%(SHAPENET_DIR, category)\n",
    "#     instance_model_files = model_files[category]\n",
    "#     for model_file in tqdm(instance_model_files):\n",
    "#         print(model_file)\n",
    "#         instance = model_file.split('/')[7]\n",
    "#         for lp in sphere_light_poses:\n",
    "#             light_pos = torch.tensor(lp).float()\n",
    "#             rendered_im, im_sum = render_shapenet_obj(model_file, cam_pos, light_pos, light_intensity, False,render_seed=1)\n",
    "#             image_name = \"%s/%s_%s_%.03f_%.03f_%.03f.png\"%(dataset_path, category, instance, light_pos[0].item(), light_pos[1].item(), light_pos[2].item())\n",
    "#             rendered_im.save(image_name)"
   ]
  }
 ],
 "metadata": {
  "kernelspec": {
   "display_name": "diff_rendering_ml",
   "language": "python",
   "name": "diff_rendering_ml"
  },
  "language_info": {
   "codemirror_mode": {
    "name": "ipython",
    "version": 3
   },
   "file_extension": ".py",
   "mimetype": "text/x-python",
   "name": "python",
   "nbconvert_exporter": "python",
   "pygments_lexer": "ipython3",
   "version": "3.8.5"
  }
 },
 "nbformat": 4,
 "nbformat_minor": 4
}
