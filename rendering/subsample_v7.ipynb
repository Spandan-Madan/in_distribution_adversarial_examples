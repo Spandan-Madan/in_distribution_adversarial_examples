{
 "cells": [
  {
   "cell_type": "code",
   "execution_count": 22,
   "id": "removable-track",
   "metadata": {},
   "outputs": [],
   "source": [
    "import os\n",
    "import pickle\n",
    "import random"
   ]
  },
  {
   "cell_type": "code",
   "execution_count": 2,
   "id": "thermal-apollo",
   "metadata": {},
   "outputs": [],
   "source": [
    "file_list_folder = '/om5/user/smadan/dataset_lists_openmind/'"
   ]
  },
  {
   "cell_type": "code",
   "execution_count": 10,
   "id": "standard-brown",
   "metadata": {},
   "outputs": [],
   "source": [
    "train_list_file = '%s/train_list_image_train_v7_shapenet.txt'%file_list_folder\n",
    "\n",
    "test_list_file = '%s/test_list_image_train_v7_shapenet.txt'%file_list_folder"
   ]
  },
  {
   "cell_type": "code",
   "execution_count": 12,
   "id": "liberal-miller",
   "metadata": {},
   "outputs": [],
   "source": [
    "with open(train_list_file, 'r') as F:\n",
    "    content = F.readlines()\n",
    "    train_files = [i.rstrip() for i in content]"
   ]
  },
  {
   "cell_type": "code",
   "execution_count": 13,
   "id": "imposed-springfield",
   "metadata": {},
   "outputs": [],
   "source": [
    "with open(test_list_file, 'r') as F:\n",
    "    content = F.readlines()\n",
    "    test_files = [i.rstrip() for i in content]"
   ]
  },
  {
   "cell_type": "code",
   "execution_count": 26,
   "id": "intermediate-automation",
   "metadata": {},
   "outputs": [],
   "source": [
    "models_list_file = '/om5/user/smadan/differentiable_graphics_ml/rendering/shapenet_model_subsets/categories_10_models_10.pkl'"
   ]
  },
  {
   "cell_type": "code",
   "execution_count": 27,
   "id": "valid-holiday",
   "metadata": {},
   "outputs": [],
   "source": [
    "sub_models_list_file = '/om5/user/smadan/differentiable_graphics_ml/rendering/shapenet_model_subsets/categories_10_models_4.pkl'"
   ]
  },
  {
   "cell_type": "code",
   "execution_count": 28,
   "id": "unavailable-bundle",
   "metadata": {},
   "outputs": [],
   "source": [
    "with open(models_list_file,'rb') as F:\n",
    "    model_files = pickle.load(F)"
   ]
  },
  {
   "cell_type": "code",
   "execution_count": 56,
   "id": "renewable-payroll",
   "metadata": {},
   "outputs": [],
   "source": [
    "sub_sampled_model_files = {}\n",
    "sub_sampled_instances = {}\n",
    "for key in model_files.keys():\n",
    "    category_models = model_files[key]\n",
    "    chosen = random.sample(category_models, 4)\n",
    "    chosen_instances = [i.split('/')[7] for i in chosen]\n",
    "    sub_sampled_model_files[key] = chosen\n",
    "    sub_sampled_instances[key] = chosen_instances"
   ]
  },
  {
   "cell_type": "code",
   "execution_count": 58,
   "id": "stock-investigation",
   "metadata": {
    "scrolled": true
   },
   "outputs": [],
   "source": [
    "with open(sub_models_list_file,'wb') as F:\n",
    "    pickle.dump(sub_sampled_model_files, F)"
   ]
  },
  {
   "cell_type": "code",
   "execution_count": 59,
   "id": "outer-plumbing",
   "metadata": {},
   "outputs": [],
   "source": [
    "new_train_files = []\n",
    "for tf in train_files:\n",
    "    category, instance, _ = tf.split('/')[11].split('_')\n",
    "    if instance in sub_sampled_instances[category]:\n",
    "        new_train_files.append(tf)"
   ]
  },
  {
   "cell_type": "code",
   "execution_count": 61,
   "id": "practical-grass",
   "metadata": {},
   "outputs": [],
   "source": [
    "new_test_files = []\n",
    "for tf in test_files:\n",
    "    category, instance, _ = tf.split('/')[11].split('_')\n",
    "    if instance in sub_sampled_instances[category]:\n",
    "        new_test_files.append(tf)"
   ]
  },
  {
   "cell_type": "code",
   "execution_count": 62,
   "id": "about-blackberry",
   "metadata": {},
   "outputs": [
    {
     "data": {
      "text/plain": [
       "90578"
      ]
     },
     "execution_count": 62,
     "metadata": {},
     "output_type": "execute_result"
    }
   ],
   "source": [
    "len(train_files)"
   ]
  },
  {
   "cell_type": "code",
   "execution_count": 63,
   "id": "behind-burke",
   "metadata": {},
   "outputs": [
    {
     "data": {
      "text/plain": [
       "36670"
      ]
     },
     "execution_count": 63,
     "metadata": {},
     "output_type": "execute_result"
    }
   ],
   "source": [
    "len(new_train_files)"
   ]
  },
  {
   "cell_type": "code",
   "execution_count": 64,
   "id": "lasting-musical",
   "metadata": {},
   "outputs": [
    {
     "data": {
      "text/plain": [
       "4141"
      ]
     },
     "execution_count": 64,
     "metadata": {},
     "output_type": "execute_result"
    }
   ],
   "source": [
    "len(new_test_files)"
   ]
  },
  {
   "cell_type": "code",
   "execution_count": 65,
   "id": "legal-trial",
   "metadata": {},
   "outputs": [
    {
     "data": {
      "text/plain": [
       "10063"
      ]
     },
     "execution_count": 65,
     "metadata": {},
     "output_type": "execute_result"
    }
   ],
   "source": [
    "len(test_files)"
   ]
  },
  {
   "cell_type": "code",
   "execution_count": 71,
   "id": "narrow-quebec",
   "metadata": {},
   "outputs": [],
   "source": [
    "new_train_list_file = '%s/train_list_image_train_v7_subsampled_shapenet.txt'%file_list_folder\n",
    "new_test_list_file = '%s/test_list_image_train_v7_subsampled_shapenet.txt'%file_list_folder"
   ]
  },
  {
   "cell_type": "code",
   "execution_count": 72,
   "id": "micro-thomson",
   "metadata": {},
   "outputs": [
    {
     "data": {
      "text/plain": [
       "'/om5/user/smadan/dataset_lists_openmind//test_list_image_train_v7_subsampled_shapenet.txt'"
      ]
     },
     "execution_count": 72,
     "metadata": {},
     "output_type": "execute_result"
    }
   ],
   "source": [
    "new_test_list_file"
   ]
  },
  {
   "cell_type": "code",
   "execution_count": 73,
   "id": "southeast-raleigh",
   "metadata": {},
   "outputs": [],
   "source": [
    "with open(new_train_list_file, 'w') as F:\n",
    "    for tf in new_train_files:\n",
    "        print(tf, file = F)"
   ]
  },
  {
   "cell_type": "code",
   "execution_count": 74,
   "id": "surrounded-franklin",
   "metadata": {},
   "outputs": [],
   "source": [
    "with open(new_test_list_file, 'w') as F:\n",
    "    for tf in new_test_files:\n",
    "        print(tf, file = F)"
   ]
  },
  {
   "cell_type": "code",
   "execution_count": null,
   "id": "existing-party",
   "metadata": {},
   "outputs": [],
   "source": []
  }
 ],
 "metadata": {
  "kernelspec": {
   "display_name": "diff_rendering_ml",
   "language": "python",
   "name": "diff_rendering_ml"
  },
  "language_info": {
   "codemirror_mode": {
    "name": "ipython",
    "version": 3
   },
   "file_extension": ".py",
   "mimetype": "text/x-python",
   "name": "python",
   "nbconvert_exporter": "python",
   "pygments_lexer": "ipython3",
   "version": "3.8.5"
  }
 },
 "nbformat": 4,
 "nbformat_minor": 5
}
