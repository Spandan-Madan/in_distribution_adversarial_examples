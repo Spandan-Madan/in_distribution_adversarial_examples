{
 "cells": [
  {
   "cell_type": "code",
   "execution_count": 1,
   "metadata": {},
   "outputs": [],
   "source": [
    "import os\n",
    "\n",
    "import torch\n",
    "import torch.nn as nn\n",
    "from torch.autograd import Variable, grad\n",
    "from matplotlib.pyplot import imshow\n",
    "import matplotlib.pyplot as plt\n",
    "from torchvision import datasets, models, transforms\n",
    "import torch.nn as nn\n",
    "from PIL import Image\n",
    "import numpy as np\n",
    "import random\n",
    "from tqdm import tqdm\n",
    "\n",
    "import sys\n",
    "\n",
    "import pickle\n",
    "import argparse\n",
    "\n",
    "import random, string"
   ]
  },
  {
   "cell_type": "code",
   "execution_count": 2,
   "metadata": {},
   "outputs": [],
   "source": [
    "import os\n",
    "\n",
    "machine_path = os.getcwd()\n",
    "user_root_dir = '/'.join(machine_path.split('/')[:-2])\n",
    "sys.path.insert(0,'%s/redner/'%user_root_dir)\n",
    "import pyredner"
   ]
  },
  {
   "cell_type": "code",
   "execution_count": 3,
   "metadata": {},
   "outputs": [
    {
     "name": "stdout",
     "output_type": "stream",
     "text": [
      "PyRedner location: /net/storage001.ib.cluster/om2/user/smadan/redner/pyredner/__init__.py\n"
     ]
    }
   ],
   "source": [
    "print('PyRedner location: %s'%pyredner.__file__)\n",
    "\n",
    "DATASET_NAME = \"train_v6_shapenet\"\n",
    "MODEL_FILES_PICKLE_NAME = \"categories_10_models_10.pkl\"\n",
    "\n",
    "SHAPENET_DIR = '%s/ShapeNetCore.v2'%user_root_dir\n",
    "\n",
    "dataset_path = \"%s/differentiable_graphics_ml/data/%s\"%(user_root_dir, DATASET_NAME)\n",
    "model_files_pickle_path = '%s/differentiable_graphics_ml/rendering/shapenet_model_subsets/%s'%(user_root_dir, MODEL_FILES_PICKLE_NAME)\n",
    "\n",
    "if not os.path.isdir(dataset_path):\n",
    "    print('This is a new dataset, creating a new folder at: %s'%dataset_path)\n",
    "    os.mkdir(dataset_path)"
   ]
  },
  {
   "cell_type": "code",
   "execution_count": 4,
   "metadata": {
    "tags": []
   },
   "outputs": [],
   "source": [
    "def generate_uniform_on_sphere(num_points, radius):\n",
    "    points = []\n",
    "    for i in range(num_points):\n",
    "        X = np.random.normal()\n",
    "        Y = np.random.normal()\n",
    "        Z = np.random.normal()\n",
    "\n",
    "        vector = np.array([X,Y,Z])\n",
    "        point = list(radius*vector/np.linalg.norm(vector))\n",
    "        points.append(point)\n",
    "    return points\n",
    "\n",
    "def get_cam_position(radius_min, radius_max):\n",
    "    cam_positions = []\n",
    "    random_radius = random.uniform(radius_min, radius_max)\n",
    "    cam_point = generate_uniform_on_sphere(1, random_radius)[0]\n",
    "    cam_point = torch.tensor(cam_point).float()\n",
    "    cam_positions.append(cam_point)\n",
    "    \n",
    "    return cam_positions\n",
    "\n",
    "def get_positions(min_num_lights, max_num_lights, radius_min, radius_max):\n",
    "    num_lights = random.choice(range(min_num_lights, max_num_lights + 1))\n",
    "    light_positions = []\n",
    "    \n",
    "    for num in range(num_lights):\n",
    "        random_radius = random.uniform(radius_min, radius_max)\n",
    "        light_point = generate_uniform_on_sphere(1, random_radius)[0]\n",
    "        light_point = torch.tensor(light_point).float()\n",
    "        light_positions.append(light_point)\n",
    "    \n",
    "    return light_positions\n",
    "\n",
    "def get_random_intensity():\n",
    "    light_intensity = torch.tensor([random.uniform(0,1), \\\n",
    "                                    random.uniform(0,1), random.uniform(0,1)]).float()\n",
    "    return light_intensity\n",
    "\n",
    "def get_random_reflectance():\n",
    "    specular_reflectance = torch.tensor([random.uniform(0,1), \\\n",
    "                                    random.uniform(0,1), random.uniform(0,1)], device = pyredner.get_device()).float()\n",
    "    return specular_reflectance\n",
    "\n",
    "def plane_object():\n",
    "    mat = pyredner.Material(diffuse_reflectance = get_random_reflectance(), two_sided = True)\n",
    "    \n",
    "    plane = pyredner.Object(vertices = torch.tensor([[-1.0,-1.0, 1.0],\n",
    "                                                 [-1.0, 1.0, 2.0],\n",
    "                                                 [ 1.0,-1.0, 2.0],\n",
    "                                                 [ 1.0, 1.0, 2.0]],\n",
    "                                                 device = pyredner.get_device()),\n",
    "                        indices = torch.tensor([[0, 1, 2],\n",
    "                                                [1, 3, 2]],\n",
    "                                               dtype = torch.int32,\n",
    "                                               device = pyredner.get_device()),\n",
    "                        uvs = torch.tensor([[0.05, 0.05],\n",
    "                                            [0.05, 0.95],\n",
    "                                            [0.95, 0.05],\n",
    "                                            [0.95, 0.95]], device = pyredner.get_device()),\n",
    "                        material = mat)\n",
    "    return plane"
   ]
  },
  {
   "cell_type": "code",
   "execution_count": 5,
   "metadata": {},
   "outputs": [],
   "source": [
    "def get_random_look_at(radius):\n",
    "    K = 0.3\n",
    "    look_at = torch.tensor([random.uniform(0,K*radius), random.uniform(0,K*radius), random.uniform(0,K*radius)]).float()\n",
    "    return look_at"
   ]
  },
  {
   "cell_type": "code",
   "execution_count": 6,
   "metadata": {},
   "outputs": [],
   "source": [
    "RADIUS_MIN = 1.0\n",
    "RADIUS_MAX = 2.0 \n",
    "MIN_NUM_LIGHTS = 3\n",
    "MAX_NUM_LIGHTS = 4\n",
    "\n",
    "RADIUS_MIN_CAM = 0.5\n",
    "RADIUS_MAX_CAM = 1.5"
   ]
  },
  {
   "cell_type": "code",
   "execution_count": 7,
   "metadata": {},
   "outputs": [],
   "source": [
    "# def render_shapenet_obj(obj_path):\n",
    "#     all_light_positions = get_positions(MIN_NUM_LIGHTS, MAX_NUM_LIGHTS, RADIUS_MIN, RADIUS_MAX)\n",
    "#     camera_position = get_cam_position(RADIUS_MIN_CAM, RADIUS_MAX_CAM)[0]\n",
    "#     cam_radius = torch.sqrt(camera_position[0]**2 + camera_position[1]**2 + camera_position[2]**2).item()\n",
    "#     cam_look_at = get_random_look_at(cam_radius)\n",
    "#     obj_model_all = pyredner.load_obj(obj_path, return_objects=True)\n",
    "#     obj_model = [i for i in obj_model_all if len(i.vertices)>0]\n",
    "#     fov = torch.tensor([random.uniform(35,100)])\n",
    "#     cam_up = torch.tensor([random.uniform(-1,1), random.uniform(-1,1), random.uniform(-1,1)])\n",
    "    \n",
    "#     m = pyredner.Material(diffuse_reflectance = torch.tensor([1.0, 1.0, 1.0], device='cuda:0'), \\\n",
    "#                           two_sided = True)\n",
    "\n",
    "#     for part in obj_model:\n",
    "#         part.material = m\n",
    "\n",
    "#     scene_cam = pyredner.automatic_camera_placement(obj_model, resolution = (224, 224))\n",
    "#     scene_cam.position = camera_position\n",
    "#     scene_cam.look_at = cam_look_at\n",
    "#     scene_cam.fov = fov\n",
    "#     scene_cam.up = cam_up\n",
    "\n",
    "#     scene_lights = []\n",
    "#     light_intensities = []\n",
    "#     light_look_ats = []\n",
    "#     light_sizes = []\n",
    "    \n",
    "#     for light_pos in all_light_positions:\n",
    "#         light_look_at = get_random_look_at(cam_radius)\n",
    "#         light_intensity = get_random_intensity()\n",
    "#         light_size = torch.tensor([random.uniform(0.1,5.0), random.uniform(0.1, 5.0)])\n",
    "        \n",
    "#         scene_light = pyredner.generate_quad_light(position = light_pos,\n",
    "#                                          look_at = light_look_at,\n",
    "#                                          size = light_size,\n",
    "#                                          intensity = light_intensity,\n",
    "#                                          directly_visible = False)\n",
    "        \n",
    "#         scene_lights.append(scene_light)\n",
    "        \n",
    "#         light_look_ats.append(light_look_at)\n",
    "#         light_sizes.append(light_size)\n",
    "#         light_intensities.append(light_intensity)\n",
    "    \n",
    "#     all_objects = obj_model + scene_lights\n",
    "#     scene = pyredner.Scene(objects = all_objects, camera = scene_cam)\n",
    "#     img = pyredner.render_pathtracing(scene,num_samples=512,seed=1)\n",
    "#     im = torch.pow(img.data, 1.0/2.2).cpu()\n",
    "#     im = im*255/torch.max(im)\n",
    "    \n",
    "#     image = Image.fromarray(im.numpy().astype('uint8'))\n",
    "    \n",
    "#     cat_key = model_file.split('/')[-4]\n",
    "#     inst_key = model_file.split('/')[-3]\n",
    "#     random_key = x = ''.join(random.choices(string.ascii_letters + string.digits, k=16))\n",
    "    \n",
    "#     image_key = \"%s_%s_%s\"%(cat_key, inst_key, random_key)\n",
    "    \n",
    "#     random_info = [all_light_positions, light_intensities, light_sizes, light_look_ats,\n",
    "#                    camera_position, cam_look_at, fov, cam_up]\n",
    "#     return image, image_key, random_info"
   ]
  },
  {
   "cell_type": "code",
   "execution_count": 57,
   "metadata": {},
   "outputs": [],
   "source": [
    "def render_shapenet_obj_given_info(obj_path, given_info):\n",
    "    obj_model_all = pyredner.load_obj(obj_path, return_objects=True)\n",
    "    obj_model = [i for i in obj_model_all if len(i.vertices)>0]\n",
    "    fov = torch.tensor(40)\n",
    "    cam_up = torch.tensor([0,0,0])\n",
    "    \n",
    "    all_light_positions, light_intensities, light_sizes, light_look_ats, camera_position, cam_look_at, fov, cam_up = given_info\n",
    "    m = pyredner.Material(diffuse_reflectance = torch.tensor([1.0, 1.0, 1.0], device='cuda:0'), \\\n",
    "                          two_sided = True)\n",
    "\n",
    "    for part in obj_model:\n",
    "        part.material = m\n",
    "\n",
    "    scene_cam = pyredner.automatic_camera_placement(obj_model, resolution = (512, 512))\n",
    "    scene_cam.position = camera_position\n",
    "    scene_cam.look_at = cam_look_at\n",
    "    scene_cam.fov = fov\n",
    "    scene_cam.up = cam_up\n",
    "\n",
    "    scene_lights = []\n",
    "    \n",
    "    for light_num in range(len(all_light_positions)):\n",
    "        light_pos = all_light_positions[light_num]\n",
    "        light_look_at = light_look_ats[light_num]\n",
    "        light_size = light_sizes[light_num]\n",
    "        light_intensity = light_intensities[light_num]\n",
    "        \n",
    "        scene_light = pyredner.generate_quad_light(position = light_pos,\n",
    "                                         look_at = light_look_at,\n",
    "                                         size = light_size,\n",
    "                                         intensity = light_intensity,\n",
    "                                         directly_visible = False)\n",
    "        \n",
    "        scene_lights.append(scene_light)\n",
    "\n",
    "    all_objects = obj_model + scene_lights\n",
    "    scene = pyredner.Scene(objects = all_objects, camera = scene_cam)\n",
    "    img = pyredner.render_pathtracing(scene,num_samples=512,seed=1)\n",
    "    im = torch.pow(img.data, 1.0/2.2).cpu()\n",
    "    im = im*255/torch.max(im)\n",
    "    \n",
    "    image = Image.fromarray(im.numpy().astype('uint8'))\n",
    "    \n",
    "    cat_key = model_file.split('/')[-4]\n",
    "    inst_key = model_file.split('/')[-3]\n",
    "    random_key = x = ''.join(random.choices(string.ascii_letters + string.digits, k=16))\n",
    "    \n",
    "    image_key = \"%s_%s_%s\"%(cat_key, inst_key, random_key)\n",
    "    \n",
    "    \n",
    "    return image, image_key, given_info"
   ]
  },
  {
   "cell_type": "code",
   "execution_count": 58,
   "metadata": {},
   "outputs": [],
   "source": [
    "model_files_pickle_path = '/om5/user/smadan/differentiable_graphics_ml/rendering/shapenet_model_subsets/%s'%MODEL_FILES_PICKLE_NAME\n",
    "with open(model_files_pickle_path, 'rb') as F:\n",
    "    model_files = pickle.load(F)"
   ]
  },
  {
   "cell_type": "code",
   "execution_count": 142,
   "metadata": {},
   "outputs": [],
   "source": [
    "with open('random_info_paper.p','rb') as F:\n",
    "    random_info = pickle.load(F)"
   ]
  },
  {
   "cell_type": "code",
   "execution_count": 143,
   "metadata": {},
   "outputs": [
    {
     "data": {
      "text/plain": [
       "dict_keys(['02691156', '02818832', '02958343', '03001627', '03467517', '03624134', '03790512', '03928116', '03948459', '04256520', '04379243'])"
      ]
     },
     "execution_count": 143,
     "metadata": {},
     "output_type": "execute_result"
    }
   ],
   "source": [
    "model_files.keys()"
   ]
  },
  {
   "cell_type": "code",
   "execution_count": 144,
   "metadata": {
    "scrolled": true
   },
   "outputs": [
    {
     "name": "stdout",
     "output_type": "stream",
     "text": [
      "Scene construction, time: 0.26717 s\n",
      "Forward pass, time: 11.54171 s\n"
     ]
    },
    {
     "data": {
      "image/png": "[encoded data removed]",
      "text/plain": [
       "<Figure size 432x288 with 1 Axes>"
      ]
     },
     "metadata": {
      "needs_background": "light"
     },
     "output_type": "display_data"
    }
   ],
   "source": [
    "category = '02691156'\n",
    "\n",
    "category_dir = \"%s/%s\"%(SHAPENET_DIR, category)\n",
    "instance_model_files = model_files[category]\n",
    "for i in range(1):\n",
    "    for model_file in instance_model_files:\n",
    "        model_file = model_file.replace('/om5/user/smadan',user_root_dir)\n",
    "        instance = model_file.split('/')[-3]\n",
    "        rendered_im, im_name, random_info = render_shapenet_obj_given_info(model_file, random_info)\n",
    "        plt.imshow(rendered_im)\n",
    "        plt.axis('off')\n",
    "        plt.show()\n",
    "        break"
   ]
  },
  {
   "cell_type": "code",
   "execution_count": 179,
   "metadata": {
    "scrolled": true
   },
   "outputs": [],
   "source": [
    "random_info[-1] = torch.tensor([0.6,0.2,0.5])"
   ]
  },
  {
   "cell_type": "code",
   "execution_count": 180,
   "metadata": {},
   "outputs": [],
   "source": [
    "random_info[-4] = torch.tensor([0.5,0.5,0.5])"
   ]
  },
  {
   "cell_type": "code",
   "execution_count": 181,
   "metadata": {},
   "outputs": [],
   "source": [
    "# random_info[1][0] = torch.tensor([0.0,0.0,0.5])\n",
    "# random_info[1][1] = torch.tensor([0.0,0.0,0.5])\n",
    "# random_info[1][1] = torch.tensor([0.2,0.2,0.2])"
   ]
  },
  {
   "cell_type": "code",
   "execution_count": 182,
   "metadata": {},
   "outputs": [
    {
     "name": "stdout",
     "output_type": "stream",
     "text": [
      "Scene construction, time: 0.27422 s\n",
      "Forward pass, time: 12.18472 s\n"
     ]
    }
   ],
   "source": [
    "rendered_im, im_name, new_info = render_shapenet_obj_given_info(model_file, random_info)"
   ]
  },
  {
   "cell_type": "code",
   "execution_count": 183,
   "metadata": {},
   "outputs": [
    {
     "data": {
      "image/png": "[encoded data removed]",
      "text/plain": [
       "<Figure size 432x288 with 1 Axes>"
      ]
     },
     "metadata": {
      "needs_background": "light"
     },
     "output_type": "display_data"
    }
   ],
   "source": [
    "plt.imshow(rendered_im)\n",
    "plt.axis('off')\n",
    "plt.show()"
   ]
  },
  {
   "cell_type": "code",
   "execution_count": 184,
   "metadata": {},
   "outputs": [],
   "source": [
    "rendered_im.save('paper_10.pdf')"
   ]
  },
  {
   "cell_type": "code",
   "execution_count": null,
   "metadata": {},
   "outputs": [],
   "source": []
  }
 ],
 "metadata": {
  "kernelspec": {
   "display_name": "diff_rendering_ml",
   "language": "python",
   "name": "diff_rendering_ml"
  },
  "language_info": {
   "codemirror_mode": {
    "name": "ipython",
    "version": 3
   },
   "file_extension": ".py",
   "mimetype": "text/x-python",
   "name": "python",
   "nbconvert_exporter": "python",
   "pygments_lexer": "ipython3",
   "version": "3.8.5"
  }
 },
 "nbformat": 4,
 "nbformat_minor": 4
}
