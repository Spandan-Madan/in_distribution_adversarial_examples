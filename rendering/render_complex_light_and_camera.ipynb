{
 "cells": [
  {
   "cell_type": "code",
   "execution_count": 28,
   "metadata": {},
   "outputs": [],
   "source": [
    "import os\n",
    "\n",
    "import torch\n",
    "import torch.nn as nn\n",
    "from torch.autograd import Variable, grad\n",
    "from matplotlib.pyplot import imshow\n",
    "import matplotlib.pyplot as plt\n",
    "from torchvision import datasets, models, transforms\n",
    "import torch.nn as nn\n",
    "from PIL import Image\n",
    "import numpy as np\n",
    "import random\n",
    "from tqdm import tqdm\n",
    "\n",
    "import sys\n",
    "\n",
    "import pickle\n",
    "import argparse\n",
    "\n",
    "import random, string"
   ]
  },
  {
   "cell_type": "code",
   "execution_count": 29,
   "metadata": {},
   "outputs": [],
   "source": [
    "import os\n",
    "\n",
    "machine_path = os.getcwd()\n",
    "user_root_dir = '/'.join(machine_path.split('/')[:-2])\n",
    "sys.path.insert(0,'%s/redner/'%user_root_dir)\n",
    "import pyredner"
   ]
  },
  {
   "cell_type": "code",
   "execution_count": 30,
   "metadata": {},
   "outputs": [
    {
     "name": "stdout",
     "output_type": "stream",
     "text": [
      "PyRedner location: /net/storage001.ib.cluster/om2/user/smadan/redner/pyredner/__init__.py\n"
     ]
    }
   ],
   "source": [
    "print('PyRedner location: %s'%pyredner.__file__)\n",
    "\n",
    "# parser = argparse.ArgumentParser()\n",
    "# parser.add_argument('--dataset_name', type = str, required = True)\n",
    "# parser.add_argument('--model_files_pickle_name', type = str, required = True)\n",
    "# args = parser.parse_args()\n",
    "\n",
    "# DATASET_NAME = args.dataset_name\n",
    "# MODEL_FILES_PICKLE_NAME = args.model_files_pickle_name\n",
    "\n",
    "DATASET_NAME = \"train_v5_shapenet\"\n",
    "MODEL_FILES_PICKLE_NAME = \"categories_10_models_10.pkl\"\n",
    "\n",
    "SHAPENET_DIR = '%s/ShapeNetCore.v2'%user_root_dir\n",
    "\n",
    "dataset_path = \"%s/differentiable_graphics_ml/data/%s\"%(user_root_dir, DATASET_NAME)\n",
    "model_files_pickle_path = '%s/differentiable_graphics_ml/rendering/shapenet_model_subsets/%s'%(user_root_dir, MODEL_FILES_PICKLE_NAME)\n",
    "\n",
    "if not os.path.isdir(dataset_path):\n",
    "    print('This is a new dataset, creating a new folder at: %s'%dataset_path)\n",
    "    os.mkdir(dataset_path)"
   ]
  },
  {
   "cell_type": "code",
   "execution_count": 31,
   "metadata": {},
   "outputs": [],
   "source": [
    "RADIUS_MIN = 5.0\n",
    "RADIUS_MAX = 8.0 \n",
    "MAX_NUM_LIGHTS = 3\n",
    "\n",
    "RADIUS_MIN_CAM = 0.5\n",
    "RADIUS_MAX_CAM = 6.0"
   ]
  },
  {
   "cell_type": "code",
   "execution_count": 32,
   "metadata": {
    "tags": []
   },
   "outputs": [],
   "source": [
    "def generate_uniform_on_sphere(num_points, radius):\n",
    "    points = []\n",
    "    for i in range(num_points):\n",
    "        X = np.random.normal()\n",
    "        Y = np.random.normal()\n",
    "        Z = np.random.normal()\n",
    "\n",
    "        vector = np.array([X,Y,Z])\n",
    "        point = list(radius*vector/np.linalg.norm(vector))\n",
    "        points.append(point)\n",
    "    return points"
   ]
  },
  {
   "cell_type": "code",
   "execution_count": 33,
   "metadata": {},
   "outputs": [],
   "source": [
    "def get_light_positions(max_num_lights, radius_min, radius_max):\n",
    "    if max_num_lights == 1:\n",
    "        num_lights = 1\n",
    "    else:\n",
    "        num_lights = random.choice(range(1,max_num_lights+1))\n",
    "    light_positions = []\n",
    "    \n",
    "    for num in range(num_lights):\n",
    "        random_radius = random.uniform(radius_min, radius_max)\n",
    "        light_point = generate_uniform_on_sphere(1, random_radius)[0]\n",
    "        light_point = torch.tensor(light_point).float()\n",
    "        light_positions.append(light_point)\n",
    "    \n",
    "    return light_positions"
   ]
  },
  {
   "cell_type": "code",
   "execution_count": 34,
   "metadata": {},
   "outputs": [],
   "source": [
    "def get_camera_position(light_positions):\n",
    "    smallest_radius = 10000\n",
    "    for light_position in light_positions:\n",
    "        x, y, z = light_position\n",
    "        radius = np.sqrt(x**2 + y**2 + z**2)\n",
    "        if radius < smallest_radius:\n",
    "            smallest_radius = radius\n",
    "    \n",
    "    camera_pos = generate_uniform_on_sphere(1, smallest_radius * random.uniform(0.6,0.9))\n",
    "    return torch.tensor(camera_pos)"
   ]
  },
  {
   "cell_type": "code",
   "execution_count": 35,
   "metadata": {},
   "outputs": [],
   "source": [
    "def get_random_intensity():\n",
    "    light_intensity = torch.tensor([random.uniform(0,1), \\\n",
    "                                    random.uniform(0,1), random.uniform(0,1)]).float()\n",
    "    return light_intensity"
   ]
  },
  {
   "cell_type": "code",
   "execution_count": 36,
   "metadata": {},
   "outputs": [],
   "source": [
    "def get_random_reflectance():\n",
    "    specular_reflectance = torch.tensor([random.uniform(0,1), \\\n",
    "                                    random.uniform(0,1), random.uniform(0,1)], device = pyredner.get_device()).float()\n",
    "    return specular_reflectance"
   ]
  },
  {
   "cell_type": "code",
   "execution_count": 66,
   "metadata": {},
   "outputs": [],
   "source": [
    "def plane_object():\n",
    "    mat = pyredner.Material(diffuse_reflectance = get_random_reflectance(), two_sided = True)\n",
    "    \n",
    "    plane = pyredner.Object(vertices = torch.tensor([[-1.0,-1.0, 1.0],\n",
    "                                                 [-1.0, 1.0, 2.0],\n",
    "                                                 [ 1.0,-1.0, 2.0],\n",
    "                                                 [ 1.0, 1.0, 2.0]],\n",
    "                                                 device = pyredner.get_device()),\n",
    "                        indices = torch.tensor([[0, 1, 2],\n",
    "                                                [1, 3, 2]],\n",
    "                                               dtype = torch.int32,\n",
    "                                               device = pyredner.get_device()),\n",
    "                        uvs = torch.tensor([[0.05, 0.05],\n",
    "                                            [0.05, 0.95],\n",
    "                                            [0.95, 0.05],\n",
    "                                            [0.95, 0.95]], device = pyredner.get_device()),\n",
    "                        material = mat)\n",
    "    return plane"
   ]
  },
  {
   "cell_type": "code",
   "execution_count": 67,
   "metadata": {},
   "outputs": [],
   "source": [
    "def render_shapenet_obj(obj_path):\n",
    "    all_light_positions = get_light_positions(MAX_NUM_LIGHTS, RADIUS_MIN, RADIUS_MAX)\n",
    "    random_reflectance = get_random_reflectance()\n",
    "    camera_position = get_light_positions(1, RADIUS_MIN_CAM, RADIUS_MAX_CAM)[0]\n",
    "    \n",
    "    \n",
    "    obj_model_all = pyredner.load_obj(obj_path, return_objects=True)\n",
    "    obj_model = [i for i in obj_model_all if len(i.vertices)>0]\n",
    "    m = pyredner.Material(specular_reflectance = random_reflectance, \\\n",
    "                          two_sided = True)\n",
    "    for part in obj_model:\n",
    "        part.material = m\n",
    "    \n",
    "    scene_cam = pyredner.automatic_camera_placement(obj_model, resolution = (224, 224))\n",
    "    scene_cam.position = camera_position\n",
    "    \n",
    "    scene_lights = []\n",
    "    light_intensities = []\n",
    "    for light_pos in all_light_positions:\n",
    "        light_intensity = get_random_intensity()\n",
    "        scene_light = pyredner.generate_quad_light(position = light_pos,\n",
    "                                         look_at = torch.zeros(3),\n",
    "                                         size = torch.tensor([0.5, 0.5]),\n",
    "                                         intensity = light_intensity,\n",
    "                                         directly_visible = False)\n",
    "        light_intensities.append(light_intensity)\n",
    "        scene_lights.append(scene_light)\n",
    "    back_plane = plane_object()\n",
    "    \n",
    "    all_objects = obj_model + [back_plane] + scene_lights\n",
    "    scene = pyredner.Scene(objects = all_objects, camera = scene_cam)\n",
    "    img = pyredner.render_pathtracing(scene,num_samples=256,seed=1)\n",
    "    im = torch.pow(img.data, 1.0/2.2).cpu()\n",
    "    im = im*255/torch.max(im)\n",
    "    \n",
    "    image = Image.fromarray(im.numpy().astype('uint8'))\n",
    "    \n",
    "    cat_key = model_file.split('/')[-4]\n",
    "    inst_key = model_file.split('/')[-3]\n",
    "    random_key = x = ''.join(random.choices(string.ascii_letters + string.digits, k=16))\n",
    "    \n",
    "    image_key = \"%s_%s_%s\"%(cat_key, inst_key, random_key)\n",
    "    \n",
    "    random_info = [all_light_positions, random_reflectance, camera_position, light_intensities]\n",
    "    return image, image_key, random_info"
   ]
  },
  {
   "cell_type": "code",
   "execution_count": 68,
   "metadata": {},
   "outputs": [],
   "source": [
    "model_files_pickle_path = '/om5/user/smadan/differentiable_graphics_ml/rendering/shapenet_model_subsets/%s'%MODEL_FILES_PICKLE_NAME\n",
    "with open(model_files_pickle_path, 'rb') as F:\n",
    "    model_files = pickle.load(F)"
   ]
  },
  {
   "cell_type": "code",
   "execution_count": 69,
   "metadata": {},
   "outputs": [
    {
     "data": {
      "text/plain": [
       "dict_keys(['02691156', '02818832', '02958343', '03001627', '03467517', '03624134', '03790512', '03928116', '03948459', '04256520', '04379243'])"
      ]
     },
     "execution_count": 69,
     "metadata": {},
     "output_type": "execute_result"
    }
   ],
   "source": [
    "model_files.keys()"
   ]
  },
  {
   "cell_type": "code",
   "execution_count": 70,
   "metadata": {},
   "outputs": [
    {
     "name": "stdout",
     "output_type": "stream",
     "text": [
      "Scene construction, time: 0.04404 s\n",
      "Forward pass, time: 0.61047 s\n"
     ]
    }
   ],
   "source": [
    "category = '02818832'\n",
    "\n",
    "category_dir = \"%s/%s\"%(SHAPENET_DIR, category)\n",
    "instance_model_files = model_files[category]\n",
    "for model_file in instance_model_files:\n",
    "    model_file = model_file.replace('/om5/user/smadan',user_root_dir)\n",
    "    instance = model_file.split('/')[-3]\n",
    "    rendered_im, im_name, random_info = render_shapenet_obj(model_file)\n",
    "    break"
   ]
  },
  {
   "cell_type": "code",
   "execution_count": 71,
   "metadata": {},
   "outputs": [
    {
     "data": {
      "image/png": "[encoded data removed]",
      "text/plain": [
       "<PIL.Image.Image image mode=RGB size=224x224 at 0x2B93EC175D90>"
      ]
     },
     "execution_count": 71,
     "metadata": {},
     "output_type": "execute_result"
    }
   ],
   "source": [
    "rendered_im"
   ]
  },
  {
   "cell_type": "code",
   "execution_count": null,
   "metadata": {},
   "outputs": [],
   "source": []
  }
 ],
 "metadata": {
  "kernelspec": {
   "display_name": "diff_rendering_ml",
   "language": "python",
   "name": "diff_rendering_ml"
  },
  "language_info": {
   "codemirror_mode": {
    "name": "ipython",
    "version": 3
   },
   "file_extension": ".py",
   "mimetype": "text/x-python",
   "name": "python",
   "nbconvert_exporter": "python",
   "pygments_lexer": "ipython3",
   "version": "3.8.5"
  }
 },
 "nbformat": 4,
 "nbformat_minor": 4
}
