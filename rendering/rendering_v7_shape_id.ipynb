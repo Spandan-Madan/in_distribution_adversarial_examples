{
 "cells": [
  {
   "cell_type": "code",
   "execution_count": 1,
   "metadata": {},
   "outputs": [],
   "source": [
    "import os\n",
    "\n",
    "import torch\n",
    "import torch.nn as nn\n",
    "from torch.autograd import Variable, grad\n",
    "from matplotlib.pyplot import imshow\n",
    "import matplotlib.pyplot as plt\n",
    "from torchvision import datasets, models, transforms\n",
    "import torch.nn as nn\n",
    "from PIL import Image\n",
    "import numpy as np\n",
    "import random\n",
    "from tqdm import tqdm\n",
    "\n",
    "import sys\n",
    "\n",
    "import pickle\n",
    "import argparse\n",
    "\n",
    "import random, string\n",
    "\n",
    "\n",
    "machine_path = os.getcwd()\n",
    "user_root_dir = '/'.join(machine_path.split('/')[:-2])\n",
    "sys.path.insert(0,'%s/redner/'%user_root_dir)\n",
    "import pyredner\n",
    "\n"
   ]
  },
  {
   "cell_type": "code",
   "execution_count": 2,
   "metadata": {},
   "outputs": [
    {
     "name": "stdout",
     "output_type": "stream",
     "text": [
      "PyRedner location: /net/storage001.ib.cluster/om2/user/smadan/redner/pyredner/__init__.py\n"
     ]
    }
   ],
   "source": [
    "data_folder = '%s/differentiable_graphics_ml/data/train_v7_shapenet/'%user_root_dir\n",
    "\n",
    "print('PyRedner location: %s'%pyredner.__file__)\n",
    "\n",
    "DATASET_NAME = 'train_v7_shape_id'\n",
    "SHAPENET_DIR = '%s/ShapeNetCore.v2'%user_root_dir\n",
    "\n",
    "dataset_path = \"%s/differentiable_graphics_ml/data/%s\"%(user_root_dir, DATASET_NAME)\n",
    "\n",
    "def create_folder(folder_path):\n",
    "    if not os.path.isdir(folder_path):\n",
    "        print('Making new directory: %s'%folder_path)\n",
    "        os.mkdir(folder_path)\n",
    "create_folder(dataset_path)"
   ]
  },
  {
   "cell_type": "code",
   "execution_count": 3,
   "metadata": {},
   "outputs": [],
   "source": [
    "def render_shapenet_shape_id(info_dict, key):\n",
    "    all_light_positions, light_intensities, light_sizes, light_look_ats,\\\n",
    "                   camera_position, cam_look_at, fov, cam_up = info_dict[key]\n",
    "    category, instance, random_key = key.split('_')\n",
    "    \n",
    "    obj_path = '%s/ShapeNetCore.v2/%s/%s/models/model_normalized.obj'%(user_root_dir, category, instance)\n",
    "    obj_model_all = pyredner.load_obj(obj_path, return_objects=True)\n",
    "    obj_model = [i for i in obj_model_all if len(i.vertices)>0]\n",
    "\n",
    "    m = pyredner.Material(diffuse_reflectance = torch.tensor([1.0, 1.0, 1.0], device='cuda:0'), \\\n",
    "                          two_sided = True)\n",
    "\n",
    "    for part in obj_model:\n",
    "        part.material = m\n",
    "\n",
    "    scene_cam = pyredner.automatic_camera_placement(obj_model, resolution = (224, 224))\n",
    "    scene_cam.position = camera_position\n",
    "    scene_cam.look_at = cam_look_at\n",
    "    scene_cam.fov = fov\n",
    "    scene_cam.up = cam_up\n",
    "\n",
    "    scene_lights = []\n",
    "    \n",
    "    num_lights = len(all_light_positions)\n",
    "    \n",
    "    for i in range(num_lights):\n",
    "        light_pos = all_light_positions[i]\n",
    "        light_look_at = light_look_ats[i]\n",
    "        light_intensity = light_intensities[i]\n",
    "        light_size = light_sizes[i]\n",
    "        \n",
    "        scene_light = pyredner.generate_quad_light(position = light_pos,\n",
    "                                         look_at = light_look_at,\n",
    "                                         size = light_size,\n",
    "                                         intensity = light_intensity,\n",
    "                                         directly_visible = False)\n",
    "        \n",
    "        scene_lights.append(scene_light)\n",
    "    \n",
    "    all_objects = obj_model + scene_lights\n",
    "    scene = pyredner.Scene(objects = all_objects, camera = scene_cam)\n",
    "    rendered_channels = [pyredner.channels.shape_id]\n",
    "\n",
    "    img = pyredner.render_generic(scene,channels = rendered_channels)\n",
    "    shape_id_arr_ = np.array(img.detach().cpu())[:,:,0]\n",
    "    total_objects = np.max(shape_id_arr_)\n",
    "    non_light_objects = total_objects - num_lights\n",
    "    shape_id_arr = np.logical_and(shape_id_arr_ > 0, shape_id_arr_ <= non_light_objects)\n",
    "    \n",
    "    return shape_id_arr"
   ]
  },
  {
   "cell_type": "code",
   "execution_count": 4,
   "metadata": {},
   "outputs": [],
   "source": [
    "for category in os.listdir(data_folder):\n",
    "    category_folder = \"%s/%s\"%(data_folder, category)\n",
    "    category_randomized_files = \"%s/randomized_info_%s.p\"%(category_folder, category)\n",
    "    with open(category_randomized_files,'rb') as F:\n",
    "        category_files_info = pickle.load(F)\n",
    "    break\n",
    "count = 0"
   ]
  },
  {
   "cell_type": "code",
   "execution_count": 8,
   "metadata": {},
   "outputs": [],
   "source": [
    "# category_files_info['02691156_67da7044f5bee4f65c6d168c6e7f59dc_U2Mfy2GC2HI04anf']"
   ]
  },
  {
   "cell_type": "code",
   "execution_count": 9,
   "metadata": {},
   "outputs": [],
   "source": [
    "test_key = '02691156_67da7044f5bee4f65c6d168c6e7f59dc_U2Mfy2GC2HI04anf'"
   ]
  },
  {
   "cell_type": "code",
   "execution_count": 11,
   "metadata": {},
   "outputs": [],
   "source": [
    "category, instance, ID = test_key.split('_')"
   ]
  },
  {
   "cell_type": "code",
   "execution_count": null,
   "metadata": {},
   "outputs": [],
   "source": []
  },
  {
   "cell_type": "code",
   "execution_count": 19,
   "metadata": {},
   "outputs": [
    {
     "data": {
      "image/png": "[encoded data removed]",
      "text/plain": [
       "<Figure size 432x288 with 1 Axes>"
      ]
     },
     "metadata": {
      "needs_background": "light"
     },
     "output_type": "display_data"
    },
    {
     "name": "stdout",
     "output_type": "stream",
     "text": [
      "Scene construction, time: 0.64143 s\n",
      "Forward pass, time: 0.07613 s\n"
     ]
    },
    {
     "data": {
      "image/png": "[encoded data removed]",
      "text/plain": [
       "<Figure size 432x288 with 1 Axes>"
      ]
     },
     "metadata": {
      "needs_background": "light"
     },
     "output_type": "display_data"
    }
   ],
   "source": [
    "for key in category_files_info.keys():\n",
    "    if count == 1000:\n",
    "        category, instance, ID = key.split('_')\n",
    "        plt.imshow(Image.open('/net/coxfs01/srv/export/coxfs01/pfister_lab2/share_root/Lab/spandan/differentiable_graphics_ml/data/train_v7_shapenet/%s/images/%s.png'%(category, key)))\n",
    "        plt.show()\n",
    "\n",
    "        shape_id_arr = render_shapenet_shape_id(category_files_info, key)\n",
    "        plt.imshow(shape_id_arr)\n",
    "        plt.show()\n",
    "        break\n",
    "    count += 1"
   ]
  },
  {
   "cell_type": "code",
   "execution_count": 29,
   "metadata": {},
   "outputs": [
    {
     "data": {
      "text/plain": [
       "'/net/coxfs01/srv/export/coxfs01/pfister_lab2/share_root/Lab/spandan'"
      ]
     },
     "execution_count": 29,
     "metadata": {},
     "output_type": "execute_result"
    }
   ],
   "source": []
  },
  {
   "cell_type": "code",
   "execution_count": 35,
   "metadata": {},
   "outputs": [
    {
     "data": {
      "image/png": "[encoded data removed]",
      "text/plain": [
       "<PIL.PngImagePlugin.PngImageFile image mode=RGB size=224x224 at 0x2AF8934938E0>"
      ]
     },
     "execution_count": 35,
     "metadata": {},
     "output_type": "execute_result"
    }
   ],
   "source": [
    "Image.open('%s/differentiable_graphics_ml/data/train_v7_shapenet/02691156/images/02691156_67da7044f5bee4f65c6d168c6e7f59dc_SikARvOYesovag0j.png'%user_root_dir)"
   ]
  },
  {
   "cell_type": "code",
   "execution_count": 36,
   "metadata": {},
   "outputs": [],
   "source": [
    "a = np.load('%s/differentiable_graphics_ml/data/train_v7_shape_id/02691156/images/02691156_67da7044f5bee4f65c6d168c6e7f59dc_SikARvOYesovag0j.npy'%user_root_dir)"
   ]
  },
  {
   "cell_type": "code",
   "execution_count": 37,
   "metadata": {},
   "outputs": [
    {
     "data": {
      "text/plain": [
       "<matplotlib.image.AxesImage at 0x2af893d46d00>"
      ]
     },
     "execution_count": 37,
     "metadata": {},
     "output_type": "execute_result"
    },
    {
     "data": {
      "image/png": "[encoded data removed]",
      "text/plain": [
       "<Figure size 432x288 with 1 Axes>"
      ]
     },
     "metadata": {
      "needs_background": "light"
     },
     "output_type": "display_data"
    }
   ],
   "source": [
    "plt.imshow(a)"
   ]
  },
  {
   "cell_type": "code",
   "execution_count": null,
   "metadata": {},
   "outputs": [],
   "source": [
    "# with open(model_files_pickle_path, 'rb') as F:\n",
    "#     model_files = pickle.load(F)\n",
    "\n",
    "\n",
    "# RANDOMIZED_INFORMATION_CATEGORY = {}\n",
    "# total = 0\n",
    "# category = CATEGORY\n",
    "# category_dir = \"%s/%s\"%(SHAPENET_DIR, category)\n",
    "# category_path = \"%s/%s\"%(dataset_path, category)\n",
    "# create_folder(category_path)\n",
    "# images_folder = \"%s/images\"%category_path\n",
    "# create_folder(images_folder)\n",
    "# instance_model_files = model_files[category]\n",
    "# for model_file in instance_model_files:\n",
    "#     model_file = model_file.replace('/om5/user/smadan',user_root_dir)\n",
    "#     instance = model_file.split('/')[-3]\n",
    "#     for repeat in range(NUM_REPEATS):\n",
    "#         rendered_im, im_name, random_info = render_shapenet_obj(model_file)\n",
    "#         RANDOMIZED_INFORMATION_CATEGORY[im_name] = random_info\n",
    "#         image_path = \"%s/%s.png\"%(images_folder, im_name)\n",
    "#         rendered_im.save(image_path)\n",
    "#         if total % 10 == 0:\n",
    "#             with open('%s/randomized_info_%s.p'%(category_path, category),'wb') as F:\n",
    "#                 pickle.dump(RANDOMIZED_INFORMATION_CATEGORY, F)\n",
    "#         total += 1"
   ]
  },
  {
   "cell_type": "code",
   "execution_count": null,
   "metadata": {},
   "outputs": [],
   "source": []
  }
 ],
 "metadata": {
  "kernelspec": {
   "display_name": "diff_rendering_ml",
   "language": "python",
   "name": "diff_rendering_ml"
  },
  "language_info": {
   "codemirror_mode": {
    "name": "ipython",
    "version": 3
   },
   "file_extension": ".py",
   "mimetype": "text/x-python",
   "name": "python",
   "nbconvert_exporter": "python",
   "pygments_lexer": "ipython3",
   "version": "3.8.5"
  }
 },
 "nbformat": 4,
 "nbformat_minor": 4
}
