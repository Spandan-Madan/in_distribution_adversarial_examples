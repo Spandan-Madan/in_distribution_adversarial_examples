{
 "cells": [
  {
   "cell_type": "code",
   "execution_count": 1,
   "id": "prime-drilling",
   "metadata": {},
   "outputs": [],
   "source": [
    "import pickle\n",
    "import utils\n",
    "import numpy as np\n",
    "import matplotlib.pyplot as plt\n",
    "import seaborn as sns\n",
    "CURRENT_MODEL = None\n",
    "N_dim = 100\n",
    "\n",
    "\n",
    "x1_min = -10\n",
    "x1_max = 10\n",
    "\n",
    "x2_min = 20\n",
    "x2_max = 40\n",
    "\n",
    "test_min = -1\n",
    "test_max= 1\n",
    "\n",
    "limits = [x1_min, x1_max, x2_min, x2_max]\n",
    "test_limits = [test_min, test_max]\n",
    "\n",
    "num_samples = 50"
   ]
  },
  {
   "cell_type": "code",
   "execution_count": 2,
   "id": "interim-array",
   "metadata": {},
   "outputs": [],
   "source": [
    "from utils import MLP\n",
    "from utils import CMA_info"
   ]
  },
  {
   "cell_type": "code",
   "execution_count": 3,
   "id": "unique-drilling",
   "metadata": {},
   "outputs": [],
   "source": [
    "with open('data_size_experiment_5_repeats_4_dim_standardized.p','rb') as F:\n",
    "    all_info = pickle.load(F)"
   ]
  },
  {
   "cell_type": "code",
   "execution_count": 4,
   "id": "suffering-selling",
   "metadata": {},
   "outputs": [],
   "source": [
    "# with open('../data_dimension_experiment_20_2.p','rb') as F:\n",
    "#     all_info_20 = pickle.load(F)"
   ]
  },
  {
   "cell_type": "code",
   "execution_count": 5,
   "id": "herbal-german",
   "metadata": {},
   "outputs": [],
   "source": [
    "# len(all_info_20)"
   ]
  },
  {
   "cell_type": "code",
   "execution_count": 6,
   "id": "changing-runner",
   "metadata": {},
   "outputs": [],
   "source": [
    "# for i in range(10):\n",
    "#     all_info[i][0][20] = all_info_20[i][0][20]\n",
    "#     all_info[i][1][20] = all_info_20[i][1][20]"
   ]
  },
  {
   "cell_type": "code",
   "execution_count": 10,
   "id": "legal-reunion",
   "metadata": {},
   "outputs": [
    {
     "data": {
      "text/plain": [
       "[{1000: MLP(\n",
       "    (layers): Sequential(\n",
       "      (0): Linear(in_features=4, out_features=4, bias=True)\n",
       "      (1): Tanh()\n",
       "      (2): Linear(in_features=4, out_features=2, bias=True)\n",
       "    )\n",
       "  ),\n",
       "  10000: MLP(\n",
       "    (layers): Sequential(\n",
       "      (0): Linear(in_features=4, out_features=4, bias=True)\n",
       "      (1): Tanh()\n",
       "      (2): Linear(in_features=4, out_features=2, bias=True)\n",
       "    )\n",
       "  ),\n",
       "  100000: MLP(\n",
       "    (layers): Sequential(\n",
       "      (0): Linear(in_features=4, out_features=4, bias=True)\n",
       "      (1): Tanh()\n",
       "      (2): Linear(in_features=4, out_features=2, bias=True)\n",
       "    )\n",
       "  ),\n",
       "  1000000: MLP(\n",
       "    (layers): Sequential(\n",
       "      (0): Linear(in_features=4, out_features=4, bias=True)\n",
       "      (1): Tanh()\n",
       "      (2): Linear(in_features=4, out_features=2, bias=True)\n",
       "    )\n",
       "  )},\n",
       " {1000: <utils.CMA_info at 0x2b961bf675e0>,\n",
       "  10000: <utils.CMA_info at 0x2b961bf77ac0>,\n",
       "  100000: <utils.CMA_info at 0x2b961bfa3880>,\n",
       "  1000000: <utils.CMA_info at 0x2b961bfb4df0>}]"
      ]
     },
     "execution_count": 10,
     "metadata": {},
     "output_type": "execute_result"
    }
   ],
   "source": [
    "all_info[0]"
   ]
  },
  {
   "cell_type": "code",
   "execution_count": 12,
   "id": "warming-manitoba",
   "metadata": {},
   "outputs": [
    {
     "name": "stderr",
     "output_type": "stream",
     "text": [
      "/om5/user/smadan/miniconda3/envs/diff_rendering_ml/lib/python3.8/site-packages/numpy/core/fromnumeric.py:3372: RuntimeWarning: Mean of empty slice.\n",
      "  return _methods._mean(a, axis=axis, dtype=dtype,\n",
      "/om5/user/smadan/miniconda3/envs/diff_rendering_ml/lib/python3.8/site-packages/numpy/core/_methods.py:170: RuntimeWarning: invalid value encountered in double_scalars\n",
      "  ret = ret.dtype.type(ret / rcount)\n",
      "/om5/user/smadan/miniconda3/envs/diff_rendering_ml/lib/python3.8/site-packages/numpy/core/_methods.py:233: RuntimeWarning: Degrees of freedom <= 0 for slice\n",
      "  ret = _var(a, axis=axis, dtype=dtype, out=out, ddof=ddof,\n",
      "/om5/user/smadan/miniconda3/envs/diff_rendering_ml/lib/python3.8/site-packages/numpy/core/_methods.py:194: RuntimeWarning: invalid value encountered in true_divide\n",
      "  arrmean = um.true_divide(\n",
      "/om5/user/smadan/miniconda3/envs/diff_rendering_ml/lib/python3.8/site-packages/numpy/core/_methods.py:226: RuntimeWarning: invalid value encountered in double_scalars\n",
      "  ret = ret.dtype.type(ret / rcount)\n"
     ]
    }
   ],
   "source": [
    "dist_means = []\n",
    "dist_stds = []\n",
    "attack_rate_means = []\n",
    "attack_rate_stds = []\n",
    "\n",
    "for n_dim in [1000, 10000, 100000, 1000000]:\n",
    "    all_distances = []\n",
    "    all_attack_rates = []\n",
    "\n",
    "    for i in range(5):\n",
    "        all_distances.extend(all_info[i][1][n_dim].distances)        \n",
    "        num_attacks = len(all_info[i][1][n_dim].in_dist_advs)\n",
    "        num_total = len(all_info[i][1][n_dim].starts)\n",
    "        all_attack_rates.extend([num_attacks/num_total])\n",
    "        \n",
    "    attack_rate_means.append(np.mean(all_attack_rates))\n",
    "    attack_rate_stds.append(np.std(all_attack_rates))\n",
    "    dist_mean = np.mean(all_distances)\n",
    "    dist_std = np.std(all_distances)\n",
    "    dist_means.append(dist_mean)\n",
    "    dist_stds.append(dist_std)"
   ]
  },
  {
   "cell_type": "code",
   "execution_count": 9,
   "id": "described-analyst",
   "metadata": {},
   "outputs": [
    {
     "data": {
      "image/png": "[encoded data removed]",
      "text/plain": [
       "<Figure size 288x252 with 1 Axes>"
      ]
     },
     "metadata": {
      "needs_background": "light"
     },
     "output_type": "display_data"
    }
   ],
   "source": [
    "plt.figure(figsize=(4,3.5))\n",
    "plt.errorbar(range(3), attack_rate_means, attack_rate_stds, marker='o',color='green', markersize=10)\n",
    "plt.ylim(0,1.15)\n",
    "plt.xlabel('Dataset Dimension (%)', fontsize=15)\n",
    "plt.ylabel('Attack Success Rate', fontsize=15)\n",
    "plt.xticks(range(3),[100, 500, 1000], rotation=45, fontsize=12)\n",
    "plt.yticks(fontsize=12)\n",
    "sns.despine()\n",
    "plt.title('CMA-Search success rate \\n as dataset dimension grows',fontsize=18, y=1.12)\n",
    "plt.tight_layout()\n",
    "plt.show()"
   ]
  },
  {
   "cell_type": "code",
   "execution_count": 10,
   "id": "chemical-continent",
   "metadata": {},
   "outputs": [],
   "source": [
    "# plt.errorbar(range(4), attack_rate_means, attack_rate_stds, marker = 'o', capsize=5)\n",
    "# plt.xticks(range(4),[20, 100, 500, 1000])\n",
    "# plt.title('Attack rate for adv sample as a function of dataset dims')\n",
    "# plt.xlabel('Dataset Dimensions')\n",
    "# plt.ylabel('Distance')\n",
    "# plt.show()"
   ]
  },
  {
   "cell_type": "code",
   "execution_count": 11,
   "id": "productive-expense",
   "metadata": {
    "scrolled": true
   },
   "outputs": [],
   "source": [
    "# plt.errorbar(range(3), dist_means, dist_stds, marker = 'o', capsize=5)\n",
    "# plt.xticks(range(3),[100, 500, 1000])\n",
    "# plt.title('Distance to adv sample as a function of dataset dims')\n",
    "# plt.xlabel('Dataset Dimensions')\n",
    "# plt.xlabel('Distance')\n",
    "# plt.ylim(0,5)\n",
    "# plt.show()"
   ]
  },
  {
   "cell_type": "code",
   "execution_count": 13,
   "id": "diverse-chile",
   "metadata": {},
   "outputs": [
    {
     "data": {
      "image/png": "[encoded data removed]",
      "text/plain": [
       "<Figure size 288x252 with 1 Axes>"
      ]
     },
     "metadata": {
      "needs_background": "light"
     },
     "output_type": "display_data"
    }
   ],
   "source": [
    "plt.figure(figsize=(4,3.5))\n",
    "plt.errorbar(range(3), dist_means, dist_stds, marker='o',color='blue', markersize=10)\n",
    "# plt.plot(range(0,4), material_results, marker='o',color='blue', markersize=10, label='Materials')\n",
    "# plt.plot(range(0,4), viewpoint_results, marker='o',color='red', markersize=10, label='Viewpoints')\n",
    "plt.ylim(0,10)\n",
    "# plt.title('Generalization to OOD domains',fontsize=18, y=1.12);\n",
    "plt.xlabel('Dataset Size (%)', fontsize=15)\n",
    "plt.ylabel('L2 Distance', fontsize=15)\n",
    "# plt.legend(loc=\"lower right\", fontsize=12)\n",
    "plt.xticks(ticks = range(3), labels = [100,500,1000], rotation=45, fontsize=12)\n",
    "plt.yticks(fontsize=12)\n",
    "sns.despine()\n",
    "plt.title('Distance to adversarial sample \\n as dataset size grows',fontsize=18, y=1.12)\n",
    "plt.tight_layout()\n",
    "plt.show()"
   ]
  },
  {
   "cell_type": "code",
   "execution_count": null,
   "id": "existing-guatemala",
   "metadata": {},
   "outputs": [],
   "source": []
  }
 ],
 "metadata": {
  "kernelspec": {
   "display_name": "diff_rendering_ml",
   "language": "python",
   "name": "diff_rendering_ml"
  },
  "language_info": {
   "codemirror_mode": {
    "name": "ipython",
    "version": 3
   },
   "file_extension": ".py",
   "mimetype": "text/x-python",
   "name": "python",
   "nbconvert_exporter": "python",
   "pygments_lexer": "ipython3",
   "version": "3.8.5"
  }
 },
 "nbformat": 4,
 "nbformat_minor": 5
}
