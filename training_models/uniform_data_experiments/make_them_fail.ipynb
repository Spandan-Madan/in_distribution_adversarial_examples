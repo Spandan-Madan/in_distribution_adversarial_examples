{
 "cells": [
  {
   "cell_type": "code",
   "execution_count": 1,
   "id": "important-hollow",
   "metadata": {},
   "outputs": [],
   "source": [
    "import pickle\n",
    "import utils\n",
    "import numpy as np\n",
    "import matplotlib.pyplot as plt\n",
    "\n",
    "CURRENT_MODEL = None\n",
    "N_dim = 100\n",
    "\n",
    "\n",
    "x1_min = -10\n",
    "x1_max = 10\n",
    "\n",
    "x2_min = 20\n",
    "x2_max = 40\n",
    "\n",
    "test_min = -1\n",
    "test_max= 1\n",
    "\n",
    "limits = [x1_min, x1_max, x2_min, x2_max]\n",
    "test_limits = [test_min, test_max]\n",
    "\n",
    "num_samples = 50\n",
    "\n",
    "\n"
   ]
  },
  {
   "cell_type": "code",
   "execution_count": 2,
   "id": "further-major",
   "metadata": {},
   "outputs": [],
   "source": [
    "import utils\n",
    "from utils import MLP\n",
    "from utils import CMA_info"
   ]
  },
  {
   "cell_type": "code",
   "execution_count": 3,
   "id": "occupied-vampire",
   "metadata": {},
   "outputs": [],
   "source": [
    "import torch"
   ]
  },
  {
   "cell_type": "markdown",
   "id": "classical-sierra",
   "metadata": {},
   "source": [
    "### Confirm past failures"
   ]
  },
  {
   "cell_type": "code",
   "execution_count": 4,
   "id": "pediatric-boring",
   "metadata": {},
   "outputs": [],
   "source": [
    "# with open('../data_dimension_experiment_10_repeats_bad_data.p','rb') as F:\n",
    "#     all_info_bad_data = pickle.load(F)"
   ]
  },
  {
   "cell_type": "code",
   "execution_count": 5,
   "id": "exposed-heath",
   "metadata": {
    "scrolled": true
   },
   "outputs": [],
   "source": [
    "# all_info_bad_data[8][1][10].summary()"
   ]
  },
  {
   "cell_type": "code",
   "execution_count": 6,
   "id": "cooked-staff",
   "metadata": {},
   "outputs": [],
   "source": [
    "# dataset = all_info_bad_data[8][0][10].dataset"
   ]
  },
  {
   "cell_type": "code",
   "execution_count": 7,
   "id": "intermediate-hierarchy",
   "metadata": {
    "scrolled": false
   },
   "outputs": [],
   "source": [
    "# model = all_info_bad_data[8][0][10]"
   ]
  },
  {
   "cell_type": "code",
   "execution_count": 8,
   "id": "informative-lodge",
   "metadata": {},
   "outputs": [],
   "source": [
    "# start_points = all_info_bad_data[8][1][10].starts"
   ]
  },
  {
   "cell_type": "code",
   "execution_count": 9,
   "id": "close-shareware",
   "metadata": {},
   "outputs": [],
   "source": [
    "# end_points = all_info_bad_data[8][1][10].advs"
   ]
  },
  {
   "cell_type": "markdown",
   "id": "gothic-cutting",
   "metadata": {},
   "source": [
    "#### Does it work well for the provided dataset?"
   ]
  },
  {
   "cell_type": "code",
   "execution_count": 10,
   "id": "induced-newspaper",
   "metadata": {
    "scrolled": true
   },
   "outputs": [],
   "source": [
    "# X_train, X_test, Y_train, Y_test = dataset"
   ]
  },
  {
   "cell_type": "code",
   "execution_count": 11,
   "id": "global-producer",
   "metadata": {},
   "outputs": [],
   "source": [
    "# X_test[:5]"
   ]
  },
  {
   "cell_type": "code",
   "execution_count": 12,
   "id": "agricultural-supplier",
   "metadata": {},
   "outputs": [],
   "source": [
    "# torch.argmax(model(X_test[:5].cpu()),dim=1)"
   ]
  },
  {
   "cell_type": "markdown",
   "id": "varied-syracuse",
   "metadata": {},
   "source": [
    "#### Launch a new training and testing job"
   ]
  },
  {
   "cell_type": "code",
   "execution_count": 22,
   "id": "handed-phoenix",
   "metadata": {
    "scrolled": false
   },
   "outputs": [
    {
     "name": "stdout",
     "output_type": "stream",
     "text": [
      "Epoch:999, Train Acc:tensor(0.9956, device='cuda:0')\n",
      "Epoch:999, Test Acc:tensor(0.9925, device='cuda:0')\n",
      "dset_size_2000_bad_data\n",
      "simple adversarial found\n",
      "simple adversarial found\n",
      "simple adversarial found\n",
      "simple adversarial found\n",
      "simple adversarial found\n",
      "simple adversarial found\n",
      "simple adversarial found\n",
      "simple adversarial found\n",
      "simple adversarial found\n",
      "simple adversarial found\n",
      "simple adversarial found\n",
      "simple adversarial found\n",
      "simple adversarial found\n",
      "simple adversarial found\n",
      "simple adversarial found\n",
      "simple adversarial found\n",
      "simple adversarial found\n",
      "simple adversarial found\n",
      "simple adversarial found\n",
      "simple adversarial found\n",
      "simple adversarial found\n",
      "simple adversarial found\n",
      "simple adversarial found\n",
      "0.0\n",
      "Epoch:999, Train Acc:tensor(0.9344, device='cuda:0')\n",
      "Epoch:999, Test Acc:tensor(0.9300, device='cuda:0')\n",
      "dset_size_2000_bad_data\n",
      "simple adversarial found\n",
      "simple adversarial found\n",
      "simple adversarial found\n",
      "simple adversarial found\n",
      "simple adversarial found\n",
      "simple adversarial found\n",
      "simple adversarial found\n",
      "simple adversarial found\n",
      "simple adversarial found\n",
      "simple adversarial found\n",
      "simple adversarial found\n",
      "simple adversarial found\n",
      "simple adversarial found\n",
      "simple adversarial found\n",
      "simple adversarial found\n",
      "simple adversarial found\n",
      "1.0\n",
      "Found, stopping!\n"
     ]
    }
   ],
   "source": [
    "N_dim = 3\n",
    "dsize = 2000\n",
    "\n",
    "for repeat_iteration in range(500):\n",
    "    ds = utils.make_dataset(dsize, N_dim, limits)\n",
    "    \n",
    "    trained_model = utils.train_model(N_dim, ds, 'dset_size_%s_bad_data'%dsize, epochs=1000, disable_progress = True)\n",
    "    model_to_attack = trained_model.cpu()\n",
    "    \n",
    "    attack_output = utils.cma_experiment(model_to_attack, N_dim, test_limits, limits, 10, disable_progress = True)\n",
    "    attack_rate = len(attack_output.in_dist_advs)/len(attack_output.starts)\n",
    "    \n",
    "    print(attack_rate)\n",
    "    if attack_rate > 0.6:\n",
    "        print(\"Found, stopping!\")\n",
    "        break"
   ]
  },
  {
   "cell_type": "code",
   "execution_count": 23,
   "id": "cognitive-listening",
   "metadata": {
    "scrolled": true
   },
   "outputs": [
    {
     "data": {
      "text/plain": [
       "tensor([0, 0, 0, 0, 0, 0, 0, 0, 0, 0])"
      ]
     },
     "execution_count": 23,
     "metadata": {},
     "output_type": "execute_result"
    }
   ],
   "source": [
    "torch.argmax(model_to_attack(torch.vstack(attack_output.starts)),dim=1)"
   ]
  },
  {
   "cell_type": "code",
   "execution_count": 24,
   "id": "patient-globe",
   "metadata": {},
   "outputs": [
    {
     "data": {
      "text/plain": [
       "tensor([1, 1, 1, 1, 1, 1, 1, 1, 1, 1])"
      ]
     },
     "execution_count": 24,
     "metadata": {},
     "output_type": "execute_result"
    }
   ],
   "source": [
    "torch.argmax(model_to_attack(torch.from_numpy(np.array(attack_output.in_dist_advs)).float()),dim=1)"
   ]
  },
  {
   "cell_type": "code",
   "execution_count": 25,
   "id": "authorized-passage",
   "metadata": {},
   "outputs": [],
   "source": [
    "# torch.from_numpy(np.array(attack_output.advs))"
   ]
  },
  {
   "cell_type": "code",
   "execution_count": 26,
   "id": "logical-nation",
   "metadata": {},
   "outputs": [],
   "source": [
    "good_attack_info = [model_to_attack, attack_output]"
   ]
  },
  {
   "cell_type": "code",
   "execution_count": 27,
   "id": "dramatic-wisconsin",
   "metadata": {},
   "outputs": [],
   "source": [
    "# !pwd"
   ]
  },
  {
   "cell_type": "code",
   "execution_count": 28,
   "id": "effective-explanation",
   "metadata": {},
   "outputs": [],
   "source": [
    "with open('good_attack_info_3.p','wb') as F:\n",
    "    pickle.dump(good_attack_info, F)"
   ]
  },
  {
   "cell_type": "markdown",
   "id": "through-hungarian",
   "metadata": {},
   "source": [
    "#### Failure found. Now, let's find out why it's happening in the other notebook."
   ]
  }
 ],
 "metadata": {
  "kernelspec": {
   "display_name": "diff_rendering_ml",
   "language": "python",
   "name": "diff_rendering_ml"
  },
  "language_info": {
   "codemirror_mode": {
    "name": "ipython",
    "version": 3
   },
   "file_extension": ".py",
   "mimetype": "text/x-python",
   "name": "python",
   "nbconvert_exporter": "python",
   "pygments_lexer": "ipython3",
   "version": "3.8.5"
  }
 },
 "nbformat": 4,
 "nbformat_minor": 5
}
