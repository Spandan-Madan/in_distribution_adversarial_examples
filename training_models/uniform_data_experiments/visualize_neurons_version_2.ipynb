{
 "cells": [
  {
   "cell_type": "code",
   "execution_count": 184,
   "id": "heavy-tuesday",
   "metadata": {},
   "outputs": [],
   "source": [
    "import pickle\n",
    "import torch\n",
    "import torch.nn as nn\n",
    "import numpy as np\n",
    "\n",
    "import utils\n",
    "from utils import CMA_info\n",
    "from utils import MLP\n",
    "import matplotlib.pyplot as plt"
   ]
  },
  {
   "cell_type": "code",
   "execution_count": 2,
   "id": "pointed-request",
   "metadata": {},
   "outputs": [],
   "source": [
    "with open('../data_size_experiment_5_repeats.p','rb') as F:\n",
    "    all_info = pickle.load(F)"
   ]
  },
  {
   "cell_type": "code",
   "execution_count": 195,
   "id": "quiet-profit",
   "metadata": {},
   "outputs": [],
   "source": [
    "model = all_info[0][0][500000]\n",
    "good_samples = torch.vstack(all_info[0][1][500000].starts)\n",
    "bad_samples = torch.from_numpy(np.vstack(all_info[0][1][500000].in_dist_advs)).float()"
   ]
  },
  {
   "cell_type": "code",
   "execution_count": 196,
   "id": "digital-conspiracy",
   "metadata": {},
   "outputs": [],
   "source": [
    "layer_1 = model.layers[0]"
   ]
  },
  {
   "cell_type": "code",
   "execution_count": 197,
   "id": "banner-pursuit",
   "metadata": {},
   "outputs": [],
   "source": [
    "w_i = layer_1.weight"
   ]
  },
  {
   "cell_type": "code",
   "execution_count": 250,
   "id": "responsible-mathematics",
   "metadata": {},
   "outputs": [
    {
     "data": {
      "text/plain": [
       "tensor(0.0267)"
      ]
     },
     "execution_count": 250,
     "metadata": {},
     "output_type": "execute_result"
    }
   ],
   "source": [
    "torch.mean(w_i[NEURON_NUM].detach())"
   ]
  },
  {
   "cell_type": "code",
   "execution_count": 247,
   "id": "medieval-telling",
   "metadata": {},
   "outputs": [
    {
     "data": {
      "image/png": "[encoded data removed]",
      "text/plain": [
       "<Figure size 432x288 with 1 Axes>"
      ]
     },
     "metadata": {
      "needs_background": "light"
     },
     "output_type": "display_data"
    }
   ],
   "source": [
    "NEURON_NUM = \n",
    "plt.hist(np.array(w_i[NEURON_NUM].detach()))\n",
    "plt.show()"
   ]
  },
  {
   "cell_type": "code",
   "execution_count": 230,
   "id": "italic-congo",
   "metadata": {},
   "outputs": [],
   "source": [
    "good_w_i_eps_is = []\n",
    "for sample_num in range(len(good_samples)):\n",
    "    good_sample = good_samples[sample_num]\n",
    "    good_w_i_eps_is.append(torch.dot(good_sample, w_i[NEURON_NUM]).item())"
   ]
  },
  {
   "cell_type": "code",
   "execution_count": 229,
   "id": "equal-flooring",
   "metadata": {},
   "outputs": [
    {
     "data": {
      "image/png": "[encoded data removed]",
      "text/plain": [
       "<Figure size 432x288 with 1 Axes>"
      ]
     },
     "metadata": {
      "needs_background": "light"
     },
     "output_type": "display_data"
    }
   ],
   "source": [
    "plt.hist(np.array(good_w_i_eps_is), label='Before CMA')\n",
    "# plt.hist(,alpha=0.4,label='After CMA')\n",
    "plt.title('Histogram \\sum_i(eps_i*w_i) Neuron %s'%NEURON_NUM)\n",
    "plt.xlabel('\\sum_i(eps_i*w_i)')\n",
    "plt.ylabel('Number of samples')\n",
    "plt.legend()\n",
    "plt.show()"
   ]
  },
  {
   "cell_type": "code",
   "execution_count": 213,
   "id": "proper-cruise",
   "metadata": {},
   "outputs": [
    {
     "data": {
      "image/png": "[encoded data removed]",
      "text/plain": [
       "<Figure size 432x288 with 1 Axes>"
      ]
     },
     "metadata": {
      "needs_background": "light"
     },
     "output_type": "display_data"
    }
   ],
   "source": [
    "\n",
    "\n",
    "bad_w_i_eps_is = []\n",
    "for sample_num in range(len(bad_samples)):\n",
    "    bad_sample = bad_samples[sample_num]\n",
    "    bad_w_i_eps_is.append(torch.dot(bad_sample, w_i[NEURON_NUM]).item())\n",
    "\n",
    "plt.hist(np.array(good_w_i_eps_is) - np.array(bad_w_i_eps_is), label='Before CMA')\n",
    "# plt.hist(,alpha=0.4,label='After CMA')\n",
    "plt.title('Histogram \\sum_i(eps_i*w_i) Neuron %s'%NEURON_NUM)\n",
    "plt.xlabel('\\sum_i(eps_i*w_i)')\n",
    "plt.ylabel('Number of samples')\n",
    "plt.legend()\n",
    "plt.show()"
   ]
  },
  {
   "cell_type": "markdown",
   "id": "elder-southwest",
   "metadata": {},
   "source": [
    "# good equal norm samples"
   ]
  },
  {
   "cell_type": "code",
   "execution_count": 150,
   "id": "future-abortion",
   "metadata": {},
   "outputs": [],
   "source": [
    "# new_samples = torch.zeros((bad_samples.shape))\n",
    "\n",
    "# for i in range(len(bad_samples)):\n",
    "#     random_sample = torch.zeros((bad_samples.shape[1]))\n",
    "#     r1 = torch.max(bad_samples[i])\n",
    "#     r2 = torch.min(bad_samples[i])\n",
    "#     new_samples[i] = (r1 - r2) * torch.rand(100) + r2"
   ]
  },
  {
   "cell_type": "code",
   "execution_count": 151,
   "id": "accepted-camcorder",
   "metadata": {},
   "outputs": [],
   "source": [
    "# def predict(model, sample):\n",
    "#     return torch.argmax(model(sample),1)"
   ]
  },
  {
   "cell_type": "code",
   "execution_count": 153,
   "id": "respiratory-rubber",
   "metadata": {},
   "outputs": [],
   "source": [
    "# with open('new_samples_good_adv_range.p','wb') as F:\n",
    "#     pickle.dump(new_samples, F)"
   ]
  },
  {
   "cell_type": "code",
   "execution_count": 162,
   "id": "brilliant-honduras",
   "metadata": {},
   "outputs": [
    {
     "data": {
      "text/plain": [
       "50"
      ]
     },
     "execution_count": 162,
     "metadata": {},
     "output_type": "execute_result"
    }
   ],
   "source": [
    "len(new_w_i_eps_is)"
   ]
  },
  {
   "cell_type": "code",
   "execution_count": 163,
   "id": "isolated-error",
   "metadata": {},
   "outputs": [
    {
     "data": {
      "text/plain": [
       "50"
      ]
     },
     "execution_count": 163,
     "metadata": {},
     "output_type": "execute_result"
    }
   ],
   "source": [
    "len(bad_w_i_eps_is)"
   ]
  },
  {
   "cell_type": "code",
   "execution_count": 252,
   "id": "million-walker",
   "metadata": {
    "scrolled": true
   },
   "outputs": [
    {
     "data": {
      "image/png": "[encoded data removed]",
      "text/plain": [
       "<Figure size 432x288 with 1 Axes>"
      ]
     },
     "metadata": {
      "needs_background": "light"
     },
     "output_type": "display_data"
    }
   ],
   "source": [
    "NEURON_NUM = 90\n",
    "\n",
    "new_w_i_eps_is = []\n",
    "for sample_num in range(len(new_samples)):\n",
    "    new_sample = new_samples[sample_num]\n",
    "    new_w_i_eps_is.append(torch.dot(new_sample, w_i[NEURON_NUM]).item())\n",
    "\n",
    "bad_w_i_eps_is = []\n",
    "for sample_num in range(len(bad_samples)):\n",
    "    bad_sample = bad_samples[sample_num]\n",
    "    bad_w_i_eps_is.append(torch.dot(bad_sample, w_i[NEURON_NUM]).item())\n",
    "\n",
    "plt.hist(np.array(new_w_i_eps_is) - np.array(bad_w_i_eps_is), label='CMA - New')\n",
    "# plt.hist(bad_w_i_eps_is,alpha=0.4,label='After CMA')\n",
    "plt.title('Histogram \\sum_i(eps_i*w_i) Neuron %s'%NEURON_NUM)\n",
    "plt.xlabel('\\sum_i(eps_i*w_i)')\n",
    "plt.ylabel('Number of samples')\n",
    "plt.legend()\n",
    "plt.show()"
   ]
  },
  {
   "cell_type": "code",
   "execution_count": 261,
   "id": "ethical-statement",
   "metadata": {},
   "outputs": [],
   "source": [
    "import random\n",
    "indices = list(range(50))"
   ]
  },
  {
   "cell_type": "code",
   "execution_count": 262,
   "id": "dense-prescription",
   "metadata": {},
   "outputs": [],
   "source": [
    "random.shuffle(indices)"
   ]
  },
  {
   "cell_type": "code",
   "execution_count": 263,
   "id": "junior-investigator",
   "metadata": {},
   "outputs": [
    {
     "data": {
      "text/plain": [
       "array([44, 30, 14, 23, 42,  6, 27, 26,  3, 21,  4,  1, 29, 37, 35, 46, 22,\n",
       "       13, 15, 10, 25, 43, 40,  0, 47,  2, 31, 12, 24, 39, 45, 38, 19, 34,\n",
       "       41, 33, 17,  5,  9, 49, 32, 20, 18,  7, 36, 11, 16, 48,  8, 28])"
      ]
     },
     "execution_count": 263,
     "metadata": {},
     "output_type": "execute_result"
    }
   ],
   "source": [
    "np.random.permutation(indices)"
   ]
  },
  {
   "cell_type": "code",
   "execution_count": 258,
   "id": "vertical-contribution",
   "metadata": {},
   "outputs": [
    {
     "ename": "AttributeError",
     "evalue": "'numpy.ndarray' object has no attribute 'random'",
     "output_type": "error",
     "traceback": [
      "\u001b[0;31m---------------------------------------------------------------------------\u001b[0m",
      "\u001b[0;31mAttributeError\u001b[0m                            Traceback (most recent call last)",
      "\u001b[0;32m<ipython-input-258-0701f7f39049>\u001b[0m in \u001b[0;36m<module>\u001b[0;34m\u001b[0m\n\u001b[0;32m----> 1\u001b[0;31m \u001b[0mplt\u001b[0m\u001b[0;34m.\u001b[0m\u001b[0mhist\u001b[0m\u001b[0;34m(\u001b[0m\u001b[0mnp\u001b[0m\u001b[0;34m.\u001b[0m\u001b[0marray\u001b[0m\u001b[0;34m(\u001b[0m\u001b[0mnew_w_i_eps_is\u001b[0m\u001b[0;34m)\u001b[0m \u001b[0;34m-\u001b[0m \u001b[0mnp\u001b[0m\u001b[0;34m.\u001b[0m\u001b[0marray\u001b[0m\u001b[0;34m(\u001b[0m\u001b[0mgood_w_i_eps_is\u001b[0m\u001b[0;34m)\u001b[0m\u001b[0;34m.\u001b[0m\u001b[0mrandom\u001b[0m\u001b[0;34m.\u001b[0m\u001b[0mpermutation\u001b[0m\u001b[0;34m(\u001b[0m\u001b[0mindices\u001b[0m\u001b[0;34m)\u001b[0m\u001b[0;34m,\u001b[0m \u001b[0mlabel\u001b[0m\u001b[0;34m=\u001b[0m\u001b[0;34m'CMA - New'\u001b[0m\u001b[0;34m)\u001b[0m\u001b[0;34m\u001b[0m\u001b[0;34m\u001b[0m\u001b[0m\n\u001b[0m\u001b[1;32m      2\u001b[0m \u001b[0;31m# plt.hist(bad_w_i_eps_is,alpha=0.4,label='After CMA')\u001b[0m\u001b[0;34m\u001b[0m\u001b[0;34m\u001b[0m\u001b[0;34m\u001b[0m\u001b[0m\n\u001b[1;32m      3\u001b[0m \u001b[0mplt\u001b[0m\u001b[0;34m.\u001b[0m\u001b[0mtitle\u001b[0m\u001b[0;34m(\u001b[0m\u001b[0;34m'Histogram \\sum_i(eps_i*w_i) Neuron %s'\u001b[0m\u001b[0;34m%\u001b[0m\u001b[0mNEURON_NUM\u001b[0m\u001b[0;34m)\u001b[0m\u001b[0;34m\u001b[0m\u001b[0;34m\u001b[0m\u001b[0m\n\u001b[1;32m      4\u001b[0m \u001b[0mplt\u001b[0m\u001b[0;34m.\u001b[0m\u001b[0mxlabel\u001b[0m\u001b[0;34m(\u001b[0m\u001b[0;34m'\\sum_i(eps_i*w_i)'\u001b[0m\u001b[0;34m)\u001b[0m\u001b[0;34m\u001b[0m\u001b[0;34m\u001b[0m\u001b[0m\n\u001b[1;32m      5\u001b[0m \u001b[0mplt\u001b[0m\u001b[0;34m.\u001b[0m\u001b[0mylabel\u001b[0m\u001b[0;34m(\u001b[0m\u001b[0;34m'Number of samples'\u001b[0m\u001b[0;34m)\u001b[0m\u001b[0;34m\u001b[0m\u001b[0;34m\u001b[0m\u001b[0m\n",
      "\u001b[0;31mAttributeError\u001b[0m: 'numpy.ndarray' object has no attribute 'random'"
     ]
    }
   ],
   "source": [
    "plt.hist(np.array(new_w_i_eps_is) - np.array(good_w_i_eps_is).random.permutation(indices), label='CMA - New')\n",
    "# plt.hist(bad_w_i_eps_is,alpha=0.4,label='After CMA')\n",
    "plt.title('Histogram \\sum_i(eps_i*w_i) Neuron %s'%NEURON_NUM)\n",
    "plt.xlabel('\\sum_i(eps_i*w_i)')\n",
    "plt.ylabel('Number of samples')\n",
    "plt.legend()\n",
    "plt.show()"
   ]
  },
  {
   "cell_type": "code",
   "execution_count": null,
   "id": "representative-clause",
   "metadata": {},
   "outputs": [],
   "source": []
  }
 ],
 "metadata": {
  "kernelspec": {
   "display_name": "diff_rendering_ml",
   "language": "python",
   "name": "diff_rendering_ml"
  },
  "language_info": {
   "codemirror_mode": {
    "name": "ipython",
    "version": 3
   },
   "file_extension": ".py",
   "mimetype": "text/x-python",
   "name": "python",
   "nbconvert_exporter": "python",
   "pygments_lexer": "ipython3",
   "version": "3.8.5"
  }
 },
 "nbformat": 4,
 "nbformat_minor": 5
}
