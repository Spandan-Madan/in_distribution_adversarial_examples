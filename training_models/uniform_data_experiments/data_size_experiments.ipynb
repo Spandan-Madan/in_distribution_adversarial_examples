{
 "cells": [
  {
   "cell_type": "code",
   "execution_count": 13,
   "id": "central-automation",
   "metadata": {},
   "outputs": [
    {
     "name": "stdout",
     "output_type": "stream",
     "text": [
      "1\n"
     ]
    }
   ],
   "source": [
    "print(1)"
   ]
  },
  {
   "cell_type": "code",
   "execution_count": 2,
   "id": "acquired-there",
   "metadata": {},
   "outputs": [],
   "source": [
    "import pickle\n",
    "import utils\n",
    "import numpy as np\n",
    "import matplotlib.pyplot as plt\n",
    "from utils import MLP\n",
    "from utils import CMA_info\n",
    "\n",
    "CURRENT_MODEL = None\n",
    "N_dim = 100\n",
    "\n",
    "\n",
    "x1_min = -10\n",
    "x1_max = 10\n",
    "\n",
    "x2_min = 20\n",
    "x2_max = 40\n",
    "\n",
    "test_min = -1\n",
    "test_max= 1\n",
    "\n",
    "limits = [x1_min, x1_max, x2_min, x2_max]\n",
    "test_limits = [test_min, test_max]\n",
    "\n",
    "all_info = []"
   ]
  },
  {
   "cell_type": "code",
   "execution_count": 3,
   "id": "coordinate-possibility",
   "metadata": {},
   "outputs": [],
   "source": [
    "import pickle"
   ]
  },
  {
   "cell_type": "code",
   "execution_count": 5,
   "id": "complex-accessory",
   "metadata": {},
   "outputs": [],
   "source": [
    "import seaborn as sns"
   ]
  },
  {
   "cell_type": "code",
   "execution_count": 6,
   "id": "characteristic-indonesia",
   "metadata": {},
   "outputs": [
    {
     "data": {
      "text/plain": [
       "<Figure size 432x288 with 0 Axes>"
      ]
     },
     "metadata": {},
     "output_type": "display_data"
    }
   ],
   "source": [
    "sns.despine()"
   ]
  },
  {
   "cell_type": "code",
   "execution_count": 7,
   "id": "latter-national",
   "metadata": {},
   "outputs": [
    {
     "name": "stdout",
     "output_type": "stream",
     "text": [
      "/net/storage001.ib.cluster/om2/user/smadan/differentiable_graphics_ml/training_models/uniform_data_experiments\n"
     ]
    }
   ],
   "source": [
    "!pwd"
   ]
  },
  {
   "cell_type": "code",
   "execution_count": null,
   "id": "desirable-memphis",
   "metadata": {},
   "outputs": [],
   "source": [
    "with open('data_size_experiment_5_repeats_500_dim.p','rb') as F:\n",
    "    ai = pickle.load(F)"
   ]
  },
  {
   "cell_type": "code",
   "execution_count": 7,
   "id": "approved-grain",
   "metadata": {},
   "outputs": [],
   "source": [
    "# ai[0][1]"
   ]
  },
  {
   "cell_type": "code",
   "execution_count": 11,
   "id": "different-notebook",
   "metadata": {},
   "outputs": [],
   "source": [
    "with open('data_size_experiment_5_repeats_20_dim_standardized.p','rb') as F:\n",
    "    all_info_20 = pickle.load(F)"
   ]
  },
  {
   "cell_type": "code",
   "execution_count": 9,
   "id": "million-addiction",
   "metadata": {},
   "outputs": [],
   "source": [
    "# with open('data_size_experiment_5_repeats_100_dim_standardized.p','rb') as F:\n",
    "#     all_info_100 = pickle.load(F)"
   ]
  },
  {
   "cell_type": "code",
   "execution_count": 10,
   "id": "oriental-grenada",
   "metadata": {},
   "outputs": [],
   "source": [
    "with open('data_size_experiment_5_repeats_500_dim_standardized.p','rb') as F:\n",
    "    all_info_500__ = pickle.load(F)"
   ]
  },
  {
   "cell_type": "code",
   "execution_count": 53,
   "id": "harmful-mandate",
   "metadata": {},
   "outputs": [],
   "source": [
    "with open('data_size_experiment_5_repeats_20_dim_10000000_repeated.p','rb') as F:\n",
    "    all_info_20_10000000 = pickle.load(F)"
   ]
  },
  {
   "cell_type": "code",
   "execution_count": 54,
   "id": "racial-separation",
   "metadata": {},
   "outputs": [
    {
     "data": {
      "text/plain": [
       "([0.05600000000000001],\n",
       " [0.0463033476111609],\n",
       " [17.027015597610553],\n",
       " [4.322406293564016])"
      ]
     },
     "execution_count": 54,
     "metadata": {},
     "output_type": "execute_result"
    }
   ],
   "source": [
    "get_distances(all_info_20_10000000)"
   ]
  },
  {
   "cell_type": "code",
   "execution_count": 11,
   "id": "current-gauge",
   "metadata": {},
   "outputs": [],
   "source": [
    "all_info_100 = all_info_500__[:5]\n",
    "all_info_500 = all_info_500__[5:]"
   ]
  },
  {
   "cell_type": "code",
   "execution_count": null,
   "id": "south-gross",
   "metadata": {},
   "outputs": [],
   "source": [
    "# len(all_info_100)"
   ]
  },
  {
   "cell_type": "code",
   "execution_count": null,
   "id": "rising-chassis",
   "metadata": {},
   "outputs": [],
   "source": [
    "# all_info_20[0][1][1000].starts[0]"
   ]
  },
  {
   "cell_type": "code",
   "execution_count": null,
   "id": "outdoor-breast",
   "metadata": {},
   "outputs": [],
   "source": [
    "# all_info_100[0][1][1000].starts[0]"
   ]
  },
  {
   "cell_type": "code",
   "execution_count": null,
   "id": "figured-attribute",
   "metadata": {},
   "outputs": [],
   "source": [
    "# all_info_500[6][1][1000].starts[0]"
   ]
  },
  {
   "cell_type": "code",
   "execution_count": null,
   "id": "medical-mount",
   "metadata": {},
   "outputs": [],
   "source": [
    "print()"
   ]
  },
  {
   "cell_type": "code",
   "execution_count": 8,
   "id": "fuzzy-expression",
   "metadata": {},
   "outputs": [],
   "source": [
    "with open('data_size_experiment_5_repeats_20_dim_10000000.p','rb') as F:\n",
    "    all_info_20_10000000 = pickle.load(F)\n",
    "    \n",
    "# with open('data_size_experiment_5_repeats_100_dim_10000000.p','rb') as F:\n",
    "#     all_info_100_10000000 = pickle.load(F)\n",
    "    \n",
    "# with open('data_size_experiment_5_repeats_500_dim_10000000.p','rb') as F:\n",
    "#     all_info_500_10000000__ = pickle.load(F)"
   ]
  },
  {
   "cell_type": "code",
   "execution_count": 18,
   "id": "unlike-lucas",
   "metadata": {},
   "outputs": [],
   "source": [
    "all_info_20_10000000 = all_info_500_10000000__[:5]\n",
    "# all_info_100_10000000 = ai\n",
    "all_info_500_10000000 = all_info_500_10000000__[10:]"
   ]
  },
  {
   "cell_type": "code",
   "execution_count": 42,
   "id": "neutral-photographer",
   "metadata": {},
   "outputs": [],
   "source": [
    "# all_info_20_10000000[0][1][10000000].starts[0]"
   ]
  },
  {
   "cell_type": "code",
   "execution_count": 43,
   "id": "impossible-credits",
   "metadata": {},
   "outputs": [],
   "source": [
    "# all_info_100_10000000[0][1][10000000].starts[0]"
   ]
  },
  {
   "cell_type": "code",
   "execution_count": 44,
   "id": "excess-revolution",
   "metadata": {},
   "outputs": [],
   "source": [
    "# len(all_info_500_10000000)"
   ]
  },
  {
   "cell_type": "code",
   "execution_count": 45,
   "id": "atlantic-surge",
   "metadata": {},
   "outputs": [],
   "source": [
    "# all_info_500_10000000[11][1][10000000].starts[0].shape"
   ]
  },
  {
   "cell_type": "code",
   "execution_count": 46,
   "id": "regular-beverage",
   "metadata": {},
   "outputs": [
    {
     "ename": "KeyError",
     "evalue": "10000000",
     "output_type": "error",
     "traceback": [
      "\u001b[0;31m---------------------------------------------------------------------------\u001b[0m",
      "\u001b[0;31mKeyError\u001b[0m                                  Traceback (most recent call last)",
      "\u001b[0;32m<ipython-input-46-b683049626b8>\u001b[0m in \u001b[0;36m<module>\u001b[0;34m\u001b[0m\n\u001b[1;32m      1\u001b[0m \u001b[0;32mfor\u001b[0m \u001b[0mi\u001b[0m \u001b[0;32min\u001b[0m \u001b[0mrange\u001b[0m\u001b[0;34m(\u001b[0m\u001b[0;36m5\u001b[0m\u001b[0;34m)\u001b[0m\u001b[0;34m:\u001b[0m\u001b[0;34m\u001b[0m\u001b[0;34m\u001b[0m\u001b[0m\n\u001b[1;32m      2\u001b[0m     \u001b[0mall_info_20\u001b[0m\u001b[0;34m[\u001b[0m\u001b[0mi\u001b[0m\u001b[0;34m]\u001b[0m\u001b[0;34m[\u001b[0m\u001b[0;36m0\u001b[0m\u001b[0;34m]\u001b[0m\u001b[0;34m[\u001b[0m\u001b[0;36m10000000\u001b[0m\u001b[0;34m]\u001b[0m \u001b[0;34m=\u001b[0m \u001b[0mall_info_20_10000000\u001b[0m\u001b[0;34m[\u001b[0m\u001b[0mi\u001b[0m\u001b[0;34m]\u001b[0m\u001b[0;34m[\u001b[0m\u001b[0;36m0\u001b[0m\u001b[0;34m]\u001b[0m\u001b[0;34m[\u001b[0m\u001b[0;36m10000000\u001b[0m\u001b[0;34m]\u001b[0m\u001b[0;34m\u001b[0m\u001b[0;34m\u001b[0m\u001b[0m\n\u001b[0;32m----> 3\u001b[0;31m     \u001b[0mall_info_100\u001b[0m\u001b[0;34m[\u001b[0m\u001b[0mi\u001b[0m\u001b[0;34m]\u001b[0m\u001b[0;34m[\u001b[0m\u001b[0;36m0\u001b[0m\u001b[0;34m]\u001b[0m\u001b[0;34m[\u001b[0m\u001b[0;36m10000000\u001b[0m\u001b[0;34m]\u001b[0m \u001b[0;34m=\u001b[0m \u001b[0mall_info_100_10000000\u001b[0m\u001b[0;34m[\u001b[0m\u001b[0mi\u001b[0m\u001b[0;34m]\u001b[0m\u001b[0;34m[\u001b[0m\u001b[0;36m0\u001b[0m\u001b[0;34m]\u001b[0m\u001b[0;34m[\u001b[0m\u001b[0;36m10000000\u001b[0m\u001b[0;34m]\u001b[0m\u001b[0;34m\u001b[0m\u001b[0;34m\u001b[0m\u001b[0m\n\u001b[0m\u001b[1;32m      4\u001b[0m     \u001b[0mall_info_500\u001b[0m\u001b[0;34m[\u001b[0m\u001b[0mi\u001b[0m\u001b[0;34m]\u001b[0m\u001b[0;34m[\u001b[0m\u001b[0;36m0\u001b[0m\u001b[0;34m]\u001b[0m\u001b[0;34m[\u001b[0m\u001b[0;36m10000000\u001b[0m\u001b[0;34m]\u001b[0m \u001b[0;34m=\u001b[0m \u001b[0mall_info_500_10000000\u001b[0m\u001b[0;34m[\u001b[0m\u001b[0mi\u001b[0m\u001b[0;34m]\u001b[0m\u001b[0;34m[\u001b[0m\u001b[0;36m0\u001b[0m\u001b[0;34m]\u001b[0m\u001b[0;34m[\u001b[0m\u001b[0;36m10000000\u001b[0m\u001b[0;34m]\u001b[0m\u001b[0;34m\u001b[0m\u001b[0;34m\u001b[0m\u001b[0m\n\u001b[1;32m      5\u001b[0m \u001b[0;34m\u001b[0m\u001b[0m\n",
      "\u001b[0;31mKeyError\u001b[0m: 10000000"
     ]
    }
   ],
   "source": [
    "for i in range(5):\n",
    "    all_info_20[i][0][10000000] = all_info_20_10000000[i][0][10000000]\n",
    "    all_info_100[i][0][10000000] = all_info_100_10000000[i][0][10000000]\n",
    "    all_info_500[i][0][10000000] = all_info_500_10000000[i][0][10000000]\n",
    "    \n",
    "    all_info_20[i][1][10000000] = all_info_20_10000000[i][1][10000000]\n",
    "    all_info_100[i][1][10000000] = all_info_100_10000000[i][1][10000000]\n",
    "    all_info_500[i][1][10000000] = all_info_500_10000000[i][1][10000000]"
   ]
  },
  {
   "cell_type": "markdown",
   "id": "engaging-incidence",
   "metadata": {},
   "source": [
    "# Attack Rate Stats"
   ]
  },
  {
   "cell_type": "code",
   "execution_count": 9,
   "id": "contemporary-mentor",
   "metadata": {},
   "outputs": [],
   "source": [
    "def get_distances(all_info):\n",
    "    dist_means = []\n",
    "    dist_stds = []\n",
    "    attack_rate_means = []\n",
    "    attack_rate_stds = []\n",
    "\n",
    "    for dset in sorted(all_info[0][1].keys()):\n",
    "        all_distances = []\n",
    "        all_attack_rates = []\n",
    "\n",
    "        for i in range(5):\n",
    "            all_distances.extend(all_info[i][1][dset].distances)        \n",
    "            num_attacks = len(all_info[i][1][dset].in_dist_advs)\n",
    "            num_total = len(all_info[i][1][dset].starts)\n",
    "            all_attack_rates.extend([num_attacks/num_total])\n",
    "\n",
    "        attack_rate_means.append(np.mean(all_attack_rates))\n",
    "        attack_rate_stds.append(np.std(all_attack_rates))\n",
    "        dist_mean = np.mean(all_distances)\n",
    "        dist_std = np.std(all_distances)\n",
    "        dist_means.append(dist_mean)\n",
    "        dist_stds.append(dist_std)\n",
    "    \n",
    "    return attack_rate_means, attack_rate_stds, dist_means, dist_stds"
   ]
  },
  {
   "cell_type": "code",
   "execution_count": 24,
   "id": "adaptive-timing",
   "metadata": {},
   "outputs": [
    {
     "data": {
      "text/plain": [
       "dict_keys([10000, 100000, 1000000])"
      ]
     },
     "execution_count": 24,
     "metadata": {},
     "output_type": "execute_result"
    }
   ],
   "source": [
    "ai[0][1].keys()"
   ]
  },
  {
   "cell_type": "code",
   "execution_count": 12,
   "id": "wooden-characteristic",
   "metadata": {},
   "outputs": [
    {
     "data": {
      "text/plain": [
       "([0.9879999999999999, 0.9480000000000001, 0.712, 0.05600000000000001],\n",
       " [0.02400000000000002,\n",
       "  0.027129319932501058,\n",
       "  0.14232357499725756,\n",
       "  0.05276362383309168],\n",
       " [8.33913018484453,\n",
       "  10.868437235571106,\n",
       "  12.435497626640656,\n",
       "  18.947952675451216],\n",
       " [3.226117907026516, 3.910698577264802, 4.357437344637812, 5.495973520459729])"
      ]
     },
     "execution_count": 12,
     "metadata": {},
     "output_type": "execute_result"
    }
   ],
   "source": [
    "get_distances(all_info_20)"
   ]
  },
  {
   "cell_type": "code",
   "execution_count": 10,
   "id": "afraid-brooklyn",
   "metadata": {},
   "outputs": [
    {
     "data": {
      "text/plain": [
       "([0.616], [0.1981514572240134], [14.118477178148972], [4.68582766097596])"
      ]
     },
     "execution_count": 10,
     "metadata": {},
     "output_type": "execute_result"
    }
   ],
   "source": [
    "get_distances(all_info_20)"
   ]
  },
  {
   "cell_type": "code",
   "execution_count": 18,
   "id": "worldwide-burns",
   "metadata": {},
   "outputs": [],
   "source": [
    "attack_rate_means_20, attack_rate_stds_20, dist_means_20, dist_stds_20 = get_distances(all_info_20)\n",
    "attack_rate_means_100, attack_rate_stds_100, dist_means_100, dist_stds_100 = get_distances(all_info_100)\n",
    "attack_rate_means_500, attack_rate_stds_500, dist_means_500, dist_stds_500 = get_distances(all_info_500)"
   ]
  },
  {
   "cell_type": "code",
   "execution_count": 24,
   "id": "precious-shower",
   "metadata": {},
   "outputs": [],
   "source": [
    "data_labels = [1000, 10000, 100000, 1000000, 10000000]"
   ]
  },
  {
   "cell_type": "code",
   "execution_count": 55,
   "id": "spare-attack",
   "metadata": {},
   "outputs": [],
   "source": [
    "attack_rate_means_20 = [0.98, 0.95, 0.7, 0.056, 0.056]\n",
    "attack_rate_stds_20 = [0.002, 0.0027, 0.15, 0.052, 0.046]\n",
    "dist_means_20 = [8.33, 10.86, 12.43, 18.95, 17.02]\n",
    "dist_stds_20 = [3.22, 3.91, 4.35, 5.49, 4.32]"
   ]
  },
  {
   "cell_type": "code",
   "execution_count": 56,
   "id": "hydraulic-circular",
   "metadata": {},
   "outputs": [],
   "source": [
    "attack_rate_means_100 = [1, 1.0, 1.0, 1.0, 0.464]\n",
    "attack_rate_stds_100 = [0, 0, 0, 0, 0.173]\n",
    "dist_means_100 = [0.98, 0.79, 1.469, 10.84, 22.146]\n",
    "dist_stds_100 = [0.45, 0.55, 0.83, 2.4, 10.6]"
   ]
  },
  {
   "cell_type": "code",
   "execution_count": 57,
   "id": "regulated-community",
   "metadata": {},
   "outputs": [],
   "source": [
    "attack_rate_means_500 = [1, 1, 1.0, 1.0, 1.0]\n",
    "attack_rate_stds_500 = [0, 0, 0, 0, 0]\n",
    "dist_means_500 = [0.98, 1.03, 1.91, 7.74, 9.52]\n",
    "dist_stds_500 = [0.54, 0.72, 0.8, 2.45, 2.35]"
   ]
  },
  {
   "cell_type": "code",
   "execution_count": 58,
   "id": "statewide-worker",
   "metadata": {},
   "outputs": [],
   "source": [
    "# all_info_20[0][0].keys()"
   ]
  },
  {
   "cell_type": "code",
   "execution_count": 59,
   "id": "through-silence",
   "metadata": {},
   "outputs": [],
   "source": [
    "# with open('data_10000000_stats.p','rb') as F:\n",
    "#     data_10000000_stats = pickle.load(F)\n",
    "\n",
    "# attack_rate_means.append(np.mean(data_10000000_stats[0]))\n",
    "# attack_rate_stds.append(np.std(data_10000000_stats[0]))\n",
    "\n",
    "# dist_means.append(data_10000000_stats[-2])\n",
    "# dist_stds.append(data_10000000_stats[-1])\n",
    "\n",
    "# list(all_info[0][1].keys())"
   ]
  },
  {
   "cell_type": "code",
   "execution_count": 60,
   "id": "legitimate-monte",
   "metadata": {},
   "outputs": [],
   "source": [
    "# sorted(attack_rate_means_20[0][1].keys())"
   ]
  },
  {
   "cell_type": "code",
   "execution_count": 61,
   "id": "dress-edmonton",
   "metadata": {},
   "outputs": [],
   "source": [
    "# len(attack_rate_means_20)"
   ]
  },
  {
   "cell_type": "code",
   "execution_count": 62,
   "id": "organizational-treaty",
   "metadata": {},
   "outputs": [],
   "source": [
    "# sorted(all_info_20[0][1].keys())"
   ]
  },
  {
   "cell_type": "code",
   "execution_count": 63,
   "id": "italic-sentence",
   "metadata": {},
   "outputs": [],
   "source": [
    "# att"
   ]
  },
  {
   "cell_type": "code",
   "execution_count": 75,
   "id": "clear-labor",
   "metadata": {},
   "outputs": [
    {
     "data": {
      "image/png": "[encoded data removed]",
      "text/plain": [
       "<Figure size 288x252 with 1 Axes>"
      ]
     },
     "metadata": {
      "needs_background": "light"
     },
     "output_type": "display_data"
    }
   ],
   "source": [
    "# def plot_success():\n",
    "plt.figure(figsize=(4,3.5))\n",
    "plt.errorbar(range(0,len(attack_rate_means_20)), attack_rate_means_20, attack_rate_stds_20, marker='o',color='green', markersize=10, label='20 dims')\n",
    "plt.errorbar(range(0,len(attack_rate_means_100)), attack_rate_means_100, attack_rate_stds_100, marker='o',color='blue', markersize=10, label='100 dims')\n",
    "plt.errorbar(range(0,len(attack_rate_means_500)), attack_rate_means_500, attack_rate_stds_500, marker='o',color='red', markersize=10, label='500 dims')\n",
    "plt.ylim(0,1.15)\n",
    "plt.xlabel('Dataset Size (%)', fontsize=15)\n",
    "plt.ylabel('Attack Rate', fontsize=15)\n",
    "plt.xticks(ticks = range(len(attack_rate_means_20)), labels = data_labels, rotation=45, fontsize=12)\n",
    "plt.yticks(fontsize=12)\n",
    "sns.despine()\n",
    "plt.title('CMA-Search attack rate',fontsize=18, y=1.12)\n",
    "plt.tight_layout()\n",
    "plt.legend(loc=\"lower left\")\n",
    "plt.savefig('paper_figures/attack_rate_all_dims.pdf')\n",
    "plt.show()"
   ]
  },
  {
   "cell_type": "code",
   "execution_count": 65,
   "id": "rolled-studio",
   "metadata": {},
   "outputs": [],
   "source": [
    "# # def plot_success():\n",
    "# plt.figure(figsize=(4,3.5))\n",
    "# plt.errorbar(range(0,len(attack_rate_means_500)), attack_rate_means_500, attack_rate_stds_500, marker='o',color='green', markersize=10)\n",
    "# plt.ylim(0,1.15)\n",
    "# plt.xlabel('Dataset Size (%)', fontsize=15)\n",
    "# plt.ylabel('Attack Success Rate', fontsize=15)\n",
    "# plt.xticks(ticks = range(len(attack_rate_means_500)), labels = sorted(all_info_500[0][1].keys()), rotation=45, fontsize=12)\n",
    "# plt.yticks(fontsize=12)\n",
    "# sns.despine()\n",
    "# plt.title('CMA-Search success rate \\n (500 dimensions)',fontsize=18, y=1.12)\n",
    "# plt.tight_layout()\n",
    "# plt.show()"
   ]
  },
  {
   "cell_type": "code",
   "execution_count": 77,
   "id": "civilian-collector",
   "metadata": {},
   "outputs": [
    {
     "data": {
      "image/png": "[encoded data removed]",
      "text/plain": [
       "<Figure size 288x252 with 1 Axes>"
      ]
     },
     "metadata": {
      "needs_background": "light"
     },
     "output_type": "display_data"
    }
   ],
   "source": [
    "plt.figure(figsize=(4,3.5))\n",
    "plt.errorbar(range(0,len(dist_means_20)), dist_means_20, dist_stds_20, marker='o',color='green', markersize=10, label='20 dims')\n",
    "plt.errorbar(range(0,len(dist_means_100)), dist_means_100, dist_stds_100, marker='o',color='blue', markersize=10, label='100 dims')\n",
    "plt.errorbar(range(0,len(dist_means_500)), dist_means_500, dist_stds_500, marker='o',color='red', markersize=10, label='500 dims')\n",
    "plt.xlabel('Dataset Size (%)', fontsize=15)\n",
    "plt.ylabel('L2 Distance', fontsize=15)\n",
    "plt.xticks(ticks = range(len(dist_means_20)), labels = data_labels, rotation=45, fontsize=12)\n",
    "plt.yticks(fontsize=12)\n",
    "sns.despine()\n",
    "plt.title('Distance to \\n in-distribution failure',fontsize=18, y=1.12)\n",
    "plt.tight_layout()\n",
    "plt.legend(loc=\"upper left\")\n",
    "plt.savefig('paper_figures/l2_distance_all_dims.pdf')\n",
    "plt.show()"
   ]
  },
  {
   "cell_type": "code",
   "execution_count": 67,
   "id": "clear-summer",
   "metadata": {},
   "outputs": [],
   "source": [
    "# plt.figure(figsize=(4,3.5))\n",
    "# plt.errorbar(range(0,len(dist_means_500)), dist_means_500, dist_stds_500, marker='o',color='blue', markersize=10)\n",
    "# plt.xlabel('Dataset Size (%)', fontsize=15)\n",
    "# plt.ylabel('L2 Distance', fontsize=15)\n",
    "# plt.xticks(ticks = range(len(dist_means_500)), labels = sorted(all_info_500[0][1].keys()), rotation=45, fontsize=12)\n",
    "# plt.yticks(fontsize=12)\n",
    "# sns.despine()\n",
    "# plt.title('Distance to adversarial sample \\n (500 dimensions)',fontsize=18, y=1.12)\n",
    "# plt.tight_layout()\n",
    "# plt.show()"
   ]
  },
  {
   "cell_type": "code",
   "execution_count": 52,
   "id": "honey-niger",
   "metadata": {},
   "outputs": [],
   "source": [
    "# plt.errorbar(range(6), dist_means, dist_stds, marker = 'o', capsize=5)\n",
    "# plt.xticks(range(6),[10000, 50000, 100000, 500000, 1000000,10000000])\n",
    "# plt.title('Distance to adv sample as a function of dataset size')\n",
    "# plt.xlabel('Dataset Size')\n",
    "# plt.xlabel('Distance')\n",
    "# plt.ylim(0,40)\n",
    "# plt.show()"
   ]
  },
  {
   "cell_type": "code",
   "execution_count": null,
   "id": "dominant-quality",
   "metadata": {},
   "outputs": [],
   "source": []
  },
  {
   "cell_type": "code",
   "execution_count": null,
   "id": "committed-birthday",
   "metadata": {},
   "outputs": [],
   "source": []
  }
 ],
 "metadata": {
  "kernelspec": {
   "display_name": "diff_rendering_ml",
   "language": "python",
   "name": "diff_rendering_ml"
  },
  "language_info": {
   "codemirror_mode": {
    "name": "ipython",
    "version": 3
   },
   "file_extension": ".py",
   "mimetype": "text/x-python",
   "name": "python",
   "nbconvert_exporter": "python",
   "pygments_lexer": "ipython3",
   "version": "3.8.5"
  }
 },
 "nbformat": 4,
 "nbformat_minor": 5
}
