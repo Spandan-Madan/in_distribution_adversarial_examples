{
 "cells": [
  {
   "cell_type": "code",
   "execution_count": 5,
   "id": "amended-effectiveness",
   "metadata": {},
   "outputs": [],
   "source": [
    "import pickle\n",
    "import utils\n",
    "import numpy as np\n",
    "import matplotlib.pyplot as plt\n",
    "import utils\n",
    "from utils import MLP\n",
    "from utils import CMA_info\n",
    "\n",
    "CURRENT_MODEL = None\n",
    "N_dim = 5\n",
    "\n",
    "\n",
    "x1_min = -10\n",
    "x1_max = 10\n",
    "\n",
    "x2_min = 20\n",
    "x2_max = 40\n",
    "\n",
    "test_min = -1\n",
    "test_max= 1\n",
    "\n",
    "limits = [x1_min, x1_max, x2_min, x2_max]\n",
    "test_limits = [test_min, test_max]\n",
    "\n",
    "num_samples = 50\n",
    "\n",
    "\n"
   ]
  },
  {
   "cell_type": "code",
   "execution_count": 18,
   "id": "corresponding-valentine",
   "metadata": {
    "scrolled": false
   },
   "outputs": [
    {
     "name": "stdout",
     "output_type": "stream",
     "text": [
      "Epoch:999, Train Acc:tensor(0.9845, device='cuda:0')\n",
      "Epoch:999, Test Acc:tensor(0.9844, device='cuda:0')\n",
      "dset_size_100000_bad_data\n",
      "simple adversarial found\n",
      "starting jitter test\n",
      "Jitter adversarial found, should stop now.\n",
      "simple adversarial found\n",
      "starting jitter test\n",
      "Jitter adversarial found, should stop now.\n",
      "simple adversarial found\n",
      "starting jitter test\n",
      "Jitter adversarial found, should stop now.\n",
      "simple adversarial found\n",
      "starting jitter test\n",
      "Jitter adversarial found, should stop now.\n",
      "simple adversarial found\n",
      "starting jitter test\n",
      "Jitter adversarial found, should stop now.\n",
      "simple adversarial found\n",
      "starting jitter test\n",
      "Jitter adversarial found, should stop now.\n",
      "simple adversarial found\n",
      "starting jitter test\n",
      "Jitter adversarial found, should stop now.\n",
      "simple adversarial found\n",
      "starting jitter test\n",
      "Jitter adversarial found, should stop now.\n",
      "simple adversarial found\n",
      "starting jitter test\n",
      "Jitter adversarial found, should stop now.\n",
      "simple adversarial found\n",
      "starting jitter test\n",
      "Jitter adversarial found, should stop now.\n",
      "simple adversarial found\n",
      "starting jitter test\n",
      "Jitter adversarial found, should stop now.\n",
      "simple adversarial found\n",
      "starting jitter test\n",
      "Jitter adversarial found, should stop now.\n",
      "simple adversarial found\n",
      "starting jitter test\n",
      "Jitter adversarial found, should stop now.\n",
      "simple adversarial found\n",
      "starting jitter test\n",
      "Jitter adversarial found, should stop now.\n",
      "simple adversarial found\n",
      "starting jitter test\n",
      "Jitter adversarial found, should stop now.\n",
      "simple adversarial found\n",
      "starting jitter test\n",
      "Jitter adversarial found, should stop now.\n",
      "simple adversarial found\n",
      "starting jitter test\n",
      "Jitter adversarial found, should stop now.\n",
      "simple adversarial found\n",
      "starting jitter test\n",
      "Jitter adversarial found, should stop now.\n",
      "simple adversarial found\n",
      "starting jitter test\n",
      "Jitter adversarial found, should stop now.\n",
      "simple adversarial found\n",
      "starting jitter test\n",
      "Jitter adversarial found, should stop now.\n"
     ]
    }
   ],
   "source": [
    "dsize = 100000\n",
    "\n",
    "ds = utils.make_dataset(dsize, N_dim, limits)\n",
    "\n",
    "trained_models = {}\n",
    "\n",
    "trained_models[N_dim] = utils.train_model(N_dim, ds, 'dset_size_%s_bad_data'%dsize, epochs=1000, disable_progress = True, seed=11282557630906084724)\n",
    "\n",
    "model_to_attack = trained_models[N_dim].cpu()\n",
    "attack_output = {}\n",
    "attack_output[N_dim] = utils.cma_experiment(model_to_attack, N_dim, test_limits, limits, 10, disable_progress = True, cma_jitter = True)"
   ]
  },
  {
   "cell_type": "code",
   "execution_count": 21,
   "id": "piano-cholesterol",
   "metadata": {},
   "outputs": [
    {
     "data": {
      "text/plain": [
       "10"
      ]
     },
     "execution_count": 21,
     "metadata": {},
     "output_type": "execute_result"
    }
   ],
   "source": [
    "len(attack_output[N_dim].starts)"
   ]
  },
  {
   "cell_type": "code",
   "execution_count": 22,
   "id": "nominated-religion",
   "metadata": {},
   "outputs": [
    {
     "data": {
      "text/plain": [
       "9"
      ]
     },
     "execution_count": 22,
     "metadata": {},
     "output_type": "execute_result"
    }
   ],
   "source": [
    "len(attack_output[N_dim].in_dist_advs)"
   ]
  }
 ],
 "metadata": {
  "kernelspec": {
   "display_name": "diff_rendering_ml",
   "language": "python",
   "name": "diff_rendering_ml"
  },
  "language_info": {
   "codemirror_mode": {
    "name": "ipython",
    "version": 3
   },
   "file_extension": ".py",
   "mimetype": "text/x-python",
   "name": "python",
   "nbconvert_exporter": "python",
   "pygments_lexer": "ipython3",
   "version": "3.8.5"
  }
 },
 "nbformat": 4,
 "nbformat_minor": 5
}
