{
 "cells": [
  {
   "cell_type": "code",
   "execution_count": 1,
   "id": "economic-spokesman",
   "metadata": {},
   "outputs": [],
   "source": [
    "import utils"
   ]
  },
  {
   "cell_type": "code",
   "execution_count": 2,
   "id": "arctic-employee",
   "metadata": {
    "scrolled": true
   },
   "outputs": [],
   "source": [
    "# import torch\n",
    "# import random\n",
    "# import torch.nn as nn\n",
    "\n",
    "# import torch.distributions as D\n",
    "\n",
    "# import numpy as np\n",
    "# import cma\n",
    "# from tqdm.notebook import tqdm\n",
    "# import pickle\n",
    "\n",
    "# import matplotlib.pyplot as plt\n",
    "\n",
    "# import torch.nn.functional as F\n",
    "\n",
    "# def sample_uniform(batch_size, N_dim, r1, r2):\n",
    "#     random_matrix = (r1 - r2) * torch.rand([batch_size, N_dim]) + r2\n",
    "#     return random_matrix\n",
    "\n",
    "# class MLP(nn.Module):\n",
    "#     def __init__(self, data_dimensions,name,seed=None):\n",
    "#         if seed is not None:\n",
    "#             torch.manual_seed(seed)\n",
    "#         else:\n",
    "#             print(\"Torch seed:%s\"%torch.seed())\n",
    "#         super(MLP, self).__init__()\n",
    "#         self.layers = nn.Sequential(\n",
    "#             nn.Linear(data_dimensions, int(data_dimensions)),\n",
    "#             nn.Tanh(),\n",
    "# #             nn.Linear(int(data_dimensions*5), int(data_dimensions/5)),\n",
    "# #             nn.ReLU(),\n",
    "# #             nn.Linear(int(data_dimensions), int(data_dimensions/5)),\n",
    "# #             nn.ReLU(),\n",
    "# #             nn.Linear(int(data_dimensions/5), int(data_dimensions/5)),\n",
    "# #             nn.ReLU(),\n",
    "#             nn.Linear(int(data_dimensions), 2)\n",
    "#         )\n",
    "#         self.name = name\n",
    "#         self.train_accuracy = 0\n",
    "#         self.test_accuracy = 0\n",
    "#         self.dataset = []\n",
    "\n",
    "#     def forward(self, x):\n",
    "#         x = x.view(x.size(0), -1)\n",
    "#         x = self.layers(x)\n",
    "#         return x\n",
    "\n",
    "# class CMA_info():\n",
    "#     def __init__(self, model_name, num_samples):\n",
    "#         super(CMA_info, self).__init__()\n",
    "#         self.model_name = model_name\n",
    "#         self.num_samples = num_samples\n",
    "        \n",
    "#         self.distances = []\n",
    "#         self.in_dist_advs = []\n",
    "#         self.advs = []\n",
    "#         self.starts = []\n",
    "    \n",
    "#     def summary(self):\n",
    "#         print('****************** CMA Summary *******************')\n",
    "#         print('Trained on %s points:'%self.model_name.split('_')[-1])\n",
    "#         print('Adversarials: %s/%s'%(len(self.advs), self.num_samples))\n",
    "#         print('In-distribution: %s/%s'%(len(self.in_dist_advs), len(self.advs)))\n",
    "        \n",
    "#         avg_dist = np.mean(self.distances)\n",
    "#         print('Average L2 distance: %s'%(avg_dist))\n",
    "#         print('*'*50)\n",
    "\n",
    "# x1_min = -10\n",
    "# x1_max = 10\n",
    "\n",
    "# x2_min = 20\n",
    "# x2_max = 40\n",
    "\n",
    "# test_min = -1\n",
    "# test_max= 1\n",
    "\n",
    "# def make_dataset(dataset_size):\n",
    "#     sample_1 = sample_uniform(dataset_size, N_dim, x1_min, x1_max)\n",
    "#     sample_2 = sample_uniform(dataset_size, N_dim, x2_min, x2_max)\n",
    "    \n",
    "#     labels_1 = torch.zeros(len(sample_1))\n",
    "#     labels_2 = torch.ones(len(sample_2))\n",
    "    \n",
    "#     X = torch.vstack([sample_1, sample_2])\n",
    "#     Y = torch.hstack([labels_1, labels_2])\n",
    "#     ids = list(range(len(X)))\n",
    "\n",
    "#     random.shuffle(ids)\n",
    "#     train_ids = ids[:int(0.8*len(X))]\n",
    "#     test_ids = ids[int(0.8*len(X)):]\n",
    "\n",
    "#     # len(X)\n",
    "\n",
    "#     X_train = X[train_ids]\n",
    "#     X_test = X[test_ids]\n",
    "\n",
    "#     Y_train = Y[train_ids]\n",
    "#     Y_test = Y[test_ids]\n",
    "#     return X_train, X_test, Y_train, Y_test\n",
    "\n",
    "# # torch.optim.Adam\n",
    "\n",
    "# def train_model(N_dim, dataset, name, seed = None):\n",
    "#     X_train, X_test, Y_train, Y_test = dataset\n",
    "#     X_train = X_train.cuda()\n",
    "#     X_test = X_test.cuda()\n",
    "#     Y_train = Y_train.cuda()\n",
    "#     Y_test = Y_test.cuda()\n",
    "    \n",
    "#     if seed is not None:\n",
    "#         model = MLP(N_dim, name, seed).cuda()\n",
    "#     else:\n",
    "#         model = MLP(N_dim, name).cuda()\n",
    "#     optimizer = torch.optim.SGD(model.parameters(), lr=0.0001)\n",
    "#     loss_fn = nn.CrossEntropyLoss()\n",
    "#     model.dataset = dataset\n",
    "    \n",
    "#     for epoch in tqdm(range(1000)): \n",
    "#         outputs = model(X_train)\n",
    "#         loss = loss_fn(outputs, Y_train.long())\n",
    "#         loss.backward()\n",
    "#         optimizer.step()\n",
    "\n",
    "#         predictions = torch.argmax(model(X_test), dim=1)\n",
    "#         accuracy = torch.sum(predictions == Y_test)/len(Y_test)\n",
    "        \n",
    "#         train_predictions = torch.argmax(model(X_train), dim=1)\n",
    "#         train_accuracy = torch.sum(train_predictions == Y_train)/len(Y_train)\n",
    "\n",
    "#         if epoch == 999:\n",
    "#             print(\"Epoch:%s, Train Acc:%s\"%(epoch, train_accuracy))\n",
    "#             print(\"Epoch:%s, Test Acc:%s\"%(epoch, accuracy))\n",
    "        \n",
    "#         model.test_accuracy = accuracy\n",
    "#         model.train_accuracy = train_accuracy\n",
    "    \n",
    "#     return model\n",
    "\n",
    "# def batched_train_model(N_dim, dataset, name, seed = None):\n",
    "#     X_train, X_test, Y_train, Y_test = dataset\n",
    "#     if seed is not None:\n",
    "#         model = MLP(N_dim, name, seed).cuda()\n",
    "#     else:\n",
    "#         model = MLP(N_dim, name).cuda()\n",
    "#     optimizer = torch.optim.SGD(model.parameters(), lr=0.0001)\n",
    "#     loss_fn = nn.CrossEntropyLoss()\n",
    "#     model.dataset = dataset\n",
    "    \n",
    "#     BATCH_SIZE = 64000\n",
    "    \n",
    "#     for epoch in tqdm(range(1000)):\n",
    "#         num_batches = int(X_train.shape[0]/(BATCH_SIZE))\n",
    "        \n",
    "#         batch_accuracies = []\n",
    "#         batch_train_accuracies = []\n",
    "#         for batch_num in range(num_batches):\n",
    "#             start_pt = BATCH_SIZE * batch_num\n",
    "#             end_pt = start_pt + BATCH_SIZE\n",
    "#             train_X = X_train[start_pt:end_pt]\n",
    "#             train_Y = Y_train[start_pt:end_pt]\n",
    "#             test_X = X_test\n",
    "#             test_Y = Y_test\n",
    "            \n",
    "#             train_X = train_X.cuda()\n",
    "#             train_Y = train_Y.cuda()\n",
    "#             test_X = test_X.cuda()\n",
    "#             test_Y = test_Y.cuda()\n",
    "\n",
    "#             outputs = model(train_X)\n",
    "#             loss = loss_fn(outputs, train_Y.long())\n",
    "#             loss.backward()\n",
    "#             optimizer.step()\n",
    "\n",
    "#             batch_predictions = torch.argmax(model(test_X), dim=1)\n",
    "#             batch_accuracy = torch.sum(batch_predictions == test_Y)/len(test_Y)\n",
    "#             batch_accuracies.append(batch_accuracy.item())\n",
    "            \n",
    "#             batch_train_predictions = torch.argmax(model(train_X), dim=1)\n",
    "#             batch_train_accuracy = torch.sum(batch_train_predictions == train_Y)/len(train_Y)\n",
    "#             batch_train_accuracies.append(batch_train_accuracy.item())        \n",
    "        \n",
    "#         accuracy = np.mean(batch_accuracies)\n",
    "#         train_accuracy = np.mean(batch_train_accuracies)\n",
    "\n",
    "        \n",
    "#         if epoch%100 == 0:\n",
    "#             print(\"Epoch:%s, Train Acc:%s\"%(epoch, train_accuracy))\n",
    "#             print(\"Epoch:%s, Test Acc:%s\"%(epoch, accuracy))\n",
    "        \n",
    "#         if epoch == 999:\n",
    "#             print(\"Epoch:%s, Train Acc:%s\"%(epoch, train_accuracy))\n",
    "#             print(\"Epoch:%s, Test Acc:%s\"%(epoch, accuracy))\n",
    "        \n",
    "#         model.test_accuracy = accuracy\n",
    "#         model.train_accuracy = train_accuracy\n",
    "    \n",
    "#     return model"
   ]
  },
  {
   "cell_type": "code",
   "execution_count": 13,
   "id": "received-annual",
   "metadata": {},
   "outputs": [],
   "source": [
    "#### Tests for generating and training image models####\n",
    "\n",
    "# image_test_data = make_dataset(1000, True)\n",
    "# image_test_model = train_model(N_dim, image_test_data, 'dset_size_%s'%dsize, True)"
   ]
  },
  {
   "cell_type": "markdown",
   "id": "operational-composite",
   "metadata": {},
   "source": [
    "# CMA failures"
   ]
  },
  {
   "cell_type": "code",
   "execution_count": 14,
   "id": "reported-measure",
   "metadata": {},
   "outputs": [],
   "source": [
    "# def cma_objective(x_input):\n",
    "#     torch_x = torch.from_numpy(x_input).unsqueeze(0).float()\n",
    "#     if 'LeNet' in CURRENT_MODEL.name\n",
    "#     output = CURRENT_MODEL(torch_x)\n",
    "#     pred_prob = output[0][CATEGORY_NUM].item()\n",
    "#     prediction = torch.argmax(output[0]).item()\n",
    "#     return pred_prob, prediction"
   ]
  },
  {
   "cell_type": "code",
   "execution_count": 15,
   "id": "applicable-cowboy",
   "metadata": {},
   "outputs": [],
   "source": [
    "# torch.vstack([start_pos[0].unsqueeze(0), start_pos[0].unsqueeze(0), start_pos[0].unsqueeze(0)]).shape"
   ]
  },
  {
   "cell_type": "code",
   "execution_count": 18,
   "id": "photographic-magnitude",
   "metadata": {},
   "outputs": [],
   "source": [
    "def cma_experiment(attacked_model, num_samples = 50):\n",
    "    cma_search_output = {}\n",
    "    global CURRENT_MODEL\n",
    "    CURRENT_MODEL = attacked_model\n",
    "    print(CURRENT_MODEL.name)\n",
    "    cma_output = CMA_info(CURRENT_MODEL.name, num_samples)        \n",
    "    \n",
    "    for i in tqdm(range(num_samples)):\n",
    "        initial_pred = 1\n",
    "        while initial_pred == 1:\n",
    "            start_pos = sample_uniform(1, N_dim, test_min, test_max)\n",
    "            output = CURRENT_MODEL(start_pos)\n",
    "            initial_pred = torch.argmax(output[0]).item()\n",
    "        cma_output.starts.append(start_pos)\n",
    "        start_pos = start_pos[0]\n",
    "        \n",
    "        es = cma.CMAEvolutionStrategy(start_pos, 0.00005)\n",
    "        es.optimize(cma_objective, verb_disp = False, iterations=1500, correct_prediction = CATEGORY_NUM)\n",
    "        adv_offspring_ids = np.where(np.array(es.predictions) != 0)\n",
    "        \n",
    "        if len(adv_offspring_ids[0]) > 0:\n",
    "            random_adv_offspring_id = random.choice(list(adv_offspring_ids[0]))\n",
    "            random_adv_offspring = es.prediction_settings[random_adv_offspring_id]\n",
    "            cma_output.advs.append(random_adv_offspring)        \n",
    "\n",
    "            max_val = np.max(random_adv_offspring)\n",
    "            if max_val < x1_max:\n",
    "                cma_output.in_dist_advs.append(random_adv_offspring)\n",
    "                distance = np.linalg.norm(start_pos - random_adv_offspring)\n",
    "                cma_output.distances.append(distance)\n",
    "    return cma_output"
   ]
  },
  {
   "cell_type": "code",
   "execution_count": 16,
   "id": "thousand-allen",
   "metadata": {},
   "outputs": [],
   "source": [
    "def cma_objective(x_input):\n",
    "    torch_x = torch.from_numpy(x_input).unsqueeze(0).float()\n",
    "    output = CURRENT_MODEL(torch_x)\n",
    "    pred_prob = output[0][CATEGORY_NUM].item()\n",
    "    prediction = torch.argmax(output[0]).item()\n",
    "    return pred_prob, prediction"
   ]
  },
  {
   "cell_type": "code",
   "execution_count": 17,
   "id": "simplified-coffee",
   "metadata": {},
   "outputs": [],
   "source": [
    "# !nvidia-smi"
   ]
  },
  {
   "cell_type": "code",
   "execution_count": 19,
   "id": "incident-grade",
   "metadata": {},
   "outputs": [],
   "source": [
    "CATEGORY_NUM = 0\n",
    "CURRENT_MODEL = None\n",
    "\n",
    "N_dim = 100"
   ]
  },
  {
   "cell_type": "code",
   "execution_count": 20,
   "id": "comparative-reminder",
   "metadata": {},
   "outputs": [],
   "source": [
    "# all_info[-1]"
   ]
  },
  {
   "cell_type": "code",
   "execution_count": 21,
   "id": "coated-hampshire",
   "metadata": {},
   "outputs": [],
   "source": [
    "# all_info[0]"
   ]
  },
  {
   "cell_type": "markdown",
   "id": "expensive-reverse",
   "metadata": {},
   "source": [
    "### CMA attack accuracy vs Dataset size"
   ]
  },
  {
   "cell_type": "code",
   "execution_count": 22,
   "id": "immune-panic",
   "metadata": {},
   "outputs": [],
   "source": [
    "all_info = []"
   ]
  },
  {
   "cell_type": "code",
   "execution_count": null,
   "id": "variable-lewis",
   "metadata": {
    "scrolled": false
   },
   "outputs": [
    {
     "name": "stdout",
     "output_type": "stream",
     "text": [
      "**************************************************\n",
      "Iteration 0\n",
      "**************************************************\n",
      "Working with with 10000000\n",
      "Torch seed:249770248007289839\n"
     ]
    },
    {
     "data": {
      "application/vnd.jupyter.widget-view+json": {
       "model_id": "bdbae2d7de3d4bae89ace7783ab8191c",
       "version_major": 2,
       "version_minor": 0
      },
      "text/plain": [
       "  0%|          | 0/1000 [00:00<?, ?it/s]"
      ]
     },
     "metadata": {},
     "output_type": "display_data"
    },
    {
     "name": "stdout",
     "output_type": "stream",
     "text": [
      "Epoch:0, Train Acc:0.8161094133853912\n",
      "Epoch:0, Test Acc:0.8162047489881515\n"
     ]
    }
   ],
   "source": [
    "for iteration in range(5):\n",
    "    print('*'*50)\n",
    "    print('Iteration %s'%iteration)\n",
    "    print('*'*50)\n",
    "    \n",
    "    trained_models = {}\n",
    "    attack_output = {}\n",
    "    for dsize in [10000000]:\n",
    "        print('Working with with %s'%dsize)\n",
    "        dset = make_dataset(dsize)\n",
    "        if dsize > 64000:\n",
    "            trained_models[dsize] = batched_train_model(N_dim, dset, 'dset_size_%s'%dsize)\n",
    "        else:\n",
    "            trained_models[dsize] = train_model(N_dim, dset, 'dset_size_%s'%dsize)\n",
    "        model_to_attack = trained_models[dsize].cpu()\n",
    "        attack_output[dsize] = cma_experiment(model_to_attack, 50)\n",
    "    iter_info = [trained_models, attack_output]\n",
    "    all_info.append(iter_info)"
   ]
  },
  {
   "cell_type": "code",
   "execution_count": null,
   "id": "tested-cruise",
   "metadata": {},
   "outputs": [],
   "source": [
    "# with open('data_size_experiment_5_repeats.p','wb') as F:\n",
    "#     pickle.dump(all_info_, F)"
   ]
  },
  {
   "cell_type": "code",
   "execution_count": 21,
   "id": "utility-luxury",
   "metadata": {},
   "outputs": [],
   "source": [
    "with open('data_size_experiment_5_repeats.p','rb') as F:\n",
    "    all_info = pickle.load(F)"
   ]
  },
  {
   "cell_type": "code",
   "execution_count": null,
   "id": "heated-smart",
   "metadata": {},
   "outputs": [],
   "source": [
    "# all_info_"
   ]
  },
  {
   "cell_type": "code",
   "execution_count": null,
   "id": "extended-carnival",
   "metadata": {},
   "outputs": [],
   "source": [
    "# all_info_[0][0]"
   ]
  },
  {
   "cell_type": "code",
   "execution_count": 133,
   "id": "handled-logistics",
   "metadata": {},
   "outputs": [],
   "source": [
    "# for i in range(5):\n",
    "#     all_info_[i][0][1000000] = all_info[i][0][1000000]\n",
    "#     all_info_[i][1][1000000] = all_info[i][1][1000000]"
   ]
  },
  {
   "cell_type": "markdown",
   "id": "lined-paintball",
   "metadata": {},
   "source": [
    "### Load already run experiments"
   ]
  },
  {
   "cell_type": "code",
   "execution_count": 134,
   "id": "pharmaceutical-chemical",
   "metadata": {},
   "outputs": [],
   "source": [
    "# with open('failures_dim_100_basic.p','rb') as F:\n",
    "#     all_info_ = pickle.load(F)"
   ]
  },
  {
   "cell_type": "code",
   "execution_count": 135,
   "id": "reported-curtis",
   "metadata": {},
   "outputs": [],
   "source": [
    "# attack_per_dset_size = {}\n",
    "# for key in all_info[0][1].keys():\n",
    "#     adv_count = len(all_info[0][1][key].advs)\n",
    "#     start_count = len(all_info[0][1][key].starts)\n",
    "#     attack_rate = adv_count/start_count*100\n",
    "#     attack_per_dset_size[key] = attack_rate"
   ]
  },
  {
   "cell_type": "markdown",
   "id": "sorted-divorce",
   "metadata": {},
   "source": [
    "# Distances to faiulures"
   ]
  },
  {
   "cell_type": "code",
   "execution_count": 22,
   "id": "statewide-alias",
   "metadata": {},
   "outputs": [],
   "source": [
    "dist_means = []\n",
    "dist_stds = []\n",
    "\n",
    "for dset in [10000, 50000, 100000, 500000, 1000000]:\n",
    "    all_distances = []\n",
    "    for i in range(5):\n",
    "        all_distances.extend(all_info[i][1][dset].distances)\n",
    "    dist_mean = np.mean(all_distances)\n",
    "    dist_std = np.std(all_distances)\n",
    "    dist_means.append(dist_mean)\n",
    "    dist_stds.append(dist_std)\n",
    "\n",
    "plt.errorbar(range(5), dist_means, dist_stds)\n",
    "plt.xticks(range(5),[10000, 50000, 100000, 500000, 1000000])\n",
    "plt.title('Distance to adv sample as a function of dataset size')\n",
    "plt.xlabel('Dataset Size')\n",
    "plt.xlabel('Distance')\n",
    "plt.show()"
   ]
  },
  {
   "cell_type": "code",
   "execution_count": 81,
   "id": "polyphonic-authentication",
   "metadata": {
    "scrolled": false
   },
   "outputs": [
    {
     "data": {
      "image/png": "[encoded data removed]",
      "text/plain": [
       "<Figure size 432x288 with 1 Axes>"
      ]
     },
     "metadata": {
      "needs_background": "light"
     },
     "output_type": "display_data"
    }
   ],
   "source": [
    "plt.plot(attack_per_dset_size.values(), marker='o')\n",
    "plt.xticks(list(range(len(attack_per_dset_size.keys()))), labels = attack_per_dset_size.keys())\n",
    "plt.ylim(0,110)\n",
    "plt.title('CMA attack rate as dataset size changes')\n",
    "plt.xlabel('Dataset Size')\n",
    "plt.ylabel('CMA attack rate')\n",
    "plt.show()"
   ]
  },
  {
   "cell_type": "code",
   "execution_count": 107,
   "id": "greatest-australian",
   "metadata": {},
   "outputs": [],
   "source": [
    "##### Execute because used extensively below #####\n",
    "def predict(model, point):\n",
    "    prepped_point = torch.from_numpy(point).cuda().float().unsqueeze(0)\n",
    "    prediction = torch.argmax(model(prepped_point)[0]).item()\n",
    "    return prediction"
   ]
  },
  {
   "cell_type": "markdown",
   "id": "minor-saver",
   "metadata": {},
   "source": [
    "# Impact of Dimensionality"
   ]
  },
  {
   "cell_type": "code",
   "execution_count": 314,
   "id": "leading-landscape",
   "metadata": {},
   "outputs": [
    {
     "name": "stdout",
     "output_type": "stream",
     "text": [
      "**************************************************\n",
      "Iteration 0\n",
      "**************************************************\n",
      "Working with with 100 dimensions\n",
      "Torch seed:1139653631630276727\n"
     ]
    },
    {
     "data": {
      "application/vnd.jupyter.widget-view+json": {
       "model_id": "ff3e3509a5be43eb99023b9f446e045e",
       "version_major": 2,
       "version_minor": 0
      },
      "text/plain": [
       "  0%|          | 0/1000 [00:00<?, ?it/s]"
      ]
     },
     "metadata": {},
     "output_type": "display_data"
    },
    {
     "name": "stdout",
     "output_type": "stream",
     "text": [
      "Epoch:999, Train Acc:tensor(0.9985, device='cuda:0')\n",
      "Epoch:999, Test Acc:tensor(0.9988, device='cuda:0')\n",
      "dset_size_50000\n"
     ]
    },
    {
     "data": {
      "application/vnd.jupyter.widget-view+json": {
       "model_id": "ab7dc78eb1b64537b7cce5450fd9d4ea",
       "version_major": 2,
       "version_minor": 0
      },
      "text/plain": [
       "  0%|          | 0/10 [00:00<?, ?it/s]"
      ]
     },
     "metadata": {},
     "output_type": "display_data"
    },
    {
     "name": "stdout",
     "output_type": "stream",
     "text": [
      "Attack: 10/10\n",
      "**************************************************\n",
      "Iteration 1\n",
      "**************************************************\n",
      "Working with with 100 dimensions\n",
      "Torch seed:7862313254884904899\n"
     ]
    },
    {
     "data": {
      "application/vnd.jupyter.widget-view+json": {
       "model_id": "e3e629f29fe54232bbd07b0a9a3f852a",
       "version_major": 2,
       "version_minor": 0
      },
      "text/plain": [
       "  0%|          | 0/1000 [00:00<?, ?it/s]"
      ]
     },
     "metadata": {},
     "output_type": "display_data"
    },
    {
     "name": "stdout",
     "output_type": "stream",
     "text": [
      "Epoch:999, Train Acc:tensor(0.9989, device='cuda:0')\n",
      "Epoch:999, Test Acc:tensor(0.9985, device='cuda:0')\n",
      "dset_size_50000\n"
     ]
    },
    {
     "data": {
      "application/vnd.jupyter.widget-view+json": {
       "model_id": "430250182b3146fe991f70473a27364d",
       "version_major": 2,
       "version_minor": 0
      },
      "text/plain": [
       "  0%|          | 0/10 [00:00<?, ?it/s]"
      ]
     },
     "metadata": {},
     "output_type": "display_data"
    },
    {
     "name": "stdout",
     "output_type": "stream",
     "text": [
      "Attack: 10/10\n",
      "**************************************************\n",
      "Iteration 2\n",
      "**************************************************\n",
      "Working with with 100 dimensions\n",
      "Torch seed:14371003341898146262\n"
     ]
    },
    {
     "data": {
      "application/vnd.jupyter.widget-view+json": {
       "model_id": "be66331685d24a5da0abd0c35d1b3137",
       "version_major": 2,
       "version_minor": 0
      },
      "text/plain": [
       "  0%|          | 0/1000 [00:00<?, ?it/s]"
      ]
     },
     "metadata": {},
     "output_type": "display_data"
    },
    {
     "name": "stdout",
     "output_type": "stream",
     "text": [
      "Epoch:999, Train Acc:tensor(0.9999, device='cuda:0')\n",
      "Epoch:999, Test Acc:tensor(0.9999, device='cuda:0')\n",
      "dset_size_50000\n"
     ]
    },
    {
     "data": {
      "application/vnd.jupyter.widget-view+json": {
       "model_id": "3d250164cc5b422d804e149b885e37f8",
       "version_major": 2,
       "version_minor": 0
      },
      "text/plain": [
       "  0%|          | 0/10 [00:00<?, ?it/s]"
      ]
     },
     "metadata": {},
     "output_type": "display_data"
    },
    {
     "name": "stdout",
     "output_type": "stream",
     "text": [
      "Attack: 10/10\n",
      "**************************************************\n",
      "Iteration 3\n",
      "**************************************************\n",
      "Working with with 100 dimensions\n",
      "Torch seed:3747911055524713789\n"
     ]
    },
    {
     "data": {
      "application/vnd.jupyter.widget-view+json": {
       "model_id": "af6e6c1e9bd448b7930dffac79d4b949",
       "version_major": 2,
       "version_minor": 0
      },
      "text/plain": [
       "  0%|          | 0/1000 [00:00<?, ?it/s]"
      ]
     },
     "metadata": {},
     "output_type": "display_data"
    },
    {
     "name": "stdout",
     "output_type": "stream",
     "text": [
      "Epoch:999, Train Acc:tensor(0.9982, device='cuda:0')\n",
      "Epoch:999, Test Acc:tensor(0.9977, device='cuda:0')\n",
      "dset_size_50000\n"
     ]
    },
    {
     "data": {
      "application/vnd.jupyter.widget-view+json": {
       "model_id": "4df1e8898833498a8a713578565fa328",
       "version_major": 2,
       "version_minor": 0
      },
      "text/plain": [
       "  0%|          | 0/10 [00:00<?, ?it/s]"
      ]
     },
     "metadata": {},
     "output_type": "display_data"
    },
    {
     "name": "stdout",
     "output_type": "stream",
     "text": [
      "Attack: 10/10\n",
      "**************************************************\n",
      "Iteration 4\n",
      "**************************************************\n",
      "Working with with 100 dimensions\n",
      "Torch seed:14398916165240700501\n"
     ]
    },
    {
     "data": {
      "application/vnd.jupyter.widget-view+json": {
       "model_id": "4cf91bac070440ceb4372fe086253ab5",
       "version_major": 2,
       "version_minor": 0
      },
      "text/plain": [
       "  0%|          | 0/1000 [00:00<?, ?it/s]"
      ]
     },
     "metadata": {},
     "output_type": "display_data"
    },
    {
     "name": "stdout",
     "output_type": "stream",
     "text": [
      "Epoch:999, Train Acc:tensor(0.9995, device='cuda:0')\n",
      "Epoch:999, Test Acc:tensor(0.9994, device='cuda:0')\n",
      "dset_size_50000\n"
     ]
    },
    {
     "data": {
      "application/vnd.jupyter.widget-view+json": {
       "model_id": "96b1251ceb824b918a8d9c46374cb1bf",
       "version_major": 2,
       "version_minor": 0
      },
      "text/plain": [
       "  0%|          | 0/10 [00:00<?, ?it/s]"
      ]
     },
     "metadata": {},
     "output_type": "display_data"
    },
    {
     "name": "stdout",
     "output_type": "stream",
     "text": [
      "Attack: 10/10\n",
      "**************************************************\n",
      "Iteration 5\n",
      "**************************************************\n",
      "Working with with 100 dimensions\n",
      "Torch seed:12451373140734796471\n"
     ]
    },
    {
     "data": {
      "application/vnd.jupyter.widget-view+json": {
       "model_id": "15de8b51f42342bf82cb8867d50038cf",
       "version_major": 2,
       "version_minor": 0
      },
      "text/plain": [
       "  0%|          | 0/1000 [00:00<?, ?it/s]"
      ]
     },
     "metadata": {},
     "output_type": "display_data"
    },
    {
     "name": "stdout",
     "output_type": "stream",
     "text": [
      "Epoch:999, Train Acc:tensor(0.9998, device='cuda:0')\n",
      "Epoch:999, Test Acc:tensor(0.9997, device='cuda:0')\n",
      "dset_size_50000\n"
     ]
    },
    {
     "data": {
      "application/vnd.jupyter.widget-view+json": {
       "model_id": "b25369d953364a098196835d1db09383",
       "version_major": 2,
       "version_minor": 0
      },
      "text/plain": [
       "  0%|          | 0/10 [00:00<?, ?it/s]"
      ]
     },
     "metadata": {},
     "output_type": "display_data"
    },
    {
     "name": "stdout",
     "output_type": "stream",
     "text": [
      "Attack: 10/10\n",
      "**************************************************\n",
      "Iteration 6\n",
      "**************************************************\n",
      "Working with with 100 dimensions\n",
      "Torch seed:4619435499257952251\n"
     ]
    },
    {
     "data": {
      "application/vnd.jupyter.widget-view+json": {
       "model_id": "13b4bf6e0b30483b89b47c869f835ae7",
       "version_major": 2,
       "version_minor": 0
      },
      "text/plain": [
       "  0%|          | 0/1000 [00:00<?, ?it/s]"
      ]
     },
     "metadata": {},
     "output_type": "display_data"
    },
    {
     "name": "stdout",
     "output_type": "stream",
     "text": [
      "Epoch:999, Train Acc:tensor(0.9996, device='cuda:0')\n",
      "Epoch:999, Test Acc:tensor(0.9992, device='cuda:0')\n",
      "dset_size_50000\n"
     ]
    },
    {
     "data": {
      "application/vnd.jupyter.widget-view+json": {
       "model_id": "ed6aaa29c7e34220a281f87fa0894bd1",
       "version_major": 2,
       "version_minor": 0
      },
      "text/plain": [
       "  0%|          | 0/10 [00:00<?, ?it/s]"
      ]
     },
     "metadata": {},
     "output_type": "display_data"
    },
    {
     "name": "stdout",
     "output_type": "stream",
     "text": [
      "Attack: 10/10\n",
      "**************************************************\n",
      "Iteration 7\n",
      "**************************************************\n",
      "Working with with 100 dimensions\n",
      "Torch seed:1594657662621523901\n"
     ]
    },
    {
     "data": {
      "application/vnd.jupyter.widget-view+json": {
       "model_id": "d698801dc74f49989c20596e7911d200",
       "version_major": 2,
       "version_minor": 0
      },
      "text/plain": [
       "  0%|          | 0/1000 [00:00<?, ?it/s]"
      ]
     },
     "metadata": {},
     "output_type": "display_data"
    },
    {
     "name": "stdout",
     "output_type": "stream",
     "text": [
      "Epoch:999, Train Acc:tensor(0.9978, device='cuda:0')\n",
      "Epoch:999, Test Acc:tensor(0.9972, device='cuda:0')\n",
      "dset_size_50000\n"
     ]
    },
    {
     "data": {
      "application/vnd.jupyter.widget-view+json": {
       "model_id": "590db6e49a3443e09bb14c903143e94d",
       "version_major": 2,
       "version_minor": 0
      },
      "text/plain": [
       "  0%|          | 0/10 [00:00<?, ?it/s]"
      ]
     },
     "metadata": {},
     "output_type": "display_data"
    },
    {
     "name": "stdout",
     "output_type": "stream",
     "text": [
      "Attack: 10/10\n",
      "**************************************************\n",
      "Iteration 8\n",
      "**************************************************\n",
      "Working with with 100 dimensions\n",
      "Torch seed:10184540766645026789\n"
     ]
    },
    {
     "data": {
      "application/vnd.jupyter.widget-view+json": {
       "model_id": "9af526d19d90438daf052af4de701f6b",
       "version_major": 2,
       "version_minor": 0
      },
      "text/plain": [
       "  0%|          | 0/1000 [00:00<?, ?it/s]"
      ]
     },
     "metadata": {},
     "output_type": "display_data"
    },
    {
     "name": "stdout",
     "output_type": "stream",
     "text": [
      "Epoch:999, Train Acc:tensor(0.9992, device='cuda:0')\n",
      "Epoch:999, Test Acc:tensor(0.9990, device='cuda:0')\n",
      "dset_size_50000\n"
     ]
    },
    {
     "data": {
      "application/vnd.jupyter.widget-view+json": {
       "model_id": "da21a86c6f6e45e19f1576f4e17ef30a",
       "version_major": 2,
       "version_minor": 0
      },
      "text/plain": [
       "  0%|          | 0/10 [00:00<?, ?it/s]"
      ]
     },
     "metadata": {},
     "output_type": "display_data"
    },
    {
     "name": "stdout",
     "output_type": "stream",
     "text": [
      "Attack: 10/10\n",
      "**************************************************\n",
      "Iteration 9\n",
      "**************************************************\n",
      "Working with with 100 dimensions\n",
      "Torch seed:12011169846960139171\n"
     ]
    },
    {
     "data": {
      "application/vnd.jupyter.widget-view+json": {
       "model_id": "cd051e32542f4291b85711ec9999d9dc",
       "version_major": 2,
       "version_minor": 0
      },
      "text/plain": [
       "  0%|          | 0/1000 [00:00<?, ?it/s]"
      ]
     },
     "metadata": {},
     "output_type": "display_data"
    },
    {
     "name": "stdout",
     "output_type": "stream",
     "text": [
      "Epoch:999, Train Acc:tensor(0.9989, device='cuda:0')\n",
      "Epoch:999, Test Acc:tensor(0.9989, device='cuda:0')\n",
      "dset_size_50000\n"
     ]
    },
    {
     "data": {
      "application/vnd.jupyter.widget-view+json": {
       "model_id": "fb728e2ac48a4ff6b933f37ca4f04a50",
       "version_major": 2,
       "version_minor": 0
      },
      "text/plain": [
       "  0%|          | 0/10 [00:00<?, ?it/s]"
      ]
     },
     "metadata": {},
     "output_type": "display_data"
    },
    {
     "name": "stdout",
     "output_type": "stream",
     "text": [
      "Attack: 10/10\n"
     ]
    }
   ],
   "source": [
    "all_info = []\n",
    "\n",
    "for iteration in range(10):\n",
    "    print('*'*50)\n",
    "    print('Iteration %s'%iteration)\n",
    "    print('*'*50)\n",
    "    \n",
    "    trained_models = {}\n",
    "    attack_output = {}\n",
    "    for N_dim in [100]:\n",
    "        print('Working with with %s dimensions'%N_dim)\n",
    "        dsize = 50000\n",
    "        dset = make_dataset(dsize)\n",
    "        trained_models[N_dim] = train_model(N_dim, dset, 'dset_size_%s'%dsize)\n",
    "        model_to_attack = trained_models[N_dim].cpu()\n",
    "        attack_output[N_dim] = cma_experiment(model_to_attack, 10)\n",
    "        print(\"Attack: %s/10\"%len(attack_output[N_dim].in_dist_advs))\n",
    "    iter_info = [trained_models, attack_output]\n",
    "    all_info.append(iter_info)"
   ]
  },
  {
   "cell_type": "code",
   "execution_count": 147,
   "id": "broke-douglas",
   "metadata": {},
   "outputs": [],
   "source": [
    "# attack_per_dims_25 = {}\n",
    "# for dim in [10]:\n",
    "#     attack_per_dims_25[dim] = []\n",
    "#     for i in range(25):\n",
    "#         print(\"Dims:%s, Attack rate :%s/10\"%(dim, len(all_info[i][1][dim].in_dist_advs)))\n",
    "#         attack_per_dims_25[dim].append(len(all_info[i][1][dim].in_dist_advs)/10)"
   ]
  },
  {
   "cell_type": "code",
   "execution_count": 315,
   "id": "smart-profession",
   "metadata": {},
   "outputs": [],
   "source": [
    "with open('failures_dim_100_basic.p','wb') as F:\n",
    "    pickle.dump(all_info,F)"
   ]
  },
  {
   "cell_type": "markdown",
   "id": "further-president",
   "metadata": {},
   "source": [
    "#### Distancess"
   ]
  },
  {
   "cell_type": "code",
   "execution_count": 316,
   "id": "furnished-magic",
   "metadata": {},
   "outputs": [
    {
     "data": {
      "text/plain": [
       "10"
      ]
     },
     "execution_count": 316,
     "metadata": {},
     "output_type": "execute_result"
    }
   ],
   "source": [
    "len(len(all_info[0][1][100].in_dist_advs))"
   ]
  },
  {
   "cell_type": "code",
   "execution_count": 317,
   "id": "thermal-ocean",
   "metadata": {},
   "outputs": [],
   "source": [
    "failures = all_info[0][1][100].in_dist_advs"
   ]
  },
  {
   "cell_type": "code",
   "execution_count": 318,
   "id": "located-annex",
   "metadata": {},
   "outputs": [],
   "source": [
    "starts = all_info[0][1][100].starts"
   ]
  },
  {
   "cell_type": "code",
   "execution_count": 320,
   "id": "animated-variance",
   "metadata": {},
   "outputs": [
    {
     "data": {
      "text/plain": [
       "tensor([[-0.2603,  0.9359, -0.9204, -0.6824, -0.3301, -0.2534, -0.4780,  0.4041,\n",
       "          0.0030,  0.1803, -0.0556,  0.4200,  0.6679,  0.9255,  0.6910, -0.9309,\n",
       "         -0.4121,  0.0405, -0.8949,  0.5817, -0.2825, -0.3546, -0.8105,  0.4707,\n",
       "          0.5936, -0.4633, -0.7714, -0.4021, -0.1891,  0.0458,  0.6523, -0.1335,\n",
       "          0.8888, -0.7777, -0.6296, -0.4047, -0.8282,  0.6412,  0.9285, -0.1052,\n",
       "          0.0273,  0.5738,  0.2976,  0.9805, -0.3625,  0.1735,  0.2875, -0.8304,\n",
       "          0.0287, -0.1733,  0.7422, -0.7105,  0.7425, -0.1034, -0.0712, -0.1063,\n",
       "          0.4764, -0.0860, -0.9277, -0.2736, -0.1006,  0.4882, -0.6517, -0.9764,\n",
       "          0.3405,  0.1498, -0.9092,  0.6068,  0.0408,  0.2023,  0.0195,  0.2258,\n",
       "          0.0688,  0.3158,  0.9209,  0.6652,  0.5067, -0.8836, -0.0963, -0.1681,\n",
       "          0.6812, -0.4720, -0.4118, -0.8667, -0.3972,  0.7463,  0.1230,  0.7587,\n",
       "          0.8202,  0.2865,  0.2952,  0.9327, -0.6918, -0.3382, -0.5707, -0.3721,\n",
       "         -0.2250,  0.6770, -0.2693,  0.0948]])"
      ]
     },
     "execution_count": 320,
     "metadata": {},
     "output_type": "execute_result"
    }
   ],
   "source": [
    "i"
   ]
  },
  {
   "cell_type": "code",
   "execution_count": 321,
   "id": "green-honor",
   "metadata": {},
   "outputs": [],
   "source": [
    "all_dists = []\n",
    "for i in range(len(starts)):\n",
    "    for j in range(len(starts)):\n",
    "        if i != j:\n",
    "            dist = np.linalg.norm(starts[i] - starts[j])\n",
    "            all_dists.append(dist)"
   ]
  },
  {
   "cell_type": "code",
   "execution_count": 322,
   "id": "successful-rolling",
   "metadata": {},
   "outputs": [
    {
     "data": {
      "text/plain": [
       "0.08865706655714246"
      ]
     },
     "execution_count": 322,
     "metadata": {},
     "output_type": "execute_result"
    }
   ],
   "source": [
    "np.mean(all_dists)/len(all_dists)"
   ]
  },
  {
   "cell_type": "code",
   "execution_count": 323,
   "id": "popular-forwarding",
   "metadata": {},
   "outputs": [],
   "source": [
    "all_cma_dists = []\n",
    "for i in range(len(starts)):\n",
    "    dist = np.linalg.norm(starts[i] - failures[j])\n",
    "    all_cma_dists.append(dist)"
   ]
  },
  {
   "cell_type": "code",
   "execution_count": 324,
   "id": "facial-creator",
   "metadata": {},
   "outputs": [
    {
     "data": {
      "text/plain": [
       "1.2074063427176827"
      ]
     },
     "execution_count": 324,
     "metadata": {},
     "output_type": "execute_result"
    }
   ],
   "source": [
    "np.mean(all_cma_dists)/len(all_cma_dists)"
   ]
  },
  {
   "cell_type": "code",
   "execution_count": 343,
   "id": "planned-cameroon",
   "metadata": {},
   "outputs": [
    {
     "data": {
      "text/plain": [
       "(1000,)"
      ]
     },
     "execution_count": 343,
     "metadata": {},
     "output_type": "execute_result"
    }
   ],
   "source": [
    "np.hstack(starts)[0].shape"
   ]
  },
  {
   "cell_type": "code",
   "execution_count": 345,
   "id": "skilled-genealogy",
   "metadata": {},
   "outputs": [
    {
     "data": {
      "image/png": "[encoded data removed]",
      "text/plain": [
       "<Figure size 432x288 with 1 Axes>"
      ]
     },
     "metadata": {
      "needs_background": "light"
     },
     "output_type": "display_data"
    }
   ],
   "source": [
    "plt.hist(np.hstack(starts)[0], color='black')\n",
    "plt.title('starting (correct) points')\n",
    "plt.show()"
   ]
  },
  {
   "cell_type": "code",
   "execution_count": 338,
   "id": "urban-crime",
   "metadata": {},
   "outputs": [],
   "source": [
    "all_failures = np.hstack(failures)"
   ]
  },
  {
   "cell_type": "code",
   "execution_count": 339,
   "id": "potential-utilization",
   "metadata": {},
   "outputs": [
    {
     "data": {
      "text/plain": [
       "(1000,)"
      ]
     },
     "execution_count": 339,
     "metadata": {},
     "output_type": "execute_result"
    }
   ],
   "source": [
    "all_failures.shape"
   ]
  },
  {
   "cell_type": "code",
   "execution_count": 347,
   "id": "primary-button",
   "metadata": {},
   "outputs": [
    {
     "data": {
      "image/png": "[encoded data removed]",
      "text/plain": [
       "<Figure size 432x288 with 1 Axes>"
      ]
     },
     "metadata": {
      "needs_background": "light"
     },
     "output_type": "display_data"
    }
   ],
   "source": [
    "plt.hist(np.hstack(failures), color='red')\n",
    "plt.title('In-dist failures')\n",
    "plt.show()"
   ]
  },
  {
   "cell_type": "code",
   "execution_count": 330,
   "id": "hungry-heritage",
   "metadata": {},
   "outputs": [
    {
     "name": "stdout",
     "output_type": "stream",
     "text": [
      "2.2664233704883725\n",
      "2.254345139059944\n",
      "2.438073564544936\n",
      "2.142996218525954\n",
      "2.6914953814738314\n",
      "2.95488977886923\n",
      "1.8736890528060708\n",
      "2.1290962593750007\n",
      "2.4498296094779257\n",
      "2.531204435817795\n"
     ]
    }
   ],
   "source": [
    "for i in range(10):\n",
    "    print(np.max(failures[i]))"
   ]
  },
  {
   "cell_type": "code",
   "execution_count": 331,
   "id": "published-cancer",
   "metadata": {},
   "outputs": [
    {
     "name": "stdout",
     "output_type": "stream",
     "text": [
      "-2.1411045265820863\n",
      "-2.525721030262321\n",
      "-2.6324940323577697\n",
      "-2.478759328402564\n",
      "-2.8742802674705756\n",
      "-2.5686374884871594\n",
      "-2.7906407156008384\n",
      "-1.3702230078942206\n",
      "-2.3593934635271925\n",
      "-3.502021535387346\n"
     ]
    }
   ],
   "source": [
    "for i in range(10):\n",
    "    print(np.min(failures[i]))"
   ]
  },
  {
   "cell_type": "code",
   "execution_count": 157,
   "id": "charged-disease",
   "metadata": {},
   "outputs": [],
   "source": [
    "with open('data_dimension_experiment_10_repeats.p','rb') as F:\n",
    "    all_info = pickle.load(F)"
   ]
  },
  {
   "cell_type": "code",
   "execution_count": 97,
   "id": "cleared-election",
   "metadata": {},
   "outputs": [],
   "source": [
    "# len(all_info[0][0][10].dataset)"
   ]
  },
  {
   "cell_type": "code",
   "execution_count": 158,
   "id": "skilled-heather",
   "metadata": {},
   "outputs": [
    {
     "data": {
      "text/plain": [
       "2"
      ]
     },
     "execution_count": 158,
     "metadata": {},
     "output_type": "execute_result"
    }
   ],
   "source": [
    "len(all_info[0][1][10].in_dist_advs)"
   ]
  },
  {
   "cell_type": "markdown",
   "id": "leading-spirit",
   "metadata": {},
   "source": [
    "### Checking with data of failed iteration"
   ]
  },
  {
   "cell_type": "code",
   "execution_count": 171,
   "id": "institutional-twenty",
   "metadata": {},
   "outputs": [
    {
     "data": {
      "text/plain": [
       "10"
      ]
     },
     "execution_count": 171,
     "metadata": {},
     "output_type": "execute_result"
    }
   ],
   "source": [
    "len(all_info[3][1][10].in_dist_advs)"
   ]
  },
  {
   "cell_type": "code",
   "execution_count": 162,
   "id": "oriented-forwarding",
   "metadata": {},
   "outputs": [
    {
     "data": {
      "application/vnd.jupyter.widget-view+json": {
       "model_id": "31c1f247b9b14869ad26fe0df1586bd1",
       "version_major": 2,
       "version_minor": 0
      },
      "text/plain": [
       "  0%|          | 0/1000 [00:00<?, ?it/s]"
      ]
     },
     "metadata": {},
     "output_type": "display_data"
    },
    {
     "name": "stdout",
     "output_type": "stream",
     "text": [
      "Epoch:999, Train Acc:tensor(0.9985, device='cuda:0')\n",
      "Epoch:999, Test Acc:tensor(0.9983, device='cuda:0')\n",
      "dset_size_50000_bad_data\n"
     ]
    },
    {
     "data": {
      "application/vnd.jupyter.widget-view+json": {
       "model_id": "8174bdbd83a140408dbedd03b06e5f94",
       "version_major": 2,
       "version_minor": 0
      },
      "text/plain": [
       "  0%|          | 0/10 [00:00<?, ?it/s]"
      ]
     },
     "metadata": {},
     "output_type": "display_data"
    },
    {
     "name": "stdout",
     "output_type": "stream",
     "text": [
      "attack rate:8/10\n"
     ]
    },
    {
     "data": {
      "application/vnd.jupyter.widget-view+json": {
       "model_id": "7d02edcacae9451e9f5cbd3dade3b070",
       "version_major": 2,
       "version_minor": 0
      },
      "text/plain": [
       "  0%|          | 0/1000 [00:00<?, ?it/s]"
      ]
     },
     "metadata": {},
     "output_type": "display_data"
    },
    {
     "name": "stdout",
     "output_type": "stream",
     "text": [
      "Epoch:999, Train Acc:tensor(0.9905, device='cuda:0')\n",
      "Epoch:999, Test Acc:tensor(0.9896, device='cuda:0')\n",
      "dset_size_50000_bad_data\n"
     ]
    },
    {
     "data": {
      "application/vnd.jupyter.widget-view+json": {
       "model_id": "9101886abc7c467c99bbf53f1977813b",
       "version_major": 2,
       "version_minor": 0
      },
      "text/plain": [
       "  0%|          | 0/10 [00:00<?, ?it/s]"
      ]
     },
     "metadata": {},
     "output_type": "display_data"
    },
    {
     "name": "stdout",
     "output_type": "stream",
     "text": [
      "attack rate:6/10\n"
     ]
    },
    {
     "data": {
      "application/vnd.jupyter.widget-view+json": {
       "model_id": "28631a32c1d34be789dd5ef2991d6c61",
       "version_major": 2,
       "version_minor": 0
      },
      "text/plain": [
       "  0%|          | 0/1000 [00:00<?, ?it/s]"
      ]
     },
     "metadata": {},
     "output_type": "display_data"
    },
    {
     "name": "stdout",
     "output_type": "stream",
     "text": [
      "Epoch:999, Train Acc:tensor(0.9989, device='cuda:0')\n",
      "Epoch:999, Test Acc:tensor(0.9992, device='cuda:0')\n",
      "dset_size_50000_bad_data\n"
     ]
    },
    {
     "data": {
      "application/vnd.jupyter.widget-view+json": {
       "model_id": "eaf1e4f3dd2140fe9b4bda1c053d1ccb",
       "version_major": 2,
       "version_minor": 0
      },
      "text/plain": [
       "  0%|          | 0/10 [00:00<?, ?it/s]"
      ]
     },
     "metadata": {},
     "output_type": "display_data"
    },
    {
     "name": "stdout",
     "output_type": "stream",
     "text": [
      "attack rate:7/10\n"
     ]
    },
    {
     "data": {
      "application/vnd.jupyter.widget-view+json": {
       "model_id": "b6f4bd71332f4b6b9e39eabe39504fe8",
       "version_major": 2,
       "version_minor": 0
      },
      "text/plain": [
       "  0%|          | 0/1000 [00:00<?, ?it/s]"
      ]
     },
     "metadata": {},
     "output_type": "display_data"
    },
    {
     "name": "stdout",
     "output_type": "stream",
     "text": [
      "Epoch:999, Train Acc:tensor(0.9986, device='cuda:0')\n",
      "Epoch:999, Test Acc:tensor(0.9984, device='cuda:0')\n",
      "dset_size_50000_bad_data\n"
     ]
    },
    {
     "data": {
      "application/vnd.jupyter.widget-view+json": {
       "model_id": "ab5e0fae4b2f44c5a847a1f5c865f62b",
       "version_major": 2,
       "version_minor": 0
      },
      "text/plain": [
       "  0%|          | 0/10 [00:00<?, ?it/s]"
      ]
     },
     "metadata": {},
     "output_type": "display_data"
    },
    {
     "name": "stdout",
     "output_type": "stream",
     "text": [
      "attack rate:8/10\n"
     ]
    },
    {
     "data": {
      "application/vnd.jupyter.widget-view+json": {
       "model_id": "f3c433e5a94f4a598289d80f77f85a6e",
       "version_major": 2,
       "version_minor": 0
      },
      "text/plain": [
       "  0%|          | 0/1000 [00:00<?, ?it/s]"
      ]
     },
     "metadata": {},
     "output_type": "display_data"
    },
    {
     "name": "stdout",
     "output_type": "stream",
     "text": [
      "Epoch:999, Train Acc:tensor(0.9931, device='cuda:0')\n",
      "Epoch:999, Test Acc:tensor(0.9932, device='cuda:0')\n",
      "dset_size_50000_bad_data\n"
     ]
    },
    {
     "data": {
      "application/vnd.jupyter.widget-view+json": {
       "model_id": "62551a3b7fc643469244b3a6dfea59f1",
       "version_major": 2,
       "version_minor": 0
      },
      "text/plain": [
       "  0%|          | 0/10 [00:00<?, ?it/s]"
      ]
     },
     "metadata": {},
     "output_type": "display_data"
    },
    {
     "name": "stdout",
     "output_type": "stream",
     "text": [
      "attack rate:10/10\n"
     ]
    },
    {
     "data": {
      "application/vnd.jupyter.widget-view+json": {
       "model_id": "c73f8babb97b4f53ae4e4f169119d900",
       "version_major": 2,
       "version_minor": 0
      },
      "text/plain": [
       "  0%|          | 0/1000 [00:00<?, ?it/s]"
      ]
     },
     "metadata": {},
     "output_type": "display_data"
    },
    {
     "name": "stdout",
     "output_type": "stream",
     "text": [
      "Epoch:999, Train Acc:tensor(0.9924, device='cuda:0')\n",
      "Epoch:999, Test Acc:tensor(0.9931, device='cuda:0')\n",
      "dset_size_50000_bad_data\n"
     ]
    },
    {
     "data": {
      "application/vnd.jupyter.widget-view+json": {
       "model_id": "a60e39414fc442d4b4cf7800ee1dcc2b",
       "version_major": 2,
       "version_minor": 0
      },
      "text/plain": [
       "  0%|          | 0/10 [00:00<?, ?it/s]"
      ]
     },
     "metadata": {},
     "output_type": "display_data"
    },
    {
     "name": "stdout",
     "output_type": "stream",
     "text": [
      "attack rate:10/10\n"
     ]
    },
    {
     "data": {
      "application/vnd.jupyter.widget-view+json": {
       "model_id": "edb7de3bda4e47df8f38dd7a3c23d67a",
       "version_major": 2,
       "version_minor": 0
      },
      "text/plain": [
       "  0%|          | 0/1000 [00:00<?, ?it/s]"
      ]
     },
     "metadata": {},
     "output_type": "display_data"
    },
    {
     "name": "stdout",
     "output_type": "stream",
     "text": [
      "Epoch:999, Train Acc:tensor(0.9969, device='cuda:0')\n",
      "Epoch:999, Test Acc:tensor(0.9972, device='cuda:0')\n",
      "dset_size_50000_bad_data\n"
     ]
    },
    {
     "data": {
      "application/vnd.jupyter.widget-view+json": {
       "model_id": "b4039817d8774294b5e92d9ee56a9fb6",
       "version_major": 2,
       "version_minor": 0
      },
      "text/plain": [
       "  0%|          | 0/10 [00:00<?, ?it/s]"
      ]
     },
     "metadata": {},
     "output_type": "display_data"
    },
    {
     "name": "stdout",
     "output_type": "stream",
     "text": [
      "attack rate:7/10\n"
     ]
    },
    {
     "data": {
      "application/vnd.jupyter.widget-view+json": {
       "model_id": "b00f43246f174d4085a36ec338a0fc74",
       "version_major": 2,
       "version_minor": 0
      },
      "text/plain": [
       "  0%|          | 0/1000 [00:00<?, ?it/s]"
      ]
     },
     "metadata": {},
     "output_type": "display_data"
    },
    {
     "name": "stdout",
     "output_type": "stream",
     "text": [
      "Epoch:999, Train Acc:tensor(0.9983, device='cuda:0')\n",
      "Epoch:999, Test Acc:tensor(0.9982, device='cuda:0')\n",
      "dset_size_50000_bad_data\n"
     ]
    },
    {
     "data": {
      "application/vnd.jupyter.widget-view+json": {
       "model_id": "4fbf45a6aefd4fc684b42401d5995055",
       "version_major": 2,
       "version_minor": 0
      },
      "text/plain": [
       "  0%|          | 0/10 [00:00<?, ?it/s]"
      ]
     },
     "metadata": {},
     "output_type": "display_data"
    },
    {
     "name": "stdout",
     "output_type": "stream",
     "text": [
      "attack rate:1/10\n"
     ]
    },
    {
     "data": {
      "application/vnd.jupyter.widget-view+json": {
       "model_id": "708ea14565864ab7ae24b734fd9ba35b",
       "version_major": 2,
       "version_minor": 0
      },
      "text/plain": [
       "  0%|          | 0/1000 [00:00<?, ?it/s]"
      ]
     },
     "metadata": {},
     "output_type": "display_data"
    },
    {
     "name": "stdout",
     "output_type": "stream",
     "text": [
      "Epoch:999, Train Acc:tensor(0.9982, device='cuda:0')\n",
      "Epoch:999, Test Acc:tensor(0.9983, device='cuda:0')\n",
      "dset_size_50000_bad_data\n"
     ]
    },
    {
     "data": {
      "application/vnd.jupyter.widget-view+json": {
       "model_id": "477ec74d0531408eba90bf824e5e0157",
       "version_major": 2,
       "version_minor": 0
      },
      "text/plain": [
       "  0%|          | 0/10 [00:00<?, ?it/s]"
      ]
     },
     "metadata": {},
     "output_type": "display_data"
    },
    {
     "name": "stdout",
     "output_type": "stream",
     "text": [
      "attack rate:7/10\n"
     ]
    },
    {
     "data": {
      "application/vnd.jupyter.widget-view+json": {
       "model_id": "d0d038ec16ba45d38cc88e784a043743",
       "version_major": 2,
       "version_minor": 0
      },
      "text/plain": [
       "  0%|          | 0/1000 [00:00<?, ?it/s]"
      ]
     },
     "metadata": {},
     "output_type": "display_data"
    },
    {
     "name": "stdout",
     "output_type": "stream",
     "text": [
      "Epoch:999, Train Acc:tensor(0.9995, device='cuda:0')\n",
      "Epoch:999, Test Acc:tensor(0.9995, device='cuda:0')\n",
      "dset_size_50000_bad_data\n"
     ]
    },
    {
     "data": {
      "application/vnd.jupyter.widget-view+json": {
       "model_id": "9b1da29f25c243d4aa1b8fef2c564f3e",
       "version_major": 2,
       "version_minor": 0
      },
      "text/plain": [
       "  0%|          | 0/10 [00:00<?, ?it/s]"
      ]
     },
     "metadata": {},
     "output_type": "display_data"
    },
    {
     "name": "stdout",
     "output_type": "stream",
     "text": [
      "attack rate:0/10\n"
     ]
    }
   ],
   "source": [
    "all_info_bad_data = []\n",
    "\n",
    "N_dim = 10\n",
    "info_to_track = []\n",
    "for repeat_iteration in range(5):\n",
    "    ds = all_info[0][0][10].dataset\n",
    "#     dataset = make_dataset(10)\n",
    "    trained_models[N_dim] = train_model(N_dim, ds, 'dset_size_%s_bad_data'%dsize)\n",
    "    model_to_attack = trained_models[N_dim].cpu()\n",
    "    attack_output = {}\n",
    "    attack_output[N_dim] = cma_experiment(model_to_attack, 10)\n",
    "    print('attack rate:%s/10'%len(attack_output[10].in_dist_advs))\n",
    "    iter_info = [trained_models, attack_output]\n",
    "    all_info_bad_data.append(iter_info)"
   ]
  },
  {
   "cell_type": "code",
   "execution_count": 166,
   "id": "possible-detection",
   "metadata": {},
   "outputs": [
    {
     "name": "stdout",
     "output_type": "stream",
     "text": [
      "8\n",
      "6\n",
      "7\n",
      "8\n",
      "10\n",
      "10\n",
      "7\n",
      "1\n",
      "7\n",
      "0\n"
     ]
    }
   ],
   "source": [
    "for i in range(10):\n",
    "    print(len(all_info_bad_data[i][1][10].in_dist_advs))"
   ]
  },
  {
   "cell_type": "code",
   "execution_count": 165,
   "id": "thorough-frederick",
   "metadata": {},
   "outputs": [],
   "source": [
    "with open('data_dimension_experiment_10_repeats_bad_data.p','wb') as F:\n",
    "    pickle.dump(all_info_bad_data, F)"
   ]
  },
  {
   "cell_type": "markdown",
   "id": "closed-tucson",
   "metadata": {},
   "source": [
    "## Distance between failures"
   ]
  },
  {
   "cell_type": "code",
   "execution_count": 313,
   "id": "orange-corner",
   "metadata": {},
   "outputs": [
    {
     "ename": "EOFError",
     "evalue": "Ran out of input",
     "output_type": "error",
     "traceback": [
      "\u001b[0;31m---------------------------------------------------------------------------\u001b[0m",
      "\u001b[0;31mEOFError\u001b[0m                                  Traceback (most recent call last)",
      "\u001b[0;32m<ipython-input-313-b0552c7187d7>\u001b[0m in \u001b[0;36m<module>\u001b[0;34m\u001b[0m\n\u001b[1;32m      1\u001b[0m \u001b[0;32mwith\u001b[0m \u001b[0mopen\u001b[0m\u001b[0;34m(\u001b[0m\u001b[0;34m'data_dimension_experiment_10_100_1000.p'\u001b[0m\u001b[0;34m,\u001b[0m\u001b[0;34m'rb'\u001b[0m\u001b[0;34m)\u001b[0m \u001b[0;32mas\u001b[0m \u001b[0mF\u001b[0m\u001b[0;34m:\u001b[0m\u001b[0;34m\u001b[0m\u001b[0;34m\u001b[0m\u001b[0m\n\u001b[0;32m----> 2\u001b[0;31m     \u001b[0mall_info_dimensions\u001b[0m \u001b[0;34m=\u001b[0m \u001b[0mpickle\u001b[0m\u001b[0;34m.\u001b[0m\u001b[0mload\u001b[0m\u001b[0;34m(\u001b[0m\u001b[0mF\u001b[0m\u001b[0;34m)\u001b[0m\u001b[0;34m\u001b[0m\u001b[0;34m\u001b[0m\u001b[0m\n\u001b[0m",
      "\u001b[0;31mEOFError\u001b[0m: Ran out of input"
     ]
    }
   ],
   "source": [
    "with open('data_dimension_experiment_10_100_1000.p','rb') as F:\n",
    "    all_info_dimensions = pickle.load(F)"
   ]
  },
  {
   "cell_type": "code",
   "execution_count": null,
   "id": "broad-liberal",
   "metadata": {},
   "outputs": [],
   "source": []
  },
  {
   "cell_type": "code",
   "execution_count": 167,
   "id": "departmental-contribution",
   "metadata": {},
   "outputs": [],
   "source": [
    "# with open('data_dimension_experiment_10_repeats_bad_data.p','rb') as F:\n",
    "#     all_info_bad_data = pickle.load(F)"
   ]
  },
  {
   "cell_type": "markdown",
   "id": "guided-baghdad",
   "metadata": {},
   "source": [
    "### Checking with data of good iteration"
   ]
  },
  {
   "cell_type": "code",
   "execution_count": 172,
   "id": "worldwide-might",
   "metadata": {
    "scrolled": true
   },
   "outputs": [
    {
     "data": {
      "application/vnd.jupyter.widget-view+json": {
       "model_id": "83cbbe9eb24b4f80b311b4102de543a7",
       "version_major": 2,
       "version_minor": 0
      },
      "text/plain": [
       "  0%|          | 0/1000 [00:00<?, ?it/s]"
      ]
     },
     "metadata": {},
     "output_type": "display_data"
    },
    {
     "name": "stdout",
     "output_type": "stream",
     "text": [
      "Epoch:999, Train Acc:tensor(0.9974, device='cuda:0')\n",
      "Epoch:999, Test Acc:tensor(0.9974, device='cuda:0')\n",
      "dset_size_50000_bad_data\n"
     ]
    },
    {
     "data": {
      "application/vnd.jupyter.widget-view+json": {
       "model_id": "c879b03c315645ac87dfd21651a5b645",
       "version_major": 2,
       "version_minor": 0
      },
      "text/plain": [
       "  0%|          | 0/10 [00:00<?, ?it/s]"
      ]
     },
     "metadata": {},
     "output_type": "display_data"
    },
    {
     "name": "stdout",
     "output_type": "stream",
     "text": [
      "attack rate:10/10\n"
     ]
    },
    {
     "data": {
      "application/vnd.jupyter.widget-view+json": {
       "model_id": "17b9c99b7405418eb60bb1656d71fc77",
       "version_major": 2,
       "version_minor": 0
      },
      "text/plain": [
       "  0%|          | 0/1000 [00:00<?, ?it/s]"
      ]
     },
     "metadata": {},
     "output_type": "display_data"
    },
    {
     "name": "stdout",
     "output_type": "stream",
     "text": [
      "Epoch:999, Train Acc:tensor(0.9957, device='cuda:0')\n",
      "Epoch:999, Test Acc:tensor(0.9963, device='cuda:0')\n",
      "dset_size_50000_bad_data\n"
     ]
    },
    {
     "data": {
      "application/vnd.jupyter.widget-view+json": {
       "model_id": "f8970151d2694842bc76c597787a4d98",
       "version_major": 2,
       "version_minor": 0
      },
      "text/plain": [
       "  0%|          | 0/10 [00:00<?, ?it/s]"
      ]
     },
     "metadata": {},
     "output_type": "display_data"
    },
    {
     "name": "stdout",
     "output_type": "stream",
     "text": [
      "attack rate:10/10\n"
     ]
    },
    {
     "data": {
      "application/vnd.jupyter.widget-view+json": {
       "model_id": "17619536abf9484ca2efa5dea98cad95",
       "version_major": 2,
       "version_minor": 0
      },
      "text/plain": [
       "  0%|          | 0/1000 [00:00<?, ?it/s]"
      ]
     },
     "metadata": {},
     "output_type": "display_data"
    },
    {
     "name": "stdout",
     "output_type": "stream",
     "text": [
      "Epoch:999, Train Acc:tensor(0.9939, device='cuda:0')\n",
      "Epoch:999, Test Acc:tensor(0.9937, device='cuda:0')\n",
      "dset_size_50000_bad_data\n"
     ]
    },
    {
     "data": {
      "application/vnd.jupyter.widget-view+json": {
       "model_id": "a8cf3d73919a4e9d83eb23d8973f928b",
       "version_major": 2,
       "version_minor": 0
      },
      "text/plain": [
       "  0%|          | 0/10 [00:00<?, ?it/s]"
      ]
     },
     "metadata": {},
     "output_type": "display_data"
    },
    {
     "name": "stdout",
     "output_type": "stream",
     "text": [
      "attack rate:7/10\n"
     ]
    },
    {
     "data": {
      "application/vnd.jupyter.widget-view+json": {
       "model_id": "c33c5bc7c01641adbb73db4d87c02d03",
       "version_major": 2,
       "version_minor": 0
      },
      "text/plain": [
       "  0%|          | 0/1000 [00:00<?, ?it/s]"
      ]
     },
     "metadata": {},
     "output_type": "display_data"
    },
    {
     "name": "stdout",
     "output_type": "stream",
     "text": [
      "Epoch:999, Train Acc:tensor(0.9975, device='cuda:0')\n",
      "Epoch:999, Test Acc:tensor(0.9975, device='cuda:0')\n",
      "dset_size_50000_bad_data\n"
     ]
    },
    {
     "data": {
      "application/vnd.jupyter.widget-view+json": {
       "model_id": "9e7969e1bc9840b48e9ad63711ce7b57",
       "version_major": 2,
       "version_minor": 0
      },
      "text/plain": [
       "  0%|          | 0/10 [00:00<?, ?it/s]"
      ]
     },
     "metadata": {},
     "output_type": "display_data"
    },
    {
     "name": "stdout",
     "output_type": "stream",
     "text": [
      "attack rate:3/10\n"
     ]
    },
    {
     "data": {
      "application/vnd.jupyter.widget-view+json": {
       "model_id": "13292f681fc74e049abfb5cc613ec262",
       "version_major": 2,
       "version_minor": 0
      },
      "text/plain": [
       "  0%|          | 0/1000 [00:00<?, ?it/s]"
      ]
     },
     "metadata": {},
     "output_type": "display_data"
    },
    {
     "name": "stdout",
     "output_type": "stream",
     "text": [
      "Epoch:999, Train Acc:tensor(0.9986, device='cuda:0')\n",
      "Epoch:999, Test Acc:tensor(0.9988, device='cuda:0')\n",
      "dset_size_50000_bad_data\n"
     ]
    },
    {
     "data": {
      "application/vnd.jupyter.widget-view+json": {
       "model_id": "4c710b76b49c4aa8b4bc3c23394293f7",
       "version_major": 2,
       "version_minor": 0
      },
      "text/plain": [
       "  0%|          | 0/10 [00:00<?, ?it/s]"
      ]
     },
     "metadata": {},
     "output_type": "display_data"
    },
    {
     "name": "stdout",
     "output_type": "stream",
     "text": [
      "attack rate:9/10\n"
     ]
    },
    {
     "data": {
      "application/vnd.jupyter.widget-view+json": {
       "model_id": "4fcd2e66bb3042a0bcb2b26f5c292f3e",
       "version_major": 2,
       "version_minor": 0
      },
      "text/plain": [
       "  0%|          | 0/1000 [00:00<?, ?it/s]"
      ]
     },
     "metadata": {},
     "output_type": "display_data"
    },
    {
     "name": "stdout",
     "output_type": "stream",
     "text": [
      "Epoch:999, Train Acc:tensor(0.9971, device='cuda:0')\n",
      "Epoch:999, Test Acc:tensor(0.9970, device='cuda:0')\n",
      "dset_size_50000_bad_data\n"
     ]
    },
    {
     "data": {
      "application/vnd.jupyter.widget-view+json": {
       "model_id": "cf2ba442b4d74a22952004d199a93daa",
       "version_major": 2,
       "version_minor": 0
      },
      "text/plain": [
       "  0%|          | 0/10 [00:00<?, ?it/s]"
      ]
     },
     "metadata": {},
     "output_type": "display_data"
    },
    {
     "name": "stdout",
     "output_type": "stream",
     "text": [
      "attack rate:4/10\n"
     ]
    },
    {
     "data": {
      "application/vnd.jupyter.widget-view+json": {
       "model_id": "faa75f870a0d4a1e8c123c976d71d373",
       "version_major": 2,
       "version_minor": 0
      },
      "text/plain": [
       "  0%|          | 0/1000 [00:00<?, ?it/s]"
      ]
     },
     "metadata": {},
     "output_type": "display_data"
    },
    {
     "name": "stdout",
     "output_type": "stream",
     "text": [
      "Epoch:999, Train Acc:tensor(0.9933, device='cuda:0')\n",
      "Epoch:999, Test Acc:tensor(0.9938, device='cuda:0')\n",
      "dset_size_50000_bad_data\n"
     ]
    },
    {
     "data": {
      "application/vnd.jupyter.widget-view+json": {
       "model_id": "f84964d7930e40f98a95de25a03a3f9f",
       "version_major": 2,
       "version_minor": 0
      },
      "text/plain": [
       "  0%|          | 0/10 [00:00<?, ?it/s]"
      ]
     },
     "metadata": {},
     "output_type": "display_data"
    },
    {
     "name": "stdout",
     "output_type": "stream",
     "text": [
      "attack rate:1/10\n"
     ]
    },
    {
     "data": {
      "application/vnd.jupyter.widget-view+json": {
       "model_id": "067286044ac54d74863e05f4ea54b275",
       "version_major": 2,
       "version_minor": 0
      },
      "text/plain": [
       "  0%|          | 0/1000 [00:00<?, ?it/s]"
      ]
     },
     "metadata": {},
     "output_type": "display_data"
    },
    {
     "name": "stdout",
     "output_type": "stream",
     "text": [
      "Epoch:999, Train Acc:tensor(0.9976, device='cuda:0')\n",
      "Epoch:999, Test Acc:tensor(0.9969, device='cuda:0')\n",
      "dset_size_50000_bad_data\n"
     ]
    },
    {
     "data": {
      "application/vnd.jupyter.widget-view+json": {
       "model_id": "7416d79a335a4224b54eeee652d1e856",
       "version_major": 2,
       "version_minor": 0
      },
      "text/plain": [
       "  0%|          | 0/10 [00:00<?, ?it/s]"
      ]
     },
     "metadata": {},
     "output_type": "display_data"
    },
    {
     "name": "stdout",
     "output_type": "stream",
     "text": [
      "attack rate:10/10\n"
     ]
    },
    {
     "data": {
      "application/vnd.jupyter.widget-view+json": {
       "model_id": "3a5a809c28354fb6843315af412c2c3a",
       "version_major": 2,
       "version_minor": 0
      },
      "text/plain": [
       "  0%|          | 0/1000 [00:00<?, ?it/s]"
      ]
     },
     "metadata": {},
     "output_type": "display_data"
    },
    {
     "name": "stdout",
     "output_type": "stream",
     "text": [
      "Epoch:999, Train Acc:tensor(0.9980, device='cuda:0')\n",
      "Epoch:999, Test Acc:tensor(0.9980, device='cuda:0')\n",
      "dset_size_50000_bad_data\n"
     ]
    },
    {
     "data": {
      "application/vnd.jupyter.widget-view+json": {
       "model_id": "bd5e0d25a50b40f8b4ba3f06b5db5947",
       "version_major": 2,
       "version_minor": 0
      },
      "text/plain": [
       "  0%|          | 0/10 [00:00<?, ?it/s]"
      ]
     },
     "metadata": {},
     "output_type": "display_data"
    },
    {
     "name": "stdout",
     "output_type": "stream",
     "text": [
      "attack rate:2/10\n"
     ]
    },
    {
     "data": {
      "application/vnd.jupyter.widget-view+json": {
       "model_id": "9f721ffc77c249d2a9379a1750d7d1ab",
       "version_major": 2,
       "version_minor": 0
      },
      "text/plain": [
       "  0%|          | 0/1000 [00:00<?, ?it/s]"
      ]
     },
     "metadata": {},
     "output_type": "display_data"
    },
    {
     "name": "stdout",
     "output_type": "stream",
     "text": [
      "Epoch:999, Train Acc:tensor(0.9962, device='cuda:0')\n",
      "Epoch:999, Test Acc:tensor(0.9957, device='cuda:0')\n",
      "dset_size_50000_bad_data\n"
     ]
    },
    {
     "data": {
      "application/vnd.jupyter.widget-view+json": {
       "model_id": "0a69425278d946a1b0c8185749c5771d",
       "version_major": 2,
       "version_minor": 0
      },
      "text/plain": [
       "  0%|          | 0/10 [00:00<?, ?it/s]"
      ]
     },
     "metadata": {},
     "output_type": "display_data"
    },
    {
     "name": "stdout",
     "output_type": "stream",
     "text": [
      "attack rate:4/10\n"
     ]
    }
   ],
   "source": [
    "all_info_good_data = []\n",
    "\n",
    "N_dim = 10\n",
    "# info_to_track = []\n",
    "for repeat_iteration in range(10):\n",
    "    ds = all_info[3][0][10].dataset\n",
    "#     dataset = make_dataset(10)\n",
    "    trained_models[N_dim] = train_model(N_dim, ds, 'dset_size_%s_bad_data'%dsize)\n",
    "    model_to_attack = trained_models[N_dim].cpu()\n",
    "    attack_output = {}\n",
    "    attack_output[N_dim] = cma_experiment(model_to_attack, 10)\n",
    "    print('attack rate:%s/10'%len(attack_output[10].in_dist_advs))\n",
    "    iter_info = [trained_models, attack_output]\n",
    "    all_info_good_data.append(iter_info)"
   ]
  },
  {
   "cell_type": "code",
   "execution_count": 299,
   "id": "closing-daniel",
   "metadata": {},
   "outputs": [],
   "source": [
    "# all_info_good_data"
   ]
  },
  {
   "cell_type": "code",
   "execution_count": 173,
   "id": "recorded-potter",
   "metadata": {},
   "outputs": [
    {
     "name": "stdout",
     "output_type": "stream",
     "text": [
      "10\n",
      "10\n",
      "7\n",
      "3\n",
      "9\n",
      "4\n",
      "1\n",
      "10\n",
      "2\n",
      "4\n"
     ]
    }
   ],
   "source": [
    "for i in range(10):\n",
    "    print(len(all_info_good_data[i][1][10].in_dist_advs))"
   ]
  },
  {
   "cell_type": "markdown",
   "id": "significant-morning",
   "metadata": {},
   "source": [
    "## So it isn't data. Is it SGD? or initialization?"
   ]
  },
  {
   "cell_type": "code",
   "execution_count": 236,
   "id": "compact-pharmaceutical",
   "metadata": {},
   "outputs": [],
   "source": [
    "# model_st = MLP(10, 'yo', seed=2)"
   ]
  },
  {
   "cell_type": "code",
   "execution_count": 237,
   "id": "consolidated-engineer",
   "metadata": {},
   "outputs": [],
   "source": [
    "# for p in model_st.layers[0].parameters():\n",
    "#     plt.imshow(p.detach().numpy())\n",
    "#     plt.show()\n",
    "#     break\n",
    "# for p in model_st.layers[2].parameters():\n",
    "#     plt.imshow(p.detach().numpy())\n",
    "#     plt.show()\n",
    "#     break"
   ]
  },
  {
   "cell_type": "code",
   "execution_count": 238,
   "id": "metropolitan-webster",
   "metadata": {},
   "outputs": [],
   "source": [
    "# model_st = MLP(10, 'yo', seed=3)"
   ]
  },
  {
   "cell_type": "code",
   "execution_count": 239,
   "id": "constant-nicholas",
   "metadata": {},
   "outputs": [],
   "source": [
    "# for p in model_st.layers[0].parameters():\n",
    "#     plt.imshow(p.detach().numpy())\n",
    "#     plt.show()\n",
    "#     break\n",
    "# for p in model_st.layers[2].parameters():\n",
    "#     plt.imshow(p.detach().numpy())\n",
    "#     plt.show()\n",
    "#     break"
   ]
  },
  {
   "cell_type": "code",
   "execution_count": 261,
   "id": "uniform-dispatch",
   "metadata": {},
   "outputs": [],
   "source": [
    "# 11851462928781797369"
   ]
  },
  {
   "cell_type": "code",
   "execution_count": 310,
   "id": "automotive-intermediate",
   "metadata": {},
   "outputs": [
    {
     "name": "stdout",
     "output_type": "stream",
     "text": [
      "Torch seed:4174277284558138264\n"
     ]
    },
    {
     "data": {
      "application/vnd.jupyter.widget-view+json": {
       "model_id": "6f89e775d78946d5a1455304f14eebe7",
       "version_major": 2,
       "version_minor": 0
      },
      "text/plain": [
       "  0%|          | 0/1000 [00:00<?, ?it/s]"
      ]
     },
     "metadata": {},
     "output_type": "display_data"
    },
    {
     "name": "stdout",
     "output_type": "stream",
     "text": [
      "Epoch:999, Train Acc:tensor(0.9948, device='cuda:0')\n",
      "Epoch:999, Test Acc:tensor(0.9950, device='cuda:0')\n",
      "dset_size_50000_bad_data\n"
     ]
    },
    {
     "data": {
      "application/vnd.jupyter.widget-view+json": {
       "model_id": "010f6132b5c44b5899ea8bdeceacfb02",
       "version_major": 2,
       "version_minor": 0
      },
      "text/plain": [
       "  0%|          | 0/10 [00:00<?, ?it/s]"
      ]
     },
     "metadata": {},
     "output_type": "display_data"
    },
    {
     "name": "stdout",
     "output_type": "stream",
     "text": [
      "attack rate:9/10\n",
      "Torch seed:17215775644220476335\n"
     ]
    },
    {
     "data": {
      "application/vnd.jupyter.widget-view+json": {
       "model_id": "514e71d551f44a7dabe8da1e8b2cefab",
       "version_major": 2,
       "version_minor": 0
      },
      "text/plain": [
       "  0%|          | 0/1000 [00:00<?, ?it/s]"
      ]
     },
     "metadata": {},
     "output_type": "display_data"
    },
    {
     "name": "stdout",
     "output_type": "stream",
     "text": [
      "Epoch:999, Train Acc:tensor(0.9772, device='cuda:0')\n",
      "Epoch:999, Test Acc:tensor(0.9760, device='cuda:0')\n",
      "dset_size_50000_bad_data\n"
     ]
    },
    {
     "data": {
      "application/vnd.jupyter.widget-view+json": {
       "model_id": "bce13538168c4684bc603e1000d2702d",
       "version_major": 2,
       "version_minor": 0
      },
      "text/plain": [
       "  0%|          | 0/10 [00:00<?, ?it/s]"
      ]
     },
     "metadata": {},
     "output_type": "display_data"
    },
    {
     "name": "stdout",
     "output_type": "stream",
     "text": [
      "attack rate:9/10\n",
      "Torch seed:7496355591039356986\n"
     ]
    },
    {
     "data": {
      "application/vnd.jupyter.widget-view+json": {
       "model_id": "4d0028fce430404d95ee455188ef4556",
       "version_major": 2,
       "version_minor": 0
      },
      "text/plain": [
       "  0%|          | 0/1000 [00:00<?, ?it/s]"
      ]
     },
     "metadata": {},
     "output_type": "display_data"
    },
    {
     "name": "stdout",
     "output_type": "stream",
     "text": [
      "Epoch:999, Train Acc:tensor(0.9952, device='cuda:0')\n",
      "Epoch:999, Test Acc:tensor(0.9951, device='cuda:0')\n",
      "dset_size_50000_bad_data\n"
     ]
    },
    {
     "data": {
      "application/vnd.jupyter.widget-view+json": {
       "model_id": "70d4a378352741eb988ddb6747b0393b",
       "version_major": 2,
       "version_minor": 0
      },
      "text/plain": [
       "  0%|          | 0/10 [00:00<?, ?it/s]"
      ]
     },
     "metadata": {},
     "output_type": "display_data"
    },
    {
     "name": "stdout",
     "output_type": "stream",
     "text": [
      "attack rate:9/10\n",
      "Torch seed:534701743729627332\n"
     ]
    },
    {
     "data": {
      "application/vnd.jupyter.widget-view+json": {
       "model_id": "dc8a7ece500e4ea4b8ca348e9ec55f2a",
       "version_major": 2,
       "version_minor": 0
      },
      "text/plain": [
       "  0%|          | 0/1000 [00:00<?, ?it/s]"
      ]
     },
     "metadata": {},
     "output_type": "display_data"
    },
    {
     "name": "stdout",
     "output_type": "stream",
     "text": [
      "Epoch:999, Train Acc:tensor(0.9984, device='cuda:0')\n",
      "Epoch:999, Test Acc:tensor(0.9983, device='cuda:0')\n",
      "dset_size_50000_bad_data\n"
     ]
    },
    {
     "data": {
      "application/vnd.jupyter.widget-view+json": {
       "model_id": "c450a36f0dbe4d8a8ae08ff6e636ab50",
       "version_major": 2,
       "version_minor": 0
      },
      "text/plain": [
       "  0%|          | 0/10 [00:00<?, ?it/s]"
      ]
     },
     "metadata": {},
     "output_type": "display_data"
    },
    {
     "name": "stdout",
     "output_type": "stream",
     "text": [
      "attack rate:4/10\n",
      "Torch seed:14284776827829932665\n"
     ]
    },
    {
     "data": {
      "application/vnd.jupyter.widget-view+json": {
       "model_id": "ff2baa0c62194c75b9a0dfda61240de4",
       "version_major": 2,
       "version_minor": 0
      },
      "text/plain": [
       "  0%|          | 0/1000 [00:00<?, ?it/s]"
      ]
     },
     "metadata": {},
     "output_type": "display_data"
    },
    {
     "name": "stdout",
     "output_type": "stream",
     "text": [
      "Epoch:999, Train Acc:tensor(0.9938, device='cuda:0')\n",
      "Epoch:999, Test Acc:tensor(0.9937, device='cuda:0')\n",
      "dset_size_50000_bad_data\n"
     ]
    },
    {
     "data": {
      "application/vnd.jupyter.widget-view+json": {
       "model_id": "2aa60de07776454da655784017197ad6",
       "version_major": 2,
       "version_minor": 0
      },
      "text/plain": [
       "  0%|          | 0/10 [00:00<?, ?it/s]"
      ]
     },
     "metadata": {},
     "output_type": "display_data"
    },
    {
     "name": "stdout",
     "output_type": "stream",
     "text": [
      "attack rate:6/10\n",
      "Torch seed:6087812942998053788\n"
     ]
    },
    {
     "data": {
      "application/vnd.jupyter.widget-view+json": {
       "model_id": "407873d1d8094af59312ded1278244f8",
       "version_major": 2,
       "version_minor": 0
      },
      "text/plain": [
       "  0%|          | 0/1000 [00:00<?, ?it/s]"
      ]
     },
     "metadata": {},
     "output_type": "display_data"
    },
    {
     "name": "stdout",
     "output_type": "stream",
     "text": [
      "Epoch:999, Train Acc:tensor(0.9930, device='cuda:0')\n",
      "Epoch:999, Test Acc:tensor(0.9932, device='cuda:0')\n",
      "dset_size_50000_bad_data\n"
     ]
    },
    {
     "data": {
      "application/vnd.jupyter.widget-view+json": {
       "model_id": "1a314b3214bc4eff91bf67acf101090c",
       "version_major": 2,
       "version_minor": 0
      },
      "text/plain": [
       "  0%|          | 0/10 [00:00<?, ?it/s]"
      ]
     },
     "metadata": {},
     "output_type": "display_data"
    },
    {
     "name": "stdout",
     "output_type": "stream",
     "text": [
      "attack rate:10/10\n",
      "Torch seed:258536263031431389\n"
     ]
    },
    {
     "data": {
      "application/vnd.jupyter.widget-view+json": {
       "model_id": "6afdaf3da5d34beeabf5a11a9d9063e8",
       "version_major": 2,
       "version_minor": 0
      },
      "text/plain": [
       "  0%|          | 0/1000 [00:00<?, ?it/s]"
      ]
     },
     "metadata": {},
     "output_type": "display_data"
    },
    {
     "name": "stdout",
     "output_type": "stream",
     "text": [
      "Epoch:999, Train Acc:tensor(0.9922, device='cuda:0')\n",
      "Epoch:999, Test Acc:tensor(0.9909, device='cuda:0')\n",
      "dset_size_50000_bad_data\n"
     ]
    },
    {
     "data": {
      "application/vnd.jupyter.widget-view+json": {
       "model_id": "1e95d5bb29cf43a89998f1c6a8fdf369",
       "version_major": 2,
       "version_minor": 0
      },
      "text/plain": [
       "  0%|          | 0/10 [00:00<?, ?it/s]"
      ]
     },
     "metadata": {},
     "output_type": "display_data"
    },
    {
     "name": "stdout",
     "output_type": "stream",
     "text": [
      "attack rate:7/10\n",
      "Torch seed:11613053419389224414\n"
     ]
    },
    {
     "data": {
      "application/vnd.jupyter.widget-view+json": {
       "model_id": "ca8ecae5f3024ed19ac8ff6e36a6d86e",
       "version_major": 2,
       "version_minor": 0
      },
      "text/plain": [
       "  0%|          | 0/1000 [00:00<?, ?it/s]"
      ]
     },
     "metadata": {},
     "output_type": "display_data"
    },
    {
     "name": "stdout",
     "output_type": "stream",
     "text": [
      "Epoch:999, Train Acc:tensor(0.9971, device='cuda:0')\n",
      "Epoch:999, Test Acc:tensor(0.9964, device='cuda:0')\n",
      "dset_size_50000_bad_data\n"
     ]
    },
    {
     "data": {
      "application/vnd.jupyter.widget-view+json": {
       "model_id": "2ae87d2fe54041fbb55a77fe0dd110c8",
       "version_major": 2,
       "version_minor": 0
      },
      "text/plain": [
       "  0%|          | 0/10 [00:00<?, ?it/s]"
      ]
     },
     "metadata": {},
     "output_type": "display_data"
    },
    {
     "name": "stdout",
     "output_type": "stream",
     "text": [
      "attack rate:9/10\n",
      "Torch seed:11511769989367920629\n"
     ]
    },
    {
     "data": {
      "application/vnd.jupyter.widget-view+json": {
       "model_id": "68ac183e300f4d93a3a51cb52e6e99cd",
       "version_major": 2,
       "version_minor": 0
      },
      "text/plain": [
       "  0%|          | 0/1000 [00:00<?, ?it/s]"
      ]
     },
     "metadata": {},
     "output_type": "display_data"
    },
    {
     "name": "stdout",
     "output_type": "stream",
     "text": [
      "Epoch:999, Train Acc:tensor(0.9955, device='cuda:0')\n",
      "Epoch:999, Test Acc:tensor(0.9950, device='cuda:0')\n",
      "dset_size_50000_bad_data\n"
     ]
    },
    {
     "data": {
      "application/vnd.jupyter.widget-view+json": {
       "model_id": "461ad3396a264932988b49a650811962",
       "version_major": 2,
       "version_minor": 0
      },
      "text/plain": [
       "  0%|          | 0/10 [00:00<?, ?it/s]"
      ]
     },
     "metadata": {},
     "output_type": "display_data"
    },
    {
     "name": "stdout",
     "output_type": "stream",
     "text": [
      "attack rate:6/10\n",
      "Torch seed:10891682799926915687\n"
     ]
    },
    {
     "data": {
      "application/vnd.jupyter.widget-view+json": {
       "model_id": "129c189f5429453da5696199ab7c6e3b",
       "version_major": 2,
       "version_minor": 0
      },
      "text/plain": [
       "  0%|          | 0/1000 [00:00<?, ?it/s]"
      ]
     },
     "metadata": {},
     "output_type": "display_data"
    },
    {
     "name": "stdout",
     "output_type": "stream",
     "text": [
      "Epoch:999, Train Acc:tensor(0.9981, device='cuda:0')\n",
      "Epoch:999, Test Acc:tensor(0.9979, device='cuda:0')\n",
      "dset_size_50000_bad_data\n"
     ]
    },
    {
     "data": {
      "application/vnd.jupyter.widget-view+json": {
       "model_id": "3e84dc0ea68d414c9e29adab0a423dc0",
       "version_major": 2,
       "version_minor": 0
      },
      "text/plain": [
       "  0%|          | 0/10 [00:00<?, ?it/s]"
      ]
     },
     "metadata": {},
     "output_type": "display_data"
    },
    {
     "name": "stdout",
     "output_type": "stream",
     "text": [
      "attack rate:4/10\n",
      "Torch seed:43328430017046853\n"
     ]
    },
    {
     "data": {
      "application/vnd.jupyter.widget-view+json": {
       "model_id": "05e74e8475aa42418e69535c6bc659e6",
       "version_major": 2,
       "version_minor": 0
      },
      "text/plain": [
       "  0%|          | 0/1000 [00:00<?, ?it/s]"
      ]
     },
     "metadata": {},
     "output_type": "display_data"
    },
    {
     "ename": "KeyboardInterrupt",
     "evalue": "",
     "output_type": "error",
     "traceback": [
      "\u001b[0;31m---------------------------------------------------------------------------\u001b[0m",
      "\u001b[0;31mKeyboardInterrupt\u001b[0m                         Traceback (most recent call last)",
      "\u001b[0;32m<ipython-input-310-ec4ba321f58c>\u001b[0m in \u001b[0;36m<module>\u001b[0;34m\u001b[0m\n\u001b[1;32m      5\u001b[0m     \u001b[0mds\u001b[0m \u001b[0;34m=\u001b[0m \u001b[0mall_info\u001b[0m\u001b[0;34m[\u001b[0m\u001b[0;36m3\u001b[0m\u001b[0;34m]\u001b[0m\u001b[0;34m[\u001b[0m\u001b[0;36m0\u001b[0m\u001b[0;34m]\u001b[0m\u001b[0;34m[\u001b[0m\u001b[0;36m10\u001b[0m\u001b[0;34m]\u001b[0m\u001b[0;34m.\u001b[0m\u001b[0mdataset\u001b[0m\u001b[0;34m\u001b[0m\u001b[0;34m\u001b[0m\u001b[0m\n\u001b[1;32m      6\u001b[0m     \u001b[0mtrained_models\u001b[0m \u001b[0;34m=\u001b[0m \u001b[0;34m{\u001b[0m\u001b[0;34m}\u001b[0m\u001b[0;34m\u001b[0m\u001b[0;34m\u001b[0m\u001b[0m\n\u001b[0;32m----> 7\u001b[0;31m     \u001b[0mtrained_models\u001b[0m\u001b[0;34m[\u001b[0m\u001b[0mN_dim\u001b[0m\u001b[0;34m]\u001b[0m \u001b[0;34m=\u001b[0m \u001b[0mtrain_model\u001b[0m\u001b[0;34m(\u001b[0m\u001b[0mN_dim\u001b[0m\u001b[0;34m,\u001b[0m \u001b[0mds\u001b[0m\u001b[0;34m,\u001b[0m \u001b[0;34m'dset_size_%s_bad_data'\u001b[0m\u001b[0;34m%\u001b[0m\u001b[0mdsize\u001b[0m\u001b[0;34m)\u001b[0m\u001b[0;34m\u001b[0m\u001b[0;34m\u001b[0m\u001b[0m\n\u001b[0m\u001b[1;32m      8\u001b[0m \u001b[0;34m\u001b[0m\u001b[0m\n\u001b[1;32m      9\u001b[0m     \u001b[0mmodel_to_attack\u001b[0m \u001b[0;34m=\u001b[0m \u001b[0mtrained_models\u001b[0m\u001b[0;34m[\u001b[0m\u001b[0mN_dim\u001b[0m\u001b[0;34m]\u001b[0m\u001b[0;34m.\u001b[0m\u001b[0mcpu\u001b[0m\u001b[0;34m(\u001b[0m\u001b[0;34m)\u001b[0m\u001b[0;34m\u001b[0m\u001b[0;34m\u001b[0m\u001b[0m\n",
      "\u001b[0;32m<ipython-input-308-d7f9a2027859>\u001b[0m in \u001b[0;36mtrain_model\u001b[0;34m(N_dim, dataset, name, seed)\u001b[0m\n\u001b[1;32m     13\u001b[0m         \u001b[0mloss\u001b[0m \u001b[0;34m=\u001b[0m \u001b[0mloss_fn\u001b[0m\u001b[0;34m(\u001b[0m\u001b[0moutputs\u001b[0m\u001b[0;34m,\u001b[0m \u001b[0mY_train\u001b[0m\u001b[0;34m.\u001b[0m\u001b[0mlong\u001b[0m\u001b[0;34m(\u001b[0m\u001b[0;34m)\u001b[0m\u001b[0;34m)\u001b[0m\u001b[0;34m\u001b[0m\u001b[0;34m\u001b[0m\u001b[0m\n\u001b[1;32m     14\u001b[0m         \u001b[0mloss\u001b[0m\u001b[0;34m.\u001b[0m\u001b[0mbackward\u001b[0m\u001b[0;34m(\u001b[0m\u001b[0;34m)\u001b[0m\u001b[0;34m\u001b[0m\u001b[0;34m\u001b[0m\u001b[0m\n\u001b[0;32m---> 15\u001b[0;31m         \u001b[0moptimizer\u001b[0m\u001b[0;34m.\u001b[0m\u001b[0mstep\u001b[0m\u001b[0;34m(\u001b[0m\u001b[0;34m)\u001b[0m\u001b[0;34m\u001b[0m\u001b[0;34m\u001b[0m\u001b[0m\n\u001b[0m\u001b[1;32m     16\u001b[0m \u001b[0;34m\u001b[0m\u001b[0m\n\u001b[1;32m     17\u001b[0m         \u001b[0mpredictions\u001b[0m \u001b[0;34m=\u001b[0m \u001b[0mtorch\u001b[0m\u001b[0;34m.\u001b[0m\u001b[0margmax\u001b[0m\u001b[0;34m(\u001b[0m\u001b[0mmodel\u001b[0m\u001b[0;34m(\u001b[0m\u001b[0mX_test\u001b[0m\u001b[0;34m)\u001b[0m\u001b[0;34m,\u001b[0m \u001b[0mdim\u001b[0m\u001b[0;34m=\u001b[0m\u001b[0;36m1\u001b[0m\u001b[0;34m)\u001b[0m\u001b[0;34m\u001b[0m\u001b[0;34m\u001b[0m\u001b[0m\n",
      "\u001b[0;32m/om5/user/smadan/miniconda3/envs/diff_rendering_ml/lib/python3.8/site-packages/torch/optim/optimizer.py\u001b[0m in \u001b[0;36mwrapper\u001b[0;34m(*args, **kwargs)\u001b[0m\n\u001b[1;32m     87\u001b[0m                 \u001b[0mprofile_name\u001b[0m \u001b[0;34m=\u001b[0m \u001b[0;34m\"Optimizer.step#{}.step\"\u001b[0m\u001b[0;34m.\u001b[0m\u001b[0mformat\u001b[0m\u001b[0;34m(\u001b[0m\u001b[0mobj\u001b[0m\u001b[0;34m.\u001b[0m\u001b[0m__class__\u001b[0m\u001b[0;34m.\u001b[0m\u001b[0m__name__\u001b[0m\u001b[0;34m)\u001b[0m\u001b[0;34m\u001b[0m\u001b[0;34m\u001b[0m\u001b[0m\n\u001b[1;32m     88\u001b[0m                 \u001b[0;32mwith\u001b[0m \u001b[0mtorch\u001b[0m\u001b[0;34m.\u001b[0m\u001b[0mautograd\u001b[0m\u001b[0;34m.\u001b[0m\u001b[0mprofiler\u001b[0m\u001b[0;34m.\u001b[0m\u001b[0mrecord_function\u001b[0m\u001b[0;34m(\u001b[0m\u001b[0mprofile_name\u001b[0m\u001b[0;34m)\u001b[0m\u001b[0;34m:\u001b[0m\u001b[0;34m\u001b[0m\u001b[0;34m\u001b[0m\u001b[0m\n\u001b[0;32m---> 89\u001b[0;31m                     \u001b[0;32mreturn\u001b[0m \u001b[0mfunc\u001b[0m\u001b[0;34m(\u001b[0m\u001b[0;34m*\u001b[0m\u001b[0margs\u001b[0m\u001b[0;34m,\u001b[0m \u001b[0;34m**\u001b[0m\u001b[0mkwargs\u001b[0m\u001b[0;34m)\u001b[0m\u001b[0;34m\u001b[0m\u001b[0;34m\u001b[0m\u001b[0m\n\u001b[0m\u001b[1;32m     90\u001b[0m             \u001b[0;32mreturn\u001b[0m \u001b[0mwrapper\u001b[0m\u001b[0;34m\u001b[0m\u001b[0;34m\u001b[0m\u001b[0m\n\u001b[1;32m     91\u001b[0m \u001b[0;34m\u001b[0m\u001b[0m\n",
      "\u001b[0;32m/om5/user/smadan/miniconda3/envs/diff_rendering_ml/lib/python3.8/site-packages/torch/autograd/grad_mode.py\u001b[0m in \u001b[0;36mdecorate_context\u001b[0;34m(*args, **kwargs)\u001b[0m\n\u001b[1;32m     25\u001b[0m         \u001b[0;32mdef\u001b[0m \u001b[0mdecorate_context\u001b[0m\u001b[0;34m(\u001b[0m\u001b[0;34m*\u001b[0m\u001b[0margs\u001b[0m\u001b[0;34m,\u001b[0m \u001b[0;34m**\u001b[0m\u001b[0mkwargs\u001b[0m\u001b[0;34m)\u001b[0m\u001b[0;34m:\u001b[0m\u001b[0;34m\u001b[0m\u001b[0;34m\u001b[0m\u001b[0m\n\u001b[1;32m     26\u001b[0m             \u001b[0;32mwith\u001b[0m \u001b[0mself\u001b[0m\u001b[0;34m.\u001b[0m\u001b[0m__class__\u001b[0m\u001b[0;34m(\u001b[0m\u001b[0;34m)\u001b[0m\u001b[0;34m:\u001b[0m\u001b[0;34m\u001b[0m\u001b[0;34m\u001b[0m\u001b[0m\n\u001b[0;32m---> 27\u001b[0;31m                 \u001b[0;32mreturn\u001b[0m \u001b[0mfunc\u001b[0m\u001b[0;34m(\u001b[0m\u001b[0;34m*\u001b[0m\u001b[0margs\u001b[0m\u001b[0;34m,\u001b[0m \u001b[0;34m**\u001b[0m\u001b[0mkwargs\u001b[0m\u001b[0;34m)\u001b[0m\u001b[0;34m\u001b[0m\u001b[0;34m\u001b[0m\u001b[0m\n\u001b[0m\u001b[1;32m     28\u001b[0m         \u001b[0;32mreturn\u001b[0m \u001b[0mcast\u001b[0m\u001b[0;34m(\u001b[0m\u001b[0mF\u001b[0m\u001b[0;34m,\u001b[0m \u001b[0mdecorate_context\u001b[0m\u001b[0;34m)\u001b[0m\u001b[0;34m\u001b[0m\u001b[0;34m\u001b[0m\u001b[0m\n\u001b[1;32m     29\u001b[0m \u001b[0;34m\u001b[0m\u001b[0m\n",
      "\u001b[0;32m/om5/user/smadan/miniconda3/envs/diff_rendering_ml/lib/python3.8/site-packages/torch/optim/sgd.py\u001b[0m in \u001b[0;36mstep\u001b[0;34m(self, closure)\u001b[0m\n\u001b[1;32m    108\u001b[0m                         \u001b[0mmomentum_buffer_list\u001b[0m\u001b[0;34m.\u001b[0m\u001b[0mappend\u001b[0m\u001b[0;34m(\u001b[0m\u001b[0mstate\u001b[0m\u001b[0;34m[\u001b[0m\u001b[0;34m'momentum_buffer'\u001b[0m\u001b[0;34m]\u001b[0m\u001b[0;34m)\u001b[0m\u001b[0;34m\u001b[0m\u001b[0;34m\u001b[0m\u001b[0m\n\u001b[1;32m    109\u001b[0m \u001b[0;34m\u001b[0m\u001b[0m\n\u001b[0;32m--> 110\u001b[0;31m             F.sgd(params_with_grad,\n\u001b[0m\u001b[1;32m    111\u001b[0m                   \u001b[0md_p_list\u001b[0m\u001b[0;34m,\u001b[0m\u001b[0;34m\u001b[0m\u001b[0;34m\u001b[0m\u001b[0m\n\u001b[1;32m    112\u001b[0m                   \u001b[0mmomentum_buffer_list\u001b[0m\u001b[0;34m,\u001b[0m\u001b[0;34m\u001b[0m\u001b[0;34m\u001b[0m\u001b[0m\n",
      "\u001b[0;32m/om5/user/smadan/miniconda3/envs/diff_rendering_ml/lib/python3.8/site-packages/torch/optim/_functional.py\u001b[0m in \u001b[0;36msgd\u001b[0;34m(params, d_p_list, momentum_buffer_list, weight_decay, momentum, lr, dampening, nesterov)\u001b[0m\n\u001b[1;32m    174\u001b[0m                 \u001b[0md_p\u001b[0m \u001b[0;34m=\u001b[0m \u001b[0mbuf\u001b[0m\u001b[0;34m\u001b[0m\u001b[0;34m\u001b[0m\u001b[0m\n\u001b[1;32m    175\u001b[0m \u001b[0;34m\u001b[0m\u001b[0m\n\u001b[0;32m--> 176\u001b[0;31m         \u001b[0mparam\u001b[0m\u001b[0;34m.\u001b[0m\u001b[0madd_\u001b[0m\u001b[0;34m(\u001b[0m\u001b[0md_p\u001b[0m\u001b[0;34m,\u001b[0m \u001b[0malpha\u001b[0m\u001b[0;34m=\u001b[0m\u001b[0;34m-\u001b[0m\u001b[0mlr\u001b[0m\u001b[0;34m)\u001b[0m\u001b[0;34m\u001b[0m\u001b[0;34m\u001b[0m\u001b[0m\n\u001b[0m\u001b[1;32m    177\u001b[0m \u001b[0;34m\u001b[0m\u001b[0m\n\u001b[1;32m    178\u001b[0m \u001b[0;34m\u001b[0m\u001b[0m\n",
      "\u001b[0;31mKeyboardInterrupt\u001b[0m: "
     ]
    }
   ],
   "source": [
    "all_info_good_data_fixed_initialization = []\n",
    "trained_models = []\n",
    "N_dim = 10\n",
    "for repeat_iteration in range(20):\n",
    "    ds = all_info[3][0][10].dataset\n",
    "    trained_models = {}\n",
    "    trained_models[N_dim] = train_model(N_dim, ds, 'dset_size_%s_bad_data'%dsize)\n",
    "    \n",
    "    model_to_attack = trained_models[N_dim].cpu()\n",
    "    attack_output = {}\n",
    "    attack_output[N_dim] = cma_experiment(model_to_attack, 10)\n",
    "    print('attack rate:%s/10'%len(attack_output[10].in_dist_advs))\n",
    "    iter_info = [trained_models, attack_output]\n",
    "    all_info_good_data_fixed_initialization.append(iter_info)"
   ]
  },
  {
   "cell_type": "code",
   "execution_count": 297,
   "id": "humanitarian-hindu",
   "metadata": {},
   "outputs": [
    {
     "data": {
      "image/png": "[encoded data removed]",
      "text/plain": [
       "<Figure size 432x288 with 1 Axes>"
      ]
     },
     "metadata": {
      "needs_background": "light"
     },
     "output_type": "display_data"
    }
   ],
   "source": [
    "for p in all_info_good_data_fixed_initialization[0][0][10].layers[0].parameters():\n",
    "    plt.imshow(p.detach().numpy())\n",
    "    plt.show()\n",
    "    break"
   ]
  },
  {
   "cell_type": "code",
   "execution_count": 298,
   "id": "downtown-beads",
   "metadata": {},
   "outputs": [
    {
     "data": {
      "image/png": "[encoded data removed]",
      "text/plain": [
       "<Figure size 432x288 with 1 Axes>"
      ]
     },
     "metadata": {
      "needs_background": "light"
     },
     "output_type": "display_data"
    }
   ],
   "source": [
    "for p in all_info_good_data_fixed_initialization[1][0][10].layers[0].parameters():\n",
    "    plt.imshow(p.detach().numpy())\n",
    "    plt.show()\n",
    "    break"
   ]
  },
  {
   "cell_type": "code",
   "execution_count": null,
   "id": "competitive-bonus",
   "metadata": {},
   "outputs": [],
   "source": []
  },
  {
   "cell_type": "code",
   "execution_count": 268,
   "id": "minor-muscle",
   "metadata": {},
   "outputs": [
    {
     "data": {
      "text/plain": [
       "4"
      ]
     },
     "execution_count": 268,
     "metadata": {},
     "output_type": "execute_result"
    }
   ],
   "source": [
    "len(all_info_good_data_fixed_initialization)"
   ]
  },
  {
   "cell_type": "code",
   "execution_count": 278,
   "id": "charged-benchmark",
   "metadata": {},
   "outputs": [
    {
     "data": {
      "text/plain": [
       "torch.Size([10])"
      ]
     },
     "execution_count": 278,
     "metadata": {},
     "output_type": "execute_result"
    }
   ],
   "source": [
    "# p.shape"
   ]
  },
  {
   "cell_type": "code",
   "execution_count": 287,
   "id": "otherwise-standard",
   "metadata": {},
   "outputs": [],
   "source": [
    "# for p in all_info_good_data_fixed_initialization[3][0][10].layers[0].parameters():\n",
    "#     plt.imshow(p.detach().cpu())\n",
    "#     plt.show()\n",
    "#     break"
   ]
  },
  {
   "cell_type": "code",
   "execution_count": 286,
   "id": "upset-return",
   "metadata": {},
   "outputs": [],
   "source": [
    "# for p in all_info_good_data_fixed_initialization[1][0][10].layers[0].parameters():\n",
    "#     plt.imshow(p.detach().cpu())\n",
    "#     plt.show()\n",
    "#     break"
   ]
  },
  {
   "cell_type": "code",
   "execution_count": null,
   "id": "corrected-exposure",
   "metadata": {},
   "outputs": [],
   "source": [
    "for p in all_info_good_data_fixed_initialization[3][0][10].layers[0].parameters():\n",
    "    plt.imshow(p.detach().cpu())\n",
    "    plt.show()\n",
    "    break"
   ]
  },
  {
   "cell_type": "code",
   "execution_count": 249,
   "id": "labeled-escape",
   "metadata": {},
   "outputs": [],
   "source": [
    "# len(all_info_good_data_fixed_initialization)"
   ]
  },
  {
   "cell_type": "code",
   "execution_count": 251,
   "id": "commercial-buyer",
   "metadata": {},
   "outputs": [],
   "source": [
    "# with open('data_dimension_experiment_10_repeats_good_data_fixed_initialization_seed_2.p','wb') as F:\n",
    "#     pickle.dump(all_info_good_data_fixed_initialization, F)"
   ]
  },
  {
   "cell_type": "code",
   "execution_count": null,
   "id": "discrete-australia",
   "metadata": {},
   "outputs": [],
   "source": [
    "# with open('data_dimension_experiment_10_repeats_good_data_fixed_initialization.p','wb') as F:\n",
    "#     pickle.dump(all_info_good_data, F)"
   ]
  },
  {
   "cell_type": "code",
   "execution_count": null,
   "id": "official-technician",
   "metadata": {},
   "outputs": [],
   "source": [
    "# with open('data_dimension_experiment_10_repeats.p','rb') as F:\n",
    "#     all_info = pickle.load(F)"
   ]
  },
  {
   "cell_type": "code",
   "execution_count": 39,
   "id": "crazy-tutorial",
   "metadata": {},
   "outputs": [],
   "source": [
    "# with open('data_dimension_experiment_10_100_1000.p','wb') as F:\n",
    "#     pickle.dump(all_info,F)"
   ]
  },
  {
   "cell_type": "code",
   "execution_count": 35,
   "id": "junior-gather",
   "metadata": {},
   "outputs": [],
   "source": [
    "with open('data_dimension_experiment_10_100_1000.p','rb') as F:\n",
    "    all_info = pickle.load(F)"
   ]
  },
  {
   "cell_type": "code",
   "execution_count": 59,
   "id": "after-electronics",
   "metadata": {},
   "outputs": [],
   "source": [
    "attack_per_dims[10] = attack_per_dims_25[10]"
   ]
  },
  {
   "cell_type": "code",
   "execution_count": 61,
   "id": "announced-flight",
   "metadata": {},
   "outputs": [],
   "source": [
    "# attack_per_dims"
   ]
  },
  {
   "cell_type": "code",
   "execution_count": 45,
   "id": "incorporate-harvey",
   "metadata": {},
   "outputs": [
    {
     "name": "stdout",
     "output_type": "stream",
     "text": [
      "Dims:10, Attack rate :10/10\n",
      "Dims:10, Attack rate :1/10\n",
      "Dims:10, Attack rate :1/10\n",
      "Dims:10, Attack rate :10/10\n",
      "Dims:10, Attack rate :7/10\n",
      "Dims:100, Attack rate :10/10\n",
      "Dims:100, Attack rate :10/10\n",
      "Dims:100, Attack rate :10/10\n",
      "Dims:100, Attack rate :10/10\n",
      "Dims:100, Attack rate :10/10\n",
      "Dims:1000, Attack rate :10/10\n",
      "Dims:1000, Attack rate :10/10\n",
      "Dims:1000, Attack rate :10/10\n",
      "Dims:1000, Attack rate :10/10\n",
      "Dims:1000, Attack rate :10/10\n"
     ]
    }
   ],
   "source": [
    "attack_per_dims = {}\n",
    "for dim in [10,100,1000]:\n",
    "    attack_per_dims[dim] = []\n",
    "    for i in range(5):\n",
    "        print(\"Dims:%s, Attack rate :%s/10\"%(dim, len(all_info[i][1][dim].in_dist_advs)))\n",
    "        attack_per_dims[dim].append(len(all_info[i][1][dim].in_dist_advs)/10)"
   ]
  },
  {
   "cell_type": "code",
   "execution_count": 46,
   "id": "united-composite",
   "metadata": {},
   "outputs": [
    {
     "data": {
      "text/plain": [
       "{10: [1.0, 0.1, 0.1, 1.0, 0.7],\n",
       " 100: [1.0, 1.0, 1.0, 1.0, 1.0],\n",
       " 1000: [1.0, 1.0, 1.0, 1.0, 1.0]}"
      ]
     },
     "execution_count": 46,
     "metadata": {},
     "output_type": "execute_result"
    }
   ],
   "source": [
    "attack_per_dims"
   ]
  },
  {
   "cell_type": "code",
   "execution_count": 40,
   "id": "corporate-gazette",
   "metadata": {},
   "outputs": [],
   "source": [
    "# len(attack_output[2500].in_dist_advs)"
   ]
  },
  {
   "cell_type": "code",
   "execution_count": 44,
   "id": "attended-insight",
   "metadata": {},
   "outputs": [],
   "source": [
    "# attack_per_dset_dim = {}\n",
    "# for key in iter_info[1].keys():\n",
    "#     adv_count = len(iter_info[1][key].advs)\n",
    "#     start_count = len(iter_info[1][key].starts)\n",
    "#     attack_rate = adv_count/start_count*100\n",
    "#     attack_per_dset_dim[key] = attack_rate"
   ]
  },
  {
   "cell_type": "code",
   "execution_count": 62,
   "id": "grave-involvement",
   "metadata": {},
   "outputs": [],
   "source": [
    "xs = [0,1,2]\n",
    "ys = [np.mean(attack_per_dims[i]) for i in attack_per_dims.keys()]\n",
    "es = [np.std(attack_per_dims[i]) for i in attack_per_dims.keys()]"
   ]
  },
  {
   "cell_type": "code",
   "execution_count": 63,
   "id": "million-count",
   "metadata": {},
   "outputs": [
    {
     "data": {
      "text/plain": [
       "[0.24053274205396652, 0.0, 0.0]"
      ]
     },
     "execution_count": 63,
     "metadata": {},
     "output_type": "execute_result"
    }
   ],
   "source": [
    "es"
   ]
  },
  {
   "cell_type": "code",
   "execution_count": 73,
   "id": "physical-mailing",
   "metadata": {},
   "outputs": [
    {
     "data": {
      "image/png": "[encoded data removed]",
      "text/plain": [
       "<Figure size 432x288 with 1 Axes>"
      ]
     },
     "metadata": {
      "needs_background": "light"
     },
     "output_type": "display_data"
    }
   ],
   "source": [
    "plt.errorbar(xs, ys, es, color='black',capsize=1,elinewidth=0.25, marker = 'o')\n",
    "plt.ylim(0,1.2)\n",
    "plt.title('CMA attack rate as data dimension changes')\n",
    "plt.xlabel('Dataset Size')\n",
    "plt.ylabel('CMA attack rate')\n",
    "plt.show()"
   ]
  },
  {
   "cell_type": "code",
   "execution_count": 74,
   "id": "parliamentary-battlefield",
   "metadata": {},
   "outputs": [
    {
     "name": "stdout",
     "output_type": "stream",
     "text": [
      "tensor(0.9898, device='cuda:0')\n",
      "tensor(0.9986, device='cuda:0')\n",
      "tensor(0.9966, device='cuda:0')\n",
      "tensor(0.9978, device='cuda:0')\n",
      "tensor(0.9960, device='cuda:0')\n",
      "tensor(0.9977, device='cuda:0')\n",
      "tensor(0.9985, device='cuda:0')\n",
      "tensor(0.9980, device='cuda:0')\n",
      "tensor(0.9984, device='cuda:0')\n",
      "tensor(0.9746, device='cuda:0')\n",
      "tensor(0.9976, device='cuda:0')\n",
      "tensor(0.9980, device='cuda:0')\n",
      "tensor(0.9975, device='cuda:0')\n",
      "tensor(0.9984, device='cuda:0')\n",
      "tensor(0.9959, device='cuda:0')\n",
      "tensor(0.9991, device='cuda:0')\n",
      "tensor(0.9986, device='cuda:0')\n",
      "tensor(0.9975, device='cuda:0')\n",
      "tensor(0.9933, device='cuda:0')\n",
      "tensor(0.9981, device='cuda:0')\n",
      "tensor(0.9984, device='cuda:0')\n",
      "tensor(0.9975, device='cuda:0')\n",
      "tensor(0.9995, device='cuda:0')\n",
      "tensor(0.9989, device='cuda:0')\n",
      "tensor(0.9981, device='cuda:0')\n"
     ]
    }
   ],
   "source": [
    "for i in range(25):\n",
    "    print(all_info[i][0][10].test_accuracy)"
   ]
  },
  {
   "cell_type": "code",
   "execution_count": 76,
   "id": "psychological-toyota",
   "metadata": {},
   "outputs": [],
   "source": [
    "# attack_per_dims_25"
   ]
  },
  {
   "cell_type": "code",
   "execution_count": 72,
   "id": "complimentary-poster",
   "metadata": {
    "tags": []
   },
   "outputs": [],
   "source": [
    "# plt.plot(attack_per_dset_dim.values(), marker='o')\n",
    "# plt.xticks(list(range(len(attack_per_dset_dim.keys()))), labels = attack_per_dset_dim.keys())\n",
    "# plt.ylim(0,110)\n",
    "# plt.title('CMA attack rate as dataset size changes')\n",
    "# plt.xlabel('Dataset Size')\n",
    "# plt.ylabel('CMA attack rate')\n",
    "# plt.show()"
   ]
  },
  {
   "cell_type": "code",
   "execution_count": null,
   "id": "equivalent-shape",
   "metadata": {},
   "outputs": [],
   "source": []
  },
  {
   "cell_type": "markdown",
   "id": "disciplinary-nepal",
   "metadata": {},
   "source": [
    "# Does Pooling solve the problem?"
   ]
  },
  {
   "cell_type": "code",
   "execution_count": 251,
   "id": "helpful-dealer",
   "metadata": {},
   "outputs": [],
   "source": [
    "def predict(model, point):\n",
    "    prepped_point = torch.from_numpy(point).cuda().float().unsqueeze(0)\n",
    "    prediction = torch.argmax(model(prepped_point)[0]).item()\n",
    "    return prediction"
   ]
  },
  {
   "cell_type": "code",
   "execution_count": 252,
   "id": "remarkable-antenna",
   "metadata": {},
   "outputs": [
    {
     "name": "stdout",
     "output_type": "stream",
     "text": [
      "****** This is a sanity check *******\n",
      "Randomly sampled a point from the test_min, test_max range....\n",
      "Prediction is 0\n",
      "Randomly sampled a point from the test_min, test_max range....\n",
      "Prediction is 0\n",
      "Randomly sampled a point from the test_min, test_max range....\n",
      "Prediction is 0\n",
      "Randomly sampled a point from the test_min, test_max range....\n",
      "Prediction is 0\n",
      "Randomly sampled a point from the test_min, test_max range....\n",
      "Prediction is 0\n",
      "****** Should be a lot 0s predicted above*****\n"
     ]
    }
   ],
   "source": [
    "print('****** This is a sanity check *******')\n",
    "for i in range(5):\n",
    "    random_point = sample_uniform(1, N_dim, test_min, test_max)\n",
    "    pred_out = predict(model_to_attack.cuda(), np.array(random_point[0]))\n",
    "    print('Randomly sampled a point from the test_min, test_max range....')\n",
    "    print('Prediction is %s'%pred_out)\n",
    "print('****** Should be a lot 0s predicted above*****')"
   ]
  },
  {
   "cell_type": "code",
   "execution_count": 305,
   "id": "ambient-gauge",
   "metadata": {},
   "outputs": [
    {
     "data": {
      "text/plain": [
       "1"
      ]
     },
     "execution_count": 305,
     "metadata": {},
     "output_type": "execute_result"
    }
   ],
   "source": [
    "predict(model_to_attack.cuda(), all_info[0][1][10000].advs[1])"
   ]
  },
  {
   "cell_type": "markdown",
   "id": "cleared-advantage",
   "metadata": {},
   "source": [
    "##### Let's try to fix this by randomly perturbing the adversarial"
   ]
  },
  {
   "cell_type": "code",
   "execution_count": 284,
   "id": "liberal-millennium",
   "metadata": {},
   "outputs": [],
   "source": [
    "pert_to_recovery = {}\n",
    "for repeats in range(5):\n",
    "    for p in np.arange(0.05,0.3,0.05):\n",
    "        all_top_preds = []\n",
    "        for i in range(50):\n",
    "            adv_sample = all_info[0][1][10000].advs[i]\n",
    "\n",
    "            all_preds = []\n",
    "            for i in range(10):\n",
    "                perturb_min = -p\n",
    "                perturb_max = p\n",
    "                perturb_vector = np.array(sample_uniform(1, N_dim, perturb_min, perturb_max)[0])\n",
    "                perturbed_sample = adv_sample + perturb_vector\n",
    "                perturbed_prediction = predict(model_to_attack.cuda(), perturbed_sample)\n",
    "                all_preds.append(perturbed_prediction)\n",
    "            top_pred = max(set(all_preds), key = all_preds.count)\n",
    "\n",
    "            all_top_preds.append(top_pred)\n",
    "\n",
    "        recovered_acc = (1 - np.sum(all_top_preds)/50)*100\n",
    "        if \"%.02f\"%p in pert_to_recovery.keys():\n",
    "            pert_to_recovery[\"%.02f\"%p].append(recovered_acc)\n",
    "        else:\n",
    "            pert_to_recovery[\"%.02f\"%p] = [recovered_acc]\n",
    "#         print('Recovered %s%% samples by random perturbation.'%recovered_acc)"
   ]
  },
  {
   "cell_type": "code",
   "execution_count": 325,
   "id": "opened-thickness",
   "metadata": {
    "scrolled": true
   },
   "outputs": [
    {
     "data": {
      "text/plain": [
       "1.4335177"
      ]
     },
     "execution_count": 325,
     "metadata": {},
     "output_type": "execute_result"
    }
   ],
   "source": [
    "np.linalg.norm(perturb_vector)"
   ]
  },
  {
   "cell_type": "code",
   "execution_count": 300,
   "id": "reserved-allowance",
   "metadata": {},
   "outputs": [],
   "source": [
    "mean_perfs = np.mean(np.array(list(pert_to_recovery.values())),axis=1)\n",
    "std_perfs = np.std(np.array(list(pert_to_recovery.values())),axis=1)"
   ]
  },
  {
   "cell_type": "code",
   "execution_count": 308,
   "id": "micro-programming",
   "metadata": {
    "scrolled": true
   },
   "outputs": [
    {
     "data": {
      "image/png": "[encoded data removed]",
      "text/plain": [
       "<Figure size 432x288 with 1 Axes>"
      ]
     },
     "metadata": {
      "needs_background": "light"
     },
     "output_type": "display_data"
    }
   ],
   "source": [
    "plt.errorbar([0,1,2,3,4], mean_perfs, std_perfs, marker='o')\n",
    "plt.title('Recovery as function of perturbation norm')\n",
    "plt.xlabel('amount of random perturbation on adv sample')\n",
    "plt.ylabel('Accuracy after voting on multiple predictions')\n",
    "plt.xticks([0,1,2,3,4],labels=list(pert_to_recovery.keys()))\n",
    "plt.show()"
   ]
  },
  {
   "cell_type": "markdown",
   "id": "generic-blackjack",
   "metadata": {},
   "source": [
    "#### Lets see the norm of adversarial perturbation: how much is needed if the direction was known."
   ]
  },
  {
   "cell_type": "code",
   "execution_count": 317,
   "id": "returning-questionnaire",
   "metadata": {},
   "outputs": [],
   "source": [
    "adv_point = all_info[0][1][10000].advs[1]\n",
    "start_point = np.array(all_info[0][1][10000].starts[1])"
   ]
  },
  {
   "cell_type": "code",
   "execution_count": 318,
   "id": "dental-material",
   "metadata": {},
   "outputs": [],
   "source": [
    "adv_vec = adv_point - start_point"
   ]
  },
  {
   "cell_type": "code",
   "execution_count": 321,
   "id": "brave-arctic",
   "metadata": {},
   "outputs": [
    {
     "data": {
      "text/plain": [
       "2.9962379296577284"
      ]
     },
     "execution_count": 321,
     "metadata": {},
     "output_type": "execute_result"
    }
   ],
   "source": [
    "np.linalg.norm(adv_vec)"
   ]
  },
  {
   "cell_type": "code",
   "execution_count": 322,
   "id": "moved-system",
   "metadata": {},
   "outputs": [
    {
     "data": {
      "text/plain": [
       "5.389204731238513"
      ]
     },
     "execution_count": 322,
     "metadata": {},
     "output_type": "execute_result"
    }
   ],
   "source": [
    "np.linalg.norm(adv_point)"
   ]
  },
  {
   "cell_type": "code",
   "execution_count": 323,
   "id": "elect-resolution",
   "metadata": {},
   "outputs": [
    {
     "data": {
      "text/plain": [
       "5.800697"
      ]
     },
     "execution_count": 323,
     "metadata": {},
     "output_type": "execute_result"
    }
   ],
   "source": [
    "np.linalg.norm(start_point)"
   ]
  },
  {
   "cell_type": "markdown",
   "id": "aggregate-village",
   "metadata": {},
   "source": [
    "# Church Window Plots"
   ]
  },
  {
   "cell_type": "code",
   "execution_count": 21,
   "id": "portable-chancellor",
   "metadata": {},
   "outputs": [],
   "source": [
    "def perpendicular_vector(v):\n",
    "    random_vector = np.random.randn(N_dim)\n",
    "    orthogonal = random_vector - random_vector.dot(v)*v/np.linalg.norm(v)**2\n",
    "    orthogonal_normalized = orthogonal/np.linalg.norm(orthogonal) * np.linalg.norm(v)\n",
    "    return orthogonal_normalized\n",
    "\n",
    "def plot_church_window(start_point, adv_point):\n",
    "    adv_vector = adv_point - start_point\n",
    "    orthogonal_vector = perpendicular_vector(adv_vector)\n",
    "\n",
    "\n",
    "    ##### Collect Predictions ######\n",
    "    predictions = np.zeros((40,40))\n",
    "\n",
    "    row_num = 0\n",
    "    col_num = 0\n",
    "\n",
    "    for alpha in np.arange(0, 2.0, 0.05):\n",
    "        for beta in np.arange(0, 2.0, 0.05):\n",
    "            curr_point = start_point + beta*adv_vector + alpha*orthogonal_vector\n",
    "            curr_pred = predict(model, curr_point)\n",
    "            predictions[row_num][col_num] = curr_pred\n",
    "            col_num += 1\n",
    "        row_num += 1\n",
    "        col_num = 0\n",
    "\n",
    "    ##### Plot ######\n",
    "    plt.imshow(predictions, cmap=custom_cmap)\n",
    "    plt.xlim([0, 40])\n",
    "    plt.ylim([0, 40])\n",
    "    plt.title('Church Window Plot')\n",
    "    plt.xticks(range(0,40,5), labels = np.arange(0,2,0.25))\n",
    "    plt.yticks(range(0,40,5), labels = np.arange(0,2,0.25))\n",
    "    plt.xlabel('Adversarial Direction')\n",
    "    plt.ylabel('Orthogonal Direction')\n",
    "    plt.show()"
   ]
  },
  {
   "cell_type": "code",
   "execution_count": 23,
   "id": "adult-retirement",
   "metadata": {},
   "outputs": [
    {
     "data": {
      "image/png": "[encoded data removed]",
      "text/plain": [
       "<Figure size 432x288 with 1 Axes>"
      ]
     },
     "metadata": {
      "needs_background": "light"
     },
     "output_type": "display_data"
    },
    {
     "data": {
      "image/png": "[encoded data removed]",
      "text/plain": [
       "<Figure size 432x288 with 1 Axes>"
      ]
     },
     "metadata": {
      "needs_background": "light"
     },
     "output_type": "display_data"
    },
    {
     "data": {
      "image/png": "[encoded data removed]",
      "text/plain": [
       "<Figure size 432x288 with 1 Axes>"
      ]
     },
     "metadata": {
      "needs_background": "light"
     },
     "output_type": "display_data"
    },
    {
     "data": {
      "image/png": "[encoded data removed]",
      "text/plain": [
       "<Figure size 432x288 with 1 Axes>"
      ]
     },
     "metadata": {
      "needs_background": "light"
     },
     "output_type": "display_data"
    },
    {
     "data": {
      "image/png": "[encoded data removed]",
      "text/plain": [
       "<Figure size 432x288 with 1 Axes>"
      ]
     },
     "metadata": {
      "needs_background": "light"
     },
     "output_type": "display_data"
    }
   ],
   "source": [
    "DSIZE = 10000\n",
    "\n",
    "\n",
    "from matplotlib import colors\n",
    "\n",
    "custom_cmap = colors.ListedColormap(['white', 'red'])\n",
    "bounds=[0,1]\n",
    "norm = colors.BoundaryNorm(bounds, custom_cmap.N)\n",
    "\n",
    "model = all_info[0][0][DSIZE].cuda()\n",
    "\n",
    "for i in range(5):\n",
    "    adv_point = all_info[0][1][DSIZE].in_dist_advs[i]\n",
    "    start_point = all_info[0][1][DSIZE].starts[i]\n",
    "    start_point = np.array(start_point)[0]\n",
    "    plot_church_window(start_point, adv_point)"
   ]
  },
  {
   "cell_type": "markdown",
   "id": "embedded-touch",
   "metadata": {},
   "source": [
    "# Nearest neighbor analysis"
   ]
  },
  {
   "cell_type": "code",
   "execution_count": 28,
   "id": "elegant-scene",
   "metadata": {},
   "outputs": [],
   "source": [
    "starting_points = all_info[0][1][10000].starts\n",
    "in_dist_advs_points = all_info[0][1][10000].in_dist_advs"
   ]
  },
  {
   "cell_type": "code",
   "execution_count": 29,
   "id": "loving-factory",
   "metadata": {},
   "outputs": [],
   "source": [
    "training_points = all_info[0][0][10000].dataset[0]"
   ]
  },
  {
   "cell_type": "code",
   "execution_count": 30,
   "id": "polar-soundtrack",
   "metadata": {},
   "outputs": [],
   "source": [
    "start_neighbor_distances = []\n",
    "for start_p in starting_points:\n",
    "    distances = torch.sum((training_points - start_p.cuda())**2, dim = 1)\n",
    "    neighbors = torch.argsort(distances)[:10].cpu()\n",
    "    neighbor_distance = torch.sum(distances[neighbors]).item()\n",
    "    start_neighbor_distances.append(neighbor_distance)"
   ]
  },
  {
   "cell_type": "code",
   "execution_count": 31,
   "id": "catholic-diversity",
   "metadata": {},
   "outputs": [],
   "source": [
    "adv_neighbor_distances = []\n",
    "for adv_p in in_dist_advs_points:\n",
    "    distances = torch.sum((training_points - torch.from_numpy(adv_p).cuda())**2, dim = 1)\n",
    "    neighbors = torch.argsort(distances)[:10].cpu()\n",
    "    neighbor_distance = torch.sum(distances[neighbors]).item()\n",
    "    adv_neighbor_distances.append(neighbor_distance)"
   ]
  },
  {
   "cell_type": "code",
   "execution_count": 32,
   "id": "incredible-quick",
   "metadata": {},
   "outputs": [
    {
     "data": {
      "text/plain": [
       "(array([ 2.,  3., 24., 40., 45., 47., 24., 10.,  4.,  1.]),\n",
       " array([ 9915.65136719,  9974.9921875 , 10034.33300781, 10093.67382812,\n",
       "        10153.01464844, 10212.35546875, 10271.69628906, 10331.03710938,\n",
       "        10390.37792969, 10449.71875   , 10509.05957031]),\n",
       " <BarContainer object of 10 artists>)"
      ]
     },
     "execution_count": 32,
     "metadata": {},
     "output_type": "execute_result"
    },
    {
     "data": {
      "image/png": "[encoded data removed]",
      "text/plain": [
       "<Figure size 432x288 with 1 Axes>"
      ]
     },
     "metadata": {
      "needs_background": "light"
     },
     "output_type": "display_data"
    }
   ],
   "source": [
    "plt.hist(start_neighbor_distances)"
   ]
  },
  {
   "cell_type": "code",
   "execution_count": 33,
   "id": "dense-flash",
   "metadata": {},
   "outputs": [
    {
     "data": {
      "text/plain": [
       "(array([ 3.,  7., 27., 39., 52., 34., 23., 10.,  4.,  1.]),\n",
       " array([ 9939.33247206,  9988.23968375, 10037.14689545, 10086.05410715,\n",
       "        10134.96131885, 10183.86853054, 10232.77574224, 10281.68295394,\n",
       "        10330.59016564, 10379.49737733, 10428.40458903]),\n",
       " <BarContainer object of 10 artists>)"
      ]
     },
     "execution_count": 33,
     "metadata": {},
     "output_type": "execute_result"
    },
    {
     "data": {
      "image/png": "[encoded data removed]",
      "text/plain": [
       "<Figure size 432x288 with 1 Axes>"
      ]
     },
     "metadata": {
      "needs_background": "light"
     },
     "output_type": "display_data"
    }
   ],
   "source": [
    "plt.hist(adv_neighbor_distances)"
   ]
  },
  {
   "cell_type": "code",
   "execution_count": 34,
   "id": "lesser-chinese",
   "metadata": {},
   "outputs": [
    {
     "data": {
      "text/plain": [
       "10160.343138349179"
      ]
     },
     "execution_count": 34,
     "metadata": {},
     "output_type": "execute_result"
    }
   ],
   "source": [
    "np.mean(adv_neighbor_distances)"
   ]
  },
  {
   "cell_type": "code",
   "execution_count": 35,
   "id": "aging-award",
   "metadata": {},
   "outputs": [
    {
     "data": {
      "text/plain": [
       "10196.771958007812"
      ]
     },
     "execution_count": 35,
     "metadata": {},
     "output_type": "execute_result"
    }
   ],
   "source": [
    "np.mean(start_neighbor_distances)"
   ]
  },
  {
   "cell_type": "code",
   "execution_count": 36,
   "id": "elect-craps",
   "metadata": {},
   "outputs": [
    {
     "data": {
      "text/plain": [
       "81.89637551160129"
      ]
     },
     "execution_count": 36,
     "metadata": {},
     "output_type": "execute_result"
    }
   ],
   "source": [
    "np.std(adv_neighbor_distances)"
   ]
  },
  {
   "cell_type": "code",
   "execution_count": 37,
   "id": "direct-balance",
   "metadata": {},
   "outputs": [
    {
     "data": {
      "text/plain": [
       "94.20267086666723"
      ]
     },
     "execution_count": 37,
     "metadata": {},
     "output_type": "execute_result"
    }
   ],
   "source": [
    "np.std(start_neighbor_distances)"
   ]
  },
  {
   "cell_type": "markdown",
   "id": "martial-tobacco",
   "metadata": {},
   "source": [
    "# Adversarial Training analysis"
   ]
  },
  {
   "cell_type": "markdown",
   "id": "subsequent-writer",
   "metadata": {},
   "source": [
    "### Collect adv points (25% of training data size)"
   ]
  },
  {
   "cell_type": "code",
   "execution_count": 85,
   "id": "developed-assurance",
   "metadata": {},
   "outputs": [],
   "source": [
    "attack_output_2 = {}"
   ]
  },
  {
   "cell_type": "code",
   "execution_count": 101,
   "id": "incorporate-timber",
   "metadata": {},
   "outputs": [
    {
     "name": "stdout",
     "output_type": "stream",
     "text": [
      "dset_size_10000\n"
     ]
    },
    {
     "data": {
      "application/vnd.jupyter.widget-view+json": {
       "model_id": "a1bc90d8466d49cca92ac278ceb321a7",
       "version_major": 2,
       "version_minor": 0
      },
      "text/plain": [
       "  0%|          | 0/4000 [00:00<?, ?it/s]"
      ]
     },
     "metadata": {},
     "output_type": "display_data"
    }
   ],
   "source": [
    "attack_output_2[dsize] = cma_experiment(model_to_attack, 4000)"
   ]
  },
  {
   "cell_type": "code",
   "execution_count": 107,
   "id": "superior-cooling",
   "metadata": {},
   "outputs": [],
   "source": [
    "# with open('inof.p', 'wb') as F:\n",
    "#     pickle.dump(attack_output_2, F)"
   ]
  },
  {
   "cell_type": "code",
   "execution_count": 131,
   "id": "seeing-jerusalem",
   "metadata": {},
   "outputs": [],
   "source": [
    "augmented_training_data = torch.vstack([training_points, torch.tensor(attack_output_2[dsize].in_dist_advs).float().cuda()])"
   ]
  },
  {
   "cell_type": "markdown",
   "id": "white-round",
   "metadata": {},
   "source": [
    "### Train with them"
   ]
  },
  {
   "cell_type": "code",
   "execution_count": 132,
   "id": "hungarian-adelaide",
   "metadata": {},
   "outputs": [],
   "source": [
    "training_labels = dset[2]"
   ]
  },
  {
   "cell_type": "code",
   "execution_count": 133,
   "id": "alternate-auction",
   "metadata": {},
   "outputs": [],
   "source": [
    "augmented_training_labels = torch.hstack([training_labels, torch.zeros(4000).long().cuda()])"
   ]
  },
  {
   "cell_type": "code",
   "execution_count": 134,
   "id": "patent-death",
   "metadata": {},
   "outputs": [],
   "source": [
    "# augmented_training_labels[-1]"
   ]
  },
  {
   "cell_type": "code",
   "execution_count": 135,
   "id": "demanding-philosophy",
   "metadata": {},
   "outputs": [],
   "source": [
    "dset_new = [augmented_training_data, dset[1], augmented_training_labels, dset[3]] "
   ]
  },
  {
   "cell_type": "code",
   "execution_count": 136,
   "id": "polyphonic-fiction",
   "metadata": {},
   "outputs": [],
   "source": [
    "adv_trained_models = {}"
   ]
  },
  {
   "cell_type": "code",
   "execution_count": 144,
   "id": "decimal-metallic",
   "metadata": {},
   "outputs": [],
   "source": [
    "adv_attack_output = {}"
   ]
  },
  {
   "cell_type": "code",
   "execution_count": 137,
   "id": "permanent-smile",
   "metadata": {},
   "outputs": [
    {
     "data": {
      "application/vnd.jupyter.widget-view+json": {
       "model_id": "d292af428f1846458c1fb9a9fa88716d",
       "version_major": 2,
       "version_minor": 0
      },
      "text/plain": [
       "  0%|          | 0/1000 [00:00<?, ?it/s]"
      ]
     },
     "metadata": {},
     "output_type": "display_data"
    },
    {
     "name": "stdout",
     "output_type": "stream",
     "text": [
      "Epoch:999, Train Acc:tensor(1., device='cuda:0')\n",
      "Epoch:999, Test Acc:tensor(1., device='cuda:0')\n"
     ]
    }
   ],
   "source": [
    "# dset = make_dataset(dsize)\n",
    "adv_trained_models[dsize] = train_model(N_dim, dset_new, 'dset_size_%s_adv'%dsize)"
   ]
  },
  {
   "cell_type": "code",
   "execution_count": 143,
   "id": "thick-assault",
   "metadata": {},
   "outputs": [],
   "source": [
    "# adv_trained_models[10000].dataset[0].shape"
   ]
  },
  {
   "cell_type": "code",
   "execution_count": 145,
   "id": "fossil-immune",
   "metadata": {
    "scrolled": true
   },
   "outputs": [
    {
     "name": "stdout",
     "output_type": "stream",
     "text": [
      "dset_size_10000_adv\n"
     ]
    },
    {
     "data": {
      "application/vnd.jupyter.widget-view+json": {
       "model_id": "4df79fac3a3448ab9cbb50045058d882",
       "version_major": 2,
       "version_minor": 0
      },
      "text/plain": [
       "  0%|          | 0/50 [00:00<?, ?it/s]"
      ]
     },
     "metadata": {},
     "output_type": "display_data"
    }
   ],
   "source": [
    "adv_model_to_attack = adv_trained_models[dsize].cpu()\n",
    "adv_attack_output[dsize] = cma_experiment(adv_model_to_attack, 50)"
   ]
  },
  {
   "cell_type": "code",
   "execution_count": 147,
   "id": "immune-station",
   "metadata": {},
   "outputs": [],
   "source": [
    "# len(adv_attack_output[dsize].in_dist_advs)"
   ]
  },
  {
   "cell_type": "markdown",
   "id": "written-greene",
   "metadata": {},
   "source": [
    "# Aggregate evaluation"
   ]
  },
  {
   "cell_type": "code",
   "execution_count": 163,
   "id": "commercial-taiwan",
   "metadata": {},
   "outputs": [],
   "source": [
    "all_distances = {}\n",
    "in_dists = {}"
   ]
  },
  {
   "cell_type": "code",
   "execution_count": 164,
   "id": "rotary-circuit",
   "metadata": {},
   "outputs": [],
   "source": [
    "# all_info[0][1][dsize].in_dist_advs"
   ]
  },
  {
   "cell_type": "code",
   "execution_count": 165,
   "id": "weekly-thumbnail",
   "metadata": {},
   "outputs": [],
   "source": [
    "for dsize in [1000, 100000]:\n",
    "    all_distances[dsize] = []\n",
    "    in_dists[dsize] = []\n",
    "    for i in range(1):\n",
    "        in_dists[dsize].append(len(all_info[i][1][dsize].in_dist_advs))\n",
    "        all_distances[dsize].append(np.nanmean(all_info[i][1][dsize].distances))"
   ]
  },
  {
   "cell_type": "code",
   "execution_count": 166,
   "id": "center-fiction",
   "metadata": {},
   "outputs": [],
   "source": [
    "# all_distances.keys()"
   ]
  },
  {
   "cell_type": "code",
   "execution_count": 167,
   "id": "better-surname",
   "metadata": {},
   "outputs": [
    {
     "name": "stdout",
     "output_type": "stream",
     "text": [
      "3.2171293443927995\n",
      "5.13962748088732\n"
     ]
    }
   ],
   "source": [
    "for key in all_distances.keys():\n",
    "    print(np.nanmean(all_distances[key]))"
   ]
  },
  {
   "cell_type": "code",
   "execution_count": 168,
   "id": "executive-prediction",
   "metadata": {},
   "outputs": [
    {
     "name": "stdout",
     "output_type": "stream",
     "text": [
      "10.0\n",
      "10.0\n"
     ]
    }
   ],
   "source": [
    "for key in in_dists.keys():\n",
    "    print(np.mean(in_dists[key]))"
   ]
  },
  {
   "cell_type": "code",
   "execution_count": 169,
   "id": "vital-helmet",
   "metadata": {},
   "outputs": [],
   "source": [
    "def predict(model, point):\n",
    "    prepped_point = torch.from_numpy(point).cuda().float().unsqueeze(0)\n",
    "    prediction = torch.argmax(model(prepped_point)[0]).item()\n",
    "    return prediction"
   ]
  },
  {
   "cell_type": "markdown",
   "id": "right-disclosure",
   "metadata": {},
   "source": [
    "# Sensitivity Analysis"
   ]
  },
  {
   "cell_type": "code",
   "execution_count": 190,
   "id": "passive-plasma",
   "metadata": {},
   "outputs": [],
   "source": [
    "DSIZE = 1000"
   ]
  },
  {
   "cell_type": "code",
   "execution_count": 191,
   "id": "comprehensive-council",
   "metadata": {
    "scrolled": true
   },
   "outputs": [],
   "source": [
    "mod = all_info[0][0][DSIZE].cuda()"
   ]
  },
  {
   "cell_type": "code",
   "execution_count": 192,
   "id": "ongoing-cause",
   "metadata": {},
   "outputs": [],
   "source": [
    "def min_subset(start, adv, mod, start_id = 0):\n",
    "    for i in range(start_id, start_id + 50):\n",
    "        index = i%50\n",
    "        start[:index] = adv[:index]\n",
    "        start_pred = predict(mod, start)\n",
    "        adv_pred = predict(mod, adv)\n",
    "        if start_pred == adv_pred:\n",
    "            break\n",
    "    return index        \n",
    "#     print('Broke at %i'%index)"
   ]
  },
  {
   "cell_type": "code",
   "execution_count": 193,
   "id": "original-catalog",
   "metadata": {},
   "outputs": [],
   "source": [
    "broken_changes = []\n",
    "for i in range(10):\n",
    "    adv_point = all_info[0][1][DSIZE].in_dist_advs[i]\n",
    "    start_point = all_info[0][1][DSIZE].starts[i]\n",
    "    start_point = np.array(start_point)[0]\n",
    "    broken_change = min_subset(start_point, adv_point, mod, random.choice(list(range(50))))\n",
    "    broken_changes.append(broken_change)"
   ]
  },
  {
   "cell_type": "code",
   "execution_count": 194,
   "id": "offshore-music",
   "metadata": {
    "scrolled": true
   },
   "outputs": [
    {
     "name": "stdout",
     "output_type": "stream",
     "text": [
      "44.1\n",
      "6.057227088363123\n"
     ]
    }
   ],
   "source": [
    "print(np.mean(broken_changes))\n",
    "print(np.std(broken_changes))"
   ]
  },
  {
   "cell_type": "markdown",
   "id": "removable-beauty",
   "metadata": {},
   "source": [
    "# Opposite change"
   ]
  },
  {
   "cell_type": "code",
   "execution_count": 137,
   "id": "multiple-barrier",
   "metadata": {},
   "outputs": [],
   "source": [
    "with open('info_iters.p','rb') as F:\n",
    "    all_info = pickle.load(F)"
   ]
  },
  {
   "cell_type": "code",
   "execution_count": 138,
   "id": "quarterly-tsunami",
   "metadata": {},
   "outputs": [],
   "source": [
    "def min_subset_reform(start, adv, mod, start_id = 0):\n",
    "    for i in range(start_id, start_id + 50):\n",
    "        index = i%50\n",
    "        adv[:index] = start[:index]\n",
    "        start_pred = predict(mod, start)\n",
    "        adv_pred = predict(mod, adv)\n",
    "        if start_pred == adv_pred:\n",
    "            break\n",
    "    return index"
   ]
  },
  {
   "cell_type": "code",
   "execution_count": 139,
   "id": "generous-synthesis",
   "metadata": {},
   "outputs": [],
   "source": [
    "broken_changes = []\n",
    "for i in range(50):\n",
    "    adv_point = all_info[0][1][DSIZE].in_dist_advs[i]\n",
    "    start_point = all_info[0][1][DSIZE].starts[i]\n",
    "    start_point = np.array(start_point)[0]\n",
    "    broken_change = min_subset_reform(start_point, adv_point, mod, random.choice(list(range(50))))\n",
    "    broken_changes.append(broken_change)"
   ]
  },
  {
   "cell_type": "code",
   "execution_count": 530,
   "id": "fifty-support",
   "metadata": {},
   "outputs": [
    {
     "name": "stdout",
     "output_type": "stream",
     "text": [
      "24.18\n",
      "13.122027282398097\n"
     ]
    }
   ],
   "source": [
    "print(np.mean(broken_changes))\n",
    "print(np.std(broken_changes))"
   ]
  },
  {
   "cell_type": "markdown",
   "id": "dutch-columbia",
   "metadata": {},
   "source": [
    "# Random Perturb"
   ]
  },
  {
   "cell_type": "code",
   "execution_count": 532,
   "id": "coordinated-kelly",
   "metadata": {},
   "outputs": [],
   "source": [
    "with open('info_iters.p','rb') as F:\n",
    "    all_info = pickle.load(F)"
   ]
  },
  {
   "cell_type": "code",
   "execution_count": 533,
   "id": "tribal-pharmacy",
   "metadata": {},
   "outputs": [],
   "source": [
    "def min_subset_random(start, adv, mod, start_id = 0):\n",
    "    for i in range(start_id, start_id + 50):\n",
    "        index = i%50\n",
    "        start[index] = np.random.normal(loc=np.mean(start[index]),scale=np.std(start[index]))\n",
    "        start_pred = predict(mod, start)\n",
    "        adv_pred = predict(mod, adv)\n",
    "        if start_pred == adv_pred:\n",
    "            break\n",
    "    return index"
   ]
  },
  {
   "cell_type": "code",
   "execution_count": 534,
   "id": "equipped-proxy",
   "metadata": {},
   "outputs": [],
   "source": [
    "broken_changes = []\n",
    "for i in range(50):\n",
    "    adv_point = all_info[0][1][DSIZE].in_dist_advs[i]\n",
    "    start_point = all_info[0][1][DSIZE].starts[i]\n",
    "    start_point = np.array(start_point)[0]\n",
    "    broken_change = min_subset_random(start_point, adv_point, mod, random.choice(list(range(50))))\n",
    "    broken_changes.append(broken_change)"
   ]
  },
  {
   "cell_type": "code",
   "execution_count": 536,
   "id": "roman-holocaust",
   "metadata": {},
   "outputs": [
    {
     "name": "stdout",
     "output_type": "stream",
     "text": [
      "28.98\n",
      "12.657788116412757\n"
     ]
    }
   ],
   "source": [
    "print(np.mean(broken_changes))\n",
    "print(np.std(broken_changes))"
   ]
  }
 ],
 "metadata": {
  "kernelspec": {
   "display_name": "diff_rendering_ml",
   "language": "python",
   "name": "diff_rendering_ml"
  },
  "language_info": {
   "codemirror_mode": {
    "name": "ipython",
    "version": 3
   },
   "file_extension": ".py",
   "mimetype": "text/x-python",
   "name": "python",
   "nbconvert_exporter": "python",
   "pygments_lexer": "ipython3",
   "version": "3.8.5"
  }
 },
 "nbformat": 4,
 "nbformat_minor": 5
}
