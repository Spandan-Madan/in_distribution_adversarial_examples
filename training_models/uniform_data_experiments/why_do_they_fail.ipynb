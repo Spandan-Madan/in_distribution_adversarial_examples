{
 "cells": [
  {
   "cell_type": "code",
   "execution_count": null,
   "id": "earned-conditioning",
   "metadata": {},
   "outputs": [],
   "source": [
    "import pickle\n",
    "import utils\n",
    "import numpy as np\n",
    "import matplotlib.pyplot as plt\n",
    "\n",
    "CURRENT_MODEL = None\n",
    "N_dim = 100\n",
    "\n",
    "\n",
    "x1_min = -10\n",
    "x1_max = 10\n",
    "\n",
    "x2_min = 20\n",
    "x2_max = 40\n",
    "\n",
    "test_min = -1\n",
    "test_max= 1\n",
    "\n",
    "limits = [x1_min, x1_max, x2_min, x2_max]\n",
    "test_limits = [test_min, test_max]\n",
    "\n",
    "num_samples = 50\n",
    "\n"
   ]
  },
  {
   "cell_type": "code",
   "execution_count": null,
   "id": "seasonal-average",
   "metadata": {},
   "outputs": [],
   "source": [
    "import utils\n",
    "from utils import MLP\n",
    "from utils import CMA_info"
   ]
  },
  {
   "cell_type": "markdown",
   "id": "rising-butler",
   "metadata": {},
   "source": [
    "# Question 1: Is the data to be blamed?"
   ]
  },
  {
   "cell_type": "markdown",
   "id": "critical-clinton",
   "metadata": {},
   "source": [
    "Bad Data + Train again and attack"
   ]
  },
  {
   "cell_type": "code",
   "execution_count": null,
   "id": "framed-sudan",
   "metadata": {},
   "outputs": [],
   "source": [
    "with open('poor_attack_info.p','rb') as F:\n",
    "    poor_attack_info = pickle.load(F)"
   ]
  },
  {
   "cell_type": "markdown",
   "id": "approved-syracuse",
   "metadata": {},
   "source": [
    "### Get bad dataset from failed iteration"
   ]
  },
  {
   "cell_type": "markdown",
   "id": "signal-candle",
   "metadata": {},
   "source": [
    "### Train on bad data + attack it"
   ]
  },
  {
   "cell_type": "code",
   "execution_count": 4,
   "id": "widespread-allocation",
   "metadata": {},
   "outputs": [],
   "source": [
    "original_model = poor_attack_info[0]"
   ]
  },
  {
   "cell_type": "code",
   "execution_count": 5,
   "id": "aggregate-secretariat",
   "metadata": {},
   "outputs": [],
   "source": [
    "bad_dataset = original_model.dataset"
   ]
  },
  {
   "cell_type": "code",
   "execution_count": 6,
   "id": "occasional-medication",
   "metadata": {},
   "outputs": [],
   "source": [
    "attack_info = poor_attack_info[1]"
   ]
  },
  {
   "cell_type": "code",
   "execution_count": 7,
   "id": "wooden-kidney",
   "metadata": {},
   "outputs": [
    {
     "data": {
      "text/plain": [
       "torch.Size([16000, 5])"
      ]
     },
     "execution_count": 7,
     "metadata": {},
     "output_type": "execute_result"
    }
   ],
   "source": [
    "bad_dataset[0].shape"
   ]
  },
  {
   "cell_type": "code",
   "execution_count": 8,
   "id": "upper-verification",
   "metadata": {},
   "outputs": [
    {
     "data": {
      "text/plain": [
       "torch.Size([16000, 5])"
      ]
     },
     "execution_count": 8,
     "metadata": {},
     "output_type": "execute_result"
    }
   ],
   "source": [
    "bad_dataset[0].shape"
   ]
  },
  {
   "cell_type": "code",
   "execution_count": 9,
   "id": "greater-stockholm",
   "metadata": {
    "scrolled": true
   },
   "outputs": [],
   "source": [
    "dsize = 10000"
   ]
  },
  {
   "cell_type": "code",
   "execution_count": 10,
   "id": "eligible-grade",
   "metadata": {},
   "outputs": [],
   "source": [
    "N_dim = 5"
   ]
  },
  {
   "cell_type": "code",
   "execution_count": 11,
   "id": "dedicated-inspection",
   "metadata": {},
   "outputs": [],
   "source": [
    "attack_rates = []\n",
    "\n",
    "new_models_bad_data_info = []"
   ]
  },
  {
   "cell_type": "code",
   "execution_count": 12,
   "id": "spiritual-pillow",
   "metadata": {},
   "outputs": [
    {
     "name": "stdout",
     "output_type": "stream",
     "text": [
      "dsize_10000_bad_data\n",
      "1.0\n",
      "dsize_10000_bad_data\n",
      "1.0\n",
      "dsize_10000_bad_data\n",
      "1.0\n",
      "dsize_10000_bad_data\n",
      "1.0\n",
      "dsize_10000_bad_data\n",
      "1.0\n",
      "dsize_10000_bad_data\n",
      "1.0\n",
      "dsize_10000_bad_data\n",
      "1.0\n",
      "dsize_10000_bad_data\n",
      "1.0\n",
      "dsize_10000_bad_data\n",
      "1.0\n",
      "dsize_10000_bad_data\n",
      "1.0\n"
     ]
    }
   ],
   "source": [
    "for repeat_iteration in range(10):\n",
    "    trained_models = {}\n",
    "    attack_output = {}\n",
    "    ds = bad_dataset\n",
    "    trained_models[N_dim] = utils.train_model(N_dim, ds, 'dsize_%s_bad_data'%dsize, disable_progress = True)\n",
    "    model_to_attack = trained_models[N_dim].cpu()\n",
    "    attack_output = {}\n",
    "    attack_output[N_dim] = utils.cma_experiment(model_to_attack, N_dim, test_limits, limits, 10, disable_progress = True)\n",
    "    attack_rate = len(attack_output[N_dim].in_dist_advs)/len(attack_output[N_dim].starts)\n",
    "    attack_rates.append(attack_rate)\n",
    "    iter_info = [trained_models, attack_output]\n",
    "    new_models_bad_data_info.append(iter_info)\n",
    "    print(attack_rate)"
   ]
  },
  {
   "cell_type": "code",
   "execution_count": 13,
   "id": "discrete-begin",
   "metadata": {},
   "outputs": [
    {
     "data": {
      "text/plain": [
       "[1.0, 1.0, 1.0, 1.0, 1.0, 1.0, 1.0, 1.0, 1.0, 1.0]"
      ]
     },
     "execution_count": 13,
     "metadata": {},
     "output_type": "execute_result"
    }
   ],
   "source": [
    "attack_rates"
   ]
  },
  {
   "cell_type": "code",
   "execution_count": 14,
   "id": "purple-maple",
   "metadata": {},
   "outputs": [
    {
     "name": "stdout",
     "output_type": "stream",
     "text": [
      "dsize_10000_bad_data\n",
      "1.0\n",
      "dsize_10000_bad_data\n",
      "1.0\n",
      "dsize_10000_bad_data\n",
      "1.0\n",
      "dsize_10000_bad_data\n",
      "1.0\n",
      "dsize_10000_bad_data\n",
      "1.0\n",
      "dsize_10000_bad_data\n",
      "1.0\n",
      "dsize_10000_bad_data\n"
     ]
    },
    {
     "name": "stderr",
     "output_type": "stream",
     "text": [
      "/om5/user/smadan/miniconda3/envs/diff_rendering_ml/lib/python3.8/site-packages/cma/utilities/utils.py:343: UserWarning: \n",
      "        geno-pheno transformation introduced based on the\n",
      "        current covariance matrix with condition 1.1e+12 -> 1.0e+00,\n",
      "        injected solutions become \"invalid\" in this iteration (class=CMAEvolutionStrategy method=alleviate_conditioning iteration=916)\n",
      "  warnings.warn(msg + ' (' +\n"
     ]
    },
    {
     "name": "stdout",
     "output_type": "stream",
     "text": [
      "0.9\n",
      "dsize_10000_bad_data\n",
      "1.0\n",
      "dsize_10000_bad_data\n",
      "1.0\n",
      "dsize_10000_bad_data\n",
      "0.9\n"
     ]
    }
   ],
   "source": [
    "attack_rates = []\n",
    "new_iter_info = []\n",
    "\n",
    "for repeat_iteration in range(10):\n",
    "    trained_models = {}\n",
    "    attack_output = {}\n",
    "    ds = utils.make_dataset(dsize, N_dim, limits)\n",
    "    trained_models[N_dim] = utils.train_model(N_dim, ds, 'dsize_%s_bad_data'%dsize, disable_progress = True)\n",
    "    model_to_attack = trained_models[N_dim].cpu()\n",
    "    attack_output = {}\n",
    "    attack_output[N_dim] = utils.cma_experiment(model_to_attack, N_dim, test_limits, limits, 10, disable_progress = True)\n",
    "    attack_rate = len(attack_output[N_dim].in_dist_advs)/len(attack_output[N_dim].starts)\n",
    "    attack_rates.append(attack_rate)\n",
    "    iter_info = [trained_models, attack_output]\n",
    "    new_models_bad_data_info.append(iter_info)\n",
    "    print(attack_rate)"
   ]
  },
  {
   "cell_type": "code",
   "execution_count": 15,
   "id": "operational-diana",
   "metadata": {},
   "outputs": [
    {
     "data": {
      "text/plain": [
       "[1.0, 1.0, 1.0, 1.0, 1.0, 1.0, 0.9, 1.0, 1.0, 0.9]"
      ]
     },
     "execution_count": 15,
     "metadata": {},
     "output_type": "execute_result"
    }
   ],
   "source": [
    "attack_rates"
   ]
  },
  {
   "cell_type": "markdown",
   "id": "revised-essex",
   "metadata": {},
   "source": [
    "#### Take Away: Using bad data or new data, trained a new model and attacked it: was very succesful. So, the data is not to be blamed."
   ]
  },
  {
   "cell_type": "markdown",
   "id": "clear-buyer",
   "metadata": {},
   "source": [
    "<html>\n",
    "    <body>\n",
    "         <hr style=\"height:2px;border-width:0;color:gray;background-color:gray\">\n",
    "    </body>\n",
    "</html>\n",
    "<html>\n",
    "    <body>\n",
    "         <hr style=\"height:2px;border-width:0;color:gray;background-color:gray\">\n",
    "    </body>\n",
    "</html>\n",
    "   \n",
    "   "
   ]
  },
  {
   "cell_type": "markdown",
   "id": "thorough-petroleum",
   "metadata": {},
   "source": [
    "## Question 2: Is it the stochasticity of CMA?"
   ]
  },
  {
   "cell_type": "markdown",
   "id": "opening-southwest",
   "metadata": {},
   "source": [
    "Bad data + Old Model + Multiple CMA attacks"
   ]
  },
  {
   "cell_type": "code",
   "execution_count": 16,
   "id": "behind-retreat",
   "metadata": {},
   "outputs": [],
   "source": [
    "old_model_cma_repeat = []\n",
    "attack_rates = []"
   ]
  },
  {
   "cell_type": "code",
   "execution_count": 17,
   "id": "difficult-threshold",
   "metadata": {},
   "outputs": [],
   "source": [
    "# original_modeldel"
   ]
  },
  {
   "cell_type": "code",
   "execution_count": 18,
   "id": "conservative-prize",
   "metadata": {
    "scrolled": true
   },
   "outputs": [
    {
     "name": "stdout",
     "output_type": "stream",
     "text": [
      "dset_size_10000_bad_data\n",
      "0.1\n",
      "dset_size_10000_bad_data\n",
      "0.1\n",
      "dset_size_10000_bad_data\n",
      "0.0\n",
      "dset_size_10000_bad_data\n",
      "0.1\n",
      "dset_size_10000_bad_data\n",
      "0.3\n",
      "dset_size_10000_bad_data\n",
      "0.0\n",
      "dset_size_10000_bad_data\n",
      "0.2\n",
      "dset_size_10000_bad_data\n",
      "0.2\n",
      "dset_size_10000_bad_data\n",
      "0.6\n",
      "dset_size_10000_bad_data\n",
      "0.2\n"
     ]
    }
   ],
   "source": [
    "for repeat_iteration in range(10):\n",
    "    trained_models = {}\n",
    "    attack_output = {}\n",
    "    ds = bad_dataset\n",
    "    trained_models[N_dim] = original_model\n",
    "#     trained_models[N_dim] = utils.train_model(N_dim, ds, 'dsize_%s_bad_data'%dsize, disable_progress = True)\n",
    "    model_to_attack = trained_models[N_dim].cpu()\n",
    "    attack_output = {}\n",
    "    attack_output[N_dim] = utils.cma_experiment(model_to_attack, N_dim, test_limits, limits, 10, disable_progress = True)\n",
    "    attack_rate = len(attack_output[N_dim].in_dist_advs)/len(attack_output[N_dim].starts)\n",
    "    attack_rates.append(attack_rate)\n",
    "    iter_info = [trained_models, attack_output]\n",
    "    old_model_cma_repeat.append(iter_info)\n",
    "    print(attack_rate)"
   ]
  },
  {
   "cell_type": "code",
   "execution_count": 19,
   "id": "practical-suggestion",
   "metadata": {},
   "outputs": [
    {
     "data": {
      "text/plain": [
       "[0.1, 0.1, 0.0, 0.1, 0.3, 0.0, 0.2, 0.2, 0.6, 0.2]"
      ]
     },
     "execution_count": 19,
     "metadata": {},
     "output_type": "execute_result"
    }
   ],
   "source": [
    "attack_rates"
   ]
  },
  {
   "cell_type": "markdown",
   "id": "rocky-aberdeen",
   "metadata": {},
   "source": [
    "#### Take away: All bad, hovering in the same range. So, there's some stochasticity to it, but not really."
   ]
  },
  {
   "cell_type": "markdown",
   "id": "mobile-rachel",
   "metadata": {},
   "source": [
    "## Question 3: Is it SGD?"
   ]
  },
  {
   "cell_type": "markdown",
   "id": "attractive-department",
   "metadata": {},
   "source": [
    "old data, samne model initialization"
   ]
  },
  {
   "cell_type": "code",
   "execution_count": 21,
   "id": "appointed-establishment",
   "metadata": {},
   "outputs": [],
   "source": [
    "bad_seed = original_model.seed"
   ]
  },
  {
   "cell_type": "code",
   "execution_count": 22,
   "id": "toxic-gambling",
   "metadata": {},
   "outputs": [
    {
     "name": "stdout",
     "output_type": "stream",
     "text": [
      "Epoch:999, Train Acc:tensor(0.9841, device='cuda:0')\n",
      "Epoch:999, Test Acc:tensor(0.9830, device='cuda:0')\n",
      "tensor(0.9830, device='cuda:0')\n",
      "dsize_10000_bad_data\n"
     ]
    },
    {
     "data": {
      "application/vnd.jupyter.widget-view+json": {
       "model_id": "150928b289fd460a8eb7a91dd94c76f4",
       "version_major": 2,
       "version_minor": 0
      },
      "text/plain": [
       "  0%|          | 0/10 [00:00<?, ?it/s]"
      ]
     },
     "metadata": {},
     "output_type": "display_data"
    },
    {
     "name": "stdout",
     "output_type": "stream",
     "text": [
      "0.8\n",
      "Epoch:999, Train Acc:tensor(0.9674, device='cuda:0')\n",
      "Epoch:999, Test Acc:tensor(0.9613, device='cuda:0')\n",
      "tensor(0.9613, device='cuda:0')\n",
      "dsize_10000_bad_data\n"
     ]
    },
    {
     "data": {
      "application/vnd.jupyter.widget-view+json": {
       "model_id": "8e842ebcd35346b19760b39008aee8ca",
       "version_major": 2,
       "version_minor": 0
      },
      "text/plain": [
       "  0%|          | 0/10 [00:00<?, ?it/s]"
      ]
     },
     "metadata": {},
     "output_type": "display_data"
    },
    {
     "name": "stdout",
     "output_type": "stream",
     "text": [
      "0.9\n",
      "Epoch:999, Train Acc:tensor(0.9772, device='cuda:0')\n",
      "Epoch:999, Test Acc:tensor(0.9775, device='cuda:0')\n",
      "tensor(0.9775, device='cuda:0')\n",
      "dsize_10000_bad_data\n"
     ]
    },
    {
     "data": {
      "application/vnd.jupyter.widget-view+json": {
       "model_id": "62f25dcf48b34ab0afe9064e0edf1390",
       "version_major": 2,
       "version_minor": 0
      },
      "text/plain": [
       "  0%|          | 0/10 [00:00<?, ?it/s]"
      ]
     },
     "metadata": {},
     "output_type": "display_data"
    },
    {
     "name": "stderr",
     "output_type": "stream",
     "text": [
      "/om5/user/smadan/miniconda3/envs/diff_rendering_ml/lib/python3.8/site-packages/cma/utilities/utils.py:343: UserWarning: \n",
      "        geno-pheno transformation introduced based on the\n",
      "        current covariance matrix with condition 1.1e+12 -> 1.0e+00,\n",
      "        injected solutions become \"invalid\" in this iteration (class=CMAEvolutionStrategy method=alleviate_conditioning iteration=949)\n",
      "  warnings.warn(msg + ' (' +\n"
     ]
    },
    {
     "name": "stdout",
     "output_type": "stream",
     "text": [
      "0.7\n",
      "Epoch:999, Train Acc:tensor(0.9829, device='cuda:0')\n",
      "Epoch:999, Test Acc:tensor(0.9838, device='cuda:0')\n",
      "tensor(0.9838, device='cuda:0')\n",
      "dsize_10000_bad_data\n"
     ]
    },
    {
     "data": {
      "application/vnd.jupyter.widget-view+json": {
       "model_id": "1e912d5ffb2c40479a1dcca502117888",
       "version_major": 2,
       "version_minor": 0
      },
      "text/plain": [
       "  0%|          | 0/10 [00:00<?, ?it/s]"
      ]
     },
     "metadata": {},
     "output_type": "display_data"
    },
    {
     "name": "stdout",
     "output_type": "stream",
     "text": [
      "0.8\n",
      "Epoch:999, Train Acc:tensor(0.9835, device='cuda:0')\n",
      "Epoch:999, Test Acc:tensor(0.9848, device='cuda:0')\n",
      "tensor(0.9848, device='cuda:0')\n",
      "dsize_10000_bad_data\n"
     ]
    },
    {
     "data": {
      "application/vnd.jupyter.widget-view+json": {
       "model_id": "0000f5a2c9ee438f973188f6636e4219",
       "version_major": 2,
       "version_minor": 0
      },
      "text/plain": [
       "  0%|          | 0/10 [00:00<?, ?it/s]"
      ]
     },
     "metadata": {},
     "output_type": "display_data"
    },
    {
     "name": "stderr",
     "output_type": "stream",
     "text": [
      "/om5/user/smadan/miniconda3/envs/diff_rendering_ml/lib/python3.8/site-packages/cma/utilities/utils.py:343: UserWarning: \n",
      "        geno-pheno transformation introduced based on the\n",
      "        current covariance matrix with condition 1.2e+12 -> 1.0e+00,\n",
      "        injected solutions become \"invalid\" in this iteration (class=CMAEvolutionStrategy method=alleviate_conditioning iteration=954)\n",
      "  warnings.warn(msg + ' (' +\n",
      "/om5/user/smadan/miniconda3/envs/diff_rendering_ml/lib/python3.8/site-packages/cma/utilities/utils.py:343: UserWarning: \n",
      "        geno-pheno transformation introduced based on the\n",
      "        current covariance matrix with condition 1.0e+12 -> 1.0e+00,\n",
      "        injected solutions become \"invalid\" in this iteration (class=CMAEvolutionStrategy method=alleviate_conditioning iteration=908)\n",
      "  warnings.warn(msg + ' (' +\n",
      "/om5/user/smadan/miniconda3/envs/diff_rendering_ml/lib/python3.8/site-packages/cma/utilities/utils.py:343: UserWarning: \n",
      "        geno-pheno transformation introduced based on the\n",
      "        current covariance matrix with condition 1.0e+12 -> 1.0e+00,\n",
      "        injected solutions become \"invalid\" in this iteration (class=CMAEvolutionStrategy method=alleviate_conditioning iteration=1068)\n",
      "  warnings.warn(msg + ' (' +\n",
      "/om5/user/smadan/miniconda3/envs/diff_rendering_ml/lib/python3.8/site-packages/cma/utilities/utils.py:343: UserWarning: \n",
      "        geno-pheno transformation introduced based on the\n",
      "        current covariance matrix with condition 1.1e+12 -> 1.0e+00,\n",
      "        injected solutions become \"invalid\" in this iteration (class=CMAEvolutionStrategy method=alleviate_conditioning iteration=999)\n",
      "  warnings.warn(msg + ' (' +\n"
     ]
    },
    {
     "name": "stdout",
     "output_type": "stream",
     "text": [
      "0.4\n",
      "Epoch:999, Train Acc:tensor(0.9948, device='cuda:0')\n",
      "Epoch:999, Test Acc:tensor(0.9943, device='cuda:0')\n",
      "tensor(0.9943, device='cuda:0')\n",
      "dsize_10000_bad_data\n"
     ]
    },
    {
     "data": {
      "application/vnd.jupyter.widget-view+json": {
       "model_id": "a9cfd3c806e446b0b7518a1b73ee31e1",
       "version_major": 2,
       "version_minor": 0
      },
      "text/plain": [
       "  0%|          | 0/10 [00:00<?, ?it/s]"
      ]
     },
     "metadata": {},
     "output_type": "display_data"
    },
    {
     "name": "stdout",
     "output_type": "stream",
     "text": [
      "0.3\n",
      "Epoch:999, Train Acc:tensor(0.9859, device='cuda:0')\n",
      "Epoch:999, Test Acc:tensor(0.9828, device='cuda:0')\n",
      "tensor(0.9828, device='cuda:0')\n",
      "dsize_10000_bad_data\n"
     ]
    },
    {
     "data": {
      "application/vnd.jupyter.widget-view+json": {
       "model_id": "cc5b888841814833960038758c02f160",
       "version_major": 2,
       "version_minor": 0
      },
      "text/plain": [
       "  0%|          | 0/10 [00:00<?, ?it/s]"
      ]
     },
     "metadata": {},
     "output_type": "display_data"
    },
    {
     "name": "stdout",
     "output_type": "stream",
     "text": [
      "0.5\n",
      "Epoch:999, Train Acc:tensor(0.9857, device='cuda:0')\n",
      "Epoch:999, Test Acc:tensor(0.9823, device='cuda:0')\n",
      "tensor(0.9823, device='cuda:0')\n",
      "dsize_10000_bad_data\n"
     ]
    },
    {
     "data": {
      "application/vnd.jupyter.widget-view+json": {
       "model_id": "abb751573ded414a84e0f001554e900a",
       "version_major": 2,
       "version_minor": 0
      },
      "text/plain": [
       "  0%|          | 0/10 [00:00<?, ?it/s]"
      ]
     },
     "metadata": {},
     "output_type": "display_data"
    },
    {
     "name": "stderr",
     "output_type": "stream",
     "text": [
      "/om5/user/smadan/miniconda3/envs/diff_rendering_ml/lib/python3.8/site-packages/cma/utilities/utils.py:343: UserWarning: \n",
      "        geno-pheno transformation introduced based on the\n",
      "        current covariance matrix with condition 1.2e+12 -> 1.0e+00,\n",
      "        injected solutions become \"invalid\" in this iteration (class=CMAEvolutionStrategy method=alleviate_conditioning iteration=928)\n",
      "  warnings.warn(msg + ' (' +\n",
      "/om5/user/smadan/miniconda3/envs/diff_rendering_ml/lib/python3.8/site-packages/cma/utilities/utils.py:343: UserWarning: \n",
      "        geno-pheno transformation introduced based on the\n",
      "        current covariance matrix with condition 1.0e+12 -> 1.0e+00,\n",
      "        injected solutions become \"invalid\" in this iteration (class=CMAEvolutionStrategy method=alleviate_conditioning iteration=990)\n",
      "  warnings.warn(msg + ' (' +\n",
      "/om5/user/smadan/miniconda3/envs/diff_rendering_ml/lib/python3.8/site-packages/cma/utilities/utils.py:343: UserWarning: \n",
      "        geno-pheno transformation introduced based on the\n",
      "        current covariance matrix with condition 1.0e+12 -> 1.0e+00,\n",
      "        injected solutions become \"invalid\" in this iteration (class=CMAEvolutionStrategy method=alleviate_conditioning iteration=749)\n",
      "  warnings.warn(msg + ' (' +\n",
      "/om5/user/smadan/miniconda3/envs/diff_rendering_ml/lib/python3.8/site-packages/cma/utilities/utils.py:343: UserWarning: \n",
      "        geno-pheno transformation introduced based on the\n",
      "        current covariance matrix with condition 1.1e+12 -> 1.0e+00,\n",
      "        injected solutions become \"invalid\" in this iteration (class=CMAEvolutionStrategy method=alleviate_conditioning iteration=928)\n",
      "  warnings.warn(msg + ' (' +\n",
      "/om5/user/smadan/miniconda3/envs/diff_rendering_ml/lib/python3.8/site-packages/cma/utilities/utils.py:343: UserWarning: \n",
      "        geno-pheno transformation introduced based on the\n",
      "        current covariance matrix with condition 1.1e+12 -> 1.0e+00,\n",
      "        injected solutions become \"invalid\" in this iteration (class=CMAEvolutionStrategy method=alleviate_conditioning iteration=977)\n",
      "  warnings.warn(msg + ' (' +\n",
      "/om5/user/smadan/miniconda3/envs/diff_rendering_ml/lib/python3.8/site-packages/cma/utilities/utils.py:343: UserWarning: \n",
      "        geno-pheno transformation introduced based on the\n",
      "        current covariance matrix with condition 1.1e+12 -> 1.0e+00,\n",
      "        injected solutions become \"invalid\" in this iteration (class=CMAEvolutionStrategy method=alleviate_conditioning iteration=1128)\n",
      "  warnings.warn(msg + ' (' +\n"
     ]
    },
    {
     "name": "stdout",
     "output_type": "stream",
     "text": [
      "0.4\n",
      "Epoch:999, Train Acc:tensor(0.9800, device='cuda:0')\n",
      "Epoch:999, Test Acc:tensor(0.9785, device='cuda:0')\n",
      "tensor(0.9785, device='cuda:0')\n",
      "dsize_10000_bad_data\n"
     ]
    },
    {
     "data": {
      "application/vnd.jupyter.widget-view+json": {
       "model_id": "f64cc64aa3834b8390288577024c62cd",
       "version_major": 2,
       "version_minor": 0
      },
      "text/plain": [
       "  0%|          | 0/10 [00:00<?, ?it/s]"
      ]
     },
     "metadata": {},
     "output_type": "display_data"
    },
    {
     "name": "stderr",
     "output_type": "stream",
     "text": [
      "/om5/user/smadan/miniconda3/envs/diff_rendering_ml/lib/python3.8/site-packages/cma/utilities/utils.py:343: UserWarning: \n",
      "        geno-pheno transformation introduced based on the\n",
      "        current covariance matrix with condition 1.2e+12 -> 1.0e+00,\n",
      "        injected solutions become \"invalid\" in this iteration (class=CMAEvolutionStrategy method=alleviate_conditioning iteration=1120)\n",
      "  warnings.warn(msg + ' (' +\n",
      "/om5/user/smadan/miniconda3/envs/diff_rendering_ml/lib/python3.8/site-packages/cma/utilities/utils.py:343: UserWarning: \n",
      "        geno-pheno transformation introduced based on the\n",
      "        current covariance matrix with condition 1.2e+12 -> 1.0e+00,\n",
      "        injected solutions become \"invalid\" in this iteration (class=CMAEvolutionStrategy method=alleviate_conditioning iteration=1310)\n",
      "  warnings.warn(msg + ' (' +\n"
     ]
    },
    {
     "name": "stdout",
     "output_type": "stream",
     "text": [
      "0.6\n",
      "Epoch:999, Train Acc:tensor(0.9775, device='cuda:0')\n",
      "Epoch:999, Test Acc:tensor(0.9773, device='cuda:0')\n",
      "tensor(0.9773, device='cuda:0')\n",
      "dsize_10000_bad_data\n"
     ]
    },
    {
     "data": {
      "application/vnd.jupyter.widget-view+json": {
       "model_id": "4a8f3380434e4df8ab0a9a0cd0bad961",
       "version_major": 2,
       "version_minor": 0
      },
      "text/plain": [
       "  0%|          | 0/10 [00:00<?, ?it/s]"
      ]
     },
     "metadata": {},
     "output_type": "display_data"
    },
    {
     "name": "stderr",
     "output_type": "stream",
     "text": [
      "/om5/user/smadan/miniconda3/envs/diff_rendering_ml/lib/python3.8/site-packages/cma/utilities/utils.py:343: UserWarning: \n",
      "        geno-pheno transformation introduced based on the\n",
      "        current covariance matrix with condition 1.1e+12 -> 1.0e+00,\n",
      "        injected solutions become \"invalid\" in this iteration (class=CMAEvolutionStrategy method=alleviate_conditioning iteration=671)\n",
      "  warnings.warn(msg + ' (' +\n",
      "/om5/user/smadan/miniconda3/envs/diff_rendering_ml/lib/python3.8/site-packages/cma/utilities/utils.py:343: UserWarning: \n",
      "        geno-pheno transformation introduced based on the\n",
      "        current covariance matrix with condition 1.1e+12 -> 1.0e+00,\n",
      "        injected solutions become \"invalid\" in this iteration (class=CMAEvolutionStrategy method=alleviate_conditioning iteration=900)\n",
      "  warnings.warn(msg + ' (' +\n",
      "/om5/user/smadan/miniconda3/envs/diff_rendering_ml/lib/python3.8/site-packages/cma/utilities/utils.py:343: UserWarning: \n",
      "        geno-pheno transformation introduced based on the\n",
      "        current covariance matrix with condition 1.2e+12 -> 1.0e+00,\n",
      "        injected solutions become \"invalid\" in this iteration (class=CMAEvolutionStrategy method=alleviate_conditioning iteration=1240)\n",
      "  warnings.warn(msg + ' (' +\n",
      "/om5/user/smadan/miniconda3/envs/diff_rendering_ml/lib/python3.8/site-packages/cma/utilities/utils.py:343: UserWarning: \n",
      "        geno-pheno transformation introduced based on the\n",
      "        current covariance matrix with condition 1.0e+12 -> 1.0e+00,\n",
      "        injected solutions become \"invalid\" in this iteration (class=CMAEvolutionStrategy method=alleviate_conditioning iteration=1081)\n",
      "  warnings.warn(msg + ' (' +\n"
     ]
    },
    {
     "name": "stdout",
     "output_type": "stream",
     "text": [
      "0.1\n"
     ]
    }
   ],
   "source": [
    "attack_rates = []\n",
    "old_data_old_seed_info = []\n",
    "\n",
    "for repeat_iteration in range(10):\n",
    "    trained_models = {}\n",
    "    attack_output = {}\n",
    "    ds = bad_dataset\n",
    "    trained_models[N_dim] = utils.train_model(N_dim, ds, 'dsize_%s_bad_data'%dsize, disable_progress = True, seed = bad_seed, epochs = 1000)\n",
    "    model_to_attack = trained_models[N_dim].cpu()\n",
    "    print(model_to_attack.test_accuracy)\n",
    "    attack_output = {}\n",
    "    attack_output[N_dim] = utils.cma_experiment(model_to_attack, N_dim, test_limits, limits, 10, disable_progress = False)\n",
    "    attack_rate = len(attack_output[N_dim].in_dist_advs)/len(attack_output[N_dim].starts)\n",
    "    attack_rates.append(attack_rate)\n",
    "    iter_info = [trained_models, attack_output]\n",
    "    old_data_old_seed_info.append(iter_info)\n",
    "    print(attack_rate)"
   ]
  },
  {
   "cell_type": "code",
   "execution_count": 29,
   "id": "thick-tolerance",
   "metadata": {
    "tags": []
   },
   "outputs": [
    {
     "data": {
      "text/plain": [
       "0.36"
      ]
     },
     "execution_count": 29,
     "metadata": {},
     "output_type": "execute_result"
    }
   ],
   "source": [
    "np.mean(attack_rates)"
   ]
  },
  {
   "cell_type": "markdown",
   "id": "vocational-steel",
   "metadata": {},
   "source": [
    "## Question 4: new data, bad model seed"
   ]
  },
  {
   "cell_type": "markdown",
   "id": "joined-karma",
   "metadata": {},
   "source": [
    "New data + Same Model initialization + CMA"
   ]
  },
  {
   "cell_type": "code",
   "execution_count": 30,
   "id": "flexible-argument",
   "metadata": {},
   "outputs": [],
   "source": [
    "bad_seed = original_model.seed"
   ]
  },
  {
   "cell_type": "code",
   "execution_count": 31,
   "id": "local-squad",
   "metadata": {},
   "outputs": [],
   "source": [
    "attack_rates = []\n",
    "new_data_old_seed_info = []"
   ]
  },
  {
   "cell_type": "code",
   "execution_count": 32,
   "id": "established-occasions",
   "metadata": {},
   "outputs": [
    {
     "name": "stdout",
     "output_type": "stream",
     "text": [
      "Epoch:999, Train Acc:tensor(0.9923, device='cuda:0')\n",
      "Epoch:999, Test Acc:tensor(0.9920, device='cuda:0')\n",
      "tensor(0.9920, device='cuda:0')\n",
      "dsize_10000_bad_data\n"
     ]
    },
    {
     "data": {
      "application/vnd.jupyter.widget-view+json": {
       "model_id": "f60095075b81406f819c0bb3167cc426",
       "version_major": 2,
       "version_minor": 0
      },
      "text/plain": [
       "  0%|          | 0/10 [00:00<?, ?it/s]"
      ]
     },
     "metadata": {},
     "output_type": "display_data"
    },
    {
     "name": "stdout",
     "output_type": "stream",
     "text": [
      "0.2\n",
      "Epoch:999, Train Acc:tensor(0.9553, device='cuda:0')\n",
      "Epoch:999, Test Acc:tensor(0.9530, device='cuda:0')\n",
      "tensor(0.9530, device='cuda:0')\n",
      "dsize_10000_bad_data\n"
     ]
    },
    {
     "data": {
      "application/vnd.jupyter.widget-view+json": {
       "model_id": "cdf8930cad3a4dd896bf846637a964f9",
       "version_major": 2,
       "version_minor": 0
      },
      "text/plain": [
       "  0%|          | 0/10 [00:00<?, ?it/s]"
      ]
     },
     "metadata": {},
     "output_type": "display_data"
    },
    {
     "name": "stderr",
     "output_type": "stream",
     "text": [
      "/om5/user/smadan/miniconda3/envs/diff_rendering_ml/lib/python3.8/site-packages/cma/utilities/utils.py:343: UserWarning: \n",
      "        geno-pheno transformation introduced based on the\n",
      "        current covariance matrix with condition 1.1e+12 -> 1.0e+00,\n",
      "        injected solutions become \"invalid\" in this iteration (class=CMAEvolutionStrategy method=alleviate_conditioning iteration=969)\n",
      "  warnings.warn(msg + ' (' +\n",
      "/om5/user/smadan/miniconda3/envs/diff_rendering_ml/lib/python3.8/site-packages/cma/utilities/utils.py:343: UserWarning: \n",
      "        geno-pheno transformation introduced based on the\n",
      "        current covariance matrix with condition 1.1e+12 -> 1.0e+00,\n",
      "        injected solutions become \"invalid\" in this iteration (class=CMAEvolutionStrategy method=alleviate_conditioning iteration=799)\n",
      "  warnings.warn(msg + ' (' +\n"
     ]
    },
    {
     "name": "stdout",
     "output_type": "stream",
     "text": [
      "0.7\n",
      "Epoch:999, Train Acc:tensor(0.9824, device='cuda:0')\n",
      "Epoch:999, Test Acc:tensor(0.9788, device='cuda:0')\n",
      "tensor(0.9788, device='cuda:0')\n",
      "dsize_10000_bad_data\n"
     ]
    },
    {
     "data": {
      "application/vnd.jupyter.widget-view+json": {
       "model_id": "713752e949e049d1b6f7c84bfa535c25",
       "version_major": 2,
       "version_minor": 0
      },
      "text/plain": [
       "  0%|          | 0/10 [00:00<?, ?it/s]"
      ]
     },
     "metadata": {},
     "output_type": "display_data"
    },
    {
     "name": "stderr",
     "output_type": "stream",
     "text": [
      "/om5/user/smadan/miniconda3/envs/diff_rendering_ml/lib/python3.8/site-packages/cma/utilities/utils.py:343: UserWarning: \n",
      "        geno-pheno transformation introduced based on the\n",
      "        current covariance matrix with condition 1.1e+12 -> 1.0e+00,\n",
      "        injected solutions become \"invalid\" in this iteration (class=CMAEvolutionStrategy method=alleviate_conditioning iteration=1002)\n",
      "  warnings.warn(msg + ' (' +\n",
      "/om5/user/smadan/miniconda3/envs/diff_rendering_ml/lib/python3.8/site-packages/cma/utilities/utils.py:343: UserWarning: \n",
      "        geno-pheno transformation introduced based on the\n",
      "        current covariance matrix with condition 1.2e+12 -> 1.0e+00,\n",
      "        injected solutions become \"invalid\" in this iteration (class=CMAEvolutionStrategy method=alleviate_conditioning iteration=589)\n",
      "  warnings.warn(msg + ' (' +\n"
     ]
    },
    {
     "name": "stdout",
     "output_type": "stream",
     "text": [
      "0.8\n",
      "Epoch:999, Train Acc:tensor(0.9797, device='cuda:0')\n",
      "Epoch:999, Test Acc:tensor(0.9773, device='cuda:0')\n",
      "tensor(0.9773, device='cuda:0')\n",
      "dsize_10000_bad_data\n"
     ]
    },
    {
     "data": {
      "application/vnd.jupyter.widget-view+json": {
       "model_id": "c23535b3d84845e8bd71defc0c5230b3",
       "version_major": 2,
       "version_minor": 0
      },
      "text/plain": [
       "  0%|          | 0/10 [00:00<?, ?it/s]"
      ]
     },
     "metadata": {},
     "output_type": "display_data"
    },
    {
     "name": "stderr",
     "output_type": "stream",
     "text": [
      "/om5/user/smadan/miniconda3/envs/diff_rendering_ml/lib/python3.8/site-packages/cma/utilities/utils.py:343: UserWarning: \n",
      "        geno-pheno transformation introduced based on the\n",
      "        current covariance matrix with condition 1.0e+12 -> 1.0e+00,\n",
      "        injected solutions become \"invalid\" in this iteration (class=CMAEvolutionStrategy method=alleviate_conditioning iteration=1450)\n",
      "  warnings.warn(msg + ' (' +\n"
     ]
    },
    {
     "name": "stdout",
     "output_type": "stream",
     "text": [
      "0.8\n",
      "Epoch:999, Train Acc:tensor(0.9916, device='cuda:0')\n",
      "Epoch:999, Test Acc:tensor(0.9900, device='cuda:0')\n",
      "tensor(0.9900, device='cuda:0')\n",
      "dsize_10000_bad_data\n"
     ]
    },
    {
     "data": {
      "application/vnd.jupyter.widget-view+json": {
       "model_id": "21a89188aa334138b6effcd8cc1cec63",
       "version_major": 2,
       "version_minor": 0
      },
      "text/plain": [
       "  0%|          | 0/10 [00:00<?, ?it/s]"
      ]
     },
     "metadata": {},
     "output_type": "display_data"
    },
    {
     "name": "stderr",
     "output_type": "stream",
     "text": [
      "/om5/user/smadan/miniconda3/envs/diff_rendering_ml/lib/python3.8/site-packages/cma/utilities/utils.py:343: UserWarning: \n",
      "        geno-pheno transformation introduced based on the\n",
      "        current covariance matrix with condition 1.0e+12 -> 1.0e+00,\n",
      "        injected solutions become \"invalid\" in this iteration (class=CMAEvolutionStrategy method=alleviate_conditioning iteration=874)\n",
      "  warnings.warn(msg + ' (' +\n"
     ]
    },
    {
     "name": "stdout",
     "output_type": "stream",
     "text": [
      "0.7\n",
      "Epoch:999, Train Acc:tensor(0.9888, device='cuda:0')\n",
      "Epoch:999, Test Acc:tensor(0.9893, device='cuda:0')\n",
      "tensor(0.9893, device='cuda:0')\n",
      "dsize_10000_bad_data\n"
     ]
    },
    {
     "data": {
      "application/vnd.jupyter.widget-view+json": {
       "model_id": "755bc26210644af296315b23bb18b891",
       "version_major": 2,
       "version_minor": 0
      },
      "text/plain": [
       "  0%|          | 0/10 [00:00<?, ?it/s]"
      ]
     },
     "metadata": {},
     "output_type": "display_data"
    },
    {
     "name": "stdout",
     "output_type": "stream",
     "text": [
      "0.4\n",
      "Epoch:999, Train Acc:tensor(0.9779, device='cuda:0')\n",
      "Epoch:999, Test Acc:tensor(0.9800, device='cuda:0')\n",
      "tensor(0.9800, device='cuda:0')\n",
      "dsize_10000_bad_data\n"
     ]
    },
    {
     "data": {
      "application/vnd.jupyter.widget-view+json": {
       "model_id": "37b5ce94f77c4c23b0040ce9df4d7184",
       "version_major": 2,
       "version_minor": 0
      },
      "text/plain": [
       "  0%|          | 0/10 [00:00<?, ?it/s]"
      ]
     },
     "metadata": {},
     "output_type": "display_data"
    },
    {
     "name": "stderr",
     "output_type": "stream",
     "text": [
      "/om5/user/smadan/miniconda3/envs/diff_rendering_ml/lib/python3.8/site-packages/cma/utilities/utils.py:343: UserWarning: \n",
      "        geno-pheno transformation introduced based on the\n",
      "        current covariance matrix with condition 1.1e+12 -> 1.0e+00,\n",
      "        injected solutions become \"invalid\" in this iteration (class=CMAEvolutionStrategy method=alleviate_conditioning iteration=1195)\n",
      "  warnings.warn(msg + ' (' +\n"
     ]
    },
    {
     "name": "stdout",
     "output_type": "stream",
     "text": [
      "0.7\n",
      "Epoch:999, Train Acc:tensor(0.9931, device='cuda:0')\n",
      "Epoch:999, Test Acc:tensor(0.9943, device='cuda:0')\n",
      "tensor(0.9943, device='cuda:0')\n",
      "dsize_10000_bad_data\n"
     ]
    },
    {
     "data": {
      "application/vnd.jupyter.widget-view+json": {
       "model_id": "09d42613591845a7bbf339e6217e7dd0",
       "version_major": 2,
       "version_minor": 0
      },
      "text/plain": [
       "  0%|          | 0/10 [00:00<?, ?it/s]"
      ]
     },
     "metadata": {},
     "output_type": "display_data"
    },
    {
     "name": "stderr",
     "output_type": "stream",
     "text": [
      "/om5/user/smadan/miniconda3/envs/diff_rendering_ml/lib/python3.8/site-packages/cma/utilities/utils.py:343: UserWarning: \n",
      "        geno-pheno transformation introduced based on the\n",
      "        current covariance matrix with condition 1.2e+12 -> 1.0e+00,\n",
      "        injected solutions become \"invalid\" in this iteration (class=CMAEvolutionStrategy method=alleviate_conditioning iteration=802)\n",
      "  warnings.warn(msg + ' (' +\n",
      "/om5/user/smadan/miniconda3/envs/diff_rendering_ml/lib/python3.8/site-packages/cma/utilities/utils.py:343: UserWarning: \n",
      "        geno-pheno transformation introduced based on the\n",
      "        current covariance matrix with condition 1.2e+12 -> 1.0e+00,\n",
      "        injected solutions become \"invalid\" in this iteration (class=CMAEvolutionStrategy method=alleviate_conditioning iteration=943)\n",
      "  warnings.warn(msg + ' (' +\n"
     ]
    },
    {
     "name": "stdout",
     "output_type": "stream",
     "text": [
      "0.0\n",
      "Epoch:999, Train Acc:tensor(0.9882, device='cuda:0')\n",
      "Epoch:999, Test Acc:tensor(0.9868, device='cuda:0')\n",
      "tensor(0.9868, device='cuda:0')\n",
      "dsize_10000_bad_data\n"
     ]
    },
    {
     "data": {
      "application/vnd.jupyter.widget-view+json": {
       "model_id": "afb565efd4c9402c9f2a976c6f5bccca",
       "version_major": 2,
       "version_minor": 0
      },
      "text/plain": [
       "  0%|          | 0/10 [00:00<?, ?it/s]"
      ]
     },
     "metadata": {},
     "output_type": "display_data"
    },
    {
     "name": "stderr",
     "output_type": "stream",
     "text": [
      "/om5/user/smadan/miniconda3/envs/diff_rendering_ml/lib/python3.8/site-packages/cma/utilities/utils.py:343: UserWarning: \n",
      "        geno-pheno transformation introduced based on the\n",
      "        current covariance matrix with condition 1.1e+12 -> 1.0e+00,\n",
      "        injected solutions become \"invalid\" in this iteration (class=CMAEvolutionStrategy method=alleviate_conditioning iteration=1099)\n",
      "  warnings.warn(msg + ' (' +\n",
      "/om5/user/smadan/miniconda3/envs/diff_rendering_ml/lib/python3.8/site-packages/cma/utilities/utils.py:343: UserWarning: \n",
      "        geno-pheno transformation introduced based on the\n",
      "        current covariance matrix with condition 1.0e+12 -> 1.0e+00,\n",
      "        injected solutions become \"invalid\" in this iteration (class=CMAEvolutionStrategy method=alleviate_conditioning iteration=970)\n",
      "  warnings.warn(msg + ' (' +\n",
      "/om5/user/smadan/miniconda3/envs/diff_rendering_ml/lib/python3.8/site-packages/cma/utilities/utils.py:343: UserWarning: \n",
      "        geno-pheno transformation introduced based on the\n",
      "        current covariance matrix with condition 1.0e+12 -> 1.0e+00,\n",
      "        injected solutions become \"invalid\" in this iteration (class=CMAEvolutionStrategy method=alleviate_conditioning iteration=1042)\n",
      "  warnings.warn(msg + ' (' +\n",
      "/om5/user/smadan/miniconda3/envs/diff_rendering_ml/lib/python3.8/site-packages/cma/utilities/utils.py:343: UserWarning: \n",
      "        geno-pheno transformation introduced based on the\n",
      "        current covariance matrix with condition 1.6e+12 -> 1.0e+00,\n",
      "        injected solutions become \"invalid\" in this iteration (class=CMAEvolutionStrategy method=alleviate_conditioning iteration=900)\n",
      "  warnings.warn(msg + ' (' +\n"
     ]
    },
    {
     "name": "stdout",
     "output_type": "stream",
     "text": [
      "0.3\n",
      "Epoch:999, Train Acc:tensor(0.9956, device='cuda:0')\n",
      "Epoch:999, Test Acc:tensor(0.9963, device='cuda:0')\n",
      "tensor(0.9963, device='cuda:0')\n",
      "dsize_10000_bad_data\n"
     ]
    },
    {
     "data": {
      "application/vnd.jupyter.widget-view+json": {
       "model_id": "6add1140d758447f9ff40735d94e5843",
       "version_major": 2,
       "version_minor": 0
      },
      "text/plain": [
       "  0%|          | 0/10 [00:00<?, ?it/s]"
      ]
     },
     "metadata": {},
     "output_type": "display_data"
    },
    {
     "name": "stderr",
     "output_type": "stream",
     "text": [
      "/om5/user/smadan/miniconda3/envs/diff_rendering_ml/lib/python3.8/site-packages/cma/utilities/utils.py:343: UserWarning: \n",
      "        geno-pheno transformation introduced based on the\n",
      "        current covariance matrix with condition 1.1e+12 -> 1.0e+00,\n",
      "        injected solutions become \"invalid\" in this iteration (class=CMAEvolutionStrategy method=alleviate_conditioning iteration=1273)\n",
      "  warnings.warn(msg + ' (' +\n",
      "/om5/user/smadan/miniconda3/envs/diff_rendering_ml/lib/python3.8/site-packages/cma/utilities/utils.py:343: UserWarning: \n",
      "        geno-pheno transformation introduced based on the\n",
      "        current covariance matrix with condition 1.1e+12 -> 1.0e+00,\n",
      "        injected solutions become \"invalid\" in this iteration (class=CMAEvolutionStrategy method=alleviate_conditioning iteration=1137)\n",
      "  warnings.warn(msg + ' (' +\n",
      "/om5/user/smadan/miniconda3/envs/diff_rendering_ml/lib/python3.8/site-packages/cma/utilities/utils.py:343: UserWarning: \n",
      "        geno-pheno transformation introduced based on the\n",
      "        current covariance matrix with condition 1.1e+12 -> 1.0e+00,\n",
      "        injected solutions become \"invalid\" in this iteration (class=CMAEvolutionStrategy method=alleviate_conditioning iteration=855)\n",
      "  warnings.warn(msg + ' (' +\n"
     ]
    },
    {
     "name": "stdout",
     "output_type": "stream",
     "text": [
      "0.0\n"
     ]
    }
   ],
   "source": [
    "for repeat_iteration in range(10):\n",
    "    trained_models = {}\n",
    "    attack_output = {}\n",
    "    ds = utils.make_dataset(dsize, N_dim, limits)\n",
    "    trained_models[N_dim] = utils.train_model(N_dim, ds, 'dsize_%s_bad_data'%dsize, disable_progress = True, seed = bad_seed, epochs = 1000)\n",
    "    model_to_attack = trained_models[N_dim].cpu()\n",
    "    print(model_to_attack.test_accuracy)\n",
    "    attack_output = {}\n",
    "    attack_output[N_dim] = utils.cma_experiment(model_to_attack, N_dim, test_limits, limits, 10, disable_progress = False)\n",
    "    attack_rate = len(attack_output[N_dim].in_dist_advs)/len(attack_output[N_dim].starts)\n",
    "    attack_rates.append(attack_rate)\n",
    "    iter_info = [trained_models, attack_output]\n",
    "    new_data_old_seed_info.append(iter_info)\n",
    "    print(attack_rate)"
   ]
  },
  {
   "cell_type": "code",
   "execution_count": 33,
   "id": "tired-atmosphere",
   "metadata": {
    "scrolled": true
   },
   "outputs": [
    {
     "data": {
      "text/plain": [
       "[0.2, 0.7, 0.8, 0.8, 0.7, 0.4, 0.7, 0.0, 0.3, 0.0]"
      ]
     },
     "execution_count": 33,
     "metadata": {},
     "output_type": "execute_result"
    }
   ],
   "source": [
    "attack_rates"
   ]
  },
  {
   "cell_type": "markdown",
   "id": "preceding-veteran",
   "metadata": {},
   "source": [
    "# Q5 : Repeat "
   ]
  },
  {
   "cell_type": "code",
   "execution_count": null,
   "id": "particular-fluid",
   "metadata": {},
   "outputs": [
    {
     "name": "stdout",
     "output_type": "stream",
     "text": [
      "dsize_10000_bad_data\n",
      "1.0\n",
      "dsize_10000_bad_data\n",
      "1.0\n",
      "dsize_10000_bad_data\n",
      "1.0\n",
      "dsize_10000_bad_data\n",
      "1.0\n",
      "dsize_10000_bad_data\n",
      "1.0\n",
      "dsize_10000_bad_data\n",
      "1.0\n",
      "dsize_10000_bad_data\n",
      "1.0\n",
      "dsize_10000_bad_data\n",
      "1.0\n",
      "dsize_10000_bad_data\n"
     ]
    }
   ],
   "source": [
    "attack_rates = []\n",
    "new_iter_info = []\n",
    "\n",
    "for repeat_iteration in range(10):\n",
    "    trained_models = {}\n",
    "    attack_output = {}\n",
    "    ds = utils.make_dataset(dsize, N_dim, limits)\n",
    "    trained_models[N_dim] = utils.train_model(N_dim, ds, 'dsize_%s_bad_data'%dsize, disable_progress = True)\n",
    "    model_to_attack = trained_models[N_dim].cpu()\n",
    "    attack_output = {}\n",
    "    attack_output[N_dim] = utils.cma_experiment(model_to_attack, N_dim, test_limits, limits, 10, disable_progress = True)\n",
    "    attack_rate = len(attack_output[N_dim].in_dist_advs)/len(attack_output[N_dim].starts)\n",
    "    attack_rates.append(attack_rate)\n",
    "    iter_info = [trained_models, attack_output]\n",
    "    new_models_bad_data_info.append(iter_info)\n",
    "    print(attack_rate)"
   ]
  },
  {
   "cell_type": "markdown",
   "id": "latest-sperm",
   "metadata": {},
   "source": [
    "## Investigating Randomness"
   ]
  },
  {
   "cell_type": "code",
   "execution_count": 24,
   "id": "painted-exhibition",
   "metadata": {},
   "outputs": [],
   "source": [
    "import torch\n",
    "from torch import nn\n",
    "import utils"
   ]
  },
  {
   "cell_type": "code",
   "execution_count": 102,
   "id": "median-ceramic",
   "metadata": {},
   "outputs": [],
   "source": [
    "a = torch.seed()"
   ]
  },
  {
   "cell_type": "code",
   "execution_count": 105,
   "id": "unlikely-produce",
   "metadata": {},
   "outputs": [
    {
     "data": {
      "text/plain": [
       "<torch._C.Generator at 0x2b13de8314f0>"
      ]
     },
     "execution_count": 105,
     "metadata": {},
     "output_type": "execute_result"
    }
   ],
   "source": [
    "torch.manual_seed(a)"
   ]
  },
  {
   "cell_type": "code",
   "execution_count": 106,
   "id": "forced-calculator",
   "metadata": {},
   "outputs": [
    {
     "name": "stdout",
     "output_type": "stream",
     "text": [
      "Parameter containing:\n",
      "tensor([[-0.3530, -0.2201, -0.1456,  0.2815,  0.3940],\n",
      "        [-0.1481, -0.1293, -0.0872, -0.0536, -0.3002],\n",
      "        [-0.0291,  0.0338, -0.0871, -0.4220,  0.0679],\n",
      "        [-0.1875,  0.3828,  0.1564,  0.0907,  0.1386],\n",
      "        [-0.0323,  0.0508,  0.1319,  0.1510, -0.0529]], requires_grad=True)\n"
     ]
    }
   ],
   "source": [
    "model = utils.MLP(5, '')\n",
    "\n",
    "# torch.manual_seed(2)\n",
    "for i in model.layers[0].parameters():\n",
    "    print(i)\n",
    "    break"
   ]
  },
  {
   "cell_type": "code",
   "execution_count": null,
   "id": "compressed-hurricane",
   "metadata": {},
   "outputs": [],
   "source": []
  }
 ],
 "metadata": {
  "kernelspec": {
   "display_name": "diff_rendering_ml",
   "language": "python",
   "name": "diff_rendering_ml"
  },
  "language_info": {
   "codemirror_mode": {
    "name": "ipython",
    "version": 3
   },
   "file_extension": ".py",
   "mimetype": "text/x-python",
   "name": "python",
   "nbconvert_exporter": "python",
   "pygments_lexer": "ipython3",
   "version": "3.8.5"
  }
 },
 "nbformat": 4,
 "nbformat_minor": 5
}
