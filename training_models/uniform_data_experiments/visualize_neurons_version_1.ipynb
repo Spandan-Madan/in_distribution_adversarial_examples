{
 "cells": [
  {
   "cell_type": "markdown",
   "id": "assured-rotation",
   "metadata": {},
   "source": [
    "x is the one-dimensional underlying feature that characterizes one example, this feature can take only 2 possible noisy values (0 + epsilon) or (30 + epsilon), where epsilon determines the training set distribution and belongs to (-10,10) uniformly distributed.\n",
    "\n",
    "a neuron in the first layer has as an output (before the ReLU): \\sum_i w_i * (x  + epsilon_i) + b = x(\\sum_i w_i) + \\sum_i w_i*epsilon_i + b\n",
    "\n",
    "for large dimensions we can assume that w and epsilon are uncorrelated, ie \\sum_i w_i*epsilon_i = 0, and as a result, the output of a neuron before the ReLU is:\n",
    "x(\\sum_i w_i)  + b\n",
    "So, the relu unit becomes active at - b/(\\sum_i w_i)\n",
    "\n",
    "I would display:\n",
    "- each neuron in a line by representing b/(\\sum_i w_i), this will tell us how the hyperplanes of the network are distributed in the relevant one-dimensional direction\n",
    "- verifying that \\sum_i w_i*epsilon_i = 0 for each neuron. it could be that the adversarial samples find epsilons that are highly correlated with w_i and when it is higher dimensional those are more feasible to be hidden randomly but possible to be calculated."
   ]
  },
  {
   "cell_type": "code",
   "execution_count": 1,
   "id": "brazilian-liabilities",
   "metadata": {},
   "outputs": [],
   "source": [
    "%matplotlib inline"
   ]
  },
  {
   "cell_type": "code",
   "execution_count": 2,
   "id": "overall-inside",
   "metadata": {},
   "outputs": [],
   "source": [
    "import pickle\n",
    "import torch\n",
    "import torch.nn as nn\n",
    "import numpy as np\n",
    "\n",
    "import utils\n",
    "from utils import CMA_info\n",
    "from utils import MLP"
   ]
  },
  {
   "cell_type": "code",
   "execution_count": 4,
   "id": "dramatic-reconstruction",
   "metadata": {
    "scrolled": true
   },
   "outputs": [],
   "source": [
    "with open('../data_dimension_experiment_10_repeats.p','rb') as F:\n",
    "    all_info = pickle.load(F)"
   ]
  },
  {
   "cell_type": "code",
   "execution_count": 5,
   "id": "desperate-fitting",
   "metadata": {},
   "outputs": [],
   "source": [
    "with open('good_attack_info_3.p','rb') as F:\n",
    "    all_info = pickle.load(F)"
   ]
  },
  {
   "cell_type": "code",
   "execution_count": 6,
   "id": "mineral-ontario",
   "metadata": {},
   "outputs": [
    {
     "data": {
      "text/plain": [
       "10"
      ]
     },
     "execution_count": 6,
     "metadata": {},
     "output_type": "execute_result"
    }
   ],
   "source": [
    "len(all_info[1].starts)"
   ]
  },
  {
   "cell_type": "code",
   "execution_count": 7,
   "id": "elegant-temple",
   "metadata": {},
   "outputs": [
    {
     "data": {
      "text/plain": [
       "10"
      ]
     },
     "execution_count": 7,
     "metadata": {},
     "output_type": "execute_result"
    }
   ],
   "source": [
    "len(all_info[1].in_dist_advs)"
   ]
  },
  {
   "cell_type": "code",
   "execution_count": 8,
   "id": "friendly-interaction",
   "metadata": {},
   "outputs": [],
   "source": [
    "model = all_info[0]\n",
    "\n",
    "good_samples = torch.vstack(all_info[1].starts)\n",
    "\n",
    "bad_samples = torch.from_numpy(np.vstack(all_info[1].in_dist_advs)).float()"
   ]
  },
  {
   "cell_type": "code",
   "execution_count": 11,
   "id": "current-plastic",
   "metadata": {},
   "outputs": [],
   "source": [
    "# layer_1 = model.layers[0]\n",
    "\n",
    "# neuron_i = layer_1.weight[10]\n",
    "\n",
    "# torch.dot(good_samples[0],layer_1.weight[0])\n",
    "\n",
    "# layer_1.bias[0]\n",
    "\n",
    "# layer_1(good_samples[0])[0]\n",
    "\n",
    "# import matplotlib.pyplot as plt\n",
    "\n",
    "# # plt.hist(weights[0].detach(),bins=2)\n",
    "# # plt.show()\n",
    "\n",
    "# torch.max(weights[0])\n",
    "\n",
    "# torch.min(weights[0])\n",
    "\n",
    "# np_weights = np.array(weights[0].detach())\n",
    "\n",
    "# binwidth = 0.005\n",
    "\n",
    "# plt.hist(np_weights, bins=np.arange(min(np_weights), max(np_weights) + binwidth, binwidth))\n",
    "# plt.show()"
   ]
  },
  {
   "cell_type": "markdown",
   "id": "special-introduction",
   "metadata": {},
   "source": [
    "# Find imortant direction?"
   ]
  },
  {
   "cell_type": "code",
   "execution_count": 12,
   "id": "intense-toner",
   "metadata": {},
   "outputs": [],
   "source": [
    "torch.set_printoptions(sci_mode=False)"
   ]
  },
  {
   "cell_type": "code",
   "execution_count": 13,
   "id": "promotional-wagon",
   "metadata": {},
   "outputs": [
    {
     "name": "stdout",
     "output_type": "stream",
     "text": [
      "tensor([-0.2820, -0.0743, -0.5994])\n"
     ]
    }
   ],
   "source": [
    "print(good_samples[0])"
   ]
  },
  {
   "cell_type": "code",
   "execution_count": 14,
   "id": "animated-commons",
   "metadata": {},
   "outputs": [
    {
     "name": "stdout",
     "output_type": "stream",
     "text": [
      "tensor([0.7199, 1.9314, 0.0038])\n"
     ]
    }
   ],
   "source": [
    "print(bad_samples[0].float())"
   ]
  },
  {
   "cell_type": "markdown",
   "id": "frequent-captain",
   "metadata": {},
   "source": [
    "#### Ideas"
   ]
  },
  {
   "cell_type": "markdown",
   "id": "italic-realtor",
   "metadata": {},
   "source": [
    "- Largest elements of good\n",
    "- Largest elements of bad\n",
    "- Elements with greatest change\n",
    "- Replace one at a time and see drop in probability\n",
    "- Replace two at a time and see drop in probability"
   ]
  },
  {
   "cell_type": "code",
   "execution_count": 15,
   "id": "affected-timber",
   "metadata": {},
   "outputs": [],
   "source": [
    "sample_id = 5"
   ]
  },
  {
   "cell_type": "code",
   "execution_count": 16,
   "id": "continuous-therapy",
   "metadata": {},
   "outputs": [
    {
     "name": "stdout",
     "output_type": "stream",
     "text": [
      "tensor(0)\n"
     ]
    },
    {
     "ename": "RuntimeError",
     "evalue": "selected index k out of range",
     "output_type": "error",
     "traceback": [
      "\u001b[0;31m---------------------------------------------------------------------------\u001b[0m",
      "\u001b[0;31mRuntimeError\u001b[0m                              Traceback (most recent call last)",
      "\u001b[0;32m<ipython-input-16-42fb5c5c4f6f>\u001b[0m in \u001b[0;36m<module>\u001b[0;34m\u001b[0m\n\u001b[1;32m      5\u001b[0m \u001b[0;34m\u001b[0m\u001b[0m\n\u001b[1;32m      6\u001b[0m     \u001b[0mbad_sample_copy\u001b[0m \u001b[0;34m=\u001b[0m \u001b[0mbad_samples\u001b[0m\u001b[0;34m[\u001b[0m\u001b[0msample_id\u001b[0m\u001b[0;34m]\u001b[0m\u001b[0;34m.\u001b[0m\u001b[0mclone\u001b[0m\u001b[0;34m(\u001b[0m\u001b[0;34m)\u001b[0m\u001b[0;34m\u001b[0m\u001b[0;34m\u001b[0m\u001b[0m\n\u001b[0;32m----> 7\u001b[0;31m     \u001b[0mk_indices\u001b[0m \u001b[0;34m=\u001b[0m \u001b[0mgood_sample_copy\u001b[0m\u001b[0;34m.\u001b[0m\u001b[0mtopk\u001b[0m\u001b[0;34m(\u001b[0m\u001b[0mnum_replace\u001b[0m\u001b[0;34m)\u001b[0m\u001b[0;34m.\u001b[0m\u001b[0mindices\u001b[0m\u001b[0;34m\u001b[0m\u001b[0;34m\u001b[0m\u001b[0m\n\u001b[0m\u001b[1;32m      8\u001b[0m     \u001b[0;32mfor\u001b[0m \u001b[0mi\u001b[0m \u001b[0;32min\u001b[0m \u001b[0mk_indices\u001b[0m\u001b[0;34m:\u001b[0m\u001b[0;34m\u001b[0m\u001b[0;34m\u001b[0m\u001b[0m\n\u001b[1;32m      9\u001b[0m         \u001b[0mgood_sample_copy\u001b[0m\u001b[0;34m[\u001b[0m\u001b[0mi\u001b[0m\u001b[0;34m]\u001b[0m \u001b[0;34m=\u001b[0m \u001b[0mbad_sample_copy\u001b[0m\u001b[0;34m[\u001b[0m\u001b[0mi\u001b[0m\u001b[0;34m]\u001b[0m\u001b[0;34m\u001b[0m\u001b[0;34m\u001b[0m\u001b[0m\n",
      "\u001b[0;31mRuntimeError\u001b[0m: selected index k out of range"
     ]
    }
   ],
   "source": [
    "### Largest elements of good replaced by bad\n",
    "for num_replace in range(0,105,5):\n",
    "    good_sample_copy = good_samples[sample_id].clone()\n",
    "    \n",
    "\n",
    "    bad_sample_copy = bad_samples[sample_id].clone()\n",
    "    k_indices = good_sample_copy.topk(num_replace).indices\n",
    "    for i in k_indices:\n",
    "        good_sample_copy[i] = bad_sample_copy[i]\n",
    "\n",
    "    print(torch.argmax(model(good_sample_copy.unsqueeze(0))))"
   ]
  },
  {
   "cell_type": "code",
   "execution_count": 21,
   "id": "conceptual-kitty",
   "metadata": {},
   "outputs": [
    {
     "name": "stdout",
     "output_type": "stream",
     "text": [
      "tensor(0)\n",
      "tensor(0)\n",
      "tensor(0)\n",
      "tensor(0)\n",
      "tensor(0)\n",
      "tensor(0)\n",
      "tensor(0)\n",
      "tensor(0)\n",
      "tensor(0)\n",
      "tensor(0)\n",
      "tensor(0)\n",
      "tensor(0)\n",
      "tensor(0)\n",
      "tensor(0)\n",
      "tensor(0)\n",
      "tensor(0)\n",
      "tensor(0)\n",
      "tensor(0)\n",
      "tensor(0)\n",
      "tensor(1)\n",
      "tensor(1)\n"
     ]
    }
   ],
   "source": [
    "### Random elements of good replaced by bad\n",
    "\n",
    "for num_replace in range(0,105,5):\n",
    "    good_sample_copy = good_samples[sample_id].clone()\n",
    "    bad_sample_copy = bad_samples[sample_id].clone()\n",
    "    \n",
    "    k_indices = torch.from_numpy(np.random.choice(range(100), num_replace, replace=False))\n",
    "    for i in k_indices:\n",
    "        good_sample_copy[i] = bad_sample_copy[i]\n",
    "\n",
    "    print(torch.argmax(model(good_sample_copy.unsqueeze(0))))"
   ]
  },
  {
   "cell_type": "markdown",
   "id": "global-lebanon",
   "metadata": {},
   "source": [
    "Fails only at really large number of dims replaced, wow.\n"
   ]
  },
  {
   "cell_type": "code",
   "execution_count": 24,
   "id": "molecular-martin",
   "metadata": {},
   "outputs": [
    {
     "name": "stdout",
     "output_type": "stream",
     "text": [
      "tensor(1)\n",
      "tensor(1)\n",
      "tensor(1)\n",
      "tensor(0)\n",
      "tensor(0)\n",
      "tensor(0)\n",
      "tensor(0)\n",
      "tensor(0)\n",
      "tensor(0)\n",
      "tensor(0)\n",
      "tensor(0)\n",
      "tensor(0)\n",
      "tensor(0)\n",
      "tensor(0)\n",
      "tensor(0)\n",
      "tensor(0)\n",
      "tensor(0)\n",
      "tensor(0)\n",
      "tensor(0)\n",
      "tensor(0)\n"
     ]
    }
   ],
   "source": [
    "### Largest elements of bad replaced by good\n",
    "for num_replace in range(0,20,1):\n",
    "    good_sample_copy = good_samples[sample_id].clone()\n",
    "    bad_sample_copy = bad_samples[sample_id].clone()\n",
    "    \n",
    "    k_indices = bad_sample_copy.topk(num_replace).indices\n",
    "    for i in k_indices:\n",
    "        bad_sample_copy[i] = good_sample_copy[i]\n",
    "\n",
    "    print(torch.argmax(model(bad_sample_copy.unsqueeze(0))))"
   ]
  },
  {
   "cell_type": "markdown",
   "id": "coated-desperate",
   "metadata": {},
   "source": [
    "Fixed in just 5 dimensions, wow."
   ]
  },
  {
   "cell_type": "code",
   "execution_count": 25,
   "id": "polar-retrieval",
   "metadata": {},
   "outputs": [
    {
     "name": "stdout",
     "output_type": "stream",
     "text": [
      "tensor(1)\n",
      "tensor(0)\n",
      "tensor(0)\n",
      "tensor(0)\n",
      "tensor(0)\n",
      "tensor(0)\n",
      "tensor(0)\n",
      "tensor(0)\n",
      "tensor(0)\n",
      "tensor(0)\n",
      "tensor(0)\n",
      "tensor(0)\n",
      "tensor(0)\n",
      "tensor(0)\n",
      "tensor(0)\n",
      "tensor(0)\n",
      "tensor(0)\n",
      "tensor(0)\n",
      "tensor(0)\n",
      "tensor(0)\n"
     ]
    }
   ],
   "source": [
    "### Smallest elements of bad replaced by good\n",
    "for num_replace in range(5,105,5):\n",
    "    good_sample_copy = good_samples[sample_id].clone()\n",
    "    bad_sample_copy = bad_samples[sample_id].clone()\n",
    "    \n",
    "    k_indices = bad_sample_copy.topk(num_replace,largest=False).indices\n",
    "    for i in k_indices:\n",
    "        bad_sample_copy[i] = good_sample_copy[i]\n",
    "\n",
    "    print(torch.argmax(model(bad_sample_copy.unsqueeze(0))))"
   ]
  },
  {
   "cell_type": "code",
   "execution_count": 28,
   "id": "written-spelling",
   "metadata": {},
   "outputs": [
    {
     "name": "stdout",
     "output_type": "stream",
     "text": [
      "tensor(1)\n",
      "tensor(1)\n",
      "tensor(1)\n",
      "tensor(1)\n",
      "tensor(1)\n",
      "tensor(0)\n",
      "tensor(0)\n",
      "tensor(0)\n",
      "tensor(0)\n",
      "tensor(0)\n",
      "tensor(0)\n",
      "tensor(0)\n",
      "tensor(0)\n",
      "tensor(0)\n",
      "tensor(0)\n",
      "tensor(0)\n",
      "tensor(0)\n",
      "tensor(0)\n",
      "tensor(0)\n",
      "tensor(0)\n"
     ]
    }
   ],
   "source": [
    "### Smallest norm elements of bad replaced by good\n",
    "for num_replace in range(0,20,1):\n",
    "    good_sample_copy = good_samples[sample_id].clone()\n",
    "    bad_sample_copy = bad_samples[sample_id].clone()\n",
    "    \n",
    "    k_indices = bad_sample_copy.abs().topk(num_replace,largest=False).indices\n",
    "    for i in k_indices:\n",
    "        bad_sample_copy[i] = good_sample_copy[i]\n",
    "\n",
    "    print(torch.argmax(model(bad_sample_copy.unsqueeze(0))))"
   ]
  },
  {
   "cell_type": "code",
   "execution_count": 52,
   "id": "prime-reading",
   "metadata": {},
   "outputs": [
    {
     "name": "stdout",
     "output_type": "stream",
     "text": [
      "tensor(1)\n",
      "tensor(0)\n",
      "tensor(0)\n",
      "tensor(0)\n",
      "tensor(0)\n",
      "tensor(0)\n",
      "tensor(0)\n",
      "tensor(0)\n",
      "tensor(0)\n",
      "tensor(0)\n",
      "tensor(0)\n",
      "tensor(0)\n",
      "tensor(0)\n",
      "tensor(0)\n",
      "tensor(0)\n",
      "tensor(0)\n",
      "tensor(0)\n",
      "tensor(0)\n",
      "tensor(0)\n",
      "tensor(0)\n"
     ]
    }
   ],
   "source": [
    "### Random elements replacement of bad replaced by good\n",
    "num_replace = 50\n",
    "for num_replace in range(0,100,5):\n",
    "    good_sample_copy = good_samples[sample_id].clone()\n",
    "    bad_sample_copy = bad_samples[sample_id].clone()\n",
    "    \n",
    "    k_indices = torch.from_numpy(np.random.choice(range(100), num_replace, replace=False))\n",
    "    for i in k_indices:\n",
    "        bad_sample_copy[i] = good_sample_copy[i]\n",
    "\n",
    "    print(torch.argmax(model(bad_sample_copy.unsqueeze(0))))"
   ]
  },
  {
   "cell_type": "code",
   "execution_count": 76,
   "id": "expired-employment",
   "metadata": {},
   "outputs": [],
   "source": [
    "sample_id = 0"
   ]
  },
  {
   "cell_type": "code",
   "execution_count": 87,
   "id": "color-absorption",
   "metadata": {},
   "outputs": [
    {
     "data": {
      "text/plain": [
       "tensor(0.0867)"
      ]
     },
     "execution_count": 87,
     "metadata": {},
     "output_type": "execute_result"
    }
   ],
   "source": [
    "mean"
   ]
  },
  {
   "cell_type": "code",
   "execution_count": 88,
   "id": "first-socket",
   "metadata": {},
   "outputs": [
    {
     "data": {
      "text/plain": [
       "tensor(0.6012)"
      ]
     },
     "execution_count": 88,
     "metadata": {},
     "output_type": "execute_result"
    }
   ],
   "source": [
    "std"
   ]
  },
  {
   "cell_type": "code",
   "execution_count": 89,
   "id": "swedish-medication",
   "metadata": {},
   "outputs": [
    {
     "name": "stdout",
     "output_type": "stream",
     "text": [
      "tensor(1)\n",
      "tensor(0)\n",
      "tensor(0)\n",
      "tensor(0)\n",
      "tensor(0)\n",
      "tensor(0)\n",
      "tensor(0)\n",
      "tensor(0)\n",
      "tensor(0)\n",
      "tensor(0)\n",
      "tensor(0)\n",
      "tensor(0)\n",
      "tensor(0)\n",
      "tensor(0)\n",
      "tensor(0)\n",
      "tensor(0)\n",
      "tensor(0)\n",
      "tensor(0)\n",
      "tensor(0)\n",
      "tensor(0)\n"
     ]
    }
   ],
   "source": [
    "### Largest elements replacement of bad replaced by random noise\n",
    "for num_replace in range(0,20,1):\n",
    "    bad_sample_copy = bad_samples[sample_id].clone()\n",
    "    mean = torch.mean(bad_sample_copy)\n",
    "    std = torch.std(bad_sample_copy)\n",
    "    \n",
    "    k_indices = bad_sample_copy.topk(num_replace).indices\n",
    "    for i in k_indices:\n",
    "        bad_sample_copy[i] = torch.empty(1).normal_(mean, std)\n",
    "    \n",
    "    print(torch.argmax(model(bad_sample_copy.unsqueeze(0))))"
   ]
  },
  {
   "cell_type": "code",
   "execution_count": 66,
   "id": "interested-specification",
   "metadata": {},
   "outputs": [
    {
     "name": "stdout",
     "output_type": "stream",
     "text": [
      "tensor(1)\n",
      "tensor(1)\n",
      "tensor(1)\n",
      "tensor(1)\n",
      "tensor(1)\n",
      "tensor(1)\n",
      "tensor(1)\n",
      "tensor(1)\n",
      "tensor(1)\n",
      "tensor(1)\n",
      "tensor(1)\n",
      "tensor(1)\n",
      "tensor(1)\n",
      "tensor(1)\n",
      "tensor(1)\n",
      "tensor(1)\n",
      "tensor(1)\n",
      "tensor(1)\n",
      "tensor(1)\n",
      "tensor(1)\n",
      "tensor(0)\n"
     ]
    }
   ],
   "source": [
    "### Smallest elements replacement of bad replaced by random noise\n",
    "for num_replace in range(0,105,5):\n",
    "    bad_sample_copy = bad_samples[sample_id].clone()\n",
    "    mean = torch.mean(bad_sample_copy)\n",
    "    std = torch.std(bad_sample_copy)\n",
    "    \n",
    "    k_indices = bad_sample_copy.topk(num_replace,largest=False).indices\n",
    "    for i in k_indices:\n",
    "        bad_sample_copy[i] = torch.empty(1).normal_(mean,std)\n",
    "\n",
    "    print(torch.argmax(model(bad_sample_copy.unsqueeze(0))))"
   ]
  },
  {
   "cell_type": "markdown",
   "id": "honey-nursing",
   "metadata": {},
   "source": [
    "### TakeAway: All directions are being impacted simultaneously, for the attack to be successful."
   ]
  },
  {
   "cell_type": "markdown",
   "id": "illegal-pilot",
   "metadata": {},
   "source": [
    "# Output distributions of first layer for good and bad samples"
   ]
  },
  {
   "cell_type": "code",
   "execution_count": 17,
   "id": "common-shopping",
   "metadata": {},
   "outputs": [],
   "source": [
    "def neuron_output(model, layer_num, neuron_index, inp):\n",
    "    layer = model.layers[layer_num]\n",
    "#     weights = layer.weight\n",
    "#     biases = layer.bias\n",
    "    output = layer(inp)[neuron_index]\n",
    "    return output"
   ]
  },
  {
   "cell_type": "code",
   "execution_count": 18,
   "id": "possible-bacon",
   "metadata": {},
   "outputs": [],
   "source": [
    "layer_1 = model.layers[0]"
   ]
  },
  {
   "cell_type": "code",
   "execution_count": 19,
   "id": "growing-drove",
   "metadata": {},
   "outputs": [],
   "source": [
    "layer_2 = model.layers[1]"
   ]
  },
  {
   "cell_type": "code",
   "execution_count": 20,
   "id": "front-parking",
   "metadata": {},
   "outputs": [],
   "source": [
    "layer_3 = model.layers[2]"
   ]
  },
  {
   "cell_type": "code",
   "execution_count": 21,
   "id": "ideal-dating",
   "metadata": {},
   "outputs": [],
   "source": [
    "import matplotlib.pyplot as plt"
   ]
  },
  {
   "cell_type": "code",
   "execution_count": 22,
   "id": "sealed-account",
   "metadata": {},
   "outputs": [],
   "source": [
    "sample_id = 0"
   ]
  },
  {
   "cell_type": "code",
   "execution_count": 23,
   "id": "standard-scheduling",
   "metadata": {},
   "outputs": [],
   "source": [
    "# good_outs = layer_2(good_samples[sample_id]).detach()\n",
    "# bad_outs = layer_2(bad_samples[sample_id]).detach()\n",
    "\n",
    "# binwidth = 0.1\n",
    "# plt.hist(np.array(good_outs), bins=np.arange(min(outs), max(outs) + binwidth, binwidth), label='good')\n",
    "# plt.hist(np.array(bad_outs), bins=np.arange(min(outs), max(outs) + binwidth, binwidth), label='bad')\n",
    "# pyplot.legend(loc='upper right')\n",
    "\n",
    "# plt.show()"
   ]
  },
  {
   "cell_type": "code",
   "execution_count": 24,
   "id": "minus-murray",
   "metadata": {},
   "outputs": [],
   "source": [
    "# print(torch.linalg.norm(good_samples[sample_id] - bad_samples[sample_id]))\n",
    "# print(torch.linalg.norm(layer_1(good_samples)[sample_id] - layer_1(bad_samples)[sample_id]))\n",
    "# print(torch.linalg.norm(layer_2(good_samples)[sample_id] - layer_2(bad_samples)[sample_id]))\n",
    "# print(torch.linalg.norm(layer_3(good_samples)[sample_id] - layer_3(bad_samples)[sample_id]))"
   ]
  },
  {
   "cell_type": "code",
   "execution_count": 25,
   "id": "regulated-submission",
   "metadata": {},
   "outputs": [],
   "source": [
    "# plt.hist(np.array((good_samples[0] - bad_samples[0]).abs()))"
   ]
  },
  {
   "cell_type": "code",
   "execution_count": 26,
   "id": "operational-helping",
   "metadata": {},
   "outputs": [],
   "source": [
    "# plt.hist(np.array((layer_1(good_samples)[0] - layer_1(bad_samples)[0]).detach().abs()))"
   ]
  },
  {
   "cell_type": "code",
   "execution_count": 27,
   "id": "devoted-doctor",
   "metadata": {},
   "outputs": [],
   "source": [
    "# plt.hist(np.array((layer_2(good_samples)[0] - layer_2(bad_samples)[0]).detach().abs()))"
   ]
  },
  {
   "cell_type": "code",
   "execution_count": 28,
   "id": "specific-determination",
   "metadata": {},
   "outputs": [],
   "source": [
    "# plt.hist(np.array((layer_3(good_samples)[0] - layer_3(bad_samples)[0]).detach().abs()))"
   ]
  },
  {
   "cell_type": "code",
   "execution_count": 29,
   "id": "prospective-respect",
   "metadata": {},
   "outputs": [],
   "source": [
    "# np.max(all_info[1].advs[-1])"
   ]
  },
  {
   "cell_type": "code",
   "execution_count": 30,
   "id": "special-helena",
   "metadata": {},
   "outputs": [
    {
     "data": {
      "text/plain": [
       "[array([0.71987843, 1.93141251, 0.0038498 ]),\n",
       " array([2.96445888, 3.42527829, 1.32417795]),\n",
       " array([0.12995324, 1.29935974, 0.58873273]),\n",
       " array([0.7303477 , 0.8678489 , 1.32697765]),\n",
       " array([0.29652189, 1.48644369, 0.02117909]),\n",
       " array([3.61114678, 0.62219623, 4.50276877]),\n",
       " array([0.82376383, 1.62720743, 0.66846594]),\n",
       " array([0.28944555, 1.28539939, 0.77951404]),\n",
       " array([-0.22590318,  2.02548539, -0.12176854]),\n",
       " array([0.63389796, 2.32768331, 1.24416989])]"
      ]
     },
     "execution_count": 30,
     "metadata": {},
     "output_type": "execute_result"
    }
   ],
   "source": [
    "all_info[1].in_dist_advs"
   ]
  },
  {
   "cell_type": "code",
   "execution_count": 31,
   "id": "younger-washington",
   "metadata": {},
   "outputs": [
    {
     "data": {
      "text/plain": [
       "tensor([-0.2820, -0.0743, -0.5994])"
      ]
     },
     "execution_count": 31,
     "metadata": {},
     "output_type": "execute_result"
    }
   ],
   "source": [
    "good_samples[0]"
   ]
  },
  {
   "cell_type": "code",
   "execution_count": 32,
   "id": "refined-infrastructure",
   "metadata": {},
   "outputs": [
    {
     "data": {
      "text/plain": [
       "tensor([0.7199, 1.9314, 0.0038])"
      ]
     },
     "execution_count": 32,
     "metadata": {},
     "output_type": "execute_result"
    }
   ],
   "source": [
    "bad_samples[0]"
   ]
  },
  {
   "cell_type": "code",
   "execution_count": 126,
   "id": "hindu-riding",
   "metadata": {},
   "outputs": [],
   "source": [
    "def zoom_in(sample_pt, lims):\n",
    "    x = np.linspace(sample_pt[0]-lims[0],sample_pt[0]+lims[1],10)\n",
    "    y = np.linspace(sample_pt[1]-lims[2],sample_pt[1]+lims[3],10)\n",
    "    z = np.linspace(sample_pt[2]-lims[4],sample_pt[2]+lims[5],10)\n",
    "    dot_colors = {0:'green', 1: 'red'}\n",
    "    \n",
    "    fig = plt.figure(figsize=(10, 8))\n",
    "    ax = fig.add_subplot(111,projection='3d')\n",
    "    for x_i in x:\n",
    "        for y_i in y:\n",
    "            for z_i in z:\n",
    "                input_tens = torch.tensor([x_i,y_i,z_i]).float()\n",
    "                prediction = torch.argmax(model(input_tens.unsqueeze(0))).item()\n",
    "                ax.scatter(x_i, y_i, z_i, color=dot_colors[prediction])\n",
    "    fig.show()"
   ]
  },
  {
   "cell_type": "code",
   "execution_count": 133,
   "id": "talented-contract",
   "metadata": {},
   "outputs": [
    {
     "data": {
      "image/png": "[encoded data removed]",
      "text/plain": [
       "<Figure size 720x576 with 1 Axes>"
      ]
     },
     "metadata": {
      "needs_background": "light"
     },
     "output_type": "display_data"
    }
   ],
   "source": [
    "zoom_in(bad_samples[4], [0.1,0.1,0.1,0.1,0.1,0.1])"
   ]
  }
 ],
 "metadata": {
  "kernelspec": {
   "display_name": "diff_rendering_ml",
   "language": "python",
   "name": "diff_rendering_ml"
  },
  "language_info": {
   "codemirror_mode": {
    "name": "ipython",
    "version": 3
   },
   "file_extension": ".py",
   "mimetype": "text/x-python",
   "name": "python",
   "nbconvert_exporter": "python",
   "pygments_lexer": "ipython3",
   "version": "3.8.5"
  }
 },
 "nbformat": 4,
 "nbformat_minor": 5
}
