{
 "cells": [
  {
   "cell_type": "code",
   "execution_count": 1,
   "id": "acceptable-antarctica",
   "metadata": {},
   "outputs": [],
   "source": [
    "import pickle\n",
    "import utils\n",
    "import numpy as np\n",
    "import matplotlib.pyplot as plt\n",
    "\n",
    "CURRENT_MODEL = None\n",
    "N_dim = 100\n",
    "\n",
    "\n",
    "x1_min = -10\n",
    "x1_max = 10\n",
    "\n",
    "x2_min = 20\n",
    "x2_max = 40\n",
    "\n",
    "test_min = -1\n",
    "test_max= 1\n",
    "\n",
    "limits = [x1_min, x1_max, x2_min, x2_max]\n",
    "test_limits = [test_min, test_max]\n",
    "\n",
    "num_samples = 50"
   ]
  },
  {
   "cell_type": "code",
   "execution_count": 9,
   "id": "social-support",
   "metadata": {},
   "outputs": [],
   "source": [
    "from utils import MLP\n",
    "from utils import CMA_info\n",
    "import seaborn as sns"
   ]
  },
  {
   "cell_type": "code",
   "execution_count": 3,
   "id": "disturbed-budget",
   "metadata": {},
   "outputs": [],
   "source": [
    "with open('../epoch_experiment_10_repeats.p','rb') as F:\n",
    "    all_info = pickle.load(F)"
   ]
  },
  {
   "cell_type": "code",
   "execution_count": 4,
   "id": "painted-memorabilia",
   "metadata": {},
   "outputs": [],
   "source": [
    "dist_means = []\n",
    "dist_stds = []\n",
    "attack_rate_means = []\n",
    "attack_rate_stds = []\n",
    "\n",
    "for n_epoch in [25,100,400,1600]:\n",
    "    all_distances = []\n",
    "    all_attack_rates = []\n",
    "\n",
    "    for i in range(10):\n",
    "        all_distances.extend(all_info[i][1][n_epoch].distances)        \n",
    "        num_attacks = len(all_info[i][1][n_epoch].in_dist_advs)\n",
    "        num_total = len(all_info[i][1][n_epoch].starts)\n",
    "        all_attack_rates.extend([num_attacks/num_total])\n",
    "        \n",
    "    attack_rate_means.append(np.mean(all_attack_rates))\n",
    "    attack_rate_stds.append(np.std(all_attack_rates))\n",
    "    dist_mean = np.mean(all_distances)\n",
    "    dist_std = np.std(all_distances)\n",
    "    dist_means.append(dist_mean)\n",
    "    dist_stds.append(dist_std)"
   ]
  },
  {
   "cell_type": "code",
   "execution_count": 14,
   "id": "wooden-quick",
   "metadata": {},
   "outputs": [
    {
     "data": {
      "image/png": "[encoded data removed]",
      "text/plain": [
       "<Figure size 288x252 with 1 Axes>"
      ]
     },
     "metadata": {
      "needs_background": "light"
     },
     "output_type": "display_data"
    }
   ],
   "source": [
    "plt.figure(figsize=(4,3.5))\n",
    "plt.errorbar(range(4), attack_rate_means, attack_rate_stds, marker='o',color='green', markersize=10)\n",
    "plt.ylim(0,1.15)\n",
    "plt.xlabel('Epochs', fontsize=15)\n",
    "plt.ylabel('Attack Success Rate', fontsize=15)\n",
    "plt.xticks(range(4),[25,100,400,1600], rotation=45, fontsize=12)\n",
    "plt.yticks(fontsize=12)\n",
    "sns.despine()\n",
    "plt.title('CMA-Search success rate \\n over epochs',fontsize=18, y=1.12)\n",
    "plt.tight_layout()\n",
    "plt.savefig('paper_figures/uniform_100_epochs_rate.pdf')\n",
    "plt.show()"
   ]
  },
  {
   "cell_type": "code",
   "execution_count": 11,
   "id": "viral-marketing",
   "metadata": {
    "tags": []
   },
   "outputs": [],
   "source": [
    "# plt.errorbar(range(4), attack_rate_means, attack_rate_stds, marker = 'o', capsize=5)\n",
    "# # plt.xticks(range(4),[25,100,400,1600])\n",
    "# # plt.title('Attack rate for adv sample as a function of dataset dims')\n",
    "# plt.xlabel('Dataset Dimensions')\n",
    "# plt.ylabel('Distance')\n",
    "# plt.show()"
   ]
  },
  {
   "cell_type": "code",
   "execution_count": 15,
   "id": "second-standard",
   "metadata": {},
   "outputs": [
    {
     "data": {
      "image/png": "[encoded data removed]",
      "text/plain": [
       "<Figure size 288x252 with 1 Axes>"
      ]
     },
     "metadata": {
      "needs_background": "light"
     },
     "output_type": "display_data"
    }
   ],
   "source": [
    "plt.figure(figsize=(4,3.5))\n",
    "plt.errorbar(range(4), dist_means, dist_stds, marker='o',color='blue', markersize=10)\n",
    "# plt.plot(range(0,4), material_results, marker='o',color='blue', markersize=10, label='Materials')\n",
    "# plt.plot(range(0,4), viewpoint_results, marker='o',color='red', markersize=10, label='Viewpoints')\n",
    "plt.ylim(0,10)\n",
    "# plt.title('Generalization to OOD domains',fontsize=18, y=1.12);\n",
    "plt.xlabel('Epochs', fontsize=15)\n",
    "plt.ylabel('L2 Distance', fontsize=15)\n",
    "# plt.legend(loc=\"lower right\", fontsize=12)\n",
    "plt.xticks(ticks = range(4), labels = [25,100,400,1600], rotation=45, fontsize=12)\n",
    "plt.yticks(fontsize=12)\n",
    "sns.despine()\n",
    "plt.title('Distance to adversarial sample \\n over epochs',fontsize=18, y=1.12)\n",
    "plt.tight_layout()\n",
    "plt.savefig('paper_figures/uniform_100_epochs_distances.pdf')\n",
    "plt.show()"
   ]
  },
  {
   "cell_type": "code",
   "execution_count": 13,
   "id": "immediate-saskatchewan",
   "metadata": {},
   "outputs": [],
   "source": [
    "# plt.errorbar(range(4), dist_means, dist_stds, marker = 'o', capsize=5)\n",
    "# plt.xticks(range(4),[25,100,400,1600])\n",
    "# plt.title('Distance to adv sample as a function of epochs')\n",
    "# plt.xlabel('Epochs')\n",
    "# plt.ylabel('Distance')\n",
    "# plt.ylim(0,5)\n",
    "# plt.show()"
   ]
  },
  {
   "cell_type": "code",
   "execution_count": null,
   "id": "unexpected-thailand",
   "metadata": {},
   "outputs": [],
   "source": []
  }
 ],
 "metadata": {
  "kernelspec": {
   "display_name": "diff_rendering_ml",
   "language": "python",
   "name": "diff_rendering_ml"
  },
  "language_info": {
   "codemirror_mode": {
    "name": "ipython",
    "version": 3
   },
   "file_extension": ".py",
   "mimetype": "text/x-python",
   "name": "python",
   "nbconvert_exporter": "python",
   "pygments_lexer": "ipython3",
   "version": "3.8.5"
  }
 },
 "nbformat": 4,
 "nbformat_minor": 5
}
