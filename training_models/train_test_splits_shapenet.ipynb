{
 "cells": [
  {
   "cell_type": "code",
   "execution_count": 1,
   "metadata": {},
   "outputs": [],
   "source": [
    "import os\n",
    "import random\n",
    "import pickle"
   ]
  },
  {
   "cell_type": "code",
   "execution_count": 2,
   "metadata": {},
   "outputs": [],
   "source": [
    "SHAPENET_DIR = '/om5/user/smadan/differentiable_graphics_ml/data/shapenet_rendered_hand_picked/'"
   ]
  },
  {
   "cell_type": "code",
   "execution_count": 4,
   "metadata": {},
   "outputs": [],
   "source": [
    "# all_files = [i for i in os.listdir(SHAPENET_DIR) if i.endswith('.png')]"
   ]
  },
  {
   "cell_type": "code",
   "execution_count": 5,
   "metadata": {},
   "outputs": [],
   "source": [
    "# cutoff = int(0.90*len(all_files))"
   ]
  },
  {
   "cell_type": "code",
   "execution_count": 6,
   "metadata": {},
   "outputs": [],
   "source": [
    "# random.shuffle(all_files)"
   ]
  },
  {
   "cell_type": "code",
   "execution_count": 7,
   "metadata": {},
   "outputs": [],
   "source": [
    "# train_files = all_files[:cutoff]\n",
    "# test_files = all_files[cutoff:]"
   ]
  },
  {
   "cell_type": "code",
   "execution_count": 8,
   "metadata": {},
   "outputs": [],
   "source": [
    "# len(test_files)"
   ]
  },
  {
   "cell_type": "markdown",
   "metadata": {},
   "source": [
    "# DO NOT RE-RUN BELOW "
   ]
  },
  {
   "cell_type": "code",
   "execution_count": 9,
   "metadata": {},
   "outputs": [],
   "source": [
    "# with open('/om5/user/smadan/dataset_lists_openmind/train_list_shapenet_hand_picked.txt','w') as F:\n",
    "#     for file in train_files:\n",
    "#         print(\"/om5/user/smadan/differentiable_graphics_ml/data/shapenet_rendered_hand_picked/%s\"%file,file=F)\n",
    "        \n",
    "# with open('/om5/user/smadan/dataset_lists_openmind/test_list_shapenet_hand_picked.txt','w') as F:\n",
    "#     for file in test_files:\n",
    "#         print(\"/om5/user/smadan/differentiable_graphics_ml/data/shapenet_rendered_hand_picked/%s\"%file,file=F)"
   ]
  },
  {
   "cell_type": "code",
   "execution_count": 10,
   "metadata": {},
   "outputs": [],
   "source": [
    "# category_dist = {}"
   ]
  },
  {
   "cell_type": "code",
   "execution_count": 11,
   "metadata": {},
   "outputs": [],
   "source": [
    "# import json"
   ]
  },
  {
   "cell_type": "code",
   "execution_count": 12,
   "metadata": {},
   "outputs": [],
   "source": [
    "# with open('/om5/user/smadan/ShapeNetCore.v2/taxonomy_copy.json','r') as F:\n",
    "#     shapenet_taxonomy = json.load(F)"
   ]
  },
  {
   "cell_type": "code",
   "execution_count": 13,
   "metadata": {},
   "outputs": [],
   "source": [
    "# all_cats = [i for i in os.listdir('/om5/user/smadan/ShapeNetCore.v2/') if not i.endswith('json')]"
   ]
  },
  {
   "cell_type": "code",
   "execution_count": 14,
   "metadata": {},
   "outputs": [],
   "source": [
    "# all_cats"
   ]
  },
  {
   "cell_type": "code",
   "execution_count": 15,
   "metadata": {},
   "outputs": [],
   "source": [
    "# with open('/om5/user/smadan/differentiable_graphics_ml/allowed_categories.txt','r') as F:\n",
    "#     content = F.readlines()"
   ]
  },
  {
   "cell_type": "code",
   "execution_count": 16,
   "metadata": {},
   "outputs": [],
   "source": [
    "# allowed_categories = []\n",
    "# for c in content:\n",
    "#     c = c.rstrip()\n",
    "#     cat, cat_name = c.split(' ')\n",
    "#     allowed_categories.append(cat)"
   ]
  },
  {
   "cell_type": "code",
   "execution_count": 17,
   "metadata": {},
   "outputs": [],
   "source": [
    "# count = 0\n",
    "# ID_to_category = {}\n",
    "# ID_to_class = {}\n",
    "# for tax in shapenet_taxonomy:\n",
    "#     if tax['synsetId'] in all_cats:\n",
    "#         if tax['synsetId'] in allowed_categories:\n",
    "#             ID_to_category[tax['synsetId']] = tax['name']\n",
    "#             ID_to_class[tax['synsetId']] = count\n",
    "#             count += 1"
   ]
  },
  {
   "cell_type": "code",
   "execution_count": 18,
   "metadata": {},
   "outputs": [],
   "source": [
    "# count"
   ]
  },
  {
   "cell_type": "code",
   "execution_count": 19,
   "metadata": {},
   "outputs": [],
   "source": [
    "# with open('shapenet_id_to_class_num.p','wb') as F:\n",
    "#     pickle.dump(ID_to_class, F)"
   ]
  },
  {
   "cell_type": "code",
   "execution_count": 20,
   "metadata": {},
   "outputs": [],
   "source": [
    "# class_num_to_name = {}\n",
    "# for key in ID_to_category.keys():\n",
    "#     class_num = ID_to_class[key]\n",
    "#     class_name = ID_to_category[key]\n",
    "#     class_num_to_name[class_num] = class_name"
   ]
  },
  {
   "cell_type": "code",
   "execution_count": 21,
   "metadata": {},
   "outputs": [],
   "source": [
    "# with open('shapenet_class_num_to_class_name.p','wb') as F:\n",
    "#     pickle.dump(class_num_to_name, F)"
   ]
  },
  {
   "cell_type": "markdown",
   "metadata": {},
   "source": [
    "# ILLUMINATION TEST SET "
   ]
  },
  {
   "cell_type": "code",
   "execution_count": 22,
   "metadata": {},
   "outputs": [],
   "source": [
    "import os"
   ]
  },
  {
   "cell_type": "code",
   "execution_count": 23,
   "metadata": {},
   "outputs": [],
   "source": [
    "# all_files = os.listdir('/om5/user/smadan/differentiable_graphics_ml/data/shapenet_illumination_test/')"
   ]
  },
  {
   "cell_type": "code",
   "execution_count": 24,
   "metadata": {},
   "outputs": [],
   "source": []
  },
  {
   "cell_type": "code",
   "execution_count": 25,
   "metadata": {},
   "outputs": [],
   "source": [
    "# with open('/om5/user/smadan/dataset_lists_openmind/test_list_shapenet_illumination.txt','w') as F:\n",
    "#     for file in all_files:\n",
    "#         if 'ipynb' not in file:     \n",
    "#             print(\"/om5/user/smadan/differentiable_graphics_ml/data/shapenet_illumination_test/%s\"%file,file=F)\n",
    "        "
   ]
  },
  {
   "cell_type": "code",
   "execution_count": 26,
   "metadata": {},
   "outputs": [],
   "source": [
    "# ILLUMINATION TEST SET LARGE"
   ]
  },
  {
   "cell_type": "code",
   "execution_count": 27,
   "metadata": {},
   "outputs": [],
   "source": [
    "all_files = os.listdir('/om5/user/smadan/differentiable_graphics_ml/data/shapenet_illumination_test_large/')"
   ]
  },
  {
   "cell_type": "code",
   "execution_count": 28,
   "metadata": {},
   "outputs": [],
   "source": [
    "with open('/om5/user/smadan/dataset_lists_openmind/test_list_shapenet_illumination_large.txt','w') as F:\n",
    "    for file in all_files:\n",
    "        if 'ipynb' not in file:     \n",
    "            print(\"/om5/user/smadan/differentiable_graphics_ml/data/shapenet_illumination_test_large/%s\"%file,file=F)\n",
    "        "
   ]
  }
 ],
 "metadata": {
  "kernelspec": {
   "display_name": "pytorch3d",
   "language": "python",
   "name": "pytorch3d"
  },
  "language_info": {
   "codemirror_mode": {
    "name": "ipython",
    "version": 3
   },
   "file_extension": ".py",
   "mimetype": "text/x-python",
   "name": "python",
   "nbconvert_exporter": "python",
   "pygments_lexer": "ipython3",
   "version": "3.8.5"
  }
 },
 "nbformat": 4,
 "nbformat_minor": 4
}
