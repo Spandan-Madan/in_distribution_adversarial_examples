{
 "cells": [
  {
   "cell_type": "code",
   "execution_count": 1,
   "id": "developing-climb",
   "metadata": {},
   "outputs": [],
   "source": [
    "from pl_bolts.models.self_supervised import SimCLR\n",
    "from pl_bolts.models.self_supervised.simclr import SimCLREvalDataTransform, SimCLRTrainDataTransform"
   ]
  },
  {
   "cell_type": "code",
   "execution_count": 2,
   "id": "swedish-pastor",
   "metadata": {},
   "outputs": [
    {
     "name": "stdout",
     "output_type": "stream",
     "text": [
      "/om5/user/smadan/training_scaffold_own/res/loader/multi_attribute_loader.py\n",
      "/om5/user/smadan/training_scaffold_own/res/loader\n",
      "/om5/user/smadan/training_scaffold_own/res/loader/loader.py\n",
      "/om5/user/smadan/training_scaffold_own/res/loader\n"
     ]
    }
   ],
   "source": [
    "import sys\n",
    "sys.path.append('/om5/user/smadan/training_scaffold_own/res/')\n",
    "from models.models import get_model\n",
    "from loader.loader import get_loader"
   ]
  },
  {
   "cell_type": "code",
   "execution_count": 3,
   "id": "ranging-imagination",
   "metadata": {},
   "outputs": [],
   "source": [
    "from torchvision import transforms\n",
    "import torch"
   ]
  },
  {
   "cell_type": "code",
   "execution_count": 4,
   "id": "soviet-sunrise",
   "metadata": {},
   "outputs": [],
   "source": [
    "transforms_without_crop = transforms.Compose([\n",
    "        transforms.Resize((224,224)),\n",
    "        transforms.ToTensor(),\n",
    "    ])\n",
    "transforms_with_crop = transforms.Compose([\n",
    "        transforms.Resize((224,224)),\n",
    "        transforms.ToTensor(),\n",
    "        transforms.RandomResizedCrop(224),\n",
    "    ])\n",
    "\n",
    "image_transform = {}\n",
    "# image_transform['train'] = transforms_without_crop\n",
    "# image_transform['test'] = transforms_without_crop\n",
    "\n",
    "\n",
    "image_transform['train'] = SimCLRTrainDataTransform()\n",
    "image_transform['test'] = SimCLREvalDataTransform()"
   ]
  },
  {
   "cell_type": "code",
   "execution_count": 5,
   "id": "sized-lindsay",
   "metadata": {},
   "outputs": [],
   "source": [
    "loader_new = get_loader('multi_attribute_loader_file_list_shapenet_lightning')\n",
    "file_list_root = '/om5/user/smadan/dataset_lists_openmind'\n",
    "att_path = '/om5/user/smadan/differentiable_graphics_ml/training_models/shapenet_id_to_class_num.p'\n",
    "shuffles = {'train':True,'val':True,'test':False}"
   ]
  },
  {
   "cell_type": "code",
   "execution_count": 6,
   "id": "abstract-resort",
   "metadata": {},
   "outputs": [],
   "source": [
    "wandb_config = {}\n",
    "wandb_config['dataset_name'] = 'image_train_v7_shapenet_40'\n",
    "wandb_config['batch_size'] = 5"
   ]
  },
  {
   "cell_type": "code",
   "execution_count": 7,
   "id": "impaired-clark",
   "metadata": {
    "scrolled": false
   },
   "outputs": [],
   "source": [
    "file_lists = {}\n",
    "dsets = {}\n",
    "dset_loaders = {}\n",
    "dset_sizes = {}\n",
    "for phase in ['train','test']:\n",
    "    file_lists[phase] = \"%s/%s_list_%s.txt\"%(file_list_root,phase,wandb_config['dataset_name'])\n",
    "    dsets[phase] = loader_new(file_lists[phase],att_path, image_transform[phase])\n",
    "    dset_loaders[phase] = torch.utils.data.DataLoader(dsets[phase], batch_size=wandb_config['batch_size'], shuffle = shuffles[phase], num_workers=2,drop_last=True)\n",
    "    dset_sizes[phase] = len(dsets[phase])"
   ]
  },
  {
   "cell_type": "code",
   "execution_count": 8,
   "id": "essential-supplement",
   "metadata": {},
   "outputs": [],
   "source": [
    "for data in dset_loaders['train']:\n",
    "    break"
   ]
  },
  {
   "cell_type": "code",
   "execution_count": 14,
   "id": "changed-fitness",
   "metadata": {},
   "outputs": [],
   "source": [
    "model = SimCLR(gpus=1, num_samples = 5, batch_size = 20, dataset = dset_loaders['train'])\n",
    "# trainer = Trainer(gpus=2)"
   ]
  },
  {
   "cell_type": "code",
   "execution_count": 15,
   "id": "demanding-publication",
   "metadata": {},
   "outputs": [],
   "source": [
    "import pytorch_lightning as pl"
   ]
  },
  {
   "cell_type": "code",
   "execution_count": 16,
   "id": "incredible-fishing",
   "metadata": {
    "scrolled": true
   },
   "outputs": [
    {
     "name": "stderr",
     "output_type": "stream",
     "text": [
      "GPU available: True, used: True\n",
      "TPU available: False, using: 0 TPU cores\n",
      "IPU available: False, using: 0 IPUs\n"
     ]
    }
   ],
   "source": [
    "trainer = pl.Trainer(gpus=1)"
   ]
  },
  {
   "cell_type": "code",
   "execution_count": null,
   "id": "following-scratch",
   "metadata": {
    "scrolled": false
   },
   "outputs": [
    {
     "name": "stderr",
     "output_type": "stream",
     "text": [
      "LOCAL_RANK: 0 - CUDA_VISIBLE_DEVICES: [2]\n",
      "\n",
      "  | Name       | Type       | Params\n",
      "------------------------------------------\n",
      "0 | encoder    | ResNet     | 25.6 M\n",
      "1 | projection | Projection | 4.5 M \n",
      "------------------------------------------\n",
      "30.0 M    Trainable params\n",
      "0         Non-trainable params\n",
      "30.0 M    Total params\n",
      "120.078   Total estimated model params size (MB)\n"
     ]
    },
    {
     "data": {
      "application/vnd.jupyter.widget-view+json": {
       "model_id": "",
       "version_major": 2,
       "version_minor": 0
      },
      "text/plain": [
       "Validation sanity check: 0it [00:00, ?it/s]"
      ]
     },
     "metadata": {},
     "output_type": "display_data"
    },
    {
     "name": "stderr",
     "output_type": "stream",
     "text": [
      "/om5/user/smadan/miniconda3/envs/diff_rendering_ml/lib/python3.8/site-packages/pytorch_lightning/trainer/data_loading.py:105: UserWarning: The dataloader, val dataloader 0, does not have many workers which may be a bottleneck. Consider increasing the value of the `num_workers` argument` (try 56 which is the number of cpus on this machine) in the `DataLoader` init to improve performance.\n",
      "  rank_zero_warn(\n",
      "/om5/user/smadan/miniconda3/envs/diff_rendering_ml/lib/python3.8/site-packages/pytorch_lightning/trainer/data_loading.py:105: UserWarning: The dataloader, train dataloader, does not have many workers which may be a bottleneck. Consider increasing the value of the `num_workers` argument` (try 56 which is the number of cpus on this machine) in the `DataLoader` init to improve performance.\n",
      "  rank_zero_warn(\n"
     ]
    },
    {
     "data": {
      "application/vnd.jupyter.widget-view+json": {
       "model_id": "a95f4b7aec164cfe90201d491c5d6ea6",
       "version_major": 2,
       "version_minor": 0
      },
      "text/plain": [
       "Training: -1it [00:00, ?it/s]"
      ]
     },
     "metadata": {},
     "output_type": "display_data"
    }
   ],
   "source": [
    "# train_dataset = MyDataset(transforms=SimCLRTrainDataTransform())\n",
    "# val_dataset = MyDataset(transforms=SimCLREvalDataTransform())\n",
    "\n",
    "# simclr needs a lot of compute!\n",
    "# model = SimCLR()\n",
    "# trainer = Trainer(tpu_cores=128)\n",
    "trainer.fit(\n",
    "    model,\n",
    "    dset_loaders['train'],\n",
    "    dset_loaders['test'],\n",
    ")"
   ]
  },
  {
   "cell_type": "code",
   "execution_count": null,
   "id": "acting-wright",
   "metadata": {},
   "outputs": [],
   "source": []
  }
 ],
 "metadata": {
  "kernelspec": {
   "display_name": "diff_rendering_ml",
   "language": "python",
   "name": "diff_rendering_ml"
  },
  "language_info": {
   "codemirror_mode": {
    "name": "ipython",
    "version": 3
   },
   "file_extension": ".py",
   "mimetype": "text/x-python",
   "name": "python",
   "nbconvert_exporter": "python",
   "pygments_lexer": "ipython3",
   "version": "3.8.5"
  }
 },
 "nbformat": 4,
 "nbformat_minor": 5
}
